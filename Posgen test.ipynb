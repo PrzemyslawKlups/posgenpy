{
 "cells": [
  {
   "cell_type": "markdown",
   "metadata": {},
   "source": [
    "# Demo notebook to run posgen\n",
    "This is the minimum required to run posgen in a notebook.\n",
    "For now, the easiest thing to do is run posgen from the directory where it resides:"
   ]
  },
  {
   "cell_type": "code",
   "execution_count": 1,
   "metadata": {},
   "outputs": [],
   "source": [
    "posgenDir = \"C:\\\\cygwin64\\\\home\\\\Andy\\\\posgen\""
   ]
  },
  {
   "cell_type": "markdown",
   "metadata": {},
   "source": [
    "Use `os` to change the working directory (where the computer calls programs)"
   ]
  },
  {
   "cell_type": "code",
   "execution_count": 3,
   "metadata": {},
   "outputs": [],
   "source": [
    "import os\n",
    "import subprocess\n",
    "mydir = os.getcwd() # would be the MAIN folder\n",
    "mydir_new = os.chdir(posgenDir) # change the current working directory"
   ]
  },
  {
   "cell_type": "markdown",
   "metadata": {},
   "source": [
    "Call posgen using subprocess call using the `clusterOp.xml` file which needs `AB.rng` in the posgen directory, both these are found in the `examples/` folder"
   ]
  },
  {
   "cell_type": "code",
   "execution_count": 10,
   "metadata": {},
   "outputs": [
    {
     "data": {
      "text/plain": [
       "0"
      ]
     },
     "execution_count": 10,
     "metadata": {},
     "output_type": "execute_result"
    }
   ],
   "source": [
    "from subprocess import PIPE, Popen\n",
    "callResult = subprocess.call([\"posgen.exe\", \"clusterOp.xml\"])\n",
    "callResult"
   ]
  },
  {
   "cell_type": "code",
   "execution_count": 17,
   "metadata": {},
   "outputs": [
    {
     "name": "stdout",
     "output_type": "stream",
     "text": [
      "Parsing File: clusterOp.xml\n",
      "Running first-pass checks...OK\n",
      "Processing...\n",
      "Processing node: fcc  (Line 5) ...Done\n",
      "\n",
      "Processing node: randreplace  (Line 17) ...Done\n",
      "\n",
      "Processing node: cluster  (Line 18) ...Running link clustering...\n",
      "Step :1 of 7 >> Collate\n",
      "Step :2 of 7 >> build core \n",
      "|..................................................| 100%\n",
      "|..................................................| Done\n",
      "Step :3 of 7 >> build bulk\n",
      "|..................................................| 100%\n",
      "|.................................................| Done\n",
      "Step :4 of 7 >> Core\n",
      "|..................................................| 100%\n",
      "|.................................................| Done\n",
      "Step :5 of 7 >> Bulk\n",
      "|..................................................| 100%\n",
      "|..................................................| Done\n",
      "Step :6 of 7 >> Erode\n",
      "|..................................................| 100%\n",
      "|...................................................| Done\n",
      "Step :7 of 7 >> Re-Collate\n",
      "Done\n",
      "Postprocessing results...\n",
      "Size cropping....\n",
      "Clusters before:3848\n",
      "Clusters after : 3848\n",
      "Done.\n",
      "Found :3848 clusters\n",
      "Writing to cluster.pos Done \n",
      "Unclustered data :3848 atoms\n",
      "Writing to uncluster.pos Done \n",
      "Wrote dist file :sizedist.txt\n",
      "Done\n",
      "\n",
      "\n",
      "Parse successful\n",
      "Final number of generated atoms:1653975\n",
      "output mode not specified -- won't create final output posfile.\n",
      "Possible options are:\n",
      "\t-pos : Pos file generation\n",
      "\t-text : text file generation\n",
      "\t-tapsim : tapsim binary file generation\n"
     ]
    }
   ],
   "source": [
    "with Popen([\"posgen.exe\", \"clusterOp.xml\"], stdout=PIPE, cwd=None, stderr=PIPE, shell=False, bufsize=1, universal_newlines=True) as p:\n",
    "    for line in p.stderr:\n",
    "        print(line, end='', flush=True)\n",
    "    exit_code = p.poll()\n",
    "exit_code"
   ]
  },
  {
   "cell_type": "code",
   "execution_count": 12,
   "metadata": {},
   "outputs": [],
   "source": [
    "exit_code"
   ]
  },
  {
   "cell_type": "markdown",
   "metadata": {},
   "source": [
    "Check the return result of `posgen`"
   ]
  },
  {
   "cell_type": "code",
   "execution_count": 39,
   "metadata": {},
   "outputs": [
    {
     "name": "stdout",
     "output_type": "stream",
     "text": [
      "Success\n"
     ]
    }
   ],
   "source": [
    "if callResult == 0:\n",
    "    print(\"Success\")\n",
    "else:\n",
    "    print(f\"Posgen error {callResult}\")"
   ]
  }
 ],
 "metadata": {
  "kernelspec": {
   "display_name": "Python 3",
   "language": "python",
   "name": "python3"
  },
  "language_info": {
   "codemirror_mode": {
    "name": "ipython",
    "version": 3
   },
   "file_extension": ".py",
   "mimetype": "text/x-python",
   "name": "python",
   "nbconvert_exporter": "python",
   "pygments_lexer": "ipython3",
   "version": "3.7.3"
  }
 },
 "nbformat": 4,
 "nbformat_minor": 2
}
