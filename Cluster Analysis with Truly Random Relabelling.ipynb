{
 "cells": [
  {
   "cell_type": "markdown",
   "metadata": {},
   "source": [
    "# Aim\n",
    "\n",
    "The goal is to reproduce the same cluster search analysis method as present in IVAS. The order in which I tend to do this analysis is:\n",
    "1. Nearest Neighbour distribution - plots cluster count vs d-pair [nm] What's d-pair? It let's us estimate the order parameter which allows selecting as many real clusters over non-real by comparing it to the randomised (relabelled) data.\n",
    "2. Cluster Size distribution - plots cluster count and size of each cluster for identified clusters and non-real clusters. From this figure we can estimate the $N_{min}$ parameter so that it cuts of random ones and shows us (mostly) the real ones.  \n",
    "3. Cluster Count distribution - plots cluster count for each $d_{max}$ and compares it to relabelled data. This allows more appropriate $d_{max}$ selection.\n",
    "\n",
    "The last step in IVAS, Cluster Analysis, is not included in this notebook. These functions are aiming for the most appropriate parameter selection though."
   ]
  },
  {
   "cell_type": "code",
   "execution_count": 2,
   "metadata": {},
   "outputs": [],
   "source": [
    "import numpy as np\n",
    "%matplotlib inline\n",
    "import matplotlib.pyplot as plt\n",
    "from posgenpy import writeClusterXML\n",
    "import os"
    "import sys"
   ]
  },
  {
   "cell_type": "markdown",
   "metadata": {},
   "source": [
    "## Creating XML file\n",
    "Let's check if Andy's code for cluster search works."
   ]
  },
  {
   "cell_type": "code",
   "execution_count": 77,
   "metadata": {},
   "outputs": [],
   "source": [
    "# my inputs \n",
    "xml_file = \"cluster_check.xml\"\n",
    "pos_file = \"R5083_09569-v08-roi_noOx.pos\"\n",
    "rrng_file = \"R5083_09569-v08_noOx.rrng\"\n",
    "core_ions = [\"Ni\", \"Mn\", \"Si\", \"Cu\", \"P\", \"Fm\"]\n",
    "bulk_ions = [\"Fe\", \"C\", \"Cr\", \"O\"]\n",
    "Nmin=20"
   ]
  },
  {
   "cell_type": "code",
   "execution_count": 20,
   "metadata": {},
   "outputs": [],
   "source": [
    "andys_output = writeClusterXML(xmlFileName=xml_file, posFile=pos_file, rangeFile=rrng_file, coreIons=core_ions, \n",
    "                               bulkIons=bulk_ions, \n",
    "                               massRandomRelabel=False, \n",
    "                               nmin=str(Nmin), dbulk=\"0.25\", derode=\"0.25\")"
   ]
  },
  {
   "cell_type": "markdown",
   "metadata": {},
   "source": [
    "## Running POSGEN \n",
    "So to simplify things at the beginning I moved these files into posgen folder so that I can run them without typical Windows path issues. Now it's the time to run it from here."
   ]
  },
  {
   "cell_type": "code",
   "execution_count": 4,
   "metadata": {},
   "outputs": [
    {
     "name": "stdout",
     "output_type": "stream",
     "text": [
      "C:\\Users\\Peter\\PycharmProjects\\posgenpy\n"
     ]
    }
   ],
   "source": [
    "print(os.getcwd())"
   ]
  },
  {
   "cell_type": "code",
   "execution_count": 5,
   "metadata": {},
   "outputs": [
    {
     "name": "stdout",
     "output_type": "stream",
     "text": [
      "C:\\Users\\Peter\\OneDrive - Nexus365\\Misc\\170710-posgen\n"
     ]
    }
   ],
   "source": [
    "os.chdir(\"C:\\\\Users\\\\Peter\\\\OneDrive - Nexus365\\\\Misc\\\\170710-posgen\")\n",
    "print(os.getcwd())"
   ]
  },
  {
   "cell_type": "code",
   "execution_count": 6,
   "metadata": {},
   "outputs": [],
   "source": [
    "import subprocess"
   ]
  },
  {
   "cell_type": "code",
   "execution_count": 21,
   "metadata": {},
   "outputs": [],
   "source": [
    "posgen_output = subprocess.call([\"posgen\", \"cluster_check.xml\"])"
   ]
  },
  {
   "cell_type": "code",
   "execution_count": 22,
   "metadata": {},
   "outputs": [
    {
     "name": "stdout",
     "output_type": "stream",
     "text": [
      "Success\n"
     ]
    }
   ],
   "source": [
    "if posgen_output == 0:\n",
    "    print(\"Success\")"
   ]
  },
  {
   "cell_type": "markdown",
   "metadata": {},
   "source": [
    "## Plotting the results\n",
    "Find the files with recent results and plot them."
   ]
  },
  {
   "cell_type": "code",
   "execution_count": 7,
   "metadata": {},
   "outputs": [],
   "source": [
    "# size distribution\n",
    "# TODO change pandas into my own functions to read the stat files\n",
    "import pandas\n"
   ]
  },
  {
   "cell_type": "code",
   "execution_count": 8,
   "metadata": {},
   "outputs": [],
   "source": [
    "size_distribution = pandas.read_csv(\"sizedist.txt\", sep='\\t')"
   ]
  },
  {
   "cell_type": "code",
   "execution_count": 9,
   "metadata": {},
   "outputs": [
    {
     "data": {
      "text/html": [
       "<div>\n",
       "<style scoped>\n",
       "    .dataframe tbody tr th:only-of-type {\n",
       "        vertical-align: middle;\n",
       "    }\n",
       "\n",
       "    .dataframe tbody tr th {\n",
       "        vertical-align: top;\n",
       "    }\n",
       "\n",
       "    .dataframe thead th {\n",
       "        text-align: right;\n",
       "    }\n",
       "</style>\n",
       "<table border=\"1\" class=\"dataframe\">\n",
       "  <thead>\n",
       "    <tr style=\"text-align: right;\">\n",
       "      <th></th>\n",
       "      <th>Cluster Size(core)</th>\n",
       "      <th>Frequency</th>\n",
       "    </tr>\n",
       "  </thead>\n",
       "  <tbody>\n",
       "    <tr>\n",
       "      <th>0</th>\n",
       "      <td>20</td>\n",
       "      <td>16</td>\n",
       "    </tr>\n",
       "    <tr>\n",
       "      <th>1</th>\n",
       "      <td>21</td>\n",
       "      <td>13</td>\n",
       "    </tr>\n",
       "    <tr>\n",
       "      <th>2</th>\n",
       "      <td>22</td>\n",
       "      <td>13</td>\n",
       "    </tr>\n",
       "    <tr>\n",
       "      <th>3</th>\n",
       "      <td>23</td>\n",
       "      <td>14</td>\n",
       "    </tr>\n",
       "    <tr>\n",
       "      <th>4</th>\n",
       "      <td>24</td>\n",
       "      <td>11</td>\n",
       "    </tr>\n",
       "  </tbody>\n",
       "</table>\n",
       "</div>"
      ],
      "text/plain": [
       "   Cluster Size(core)  Frequency \n",
       "0                  20          16\n",
       "1                  21          13\n",
       "2                  22          13\n",
       "3                  23          14\n",
       "4                  24          11"
      ]
     },
     "execution_count": 9,
     "metadata": {},
     "output_type": "execute_result"
    }
   ],
   "source": [
    "size_distribution.head()"
   ]
  },
  {
   "cell_type": "code",
   "execution_count": 10,
   "metadata": {},
   "outputs": [
    {
     "data": {
      "text/plain": [
       "<matplotlib.axes._subplots.AxesSubplot at 0x2b268fa17c8>"
      ]
     },
     "execution_count": 10,
     "metadata": {},
     "output_type": "execute_result"
    },
    {
     "data": {
      "image/png": "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\n",
      "text/plain": [
       "<Figure size 432x288 with 1 Axes>"
      ]
     },
     "metadata": {
      "needs_background": "light"
     },
     "output_type": "display_data"
    }
   ],
   "source": [
    "size_distribution.plot(x=\"Cluster Size(core)\", y=\"Frequency \")"
   ]
  },
  {
   "cell_type": "code",
   "execution_count": 70,
   "metadata": {},
   "outputs": [
    {
     "data": {
      "text/plain": [
       "(0, 16.75)"
      ]
     },
     "execution_count": 70,
     "metadata": {},
     "output_type": "execute_result"
    },
    {
     "data": {
      "image/png": "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\n",
      "text/plain": [
       "<Figure size 432x288 with 1 Axes>"
      ]
     },
     "metadata": {
      "needs_background": "light"
     },
     "output_type": "display_data"
    }
   ],
   "source": [
    "# more readable format:\n",
    "sizes = size_distribution[\"Cluster Size(core)\"]\n",
    "frequencies = size_distribution[\"Frequency \"]\n",
    "\n",
    "plt.semilogx(sizes, frequencies, 'b-')\n",
    "plt.ylabel(\"Frequency of given size\")\n",
    "plt.xlabel(\"Cluster size [core atoms]\")\n",
    "plt.grid()\n",
    "plt.ylim(bottom=0)"
   ]
  },
  {
   "cell_type": "code",
   "execution_count": 71,
   "metadata": {},
   "outputs": [
    {
     "data": {
      "text/plain": [
       "Text(0.5, 0, 'Cluster size in core ions')"
      ]
     },
     "execution_count": 71,
     "metadata": {},
     "output_type": "execute_result"
    },
    {
     "data": {
      "image/png": "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\n",
      "text/plain": [
       "<Figure size 432x288 with 1 Axes>"
      ]
     },
     "metadata": {
      "needs_background": "light"
     },
     "output_type": "display_data"
    }
   ],
   "source": [
    "# to include cluster sizes with no frequencies\n",
    "a = frequencies.values.flatten()\n",
    "b = sizes.values.flatten()\n",
    "\n",
    "real_sizes = np.arange(min(b), max(b)+1, 1)\n",
    "real_frequencies = np.zeros(max(b)-min(b)+1)\n",
    "\n",
    "real_frequencies[b-min(b)] = a\n",
    "\n",
    "plt.semilogx(real_sizes, real_frequencies)\n",
    "plt.grid()\n",
    "plt.ylabel(\"Frequency\")\n",
    "plt.xlabel(\"Cluster size in core ions\")"
   ]
  },
  {
   "cell_type": "markdown",
   "metadata": {},
   "source": [
    "## Further analysis of the data\n",
    "I'm not going to plot anything else now. Sweep functions are needed to get the plots similar to IVAS."
   ]
  },
  {
   "cell_type": "markdown",
   "metadata": {},
   "source": [
    "## Getting truly random cluster searches\n",
    "In order to get truly random cluster searches to compare them to non-random ones, I will iterate through the same function 5 times."
   ]
  },
  {
   "cell_type": "code",
   "execution_count": 92,
   "metadata": {},
   "outputs": [],
   "source": [
    "# create a folder for dropping all the random files in\n",
    "RANDOM_FILES_DIR=\"random_files\"\n",
    "try:\n",
    "    os.mkdir(RANDOM_FILES_DIR)\n",
    "except FileExistsError:\n",
    "    print(\"Directory \" + str(os.getcwd()) + os.sep + RANDOM_FILES_DIR + \" already exists - please delete\")\n",
    "    sys.exit(1)"
   ]
  },
  {
   "cell_type": "code",
   "execution_count": 94,
   "metadata": {},
   "outputs": [],
   "source": [
    "# running relabelled cluster search\n",
    "\n",
    "random_search = writeClusterXML(\"relabelled_cluster_check.xml\", posFile=pos_file, rangeFile=rrng_file, coreIons=core_ions, \n",
    "                               bulkIons=bulk_ions, \n",
    "                               massRandomRelabel=True, \n",
    "                               nmin=str(Nmin), dbulk=\"0.25\", derode=\"0.25\",\n",
    "                               clusterstatsFile=\"random_files/cluster-stats.txt\",\n",
    "                               unclusterstatsFile=\"random_files/uncluster\",\n",
    "                               sizedistFile=\"random_files/sizedist.txt\", \n",
    "                               includeUnrangedPos=False,\n",
    "                               includeUnrangedStats=True,\n",
    "                               clusterstatsCore=True,\n",
    "                               clusterstatsBulk=True,\n",
    "                               clusterstatsPercluster=True,\n",
    "                               clusteredPosFile=\"random_files/cluster.pos\",\n",
    "                               unclusteredPosFile=\"random_files/unclustered.pos\",\n",
    "                               clusterIDPosFile=\"random_files/clusterID.pos\")"
   ]
  },
  {
   "cell_type": "code",
   "execution_count": 95,
   "metadata": {},
   "outputs": [
    {
     "name": "stdout",
     "output_type": "stream",
     "text": [
      "Success\n"
     ]
    }
   ],
   "source": [
    "random_call = subprocess.call([\"posgen\", \"relabelled_cluster_check.xml\"])\n",
    "\n",
    "if random_call == 0:\n",
    "    print(\"Success\")"
   ]
  },
  {
   "cell_type": "markdown",
   "metadata": {},
   "source": [
    "Iterate through this function several times and create randomised data in the designated folder."
   ]
  },
  {
   "cell_type": "code",
   "execution_count": 17,
   "metadata": {},
   "outputs": [],
   "source": [
    "random_folder = \"random_files\"\n",
    "number_of_iterations = 3"
   ]
  },
  {
   "cell_type": "code",
   "execution_count": 105,
   "metadata": {},
   "outputs": [],
   "source": [
    "for run in range(number_of_iterations):\n",
    "    \n",
    "    # TODO all of these parameters will be changeable from outside of the function (class?)\n",
    "    random_search = writeClusterXML(f\"{random_folder}/relabelled_cluster_check{run+1}.xml\", \n",
    "                                    posFile=pos_file, rangeFile=rrng_file, coreIons=core_ions, \n",
    "                                   bulkIons=bulk_ions, \n",
    "                                   massRandomRelabel=True, \n",
    "                                   nmin=\"20\", dbulk=\"0.25\", derode=\"0.25\",\n",
    "                                   clusterstatsFile=f\"{random_folder}/cluster-stats{run+1}.txt\",\n",
    "                                   unclusterstatsFile=f\"{random_folder}/uncluster{run+1}.pos\",\n",
    "                                   sizedistFile=f\"{random_folder}/sizedist{run+1}.txt\", \n",
    "                                   includeUnrangedPos=False,\n",
    "                                   includeUnrangedStats=True,\n",
    "                                   clusterstatsCore=True,\n",
    "                                   clusterstatsBulk=True,\n",
    "                                   clusterstatsPercluster=True,\n",
    "                                   clusteredPosFile=f\"{random_folder}/cluster{run+1}.pos\",\n",
    "                                   unclusteredPosFile=f\"{random_folder}/unclustered{run+1}.pos\",\n",
    "                                   clusterIDPosFile=f\"{random_folder}/clusterID{run+1}.pos\")"
   ]
  },
  {
   "cell_type": "code",
   "execution_count": 106,
   "metadata": {},
   "outputs": [
    {
     "name": "stdout",
     "output_type": "stream",
     "text": [
      "Run 1 finished\n",
      "Run 2 finished\n",
      "Run 3 finished\n"
     ]
    }
   ],
   "source": [
    "# iterate through posgen calls\n",
    "for run in range(number_of_iterations):\n",
    "    loc_output = subprocess.call([\"posgen\", f\"{random_folder}\\\\relabelled_cluster_check{run+1}.xml\"])\n",
    "    if loc_output == 0:\n",
    "        print(f\"Run {run+1} finished\")"
   ]
  },
  {
   "cell_type": "markdown",
   "metadata": {},
   "source": [
    "## Retrieving random data\n",
    "Get random data and plot to compare with real values. Then, take an average and plot with errorbars."
   ]
  },
  {
   "cell_type": "code",
   "execution_count": 18,
   "metadata": {},
   "outputs": [],
   "source": [
    "# create pandas dataframes for each\n",
    "dfs = []\n",
    "for run in range(number_of_iterations):\n",
    "    dfs.append(pandas.read_csv(f\"{random_folder}/sizedist{run+1}.txt\", sep='\\t'))\n"
   ]
  },
  {
   "cell_type": "code",
   "execution_count": 23,
   "metadata": {},
   "outputs": [
    {
     "data": {
      "image/png": "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\n",
      "text/plain": [
       "<Figure size 432x288 with 1 Axes>"
      ]
     },
     "metadata": {
      "needs_background": "light"
     },
     "output_type": "display_data"
    }
   ],
   "source": [
    "all_frequencies = []\n",
    "\n",
    "for i, run in enumerate(dfs):\n",
    "    loc_label = f\"Random {i+1}\"\n",
    "    sizes = run[\"Cluster Size(core)\"].values.flatten()\n",
    "    frequencies = run[\"Frequency \"].values.flatten()\n",
    "    \n",
    "    new_sizes = np.arange(min(sizes), max(sizes)+1, 1)\n",
    "    new_frequencies = np.zeros(max(sizes)-min(sizes)+1)\n",
    "\n",
    "    new_frequencies[sizes-min(sizes)] = frequencies\n",
    "    \n",
    "    all_frequencies.append(new_frequencies)\n",
    "\n",
    "    plt.semilogx(new_sizes, new_frequencies, label=loc_label)\n",
    "\n",
    "plt.legend(loc=1)\n",
    "plt.grid()\n",
    "\n"
   ]
  },
  {
   "cell_type": "code",
   "execution_count": 27,
   "metadata": {},
   "outputs": [
    {
     "name": "stdout",
     "output_type": "stream",
     "text": [
      "178\n"
     ]
    }
   ],
   "source": [
    "# print(all_frequencies)\n",
    "\n",
    "max_length = 0\n",
    "for x in all_frequencies:\n",
    "    if len(x) > max_length:\n",
    "        max_length = len(x)\n",
    "print(max_length)"
   ]
  },
  {
   "cell_type": "code",
   "execution_count": 34,
   "metadata": {},
   "outputs": [
    {
     "name": "stdout",
     "output_type": "stream",
     "text": [
      "119\n"
     ]
    }
   ],
   "source": [
    "min_length = max_length\n",
    "for x in all_frequencies:\n",
    "    if len(x) < min_length:\n",
    "        min_length = len(x)\n",
    "print(min_length)"
   ]
  },
  {
   "cell_type": "code",
   "execution_count": 54,
   "metadata": {},
   "outputs": [],
   "source": [
    "trimmed_data = []\n",
    "for i in range(number_of_iterations):\n",
    "    trimmed_data.append(all_frequencies[i][:min_length])"
   ]
  },
  {
   "cell_type": "code",
   "execution_count": 56,
   "metadata": {},
   "outputs": [
    {
     "data": {
      "text/plain": [
       "array([[30., 28., 30., 25., 24., 21., 20., 17., 14., 12., 11.,  8.,  7.,\n",
       "         9.,  5.,  5.,  3.,  8.,  3.,  6.,  2.,  3.,  2.,  3.,  1.,  0.,\n",
       "         3.,  2.,  1.,  2.,  2.,  2.,  1.,  0.,  1.,  3.,  0.,  2.,  0.,\n",
       "         0.,  1.,  2.,  0.,  0.,  0.,  1.,  1.,  0.,  0.,  0.,  0.,  0.,\n",
       "         0.,  1.,  2.,  0.,  0.,  0.,  0.,  1.,  0.,  0.,  0.,  0.,  0.,\n",
       "         0.,  0.,  0.,  0.,  0.,  0.,  0.,  1.,  0.,  1.,  0.,  0.,  1.,\n",
       "         1.,  0.,  1.,  0.,  0.,  0.,  0.,  0.,  0.,  0.,  0.,  0.,  0.,\n",
       "         0.,  0.,  0.,  0.,  0.,  0.,  0.,  0.,  0.,  0.,  0.,  0.,  0.,\n",
       "         0.,  0.,  0.,  0.,  0.,  0.,  0.,  0.,  0.,  0.,  0.,  0.,  0.,\n",
       "         0.,  0.],\n",
       "       [33., 22., 25., 19., 11., 22., 14.,  6., 15.,  8., 14.,  3., 10.,\n",
       "         6.,  6.,  6.,  6.,  7.,  2.,  4.,  4.,  5.,  3.,  4.,  0.,  1.,\n",
       "         5.,  4.,  2.,  1.,  2.,  2.,  3.,  1.,  3.,  0.,  0.,  0.,  2.,\n",
       "         1.,  2.,  1.,  2.,  1.,  0.,  1.,  0.,  0.,  0.,  0.,  1.,  0.,\n",
       "         0.,  0.,  0.,  0.,  1.,  0.,  0.,  0.,  1.,  0.,  0.,  1.,  0.,\n",
       "         1.,  0.,  1.,  0.,  0.,  0.,  0.,  0.,  0.,  0.,  0.,  0.,  0.,\n",
       "         0.,  0.,  0.,  0.,  0.,  0.,  0.,  1.,  0.,  0.,  0.,  0.,  0.,\n",
       "         0.,  0.,  0.,  0.,  0.,  0.,  0.,  0.,  0.,  0.,  0.,  0.,  0.,\n",
       "         0.,  0.,  0.,  0.,  0.,  0.,  0.,  0.,  0.,  0.,  0.,  0.,  0.,\n",
       "         0.,  1.],\n",
       "       [32., 33., 23., 26., 17., 18., 16., 12., 11.,  9.,  8.,  5., 10.,\n",
       "         6.,  6.,  4.,  6.,  9.,  3.,  4.,  4.,  2.,  2.,  0.,  5.,  0.,\n",
       "         4.,  1.,  0.,  3.,  5.,  3.,  2.,  3.,  0.,  1.,  2.,  1.,  2.,\n",
       "         3.,  2.,  0.,  1.,  0.,  0.,  1.,  0.,  1.,  0.,  0.,  1.,  0.,\n",
       "         1.,  2.,  0.,  0.,  1.,  0.,  0.,  0.,  0.,  0.,  0.,  1.,  1.,\n",
       "         1.,  0.,  0.,  0.,  1.,  0.,  0.,  0.,  0.,  0.,  0.,  0.,  0.,\n",
       "         0.,  0.,  0.,  0.,  0.,  1.,  0.,  0.,  0.,  0.,  0.,  0.,  0.,\n",
       "         0.,  0.,  0.,  0.,  0.,  0.,  0.,  0.,  0.,  0.,  0.,  1.,  0.,\n",
       "         0.,  0.,  0.,  0.,  0.,  0.,  0.,  0.,  0.,  0.,  0.,  0.,  0.,\n",
       "         0.,  1.]])"
      ]
     },
     "execution_count": 56,
     "metadata": {},
     "output_type": "execute_result"
    }
   ],
   "source": [
    "trimmed_np = np.array([trimmed_data[0], trimmed_data[1], trimmed_data[2]])\n",
    "trimmed_np"
   ]
  },
  {
   "cell_type": "code",
   "execution_count": 61,
   "metadata": {},
   "outputs": [
    {
     "data": {
      "text/plain": [
       "119"
      ]
     },
     "execution_count": 61,
     "metadata": {},
     "output_type": "execute_result"
    }
   ],
   "source": [
    "relabelled_frequencies_averaged = np.average(trimmed_np, axis=0)\n",
    "relabelled_frequencies_averaged\n",
    "len(relabelled_frequencies_averaged)"
   ]
  },
  {
   "cell_type": "code",
   "execution_count": 62,
   "metadata": {},
   "outputs": [
    {
     "data": {
      "text/plain": [
       "array([1.24721913, 4.49691252, 2.94392029, 3.09120617, 5.31245915,\n",
       "       1.69967317, 2.49443826, 4.49691252, 1.69967317, 1.69967317,\n",
       "       2.44948974, 2.05480467, 1.41421356, 1.41421356, 0.47140452,\n",
       "       0.81649658, 1.41421356, 0.81649658, 0.47140452, 0.94280904,\n",
       "       0.94280904, 1.24721913, 0.47140452, 1.69967317, 2.1602469 ,\n",
       "       0.47140452, 0.81649658, 1.24721913, 0.81649658, 0.81649658,\n",
       "       1.41421356, 0.47140452, 0.81649658, 1.24721913, 1.24721913,\n",
       "       1.24721913, 0.94280904, 0.81649658, 0.94280904, 1.24721913,\n",
       "       0.47140452, 0.81649658, 0.81649658, 0.47140452, 0.        ,\n",
       "       0.        , 0.47140452, 0.47140452, 0.        , 0.        ,\n",
       "       0.47140452, 0.        , 0.47140452, 0.81649658, 0.94280904,\n",
       "       0.        , 0.47140452, 0.        , 0.        , 0.47140452,\n",
       "       0.47140452, 0.        , 0.        , 0.47140452, 0.47140452,\n",
       "       0.47140452, 0.        , 0.47140452, 0.        , 0.47140452,\n",
       "       0.        , 0.        , 0.47140452, 0.        , 0.47140452,\n",
       "       0.        , 0.        , 0.47140452, 0.47140452, 0.        ,\n",
       "       0.47140452, 0.        , 0.        , 0.47140452, 0.        ,\n",
       "       0.47140452, 0.        , 0.        , 0.        , 0.        ,\n",
       "       0.        , 0.        , 0.        , 0.        , 0.        ,\n",
       "       0.        , 0.        , 0.        , 0.        , 0.        ,\n",
       "       0.        , 0.        , 0.47140452, 0.        , 0.        ,\n",
       "       0.        , 0.        , 0.        , 0.        , 0.        ,\n",
       "       0.        , 0.        , 0.        , 0.        , 0.        ,\n",
       "       0.        , 0.        , 0.        , 0.47140452])"
      ]
     },
     "execution_count": 62,
     "metadata": {},
     "output_type": "execute_result"
    }
   ],
   "source": [
    "st_deviation = np.std(trimmed_np, axis=0)\n",
    "st_deviation"
   ]
  },
  {
   "cell_type": "code",
   "execution_count": 78,
   "metadata": {},
   "outputs": [],
   "source": [
    "size_axis_for_average = np.arange(Nmin, len(relabelled_frequencies_averaged)+Nmin)"
   ]
  },
  {
   "cell_type": "code",
   "execution_count": 79,
   "metadata": {},
   "outputs": [
    {
     "data": {
      "image/png": "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\n",
      "text/plain": [
       "<Figure size 432x288 with 1 Axes>"
      ]
     },
     "metadata": {
      "needs_background": "light"
     },
     "output_type": "display_data"
    }
   ],
   "source": [
    "# plot average random cluster size distribution with st_dev \n",
    "plt.semilogx(size_axis_for_average, averages, \"r-\",label=\"Random\", alpha=0.6)\n",
    "plt.fill_between(size_axis_for_average, alpha=0.2, color=\"red\",\n",
    "                 y1=relabelled_frequencies_averaged+st_deviation, \n",
    "                 y2=relabelled_frequencies_averaged-st_deviation)\n",
    "\n",
    "# on top of it, plot the real values\n",
    "plt.semilogx(real_sizes, real_frequencies, 'b-', alpha=0.8, label=\"Real\")\n",
    "\n",
    "plt.xlabel(\"Cluster size in core ions\")\n",
    "plt.ylabel(\"Count\")\n",
    "plt.legend(loc=1)\n",
    "plt.grid()"
   ]
  },
  {
   "cell_type": "code",
   "execution_count": 80,
   "metadata": {},
   "outputs": [
    {
     "data": {
      "image/png": "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\n",
      "text/plain": [
       "<Figure size 432x288 with 1 Axes>"
      ]
     },
     "metadata": {
      "needs_background": "light"
     },
     "output_type": "display_data"
    }
   ],
   "source": [
    "# plot average random cluster size distribution with st_dev \n",
    "plt.loglog(size_axis_for_average, averages, \"r-\",label=\"Random\", alpha=0.6)\n",
    "plt.fill_between(size_axis_for_average, alpha=0.2, color=\"red\",\n",
    "                 y1=relabelled_frequencies_averaged+st_deviation, \n",
    "                 y2=relabelled_frequencies_averaged-st_deviation)\n",
    "\n",
    "# on top of it, plot the real values\n",
    "plt.loglog(real_sizes, real_frequencies, 'bo', alpha=0.8, label=\"Real\")\n",
    "\n",
    "plt.xlabel(\"Cluster size in core ions\")\n",
    "plt.ylabel(\"Count\")\n",
    "plt.legend(loc=1)\n",
    "plt.grid()"
   ]
  },
  {
   "cell_type": "markdown",
   "metadata": {},
   "source": [
    "## Future work\n",
    "\n",
    "1. Relabelling feature needs to be adjusted to each cluster search type. It should be a feature of each function, not a separate task.\n",
    "2. XML file for relabelled cluster searches needs to be optimised so that no unnecessary files are produced.\n",
    "3. To save disk space, unecessary files should be deleted after the search.\n",
    "4. Visualising spatial distribution (or any real vs random data sets) requires interactive windows for zooming to the regions of interest. Otherwise it's not readable.\n",
    "5. More work on using whatever file path the user wants is required. Many problems with Windows backslash. Using WSL might solve this."
   ]
  }
 ],
 "metadata": {
  "kernelspec": {
   "display_name": "Python 3",
   "language": "python",
   "name": "python3"
  },
  "language_info": {
   "codemirror_mode": {
    "name": "ipython",
    "version": 3
   },
   "file_extension": ".py",
   "mimetype": "text/x-python",
   "name": "python",
   "nbconvert_exporter": "python",
   "pygments_lexer": "ipython3",
   "version": "3.6.9"
  }
 },
 "nbformat": 4,
 "nbformat_minor": 4
}
