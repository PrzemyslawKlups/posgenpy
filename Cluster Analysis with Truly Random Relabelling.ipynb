{
 "cells": [
  {
   "cell_type": "markdown",
   "metadata": {},
   "source": [
    "# Aim\n",
    "\n",
    "The goal is to reproduce the same cluster search analysis method as present in IVAS. The order in which I tend to do this analysis is:\n",
    "1. Nearest Neighbour distribution - plots cluster count vs d-pair [nm] What's d-pair? It let's us estimate the order parameter which allows selecting as many real clusters over non-real by comparing it to the randomised (relabelled) data.\n",
    "2. Cluster Size distribution - plots cluster count and size of each cluster for identified clusters and non-real clusters. From this figure we can estimate the $N_{min}$ parameter so that it cuts of random ones and shows us (mostly) the real ones.  \n",
    "3. Cluster Count distribution - plots cluster count for each $d_{max}$ and compares it to relabelled data. This allows more appropriate $d_{max}$ selection.\n",
    "\n",
    "The last step in IVAS, Cluster Analysis, is not included in this notebook. These functions are aiming for the most appropriate parameter selection though."
   ]
  },
  {
   "cell_type": "code",
   "execution_count": 1,
   "metadata": {},
   "outputs": [],
   "source": [
    "import numpy as np\n",
    "%matplotlib inline\n",
    "import matplotlib.pyplot as plt\n",
    "from posgenpy import write_cluster_xml\n",
    "import os",
    "import sys"
   ]
  },
  {
   "cell_type": "markdown",
   "metadata": {},
   "source": [
    "Change the working directory to make things simple, assuming pos and range files are already there"
   ]
  },
  {
   "cell_type": "code",
   "execution_count": 2,
   "metadata": {},
   "outputs": [
    {
     "name": "stdout",
     "output_type": "stream",
     "text": [
      "C:\\Users\\Andy\\Documents\\python\\PycharmProjects\\posgenpy\n"
     ]
    }
   ],
   "source": [
    "print(os.getcwd())"
   ]
  },
  {
   "cell_type": "code",
   "execution_count": 3,
   "metadata": {},
   "outputs": [
    {
     "name": "stdout",
     "output_type": "stream",
     "text": [
      "C:\\cygwin64\\home\\Andy\\posgen\n"
     ]
    }
   ],
   "source": [
    "os.chdir(\"C:\\\\Users\\\\Peter\\\\OneDrive - Nexus365\\\\Misc\\\\170710-posgen\")\n",
    "print(os.getcwd())"
   ]
  },
  {
   "cell_type": "markdown",
   "metadata": {},
   "source": [
    "## Creating XML file\n",
    "Let's check if Andy's code for cluster search works."
   ]
  },
  {
   "cell_type": "code",
   "execution_count": 4,
   "metadata": {},
   "outputs": [],
   "source": [
    "# my inputs \n",
    "xml_file = \"cluster_check.xml\"\n",
    "pos_file =  \"R5083_09569-v08-roi_noOx.pos\"\n",
    "rrng_file = \"R5083_09569-v08_noOx.rrng\"\n",
    "core_ions = [\"Ni\", \"Mn\", \"Si\", \"Cu\", \"P\", \"Fm\"]\n",
    "bulk_ions = [\"Fe\", \"C\", \"Cr\", \"O\"]\n",
    "Nmin=20"
   ]
  },
  {
   "cell_type": "code",
   "execution_count": 5,
   "metadata": {},
   "outputs": [],
   "source": [
    "andys_output = write_cluster_xml(xml_file, pos_file, rrng_file, core_ions, bulk_ions, \n",
    "                               mass_random_relabel=False, \n",
    "                               nmin=str(Nmin), dbulk=\"0.25\", derode=\"0.25\")"
   ]
  },
  {
   "cell_type": "markdown",
   "metadata": {},
   "source": [
    "## Running POSGEN \n",
    "So to simplify things at the beginning I moved these files into posgen folder so that I can run them without typical Windows path issues. Now it's the time to run it from here."
   ]
  },
  {
   "cell_type": "code",
   "execution_count": 6,
   "metadata": {},
   "outputs": [],
   "source": [
    "import subprocess"
   ]
  },
  {
   "cell_type": "code",
   "execution_count": 7,
   "metadata": {},
   "outputs": [],
   "source": [
    "posgen_output = subprocess.call([\"posgen\", \"cluster_check.xml\"])"
   ]
  },
  {
   "cell_type": "code",
   "execution_count": 8,
   "metadata": {},
   "outputs": [
    {
     "name": "stdout",
     "output_type": "stream",
     "text": [
      "Success\n"
     ]
    }
   ],
   "source": [
    "if posgen_output == 0:\n",
    "    print(\"Success\")"
   ]
  },
  {
   "cell_type": "markdown",
   "metadata": {},
   "source": [
    "## Plotting the results\n",
    "Find the files with recent results and plot them."
   ]
  },
  {
   "cell_type": "code",
   "execution_count": 9,
   "metadata": {},
   "outputs": [],
   "source": [
    "# size distribution\n",
    "# TODO change pandas into my own functions to read the stat files\n",
    "import pandas\n"
   ]
  },
  {
   "cell_type": "code",
   "execution_count": 10,
   "metadata": {},
   "outputs": [],
   "source": [
    "size_distribution = pandas.read_csv(\"sizedist.txt\", sep='\\t')"
   ]
  },
  {
   "cell_type": "code",
   "execution_count": 11,
   "metadata": {},
   "outputs": [
    {
     "data": {
      "text/html": [
       "<div>\n",
       "<style scoped>\n",
       "    .dataframe tbody tr th:only-of-type {\n",
       "        vertical-align: middle;\n",
       "    }\n",
       "\n",
       "    .dataframe tbody tr th {\n",
       "        vertical-align: top;\n",
       "    }\n",
       "\n",
       "    .dataframe thead th {\n",
       "        text-align: right;\n",
       "    }\n",
       "</style>\n",
       "<table border=\"1\" class=\"dataframe\">\n",
       "  <thead>\n",
       "    <tr style=\"text-align: right;\">\n",
       "      <th></th>\n",
       "      <th>Cluster Size(core)</th>\n",
       "      <th>Frequency</th>\n",
       "    </tr>\n",
       "  </thead>\n",
       "  <tbody>\n",
       "    <tr>\n",
       "      <th>0</th>\n",
       "      <td>20</td>\n",
       "      <td>3</td>\n",
       "    </tr>\n",
       "    <tr>\n",
       "      <th>1</th>\n",
       "      <td>21</td>\n",
       "      <td>4</td>\n",
       "    </tr>\n",
       "    <tr>\n",
       "      <th>2</th>\n",
       "      <td>22</td>\n",
       "      <td>1</td>\n",
       "    </tr>\n",
       "    <tr>\n",
       "      <th>3</th>\n",
       "      <td>23</td>\n",
       "      <td>1</td>\n",
       "    </tr>\n",
       "    <tr>\n",
       "      <th>4</th>\n",
       "      <td>24</td>\n",
       "      <td>2</td>\n",
       "    </tr>\n",
       "  </tbody>\n",
       "</table>\n",
       "</div>"
      ],
      "text/plain": [
       "   Cluster Size(core)  Frequency \n",
       "0                  20           3\n",
       "1                  21           4\n",
       "2                  22           1\n",
       "3                  23           1\n",
       "4                  24           2"
      ]
     },
     "execution_count": 11,
     "metadata": {},
     "output_type": "execute_result"
    }
   ],
   "source": [
    "size_distribution.head()"
   ]
  },
  {
   "cell_type": "code",
   "execution_count": 12,
   "metadata": {},
   "outputs": [
    {
     "data": {
      "text/plain": [
       "<matplotlib.axes._subplots.AxesSubplot at 0x28618320898>"
      ]
     },
     "execution_count": 12,
     "metadata": {},
     "output_type": "execute_result"
    },
    {
     "data": {
      "image/png": "[encoded data removed]",
      "text/plain": [
       "<Figure size 432x288 with 1 Axes>"
      ]
     },
     "metadata": {
      "needs_background": "light"
     },
     "output_type": "display_data"
    }
   ],
   "source": [
    "size_distribution.plot(x=\"Cluster Size(core)\", y=\"Frequency \")"
   ]
  },
  {
   "cell_type": "code",
   "execution_count": 13,
   "metadata": {},
   "outputs": [
    {
     "data": {
      "text/plain": [
       "(0, 4.15)"
      ]
     },
     "execution_count": 13,
     "metadata": {},
     "output_type": "execute_result"
    },
    {
     "data": {
      "image/png": "[encoded data removed]",
      "text/plain": [
       "<Figure size 432x288 with 1 Axes>"
      ]
     },
     "metadata": {
      "needs_background": "light"
     },
     "output_type": "display_data"
    }
   ],
   "source": [
    "# more readable format:\n",
    "sizes = size_distribution[\"Cluster Size(core)\"]\n",
    "frequencies = size_distribution[\"Frequency \"]\n",
    "\n",
    "plt.semilogx(sizes, frequencies, 'b-')\n",
    "plt.ylabel(\"Frequency of given size\")\n",
    "plt.xlabel(\"Cluster size [core atoms]\")\n",
    "plt.grid()\n",
    "plt.ylim(bottom=0)"
   ]
  },
  {
   "cell_type": "code",
   "execution_count": 14,
   "metadata": {},
   "outputs": [
    {
     "data": {
      "text/plain": [
       "Text(0.5, 0, 'Cluster size in core ions')"
      ]
     },
     "execution_count": 14,
     "metadata": {},
     "output_type": "execute_result"
    },
    {
     "data": {
      "image/png": "[encoded data removed]",
      "text/plain": [
       "<Figure size 432x288 with 1 Axes>"
      ]
     },
     "metadata": {
      "needs_background": "light"
     },
     "output_type": "display_data"
    }
   ],
   "source": [
    "# to include cluster sizes with no frequencies\n",
    "a = frequencies.values.flatten()\n",
    "b = sizes.values.flatten()\n",
    "\n",
    "real_sizes = np.arange(min(b), max(b)+1, 1)\n",
    "real_frequencies = np.zeros(max(b)-min(b)+1)\n",
    "\n",
    "real_frequencies[b-min(b)] = a\n",
    "\n",
    "plt.semilogx(real_sizes, real_frequencies)\n",
    "plt.grid()\n",
    "plt.ylabel(\"Frequency\")\n",
    "plt.xlabel(\"Cluster size in core ions\")"
   ]
  },
  {
   "cell_type": "markdown",
   "metadata": {},
   "source": [
    "## Further analysis of the data\n",
    "I'm not going to plot anything else now. Sweep functions are needed to get the plots similar to IVAS."
   ]
  },
  {
   "cell_type": "markdown",
   "metadata": {},
   "source": [
    "## Getting truly random cluster searches\n",
    "In order to get truly random cluster searches to compare them to non-random ones, I will iterate through the same function 5 times."
   ]
  },
  {
   "cell_type": "code",
   "execution_count": 15,
   "metadata": {},
   "outputs": [],
   "source": [
    "# create a folder for dropping all the random files in\n",
    "RANDOM_FILES_DIR=\"random_files\"\n",
    "try:\n",
    "    os.mkdir(RANDOM_FILES_DIR)\n",
    "except FileExistsError:\n",
    "    print(\"Directory \" + str(os.getcwd()) + os.sep + RANDOM_FILES_DIR + \" already exists - please delete\")\n",
    "    sys.exit(1)"
   ]
  },
  {
   "cell_type": "code",
   "execution_count": 16,
   "metadata": {},
   "outputs": [],
   "source": [
    "# running relabelled cluster search\n",
    "\n",
    "random_search = write_cluster_xml(\"relabelled_cluster_check.xml\", pos_file=pos_file, range_file=rrng_file, core_ions=core_ions, \n",
    "                               bulk_ions=bulk_ions, \n",
    "                               mass_random_relabel=True, \n",
    "                               nmin=str(Nmin), dmax=\"1\", dbulk=\"0\", derode=\"0\",\n",
    "                               clusterstats_file=\"random_files/cluster-stats.txt\",\n",
    "                               unclusterstats_file=\"random_files/uncluster\",\n",
    "                               sizedist_file=\"random_files/sizedist.txt\", \n",
    "                               include_unranged_pos=False,\n",
    "                               include_unranged_stats=True,\n",
    "                               clusterstats_core=True,\n",
    "                               clusterstats_bulk=True,\n",
    "                               clusterstats_percluster=True,\n",
    "                               clustered_pos_file=\"\",\n",
    "                               unclustered_pos_file=\"\",\n",
    "                               clusterid_pos_file=\"\")"
   ]
  },
  {
   "cell_type": "code",
   "execution_count": 17,
   "metadata": {},
   "outputs": [
    {
     "name": "stdout",
     "output_type": "stream",
     "text": [
      "Success\n"
     ]
    }
   ],
   "source": [
    "random_call = subprocess.call([\"posgen\", \"relabelled_cluster_check.xml\"])\n",
    "\n",
    "if random_call == 0:\n",
    "    print(\"Success\")"
   ]
  },
  {
   "cell_type": "markdown",
   "metadata": {},
   "source": [
    "Iterate through this function several times and create randomised data in the designated folder."
   ]
  },
  {
   "cell_type": "code",
   "execution_count": 19,
   "metadata": {},
   "outputs": [],
   "source": [
    "random_folder = \"random_files\"\n",
    "number_of_iterations = 3"
   ]
  },
  {
   "cell_type": "code",
   "execution_count": 30,
   "metadata": {},
   "outputs": [],
   "source": [
    "for run in range(number_of_iterations):\n",
    "    \n",
    "    # TODO all of these parameters will be changeable from outside of the function (class?)\n",
    "    random_search = write_cluster_xml(f\"{random_folder}/relabelled_cluster_check{run+1}.xml\", \n",
    "                                    pos_file=pos_file, range_file=rrng_file, core_ions=core_ions, \n",
    "                                   bulk_ions=bulk_ions, \n",
    "                                   mass_random_relabel=True, \n",
    "                                   nmin=\"5\", dmax = \"1\", dbulk=\"0\", derode=\"0\",\n",
    "                                   clusterstats_file=f\"{random_folder}/cluster-stats{run+1}.txt\",\n",
    "                                   unclusterstats_file=f\"{random_folder}/uncluster{run+1}.pos\",\n",
    "                                   sizedist_file=f\"{random_folder}/sizedist{run+1}.txt\", \n",
    "                                   include_unranged_pos=False,\n",
    "                                   include_unranged_stats=True,\n",
    "                                   clusterstats_core=True,\n",
    "                                   clusterstats_bulk=True,\n",
    "                                   clusterstats_percluster=True,\n",
    "                                   clustered_pos_file=\"\",\n",
    "                                   unclustered_pos_file=\"\",\n",
    "                                   clusterid_pos_file=\"\")"
   ]
  },
  {
   "cell_type": "code",
   "execution_count": 31,
   "metadata": {},
   "outputs": [
    {
     "name": "stdout",
     "output_type": "stream",
     "text": [
      "Run 1 finished\n",
      "Run 2 finished\n",
      "Run 3 finished\n",
      "Run 4 finished\n",
      "Run 5 finished\n",
      "Run 6 finished\n",
      "Run 7 finished\n",
      "Run 8 finished\n",
      "Run 9 finished\n",
      "Run 10 finished\n",
      "Run 11 finished\n",
      "Run 12 finished\n",
      "Run 13 finished\n",
      "Run 14 finished\n",
      "Run 15 finished\n",
      "Run 16 finished\n",
      "Run 17 finished\n",
      "Run 18 finished\n",
      "Run 19 finished\n",
      "Run 20 finished\n"
     ]
    }
   ],
   "source": [
    "# iterate through posgen calls\n",
    "for run in range(number_of_iterations):\n",
    "    loc_output = subprocess.call([\"posgen\", f\"{random_folder}\\\\relabelled_cluster_check{run+1}.xml\"])\n",
    "    if loc_output == 0:\n",
    "        print(f\"Run {run+1} finished\")"
   ]
  },
  {
   "cell_type": "markdown",
   "metadata": {},
   "source": [
    "## Retrieving random data\n",
    "Get random data and plot to compare with real values. Then, take an average and plot with errorbars."
   ]
  },
  {
   "cell_type": "code",
   "execution_count": 32,
   "metadata": {},
   "outputs": [],
   "source": [
    "# create pandas dataframes for each\n",
    "dfs = []\n",
    "for run in range(number_of_iterations):\n",
    "    dfs.append(pandas.read_csv(f\"{random_folder}/sizedist{run+1}.txt\", sep='\\t'))\n"
   ]
  },
  {
   "cell_type": "code",
   "execution_count": 33,
   "metadata": {},
   "outputs": [
    {
     "data": {
      "text/plain": [
       "[    Cluster Size(core)  Frequency \n",
       " 0                    5         292\n",
       " 1                    6         161\n",
       " 2                    7          82\n",
       " 3                    8          34\n",
       " 4                    9          24\n",
       " 5                   10          20\n",
       " 6                   11           9\n",
       " 7                   12           6\n",
       " 8                   13           2\n",
       " 9                   14           4\n",
       " 10                  15           4\n",
       " 11                  18           2\n",
       " 12                  20           2,     Cluster Size(core)  Frequency \n",
       " 0                    5         266\n",
       " 1                    6         155\n",
       " 2                    7          88\n",
       " 3                    8          50\n",
       " 4                    9          26\n",
       " 5                   10          17\n",
       " 6                   11           9\n",
       " 7                   12           8\n",
       " 8                   13           1\n",
       " 9                   14          10\n",
       " 10                  15           3\n",
       " 11                  16           1\n",
       " 12                  17           2\n",
       " 13                  20           2\n",
       " 14                  24           2,     Cluster Size(core)  Frequency \n",
       " 0                    5         255\n",
       " 1                    6         142\n",
       " 2                    7          50\n",
       " 3                    8          50\n",
       " 4                    9          27\n",
       " 5                   10          22\n",
       " 6                   11          11\n",
       " 7                   12           9\n",
       " 8                   13           6\n",
       " 9                   14           3\n",
       " 10                  15           2\n",
       " 11                  16           1\n",
       " 12                  17           1\n",
       " 13                  25           1\n",
       " 14                  26           2,     Cluster Size(core)  Frequency \n",
       " 0                    5         282\n",
       " 1                    6         143\n",
       " 2                    7          87\n",
       " 3                    8          54\n",
       " 4                    9          26\n",
       " 5                   10          11\n",
       " 6                   11           8\n",
       " 7                   12           7\n",
       " 8                   13           3\n",
       " 9                   14           1\n",
       " 10                  15           1\n",
       " 11                  16           2\n",
       " 12                  17           2\n",
       " 13                  18           1\n",
       " 14                  22           1,     Cluster Size(core)  Frequency \n",
       " 0                    5         253\n",
       " 1                    6         127\n",
       " 2                    7          76\n",
       " 3                    8          52\n",
       " 4                    9          27\n",
       " 5                   10          19\n",
       " 6                   11          10\n",
       " 7                   12          14\n",
       " 8                   13           6\n",
       " 9                   14           4\n",
       " 10                  15           1\n",
       " 11                  16           2\n",
       " 12                  18           1\n",
       " 13                  19           1\n",
       " 14                  20           1,     Cluster Size(core)  Frequency \n",
       " 0                    5         268\n",
       " 1                    6         127\n",
       " 2                    7          74\n",
       " 3                    8          39\n",
       " 4                    9          18\n",
       " 5                   10          13\n",
       " 6                   11           4\n",
       " 7                   12           8\n",
       " 8                   13           6\n",
       " 9                   14           3\n",
       " 10                  15           1\n",
       " 11                  17           1\n",
       " 12                  21           1\n",
       " 13                  24           1\n",
       " 14                  25           1,     Cluster Size(core)  Frequency \n",
       " 0                    5         287\n",
       " 1                    6         142\n",
       " 2                    7          64\n",
       " 3                    8          46\n",
       " 4                    9          25\n",
       " 5                   10          17\n",
       " 6                   11          12\n",
       " 7                   12           7\n",
       " 8                   13           4\n",
       " 9                   14           2\n",
       " 10                  15           4\n",
       " 11                  16           3\n",
       " 12                  17           1\n",
       " 13                  18           2\n",
       " 14                  19           1\n",
       " 15                  21           1\n",
       " 16                  24           1\n",
       " 17                  28           1,     Cluster Size(core)  Frequency \n",
       " 0                    5         289\n",
       " 1                    6         141\n",
       " 2                    7          78\n",
       " 3                    8          31\n",
       " 4                    9          29\n",
       " 5                   10          19\n",
       " 6                   11          10\n",
       " 7                   12           8\n",
       " 8                   13           7\n",
       " 9                   14           6\n",
       " 10                  15           1\n",
       " 11                  17           2\n",
       " 12                  18           1\n",
       " 13                  19           2\n",
       " 14                  21           1,     Cluster Size(core)  Frequency \n",
       " 0                    5         243\n",
       " 1                    6         152\n",
       " 2                    7          80\n",
       " 3                    8          47\n",
       " 4                    9          25\n",
       " 5                   10          27\n",
       " 6                   11          13\n",
       " 7                   12           8\n",
       " 8                   13           3\n",
       " 9                   14           5\n",
       " 10                  16           1\n",
       " 11                  17           3\n",
       " 12                  20           1\n",
       " 13                  21           1\n",
       " 14                  23           1,     Cluster Size(core)  Frequency \n",
       " 0                    5         285\n",
       " 1                    6         149\n",
       " 2                    7          69\n",
       " 3                    8          46\n",
       " 4                    9          41\n",
       " 5                   10          13\n",
       " 6                   11           7\n",
       " 7                   12           7\n",
       " 8                   13           3\n",
       " 9                   14           3\n",
       " 10                  15           2\n",
       " 11                  16           2\n",
       " 12                  17           2\n",
       " 13                  23           1\n",
       " 14                  26           1,     Cluster Size(core)  Frequency \n",
       " 0                    5         285\n",
       " 1                    6         142\n",
       " 2                    7          86\n",
       " 3                    8          41\n",
       " 4                    9          36\n",
       " 5                   10          13\n",
       " 6                   11          12\n",
       " 7                   12           6\n",
       " 8                   13           5\n",
       " 9                   14           5\n",
       " 10                  16           2\n",
       " 11                  17           1\n",
       " 12                  19           1\n",
       " 13                  24           1,     Cluster Size(core)  Frequency \n",
       " 0                    5         287\n",
       " 1                    6         129\n",
       " 2                    7          99\n",
       " 3                    8          53\n",
       " 4                    9          37\n",
       " 5                   10          11\n",
       " 6                   11          10\n",
       " 7                   12           7\n",
       " 8                   13           6\n",
       " 9                   15           4\n",
       " 10                  16           1\n",
       " 11                  17           1\n",
       " 12                  18           3,     Cluster Size(core)  Frequency \n",
       " 0                    5         281\n",
       " 1                    6         140\n",
       " 2                    7          91\n",
       " 3                    8          47\n",
       " 4                    9          28\n",
       " 5                   10          16\n",
       " 6                   11          10\n",
       " 7                   12           7\n",
       " 8                   13          10\n",
       " 9                   14           4\n",
       " 10                  18           2\n",
       " 11                  19           1\n",
       " 12                  20           1\n",
       " 13                  21           1\n",
       " 14                  23           1,     Cluster Size(core)  Frequency \n",
       " 0                    5         256\n",
       " 1                    6         148\n",
       " 2                    7          76\n",
       " 3                    8          33\n",
       " 4                    9          25\n",
       " 5                   10          16\n",
       " 6                   11          12\n",
       " 7                   12           7\n",
       " 8                   13           4\n",
       " 9                   14           3\n",
       " 10                  15           2\n",
       " 11                  16           1\n",
       " 12                  17           2\n",
       " 13                  22           1\n",
       " 14                  28           1,     Cluster Size(core)  Frequency \n",
       " 0                    5         286\n",
       " 1                    6         157\n",
       " 2                    7          80\n",
       " 3                    8          43\n",
       " 4                    9          31\n",
       " 5                   10           9\n",
       " 6                   11          11\n",
       " 7                   12           9\n",
       " 8                   13           3\n",
       " 9                   14           6\n",
       " 10                  15           3\n",
       " 11                  17           1\n",
       " 12                  18           1\n",
       " 13                  19           1,     Cluster Size(core)  Frequency \n",
       " 0                    5         297\n",
       " 1                    6         130\n",
       " 2                    7          63\n",
       " 3                    8          42\n",
       " 4                    9          28\n",
       " 5                   10          11\n",
       " 6                   11           6\n",
       " 7                   12           8\n",
       " 8                   13           4\n",
       " 9                   14           2\n",
       " 10                  15           1\n",
       " 11                  16           2\n",
       " 12                  17           3\n",
       " 13                  20           1\n",
       " 14                  30           1,     Cluster Size(core)  Frequency \n",
       " 0                    5         278\n",
       " 1                    6         135\n",
       " 2                    7          74\n",
       " 3                    8          52\n",
       " 4                    9          28\n",
       " 5                   10          18\n",
       " 6                   11          18\n",
       " 7                   12          10\n",
       " 8                   13           6\n",
       " 9                   14           2\n",
       " 10                  15           3\n",
       " 11                  16           2\n",
       " 12                  17           3\n",
       " 13                  18           1\n",
       " 14                  20           1\n",
       " 15                  23           1\n",
       " 16                  27           1,     Cluster Size(core)  Frequency \n",
       " 0                    5         287\n",
       " 1                    6         124\n",
       " 2                    7          84\n",
       " 3                    8          45\n",
       " 4                    9          26\n",
       " 5                   10           9\n",
       " 6                   11           6\n",
       " 7                   12          10\n",
       " 8                   13           5\n",
       " 9                   14           3\n",
       " 10                  15           3\n",
       " 11                  16           2\n",
       " 12                  17           1,     Cluster Size(core)  Frequency \n",
       " 0                    5         266\n",
       " 1                    6         141\n",
       " 2                    7          61\n",
       " 3                    8          48\n",
       " 4                    9          23\n",
       " 5                   10          15\n",
       " 6                   11          14\n",
       " 7                   12           3\n",
       " 8                   13           6\n",
       " 9                   14           6\n",
       " 10                  16           4\n",
       " 11                  17           3\n",
       " 12                  18           1\n",
       " 13                  19           1\n",
       " 14                  20           1,     Cluster Size(core)  Frequency \n",
       " 0                    5         299\n",
       " 1                    6         140\n",
       " 2                    7          68\n",
       " 3                    8          38\n",
       " 4                    9          32\n",
       " 5                   10           9\n",
       " 6                   11          11\n",
       " 7                   12           8\n",
       " 8                   13           2\n",
       " 9                   14           3\n",
       " 10                  15           5\n",
       " 11                  16           2\n",
       " 12                  18           2\n",
       " 13                  19           1\n",
       " 14                  24           1\n",
       " 15                  37           1]"
      ]
     },
     "execution_count": 33,
     "metadata": {},
     "output_type": "execute_result"
    }
   ],
   "source": [
    "dfs"
   ]
  },
  {
   "cell_type": "code",
   "execution_count": 51,
   "metadata": {},
   "outputs": [
    {
     "data": {
      "image/png": "[encoded data removed]",
      "text/plain": [
       "<Figure size 432x288 with 1 Axes>"
      ]
     },
     "metadata": {
      "needs_background": "light"
     },
     "output_type": "display_data"
    }
   ],
   "source": [
    "all_frequencies = []\n",
    "\n",
    "# FIXME: bug when no random clusters are found\n",
    "\n",
    "for i, run in enumerate(dfs):\n",
    "    loc_label = f\"Random {i+1}\"\n",
    "    sizes = run[\"Cluster Size(core)\"].values.flatten()\n",
    "    frequencies = run[\"Frequency \"].values.flatten()\n",
    "    \n",
    "    new_sizes = np.arange(min(sizes), max(sizes)+1, 1)\n",
    "    new_frequencies = np.zeros(max(sizes)-min(sizes)+1)\n",
    "\n",
    "    new_frequencies[sizes-min(sizes)] = frequencies\n",
    "    \n",
    "    all_frequencies.append(new_frequencies)\n",
    "\n",
    "    plt.semilogx(new_sizes, new_frequencies, label=loc_label)\n",
    "\n",
    "plt.legend(loc=1)\n",
    "plt.grid()"
   ]
  },
  {
   "cell_type": "code",
   "execution_count": 35,
   "metadata": {},
   "outputs": [
    {
     "name": "stdout",
     "output_type": "stream",
     "text": [
      "33\n"
     ]
    }
   ],
   "source": [
    "# print(all_frequencies)\n",
    "\n",
    "max_length = 0\n",
    "for x in all_frequencies:\n",
    "    if len(x) > max_length:\n",
    "        max_length = len(x)\n",
    "print(max_length)"
   ]
  },
  {
   "cell_type": "code",
   "execution_count": 36,
   "metadata": {},
   "outputs": [
    {
     "name": "stdout",
     "output_type": "stream",
     "text": [
      "13\n"
     ]
    }
   ],
   "source": [
    "min_length = max_length\n",
    "for x in all_frequencies:\n",
    "    if len(x) < min_length:\n",
    "        min_length = len(x)\n",
    "print(min_length)"
   ]
  },
  {
   "cell_type": "code",
   "execution_count": 37,
   "metadata": {},
   "outputs": [],
   "source": [
    "trimmed_data = []\n",
    "for i in range(number_of_iterations):\n",
    "    trimmed_data.append(all_frequencies[i][:min_length])"
   ]
  },
  {
   "cell_type": "code",
   "execution_count": 38,
   "metadata": {},
   "outputs": [
    {
     "data": {
      "text/plain": [
       "array([[292., 161.,  82.,  34.,  24.,  20.,   9.,   6.,   2.,   4.,   4.,\n",
       "          0.,   0.],\n",
       "       [266., 155.,  88.,  50.,  26.,  17.,   9.,   8.,   1.,  10.,   3.,\n",
       "          1.,   2.],\n",
       "       [255., 142.,  50.,  50.,  27.,  22.,  11.,   9.,   6.,   3.,   2.,\n",
       "          1.,   1.]])"
      ]
     },
     "execution_count": 38,
     "metadata": {},
     "output_type": "execute_result"
    }
   ],
   "source": [
    "trimmed_np = np.array([trimmed_data[0], trimmed_data[1], trimmed_data[2]])\n",
    "trimmed_np"
   ]
  },
  {
   "cell_type": "code",
   "execution_count": 39,
   "metadata": {},
   "outputs": [
    {
     "data": {
      "text/plain": [
       "13"
      ]
     },
     "execution_count": 39,
     "metadata": {},
     "output_type": "execute_result"
    }
   ],
   "source": [
    "relabelled_frequencies_averaged = np.average(trimmed_np, axis=0)\n",
    "relabelled_frequencies_averaged\n",
    "len(relabelled_frequencies_averaged)"
   ]
  },
  {
   "cell_type": "code",
   "execution_count": 40,
   "metadata": {},
   "outputs": [
    {
     "data": {
      "text/plain": [
       "array([15.51343504,  7.9302515 , 16.67999467,  7.54247233,  1.24721913,\n",
       "        2.05480467,  0.94280904,  1.24721913,  2.1602469 ,  3.09120617,\n",
       "        0.81649658,  0.47140452,  0.81649658])"
      ]
     },
     "execution_count": 40,
     "metadata": {},
     "output_type": "execute_result"
    }
   ],
   "source": [
    "st_deviation = np.std(trimmed_np, axis=0)\n",
    "st_deviation"
   ]
  },
  {
   "cell_type": "code",
   "execution_count": 41,
   "metadata": {},
   "outputs": [],
   "source": [
    "size_axis_for_average = np.arange(Nmin, len(relabelled_frequencies_averaged)+Nmin)"
   ]
  },
  {
   "cell_type": "code",
   "execution_count": 49,
   "metadata": {},
   "outputs": [
    {
     "data": {
      "text/plain": [
       "(15.15539161685442, 6772.507276278716, 0, 20)"
      ]
     },
     "execution_count": 49,
     "metadata": {},
     "output_type": "execute_result"
    },
    {
     "data": {
      "image/png": "[encoded data removed]",
      "text/plain": [
       "<Figure size 432x288 with 1 Axes>"
      ]
     },
     "metadata": {
      "needs_background": "light"
     },
     "output_type": "display_data"
    }
   ],
   "source": [
    "# plot average random cluster size distribution with st_dev \n",
    "plt.semilogx(size_axis_for_average, relabelled_frequencies_averaged, \"r-\",label=\"Random\", alpha=0.6)\n",
    "plt.fill_between(size_axis_for_average, alpha=0.2, color=\"red\",\n",
    "                 y1=relabelled_frequencies_averaged+st_deviation, \n",
    "                 y2=relabelled_frequencies_averaged-st_deviation)\n",
    "\n",
    "# on top of it, plot the real values\n",
    "plt.semilogx(real_sizes, real_frequencies, 'b-', alpha=0.8, label=\"Real\")\n",
    "\n",
    "plt.xlabel(\"Cluster size in core ions\")\n",
    "plt.ylabel(\"Count\")\n",
    "plt.legend(loc=1)\n",
    "plt.grid()"
   ]
  },
  {
   "cell_type": "code",
   "execution_count": 53,
   "metadata": {},
   "outputs": [
    {
     "data": {
      "image/png": "[encoded data removed]",
      "text/plain": [
       "<Figure size 432x288 with 1 Axes>"
      ]
     },
     "metadata": {
      "needs_background": "light"
     },
     "output_type": "display_data"
    }
   ],
   "source": [
    "# plot average random cluster size distribution with st_dev \n",
    "plt.loglog(size_axis_for_average, relabelled_frequencies_averaged, \"r-\",label=\"Random\", alpha=0.6)\n",
    "plt.fill_between(size_axis_for_average, alpha=0.2, color=\"red\",\n",
    "                 y1=relabelled_frequencies_averaged+st_deviation, \n",
    "                 y2=relabelled_frequencies_averaged-st_deviation)\n",
    "\n",
    "# on top of it, plot the real values\n",
    "plt.loglog(real_sizes, real_frequencies, 'bo', alpha=0.8, label=\"Real\")\n",
    "\n",
    "plt.xlabel(\"Cluster size in core ions\")\n",
    "plt.ylabel(\"Count\")\n",
    "plt.legend(loc=1)\n",
    "plt.grid()"
   ]
  },
  {
   "cell_type": "markdown",
   "metadata": {},
   "source": [
    "## Future work\n",
    "\n",
    "1. Relabelling feature needs to be adjusted to each cluster search type. It should be a feature of each function, not a separate task.\n",
    "2. XML file for relabelled cluster searches needs to be optimised so that no unnecessary files are produced.\n",
    "3. To save disk space, unecessary files should be deleted after the search.\n",
    "4. Visualising spatial distribution (or any real vs random data sets) requires interactive windows for zooming to the regions of interest. Otherwise it's not readable.\n",
    "5. More work on using whatever file path the user wants is required. Many problems with Windows backslash. Using WSL might solve this."
   ]
  }
 ],
 "metadata": {
  "kernelspec": {
   "display_name": "Python 3",
   "language": "python",
   "name": "python3"
  },
  "language_info": {
   "codemirror_mode": {
    "name": "ipython",
    "version": 3
   },
   "file_extension": ".py",
   "mimetype": "text/x-python",
   "name": "python",
   "nbconvert_exporter": "python",
   "pygments_lexer": "ipython3",
   "version": "3.6.9"
  }
 },
 "nbformat": 4,
 "nbformat_minor": 4
}
