{
 "cells": [
  {
   "cell_type": "markdown",
   "metadata": {},
   "source": [
    "# Plotting clusters on ternary diagrams\n",
    "\n",
    "In this notebook, a data from cluster serach on RPV steel is processed and plotted on a ternary diagram.\n",
    "Processing involves:\n",
    "- filtering and sorting clusters via their size,\n",
    "- filtering based on concentration of a specified ion type,\n",
    "- plotting the data on a ternary diagram with regards their size using colormaps as well as different marker size\n",
    "- plotting stacked column bars showing relative or absolute concentration of each cluster sorted by size\n",
    "- line of Fe."
   ]
  },
  {
   "cell_type": "code",
   "execution_count": 44,
   "metadata": {},
   "outputs": [],
   "source": [
    "import xml_for_msm_with_relabelling as pgp\n",
    "import matplotlib.pyplot as plt\n",
    "%matplotlib inline\n",
    "import numpy as np\n",
    "import os\n",
    "import subprocess\n",
    "import pandas\n",
    "import time\n",
    "import sys\n",
    "import plotly.graph_objects as go\n",
    "import plotly.express as px"
   ]
  },
  {
   "cell_type": "code",
   "execution_count": 6,
   "metadata": {},
   "outputs": [],
   "source": [
    "output_folder = \"/home/pklups/posgenpy/ternary_diagrams_data/\" # put \"/\" at the end\n",
    "file_base_name = \"TA3_F_330C_09569_o\"\n",
    "xml_files = [\"/home/pklups/posgenpy/ternary_diagrams_data/TA3_F_330C_09569_o6.xml\"]\n",
    "dmax_values = [6]"
   ]
  },
  {
   "cell_type": "code",
   "execution_count": 7,
   "metadata": {},
   "outputs": [
    {
     "output_type": "execute_result",
     "data": {
      "text/plain": "          X          Y         Z  Mo   Fe   Fm  Ni  C  Cu  Cr  Si  P  O  Mn  \\\n0 -11.22120  -5.063000   9.01697   0   58   46   6  0   7   0   7  0  0  24   \n1  -9.86361  -3.177880  12.24060   0   59   36  15  0   8   0   4  0  0  32   \n2 -12.28840  -0.977973  21.73200   0  155   74  39  0  48   0  14  0  0  75   \n3  15.63080  13.514000  56.42100   0    5    6   3  0   0   0   1  0  0   1   \n4  12.16560  15.216400  50.61360   0  296  129  61  1  49   0  30  0  0  89   \n\n   Ga  Unranged  r_gyration  \n0   0         0    0.942796  \n1   0         0    0.908223  \n2   0         0    1.081110  \n3   0         0    0.402365  \n4   0         0    1.005510  ",
      "text/html": "<div>\n<style scoped>\n    .dataframe tbody tr th:only-of-type {\n        vertical-align: middle;\n    }\n\n    .dataframe tbody tr th {\n        vertical-align: top;\n    }\n\n    .dataframe thead th {\n        text-align: right;\n    }\n</style>\n<table border=\"1\" class=\"dataframe\">\n  <thead>\n    <tr style=\"text-align: right;\">\n      <th></th>\n      <th>X</th>\n      <th>Y</th>\n      <th>Z</th>\n      <th>Mo</th>\n      <th>Fe</th>\n      <th>Fm</th>\n      <th>Ni</th>\n      <th>C</th>\n      <th>Cu</th>\n      <th>Cr</th>\n      <th>Si</th>\n      <th>P</th>\n      <th>O</th>\n      <th>Mn</th>\n      <th>Ga</th>\n      <th>Unranged</th>\n      <th>r_gyration</th>\n    </tr>\n  </thead>\n  <tbody>\n    <tr>\n      <th>0</th>\n      <td>-11.22120</td>\n      <td>-5.063000</td>\n      <td>9.01697</td>\n      <td>0</td>\n      <td>58</td>\n      <td>46</td>\n      <td>6</td>\n      <td>0</td>\n      <td>7</td>\n      <td>0</td>\n      <td>7</td>\n      <td>0</td>\n      <td>0</td>\n      <td>24</td>\n      <td>0</td>\n      <td>0</td>\n      <td>0.942796</td>\n    </tr>\n    <tr>\n      <th>1</th>\n      <td>-9.86361</td>\n      <td>-3.177880</td>\n      <td>12.24060</td>\n      <td>0</td>\n      <td>59</td>\n      <td>36</td>\n      <td>15</td>\n      <td>0</td>\n      <td>8</td>\n      <td>0</td>\n      <td>4</td>\n      <td>0</td>\n      <td>0</td>\n      <td>32</td>\n      <td>0</td>\n      <td>0</td>\n      <td>0.908223</td>\n    </tr>\n    <tr>\n      <th>2</th>\n      <td>-12.28840</td>\n      <td>-0.977973</td>\n      <td>21.73200</td>\n      <td>0</td>\n      <td>155</td>\n      <td>74</td>\n      <td>39</td>\n      <td>0</td>\n      <td>48</td>\n      <td>0</td>\n      <td>14</td>\n      <td>0</td>\n      <td>0</td>\n      <td>75</td>\n      <td>0</td>\n      <td>0</td>\n      <td>1.081110</td>\n    </tr>\n    <tr>\n      <th>3</th>\n      <td>15.63080</td>\n      <td>13.514000</td>\n      <td>56.42100</td>\n      <td>0</td>\n      <td>5</td>\n      <td>6</td>\n      <td>3</td>\n      <td>0</td>\n      <td>0</td>\n      <td>0</td>\n      <td>1</td>\n      <td>0</td>\n      <td>0</td>\n      <td>1</td>\n      <td>0</td>\n      <td>0</td>\n      <td>0.402365</td>\n    </tr>\n    <tr>\n      <th>4</th>\n      <td>12.16560</td>\n      <td>15.216400</td>\n      <td>50.61360</td>\n      <td>0</td>\n      <td>296</td>\n      <td>129</td>\n      <td>61</td>\n      <td>1</td>\n      <td>49</td>\n      <td>0</td>\n      <td>30</td>\n      <td>0</td>\n      <td>0</td>\n      <td>89</td>\n      <td>0</td>\n      <td>0</td>\n      <td>1.005510</td>\n    </tr>\n  </tbody>\n</table>\n</div>"
     },
     "metadata": {},
     "execution_count": 7
    }
   ],
   "source": [
    "# find the cluster stats file and create a dataframe\n",
    "order = 6\n",
    "\n",
    "file_name = file_base_name + str(order) + \"_cluster-stats.txt\"\n",
    "df = pandas.read_csv(output_folder+file_name, sep=\"\\t\")\n",
    "\n",
    "#check if works\n",
    "df.head()"
   ]
  },
  {
   "cell_type": "markdown",
   "metadata": {},
   "source": [
    "## Plot stacked column graphs\n",
    "\n",
    "First is copied from Plotting readl vs random clusters jupyter notebook"
   ]
  },
  {
   "cell_type": "code",
   "execution_count": 8,
   "metadata": {},
   "outputs": [
    {
     "output_type": "display_data",
     "data": {
      "text/plain": "<Figure size 720x432 with 1 Axes>",
      "image/svg+xml": "<?xml version=\"1.0\" encoding=\"utf-8\" standalone=\"no\"?>\n<!DOCTYPE svg PUBLIC \"-//W3C//DTD SVG 1.1//EN\"\n  \"http://www.w3.org/Graphics/SVG/1.1/DTD/svg11.dtd\">\n<!-- Created with matplotlib (https://matplotlib.org/) -->\n<svg height=\"386.034375pt\" version=\"1.1\" viewBox=\"0 0 761.784375 386.034375\" width=\"761.784375pt\" xmlns=\"http://www.w3.org/2000/svg\" xmlns:xlink=\"http://www.w3.org/1999/xlink\">\n <defs>\n  <style type=\"text/css\">\n*{stroke-linecap:butt;stroke-linejoin:round;}\n  </style>\n </defs>\n <g id=\"figure_1\">\n  <g id=\"patch_1\">\n   <path d=\"M 0 386.034375 \nL 761.784375 386.034375 \nL 761.784375 0 \nL 0 0 \nz\n\" style=\"fill:none;\"/>\n  </g>\n  <g id=\"axes_1\">\n   <g id=\"patch_2\">\n    <path d=\"M 46.965625 348.478125 \nL 604.965625 348.478125 \nL 604.965625 22.318125 \nL 46.965625 22.318125 \nz\n\" style=\"fill:#ffffff;\"/>\n   </g>\n   <g id=\"patch_3\">\n    <path clip-path=\"url(#p850290565c)\" d=\"M 46.965625 348.478125 \nL 52.279911 348.478125 \nL 52.279911 348.478125 \nL 46.965625 348.478125 \nz\n\" style=\"fill:#ffc0cb;opacity:0.7;\"/>\n   </g>\n   <g id=\"patch_4\">\n    <path clip-path=\"url(#p850290565c)\" d=\"M 52.279911 348.478125 \nL 57.594196 348.478125 \nL 57.594196 348.478125 \nL 52.279911 348.478125 \nz\n\" style=\"fill:#ffc0cb;opacity:0.7;\"/>\n   </g>\n   <g id=\"patch_5\">\n    <path clip-path=\"url(#p850290565c)\" d=\"M 57.594196 348.478125 \nL 62.908482 348.478125 \nL 62.908482 348.478125 \nL 57.594196 348.478125 \nz\n\" style=\"fill:#ffc0cb;opacity:0.7;\"/>\n   </g>\n   <g id=\"patch_6\">\n    <path clip-path=\"url(#p850290565c)\" d=\"M 62.908482 348.478125 \nL 68.222768 348.478125 \nL 68.222768 348.478125 \nL 62.908482 348.478125 \nz\n\" style=\"fill:#ffc0cb;opacity:0.7;\"/>\n   </g>\n   <g id=\"patch_7\">\n    <path clip-path=\"url(#p850290565c)\" d=\"M 68.222768 348.478125 \nL 73.537054 348.478125 \nL 73.537054 348.478125 \nL 68.222768 348.478125 \nz\n\" style=\"fill:#ffc0cb;opacity:0.7;\"/>\n   </g>\n   <g id=\"patch_8\">\n    <path clip-path=\"url(#p850290565c)\" d=\"M 73.537054 348.478125 \nL 78.851339 348.478125 \nL 78.851339 348.478125 \nL 73.537054 348.478125 \nz\n\" style=\"fill:#ffc0cb;opacity:0.7;\"/>\n   </g>\n   <g id=\"patch_9\">\n    <path clip-path=\"url(#p850290565c)\" d=\"M 78.851339 348.478125 \nL 84.165625 348.478125 \nL 84.165625 348.478125 \nL 78.851339 348.478125 \nz\n\" style=\"fill:#ffc0cb;opacity:0.7;\"/>\n   </g>\n   <g id=\"patch_10\">\n    <path clip-path=\"url(#p850290565c)\" d=\"M 84.165625 348.478125 \nL 89.479911 348.478125 \nL 89.479911 348.478125 \nL 84.165625 348.478125 \nz\n\" style=\"fill:#ffc0cb;opacity:0.7;\"/>\n   </g>\n   <g id=\"patch_11\">\n    <path clip-path=\"url(#p850290565c)\" d=\"M 89.479911 348.478125 \nL 94.794196 348.478125 \nL 94.794196 348.478125 \nL 89.479911 348.478125 \nz\n\" style=\"fill:#ffc0cb;opacity:0.7;\"/>\n   </g>\n   <g id=\"patch_12\">\n    <path clip-path=\"url(#p850290565c)\" d=\"M 94.794196 348.478125 \nL 100.108482 348.478125 \nL 100.108482 348.478125 \nL 94.794196 348.478125 \nz\n\" style=\"fill:#ffc0cb;opacity:0.7;\"/>\n   </g>\n   <g id=\"patch_13\">\n    <path clip-path=\"url(#p850290565c)\" d=\"M 100.108482 348.478125 \nL 105.422768 348.478125 \nL 105.422768 348.478125 \nL 100.108482 348.478125 \nz\n\" style=\"fill:#ffc0cb;opacity:0.7;\"/>\n   </g>\n   <g id=\"patch_14\">\n    <path clip-path=\"url(#p850290565c)\" d=\"M 105.422768 348.478125 \nL 110.737054 348.478125 \nL 110.737054 333.65267 \nL 105.422768 333.65267 \nz\n\" style=\"fill:#ffc0cb;opacity:0.7;\"/>\n   </g>\n   <g id=\"patch_15\">\n    <path clip-path=\"url(#p850290565c)\" d=\"M 110.737054 348.478125 \nL 116.051339 348.478125 \nL 116.051339 348.478125 \nL 110.737054 348.478125 \nz\n\" style=\"fill:#ffc0cb;opacity:0.7;\"/>\n   </g>\n   <g id=\"patch_16\">\n    <path clip-path=\"url(#p850290565c)\" d=\"M 116.051339 348.478125 \nL 121.365625 348.478125 \nL 121.365625 334.888125 \nL 116.051339 334.888125 \nz\n\" style=\"fill:#ffc0cb;opacity:0.7;\"/>\n   </g>\n   <g id=\"patch_17\">\n    <path clip-path=\"url(#p850290565c)\" d=\"M 121.365625 348.478125 \nL 126.679911 348.478125 \nL 126.679911 348.478125 \nL 121.365625 348.478125 \nz\n\" style=\"fill:#ffc0cb;opacity:0.7;\"/>\n   </g>\n   <g id=\"patch_18\">\n    <path clip-path=\"url(#p850290565c)\" d=\"M 126.679911 348.478125 \nL 131.994196 348.478125 \nL 131.994196 348.478125 \nL 126.679911 348.478125 \nz\n\" style=\"fill:#ffc0cb;opacity:0.7;\"/>\n   </g>\n   <g id=\"patch_19\">\n    <path clip-path=\"url(#p850290565c)\" d=\"M 131.994196 348.478125 \nL 137.308482 348.478125 \nL 137.308482 348.478125 \nL 131.994196 348.478125 \nz\n\" style=\"fill:#ffc0cb;opacity:0.7;\"/>\n   </g>\n   <g id=\"patch_20\">\n    <path clip-path=\"url(#p850290565c)\" d=\"M 137.308482 348.478125 \nL 142.622768 348.478125 \nL 142.622768 348.478125 \nL 137.308482 348.478125 \nz\n\" style=\"fill:#ffc0cb;opacity:0.7;\"/>\n   </g>\n   <g id=\"patch_21\">\n    <path clip-path=\"url(#p850290565c)\" d=\"M 142.622768 348.478125 \nL 147.937054 348.478125 \nL 147.937054 348.478125 \nL 142.622768 348.478125 \nz\n\" style=\"fill:#ffc0cb;opacity:0.7;\"/>\n   </g>\n   <g id=\"patch_22\">\n    <path clip-path=\"url(#p850290565c)\" d=\"M 147.937054 348.478125 \nL 153.251339 348.478125 \nL 153.251339 348.478125 \nL 147.937054 348.478125 \nz\n\" style=\"fill:#ffc0cb;opacity:0.7;\"/>\n   </g>\n   <g id=\"patch_23\">\n    <path clip-path=\"url(#p850290565c)\" d=\"M 153.251339 348.478125 \nL 158.565625 348.478125 \nL 158.565625 348.478125 \nL 153.251339 348.478125 \nz\n\" style=\"fill:#ffc0cb;opacity:0.7;\"/>\n   </g>\n   <g id=\"patch_24\">\n    <path clip-path=\"url(#p850290565c)\" d=\"M 158.565625 348.478125 \nL 163.879911 348.478125 \nL 163.879911 348.478125 \nL 158.565625 348.478125 \nz\n\" style=\"fill:#ffc0cb;opacity:0.7;\"/>\n   </g>\n   <g id=\"patch_25\">\n    <path clip-path=\"url(#p850290565c)\" d=\"M 163.879911 348.478125 \nL 169.194196 348.478125 \nL 169.194196 348.478125 \nL 163.879911 348.478125 \nz\n\" style=\"fill:#ffc0cb;opacity:0.7;\"/>\n   </g>\n   <g id=\"patch_26\">\n    <path clip-path=\"url(#p850290565c)\" d=\"M 169.194196 348.478125 \nL 174.508482 348.478125 \nL 174.508482 348.478125 \nL 169.194196 348.478125 \nz\n\" style=\"fill:#ffc0cb;opacity:0.7;\"/>\n   </g>\n   <g id=\"patch_27\">\n    <path clip-path=\"url(#p850290565c)\" d=\"M 174.508482 348.478125 \nL 179.822768 348.478125 \nL 179.822768 348.478125 \nL 174.508482 348.478125 \nz\n\" style=\"fill:#ffc0cb;opacity:0.7;\"/>\n   </g>\n   <g id=\"patch_28\">\n    <path clip-path=\"url(#p850290565c)\" d=\"M 179.822768 348.478125 \nL 185.137054 348.478125 \nL 185.137054 348.478125 \nL 179.822768 348.478125 \nz\n\" style=\"fill:#ffc0cb;opacity:0.7;\"/>\n   </g>\n   <g id=\"patch_29\">\n    <path clip-path=\"url(#p850290565c)\" d=\"M 185.137054 348.478125 \nL 190.451339 348.478125 \nL 190.451339 348.478125 \nL 185.137054 348.478125 \nz\n\" style=\"fill:#ffc0cb;opacity:0.7;\"/>\n   </g>\n   <g id=\"patch_30\">\n    <path clip-path=\"url(#p850290565c)\" d=\"M 190.451339 348.478125 \nL 195.765625 348.478125 \nL 195.765625 348.478125 \nL 190.451339 348.478125 \nz\n\" style=\"fill:#ffc0cb;opacity:0.7;\"/>\n   </g>\n   <g id=\"patch_31\">\n    <path clip-path=\"url(#p850290565c)\" d=\"M 195.765625 348.478125 \nL 201.079911 348.478125 \nL 201.079911 348.478125 \nL 195.765625 348.478125 \nz\n\" style=\"fill:#ffc0cb;opacity:0.7;\"/>\n   </g>\n   <g id=\"patch_32\">\n    <path clip-path=\"url(#p850290565c)\" d=\"M 201.079911 348.478125 \nL 206.394196 348.478125 \nL 206.394196 348.478125 \nL 201.079911 348.478125 \nz\n\" style=\"fill:#ffc0cb;opacity:0.7;\"/>\n   </g>\n   <g id=\"patch_33\">\n    <path clip-path=\"url(#p850290565c)\" d=\"M 206.394196 348.478125 \nL 211.708482 348.478125 \nL 211.708482 348.478125 \nL 206.394196 348.478125 \nz\n\" style=\"fill:#ffc0cb;opacity:0.7;\"/>\n   </g>\n   <g id=\"patch_34\">\n    <path clip-path=\"url(#p850290565c)\" d=\"M 211.708482 348.478125 \nL 217.022768 348.478125 \nL 217.022768 348.478125 \nL 211.708482 348.478125 \nz\n\" style=\"fill:#ffc0cb;opacity:0.7;\"/>\n   </g>\n   <g id=\"patch_35\">\n    <path clip-path=\"url(#p850290565c)\" d=\"M 217.022768 348.478125 \nL 222.337054 348.478125 \nL 222.337054 348.478125 \nL 217.022768 348.478125 \nz\n\" style=\"fill:#ffc0cb;opacity:0.7;\"/>\n   </g>\n   <g id=\"patch_36\">\n    <path clip-path=\"url(#p850290565c)\" d=\"M 222.337054 348.478125 \nL 227.651339 348.478125 \nL 227.651339 348.478125 \nL 222.337054 348.478125 \nz\n\" style=\"fill:#ffc0cb;opacity:0.7;\"/>\n   </g>\n   <g id=\"patch_37\">\n    <path clip-path=\"url(#p850290565c)\" d=\"M 227.651339 348.478125 \nL 232.965625 348.478125 \nL 232.965625 348.478125 \nL 227.651339 348.478125 \nz\n\" style=\"fill:#ffc0cb;opacity:0.7;\"/>\n   </g>\n   <g id=\"patch_38\">\n    <path clip-path=\"url(#p850290565c)\" d=\"M 232.965625 348.478125 \nL 238.279911 348.478125 \nL 238.279911 348.478125 \nL 232.965625 348.478125 \nz\n\" style=\"fill:#ffc0cb;opacity:0.7;\"/>\n   </g>\n   <g id=\"patch_39\">\n    <path clip-path=\"url(#p850290565c)\" d=\"M 238.279911 348.478125 \nL 243.594196 348.478125 \nL 243.594196 348.478125 \nL 238.279911 348.478125 \nz\n\" style=\"fill:#ffc0cb;opacity:0.7;\"/>\n   </g>\n   <g id=\"patch_40\">\n    <path clip-path=\"url(#p850290565c)\" d=\"M 243.594196 348.478125 \nL 248.908482 348.478125 \nL 248.908482 348.478125 \nL 243.594196 348.478125 \nz\n\" style=\"fill:#ffc0cb;opacity:0.7;\"/>\n   </g>\n   <g id=\"patch_41\">\n    <path clip-path=\"url(#p850290565c)\" d=\"M 248.908482 348.478125 \nL 254.222768 348.478125 \nL 254.222768 348.478125 \nL 248.908482 348.478125 \nz\n\" style=\"fill:#ffc0cb;opacity:0.7;\"/>\n   </g>\n   <g id=\"patch_42\">\n    <path clip-path=\"url(#p850290565c)\" d=\"M 254.222768 348.478125 \nL 259.537054 348.478125 \nL 259.537054 344.401125 \nL 254.222768 344.401125 \nz\n\" style=\"fill:#ffc0cb;opacity:0.7;\"/>\n   </g>\n   <g id=\"patch_43\">\n    <path clip-path=\"url(#p850290565c)\" d=\"M 259.537054 348.478125 \nL 264.851339 348.478125 \nL 264.851339 348.478125 \nL 259.537054 348.478125 \nz\n\" style=\"fill:#ffc0cb;opacity:0.7;\"/>\n   </g>\n   <g id=\"patch_44\">\n    <path clip-path=\"url(#p850290565c)\" d=\"M 264.851339 348.478125 \nL 270.165625 348.478125 \nL 270.165625 348.478125 \nL 264.851339 348.478125 \nz\n\" style=\"fill:#ffc0cb;opacity:0.7;\"/>\n   </g>\n   <g id=\"patch_45\">\n    <path clip-path=\"url(#p850290565c)\" d=\"M 270.165625 348.478125 \nL 275.479911 348.478125 \nL 275.479911 348.478125 \nL 270.165625 348.478125 \nz\n\" style=\"fill:#ffc0cb;opacity:0.7;\"/>\n   </g>\n   <g id=\"patch_46\">\n    <path clip-path=\"url(#p850290565c)\" d=\"M 275.479911 348.478125 \nL 280.794196 348.478125 \nL 280.794196 348.478125 \nL 275.479911 348.478125 \nz\n\" style=\"fill:#ffc0cb;opacity:0.7;\"/>\n   </g>\n   <g id=\"patch_47\">\n    <path clip-path=\"url(#p850290565c)\" d=\"M 280.794196 348.478125 \nL 286.108482 348.478125 \nL 286.108482 348.478125 \nL 280.794196 348.478125 \nz\n\" style=\"fill:#ffc0cb;opacity:0.7;\"/>\n   </g>\n   <g id=\"patch_48\">\n    <path clip-path=\"url(#p850290565c)\" d=\"M 286.108482 348.478125 \nL 291.422768 348.478125 \nL 291.422768 348.478125 \nL 286.108482 348.478125 \nz\n\" style=\"fill:#ffc0cb;opacity:0.7;\"/>\n   </g>\n   <g id=\"patch_49\">\n    <path clip-path=\"url(#p850290565c)\" d=\"M 291.422768 348.478125 \nL 296.737054 348.478125 \nL 296.737054 348.478125 \nL 291.422768 348.478125 \nz\n\" style=\"fill:#ffc0cb;opacity:0.7;\"/>\n   </g>\n   <g id=\"patch_50\">\n    <path clip-path=\"url(#p850290565c)\" d=\"M 296.737054 348.478125 \nL 302.051339 348.478125 \nL 302.051339 348.478125 \nL 296.737054 348.478125 \nz\n\" style=\"fill:#ffc0cb;opacity:0.7;\"/>\n   </g>\n   <g id=\"patch_51\">\n    <path clip-path=\"url(#p850290565c)\" d=\"M 302.051339 348.478125 \nL 307.365625 348.478125 \nL 307.365625 348.478125 \nL 302.051339 348.478125 \nz\n\" style=\"fill:#ffc0cb;opacity:0.7;\"/>\n   </g>\n   <g id=\"patch_52\">\n    <path clip-path=\"url(#p850290565c)\" d=\"M 307.365625 348.478125 \nL 312.679911 348.478125 \nL 312.679911 348.478125 \nL 307.365625 348.478125 \nz\n\" style=\"fill:#ffc0cb;opacity:0.7;\"/>\n   </g>\n   <g id=\"patch_53\">\n    <path clip-path=\"url(#p850290565c)\" d=\"M 312.679911 348.478125 \nL 317.994196 348.478125 \nL 317.994196 348.478125 \nL 312.679911 348.478125 \nz\n\" style=\"fill:#ffc0cb;opacity:0.7;\"/>\n   </g>\n   <g id=\"patch_54\">\n    <path clip-path=\"url(#p850290565c)\" d=\"M 317.994196 348.478125 \nL 323.308482 348.478125 \nL 323.308482 348.478125 \nL 317.994196 348.478125 \nz\n\" style=\"fill:#ffc0cb;opacity:0.7;\"/>\n   </g>\n   <g id=\"patch_55\">\n    <path clip-path=\"url(#p850290565c)\" d=\"M 323.308482 348.478125 \nL 328.622768 348.478125 \nL 328.622768 348.478125 \nL 323.308482 348.478125 \nz\n\" style=\"fill:#ffc0cb;opacity:0.7;\"/>\n   </g>\n   <g id=\"patch_56\">\n    <path clip-path=\"url(#p850290565c)\" d=\"M 328.622768 348.478125 \nL 333.937054 348.478125 \nL 333.937054 348.478125 \nL 328.622768 348.478125 \nz\n\" style=\"fill:#ffc0cb;opacity:0.7;\"/>\n   </g>\n   <g id=\"patch_57\">\n    <path clip-path=\"url(#p850290565c)\" d=\"M 333.937054 348.478125 \nL 339.251339 348.478125 \nL 339.251339 348.478125 \nL 333.937054 348.478125 \nz\n\" style=\"fill:#ffc0cb;opacity:0.7;\"/>\n   </g>\n   <g id=\"patch_58\">\n    <path clip-path=\"url(#p850290565c)\" d=\"M 339.251339 348.478125 \nL 344.565625 348.478125 \nL 344.565625 348.478125 \nL 339.251339 348.478125 \nz\n\" style=\"fill:#ffc0cb;opacity:0.7;\"/>\n   </g>\n   <g id=\"patch_59\">\n    <path clip-path=\"url(#p850290565c)\" d=\"M 344.565625 348.478125 \nL 349.879911 348.478125 \nL 349.879911 346.062125 \nL 344.565625 346.062125 \nz\n\" style=\"fill:#ffc0cb;opacity:0.7;\"/>\n   </g>\n   <g id=\"patch_60\">\n    <path clip-path=\"url(#p850290565c)\" d=\"M 349.879911 348.478125 \nL 355.194196 348.478125 \nL 355.194196 348.478125 \nL 349.879911 348.478125 \nz\n\" style=\"fill:#ffc0cb;opacity:0.7;\"/>\n   </g>\n   <g id=\"patch_61\">\n    <path clip-path=\"url(#p850290565c)\" d=\"M 355.194196 348.478125 \nL 360.508482 348.478125 \nL 360.508482 348.478125 \nL 355.194196 348.478125 \nz\n\" style=\"fill:#ffc0cb;opacity:0.7;\"/>\n   </g>\n   <g id=\"patch_62\">\n    <path clip-path=\"url(#p850290565c)\" d=\"M 360.508482 348.478125 \nL 365.822768 348.478125 \nL 365.822768 348.478125 \nL 360.508482 348.478125 \nz\n\" style=\"fill:#ffc0cb;opacity:0.7;\"/>\n   </g>\n   <g id=\"patch_63\">\n    <path clip-path=\"url(#p850290565c)\" d=\"M 365.822768 348.478125 \nL 371.137054 348.478125 \nL 371.137054 348.478125 \nL 365.822768 348.478125 \nz\n\" style=\"fill:#ffc0cb;opacity:0.7;\"/>\n   </g>\n   <g id=\"patch_64\">\n    <path clip-path=\"url(#p850290565c)\" d=\"M 371.137054 348.478125 \nL 376.451339 348.478125 \nL 376.451339 348.478125 \nL 371.137054 348.478125 \nz\n\" style=\"fill:#ffc0cb;opacity:0.7;\"/>\n   </g>\n   <g id=\"patch_65\">\n    <path clip-path=\"url(#p850290565c)\" d=\"M 376.451339 348.478125 \nL 381.765625 348.478125 \nL 381.765625 348.478125 \nL 376.451339 348.478125 \nz\n\" style=\"fill:#ffc0cb;opacity:0.7;\"/>\n   </g>\n   <g id=\"patch_66\">\n    <path clip-path=\"url(#p850290565c)\" d=\"M 381.765625 348.478125 \nL 387.079911 348.478125 \nL 387.079911 348.478125 \nL 381.765625 348.478125 \nz\n\" style=\"fill:#ffc0cb;opacity:0.7;\"/>\n   </g>\n   <g id=\"patch_67\">\n    <path clip-path=\"url(#p850290565c)\" d=\"M 387.079911 348.478125 \nL 392.394196 348.478125 \nL 392.394196 348.478125 \nL 387.079911 348.478125 \nz\n\" style=\"fill:#ffc0cb;opacity:0.7;\"/>\n   </g>\n   <g id=\"patch_68\">\n    <path clip-path=\"url(#p850290565c)\" d=\"M 392.394196 348.478125 \nL 397.708482 348.478125 \nL 397.708482 346.501398 \nL 392.394196 346.501398 \nz\n\" style=\"fill:#ffc0cb;opacity:0.7;\"/>\n   </g>\n   <g id=\"patch_69\">\n    <path clip-path=\"url(#p850290565c)\" d=\"M 397.708482 348.478125 \nL 403.022768 348.478125 \nL 403.022768 346.513306 \nL 397.708482 346.513306 \nz\n\" style=\"fill:#ffc0cb;opacity:0.7;\"/>\n   </g>\n   <g id=\"patch_70\">\n    <path clip-path=\"url(#p850290565c)\" d=\"M 403.022768 348.478125 \nL 408.337054 348.478125 \nL 408.337054 348.478125 \nL 403.022768 348.478125 \nz\n\" style=\"fill:#ffc0cb;opacity:0.7;\"/>\n   </g>\n   <g id=\"patch_71\">\n    <path clip-path=\"url(#p850290565c)\" d=\"M 408.337054 348.478125 \nL 413.651339 348.478125 \nL 413.651339 348.478125 \nL 408.337054 348.478125 \nz\n\" style=\"fill:#ffc0cb;opacity:0.7;\"/>\n   </g>\n   <g id=\"patch_72\">\n    <path clip-path=\"url(#p850290565c)\" d=\"M 413.651339 348.478125 \nL 418.965625 348.478125 \nL 418.965625 348.478125 \nL 413.651339 348.478125 \nz\n\" style=\"fill:#ffc0cb;opacity:0.7;\"/>\n   </g>\n   <g id=\"patch_73\">\n    <path clip-path=\"url(#p850290565c)\" d=\"M 418.965625 348.478125 \nL 424.279911 348.478125 \nL 424.279911 348.478125 \nL 418.965625 348.478125 \nz\n\" style=\"fill:#ffc0cb;opacity:0.7;\"/>\n   </g>\n   <g id=\"patch_74\">\n    <path clip-path=\"url(#p850290565c)\" d=\"M 424.279911 348.478125 \nL 429.594196 348.478125 \nL 429.594196 348.478125 \nL 424.279911 348.478125 \nz\n\" style=\"fill:#ffc0cb;opacity:0.7;\"/>\n   </g>\n   <g id=\"patch_75\">\n    <path clip-path=\"url(#p850290565c)\" d=\"M 429.594196 348.478125 \nL 434.908482 348.478125 \nL 434.908482 348.478125 \nL 429.594196 348.478125 \nz\n\" style=\"fill:#ffc0cb;opacity:0.7;\"/>\n   </g>\n   <g id=\"patch_76\">\n    <path clip-path=\"url(#p850290565c)\" d=\"M 434.908482 348.478125 \nL 440.222768 348.478125 \nL 440.222768 348.478125 \nL 434.908482 348.478125 \nz\n\" style=\"fill:#ffc0cb;opacity:0.7;\"/>\n   </g>\n   <g id=\"patch_77\">\n    <path clip-path=\"url(#p850290565c)\" d=\"M 440.222768 348.478125 \nL 445.537054 348.478125 \nL 445.537054 348.478125 \nL 440.222768 348.478125 \nz\n\" style=\"fill:#ffc0cb;opacity:0.7;\"/>\n   </g>\n   <g id=\"patch_78\">\n    <path clip-path=\"url(#p850290565c)\" d=\"M 445.537054 348.478125 \nL 450.851339 348.478125 \nL 450.851339 347.047599 \nL 445.537054 347.047599 \nz\n\" style=\"fill:#ffc0cb;opacity:0.7;\"/>\n   </g>\n   <g id=\"patch_79\">\n    <path clip-path=\"url(#p850290565c)\" d=\"M 450.851339 348.478125 \nL 456.165625 348.478125 \nL 456.165625 348.478125 \nL 450.851339 348.478125 \nz\n\" style=\"fill:#ffc0cb;opacity:0.7;\"/>\n   </g>\n   <g id=\"patch_80\">\n    <path clip-path=\"url(#p850290565c)\" d=\"M 456.165625 348.478125 \nL 461.479911 348.478125 \nL 461.479911 347.21882 \nL 456.165625 347.21882 \nz\n\" style=\"fill:#ffc0cb;opacity:0.7;\"/>\n   </g>\n   <g id=\"patch_81\">\n    <path clip-path=\"url(#p850290565c)\" d=\"M 461.479911 348.478125 \nL 466.794196 348.478125 \nL 466.794196 348.478125 \nL 461.479911 348.478125 \nz\n\" style=\"fill:#ffc0cb;opacity:0.7;\"/>\n   </g>\n   <g id=\"patch_82\">\n    <path clip-path=\"url(#p850290565c)\" d=\"M 466.794196 348.478125 \nL 472.108482 348.478125 \nL 472.108482 348.478125 \nL 466.794196 348.478125 \nz\n\" style=\"fill:#ffc0cb;opacity:0.7;\"/>\n   </g>\n   <g id=\"patch_83\">\n    <path clip-path=\"url(#p850290565c)\" d=\"M 472.108482 348.478125 \nL 477.422768 348.478125 \nL 477.422768 348.478125 \nL 472.108482 348.478125 \nz\n\" style=\"fill:#ffc0cb;opacity:0.7;\"/>\n   </g>\n   <g id=\"patch_84\">\n    <path clip-path=\"url(#p850290565c)\" d=\"M 477.422768 348.478125 \nL 482.737054 348.478125 \nL 482.737054 348.478125 \nL 477.422768 348.478125 \nz\n\" style=\"fill:#ffc0cb;opacity:0.7;\"/>\n   </g>\n   <g id=\"patch_85\">\n    <path clip-path=\"url(#p850290565c)\" d=\"M 482.737054 348.478125 \nL 488.051339 348.478125 \nL 488.051339 348.478125 \nL 482.737054 348.478125 \nz\n\" style=\"fill:#ffc0cb;opacity:0.7;\"/>\n   </g>\n   <g id=\"patch_86\">\n    <path clip-path=\"url(#p850290565c)\" d=\"M 488.051339 348.478125 \nL 493.365625 348.478125 \nL 493.365625 348.478125 \nL 488.051339 348.478125 \nz\n\" style=\"fill:#ffc0cb;opacity:0.7;\"/>\n   </g>\n   <g id=\"patch_87\">\n    <path clip-path=\"url(#p850290565c)\" d=\"M 493.365625 348.478125 \nL 498.679911 348.478125 \nL 498.679911 347.419164 \nL 493.365625 347.419164 \nz\n\" style=\"fill:#ffc0cb;opacity:0.7;\"/>\n   </g>\n   <g id=\"patch_88\">\n    <path clip-path=\"url(#p850290565c)\" d=\"M 498.679911 348.478125 \nL 503.994196 348.478125 \nL 503.994196 345.341971 \nL 498.679911 345.341971 \nz\n\" style=\"fill:#ffc0cb;opacity:0.7;\"/>\n   </g>\n   <g id=\"patch_89\">\n    <path clip-path=\"url(#p850290565c)\" d=\"M 503.994196 348.478125 \nL 509.308482 348.478125 \nL 509.308482 348.478125 \nL 503.994196 348.478125 \nz\n\" style=\"fill:#ffc0cb;opacity:0.7;\"/>\n   </g>\n   <g id=\"patch_90\">\n    <path clip-path=\"url(#p850290565c)\" d=\"M 509.308482 348.478125 \nL 514.622768 348.478125 \nL 514.622768 348.478125 \nL 509.308482 348.478125 \nz\n\" style=\"fill:#ffc0cb;opacity:0.7;\"/>\n   </g>\n   <g id=\"patch_91\">\n    <path clip-path=\"url(#p850290565c)\" d=\"M 514.622768 348.478125 \nL 519.937054 348.478125 \nL 519.937054 348.478125 \nL 514.622768 348.478125 \nz\n\" style=\"fill:#ffc0cb;opacity:0.7;\"/>\n   </g>\n   <g id=\"patch_92\">\n    <path clip-path=\"url(#p850290565c)\" d=\"M 519.937054 348.478125 \nL 525.251339 348.478125 \nL 525.251339 348.478125 \nL 519.937054 348.478125 \nz\n\" style=\"fill:#ffc0cb;opacity:0.7;\"/>\n   </g>\n   <g id=\"patch_93\">\n    <path clip-path=\"url(#p850290565c)\" d=\"M 525.251339 348.478125 \nL 530.565625 348.478125 \nL 530.565625 348.478125 \nL 525.251339 348.478125 \nz\n\" style=\"fill:#ffc0cb;opacity:0.7;\"/>\n   </g>\n   <g id=\"patch_94\">\n    <path clip-path=\"url(#p850290565c)\" d=\"M 530.565625 348.478125 \nL 535.879911 348.478125 \nL 535.879911 348.478125 \nL 530.565625 348.478125 \nz\n\" style=\"fill:#ffc0cb;opacity:0.7;\"/>\n   </g>\n   <g id=\"patch_95\">\n    <path clip-path=\"url(#p850290565c)\" d=\"M 535.879911 348.478125 \nL 541.194196 348.478125 \nL 541.194196 348.478125 \nL 535.879911 348.478125 \nz\n\" style=\"fill:#ffc0cb;opacity:0.7;\"/>\n   </g>\n   <g id=\"patch_96\">\n    <path clip-path=\"url(#p850290565c)\" d=\"M 541.194196 348.478125 \nL 546.508482 348.478125 \nL 546.508482 347.579613 \nL 541.194196 347.579613 \nz\n\" style=\"fill:#ffc0cb;opacity:0.7;\"/>\n   </g>\n   <g id=\"patch_97\">\n    <path clip-path=\"url(#p850290565c)\" d=\"M 546.508482 348.478125 \nL 551.822768 348.478125 \nL 551.822768 348.478125 \nL 546.508482 348.478125 \nz\n\" style=\"fill:#ffc0cb;opacity:0.7;\"/>\n   </g>\n   <g id=\"patch_98\">\n    <path clip-path=\"url(#p850290565c)\" d=\"M 551.822768 348.478125 \nL 557.137054 348.478125 \nL 557.137054 346.935997 \nL 551.822768 346.935997 \nz\n\" style=\"fill:#ffc0cb;opacity:0.7;\"/>\n   </g>\n   <g id=\"patch_99\">\n    <path clip-path=\"url(#p850290565c)\" d=\"M 557.137054 348.478125 \nL 562.451339 348.478125 \nL 562.451339 348.478125 \nL 557.137054 348.478125 \nz\n\" style=\"fill:#ffc0cb;opacity:0.7;\"/>\n   </g>\n   <g id=\"patch_100\">\n    <path clip-path=\"url(#p850290565c)\" d=\"M 562.451339 348.478125 \nL 567.765625 348.478125 \nL 567.765625 347.745181 \nL 562.451339 347.745181 \nz\n\" style=\"fill:#ffc0cb;opacity:0.7;\"/>\n   </g>\n   <g id=\"patch_101\">\n    <path clip-path=\"url(#p850290565c)\" d=\"M 567.765625 348.478125 \nL 573.079911 348.478125 \nL 573.079911 348.478125 \nL 567.765625 348.478125 \nz\n\" style=\"fill:#ffc0cb;opacity:0.7;\"/>\n   </g>\n   <g id=\"patch_102\">\n    <path clip-path=\"url(#p850290565c)\" d=\"M 573.079911 348.478125 \nL 578.394196 348.478125 \nL 578.394196 348.478125 \nL 573.079911 348.478125 \nz\n\" style=\"fill:#ffc0cb;opacity:0.7;\"/>\n   </g>\n   <g id=\"patch_103\">\n    <path clip-path=\"url(#p850290565c)\" d=\"M 578.394196 348.478125 \nL 583.708482 348.478125 \nL 583.708482 348.478125 \nL 578.394196 348.478125 \nz\n\" style=\"fill:#ffc0cb;opacity:0.7;\"/>\n   </g>\n   <g id=\"patch_104\">\n    <path clip-path=\"url(#p850290565c)\" d=\"M 583.708482 348.478125 \nL 589.022768 348.478125 \nL 589.022768 348.478125 \nL 583.708482 348.478125 \nz\n\" style=\"fill:#ffc0cb;opacity:0.7;\"/>\n   </g>\n   <g id=\"patch_105\">\n    <path clip-path=\"url(#p850290565c)\" d=\"M 589.022768 348.478125 \nL 594.337054 348.478125 \nL 594.337054 347.130356 \nL 589.022768 347.130356 \nz\n\" style=\"fill:#ffc0cb;opacity:0.7;\"/>\n   </g>\n   <g id=\"patch_106\">\n    <path clip-path=\"url(#p850290565c)\" d=\"M 594.337054 348.478125 \nL 599.651339 348.478125 \nL 599.651339 347.474556 \nL 594.337054 347.474556 \nz\n\" style=\"fill:#ffc0cb;opacity:0.7;\"/>\n   </g>\n   <g id=\"patch_107\">\n    <path clip-path=\"url(#p850290565c)\" d=\"M 599.651339 348.478125 \nL 604.965625 348.478125 \nL 604.965625 348.478125 \nL 599.651339 348.478125 \nz\n\" style=\"fill:#ffc0cb;opacity:0.7;\"/>\n   </g>\n   <g id=\"patch_108\">\n    <path clip-path=\"url(#p850290565c)\" d=\"M 46.965625 348.478125 \nL 52.279911 348.478125 \nL 52.279911 348.478125 \nL 46.965625 348.478125 \nz\n\" style=\"fill:#ffa500;opacity:0.7;\"/>\n   </g>\n   <g id=\"patch_109\">\n    <path clip-path=\"url(#p850290565c)\" d=\"M 52.279911 348.478125 \nL 57.594196 348.478125 \nL 57.594196 348.478125 \nL 52.279911 348.478125 \nz\n\" style=\"fill:#ffa500;opacity:0.7;\"/>\n   </g>\n   <g id=\"patch_110\">\n    <path clip-path=\"url(#p850290565c)\" d=\"M 57.594196 348.478125 \nL 62.908482 348.478125 \nL 62.908482 283.246125 \nL 57.594196 283.246125 \nz\n\" style=\"fill:#ffa500;opacity:0.7;\"/>\n   </g>\n   <g id=\"patch_111\">\n    <path clip-path=\"url(#p850290565c)\" d=\"M 62.908482 348.478125 \nL 68.222768 348.478125 \nL 68.222768 289.176307 \nL 62.908482 289.176307 \nz\n\" style=\"fill:#ffa500;opacity:0.7;\"/>\n   </g>\n   <g id=\"patch_112\">\n    <path clip-path=\"url(#p850290565c)\" d=\"M 68.222768 348.478125 \nL 73.537054 348.478125 \nL 73.537054 321.298125 \nL 68.222768 321.298125 \nz\n\" style=\"fill:#ffa500;opacity:0.7;\"/>\n   </g>\n   <g id=\"patch_113\">\n    <path clip-path=\"url(#p850290565c)\" d=\"M 73.537054 348.478125 \nL 78.851339 348.478125 \nL 78.851339 325.180982 \nL 73.537054 325.180982 \nz\n\" style=\"fill:#ffa500;opacity:0.7;\"/>\n   </g>\n   <g id=\"patch_114\">\n    <path clip-path=\"url(#p850290565c)\" d=\"M 78.851339 348.478125 \nL 84.165625 348.478125 \nL 84.165625 348.478125 \nL 78.851339 348.478125 \nz\n\" style=\"fill:#ffa500;opacity:0.7;\"/>\n   </g>\n   <g id=\"patch_115\">\n    <path clip-path=\"url(#p850290565c)\" d=\"M 84.165625 348.478125 \nL 89.479911 348.478125 \nL 89.479911 301.883839 \nL 84.165625 301.883839 \nz\n\" style=\"fill:#ffa500;opacity:0.7;\"/>\n   </g>\n   <g id=\"patch_116\">\n    <path clip-path=\"url(#p850290565c)\" d=\"M 89.479911 348.478125 \nL 94.794196 348.478125 \nL 94.794196 326.734125 \nL 89.479911 326.734125 \nz\n\" style=\"fill:#ffa500;opacity:0.7;\"/>\n   </g>\n   <g id=\"patch_117\">\n    <path clip-path=\"url(#p850290565c)\" d=\"M 94.794196 348.478125 \nL 100.108482 348.478125 \nL 100.108482 331.311809 \nL 94.794196 331.311809 \nz\n\" style=\"fill:#ffa500;opacity:0.7;\"/>\n   </g>\n   <g id=\"patch_118\">\n    <path clip-path=\"url(#p850290565c)\" d=\"M 100.108482 348.478125 \nL 105.422768 348.478125 \nL 105.422768 332.170125 \nL 100.108482 332.170125 \nz\n\" style=\"fill:#ffa500;opacity:0.7;\"/>\n   </g>\n   <g id=\"patch_119\">\n    <path clip-path=\"url(#p850290565c)\" d=\"M 105.422768 333.65267 \nL 110.737054 333.65267 \nL 110.737054 289.176307 \nL 105.422768 289.176307 \nz\n\" style=\"fill:#ffa500;opacity:0.7;\"/>\n   </g>\n   <g id=\"patch_120\">\n    <path clip-path=\"url(#p850290565c)\" d=\"M 110.737054 348.478125 \nL 116.051339 348.478125 \nL 116.051339 274.350852 \nL 110.737054 274.350852 \nz\n\" style=\"fill:#ffa500;opacity:0.7;\"/>\n   </g>\n   <g id=\"patch_121\">\n    <path clip-path=\"url(#p850290565c)\" d=\"M 116.051339 334.888125 \nL 121.365625 334.888125 \nL 121.365625 280.528125 \nL 116.051339 280.528125 \nz\n\" style=\"fill:#ffa500;opacity:0.7;\"/>\n   </g>\n   <g id=\"patch_122\">\n    <path clip-path=\"url(#p850290565c)\" d=\"M 121.365625 348.478125 \nL 126.679911 348.478125 \nL 126.679911 280.528125 \nL 121.365625 280.528125 \nz\n\" style=\"fill:#ffa500;opacity:0.7;\"/>\n   </g>\n   <g id=\"patch_123\">\n    <path clip-path=\"url(#p850290565c)\" d=\"M 126.679911 348.478125 \nL 131.994196 348.478125 \nL 131.994196 260.665817 \nL 126.679911 260.665817 \nz\n\" style=\"fill:#ffa500;opacity:0.7;\"/>\n   </g>\n   <g id=\"patch_124\">\n    <path clip-path=\"url(#p850290565c)\" d=\"M 131.994196 348.478125 \nL 137.308482 348.478125 \nL 137.308482 313.532411 \nL 131.994196 313.532411 \nz\n\" style=\"fill:#ffa500;opacity:0.7;\"/>\n   </g>\n   <g id=\"patch_125\">\n    <path clip-path=\"url(#p850290565c)\" d=\"M 137.308482 348.478125 \nL 142.622768 348.478125 \nL 142.622768 315.862125 \nL 137.308482 315.862125 \nz\n\" style=\"fill:#ffa500;opacity:0.7;\"/>\n   </g>\n   <g id=\"patch_126\">\n    <path clip-path=\"url(#p850290565c)\" d=\"M 142.622768 348.478125 \nL 147.937054 348.478125 \nL 147.937054 264.608411 \nL 142.622768 264.608411 \nz\n\" style=\"fill:#ffa500;opacity:0.7;\"/>\n   </g>\n   <g id=\"patch_127\">\n    <path clip-path=\"url(#p850290565c)\" d=\"M 147.937054 348.478125 \nL 153.251339 348.478125 \nL 153.251339 321.298125 \nL 147.937054 321.298125 \nz\n\" style=\"fill:#ffa500;opacity:0.7;\"/>\n   </g>\n   <g id=\"patch_128\">\n    <path clip-path=\"url(#p850290565c)\" d=\"M 153.251339 348.478125 \nL 158.565625 348.478125 \nL 158.565625 305.562336 \nL 153.251339 305.562336 \nz\n\" style=\"fill:#ffa500;opacity:0.7;\"/>\n   </g>\n   <g id=\"patch_129\">\n    <path clip-path=\"url(#p850290565c)\" d=\"M 158.565625 348.478125 \nL 163.879911 348.478125 \nL 163.879911 305.935516 \nL 158.565625 305.935516 \nz\n\" style=\"fill:#ffa500;opacity:0.7;\"/>\n   </g>\n   <g id=\"patch_130\">\n    <path clip-path=\"url(#p850290565c)\" d=\"M 163.879911 348.478125 \nL 169.194196 348.478125 \nL 169.194196 334.598976 \nL 163.879911 334.598976 \nz\n\" style=\"fill:#ffa500;opacity:0.7;\"/>\n   </g>\n   <g id=\"patch_131\">\n    <path clip-path=\"url(#p850290565c)\" d=\"M 169.194196 348.478125 \nL 174.508482 348.478125 \nL 174.508482 300.913125 \nL 169.194196 300.913125 \nz\n\" style=\"fill:#ffa500;opacity:0.7;\"/>\n   </g>\n   <g id=\"patch_132\">\n    <path clip-path=\"url(#p850290565c)\" d=\"M 174.508482 348.478125 \nL 179.822768 348.478125 \nL 179.822768 281.91486 \nL 174.508482 281.91486 \nz\n\" style=\"fill:#ffa500;opacity:0.7;\"/>\n   </g>\n   <g id=\"patch_133\">\n    <path clip-path=\"url(#p850290565c)\" d=\"M 179.822768 348.478125 \nL 185.137054 348.478125 \nL 185.137054 293.092465 \nL 179.822768 293.092465 \nz\n\" style=\"fill:#ffa500;opacity:0.7;\"/>\n   </g>\n   <g id=\"patch_134\">\n    <path clip-path=\"url(#p850290565c)\" d=\"M 185.137054 348.478125 \nL 190.451339 348.478125 \nL 190.451339 262.322653 \nL 185.137054 262.322653 \nz\n\" style=\"fill:#ffa500;opacity:0.7;\"/>\n   </g>\n   <g id=\"patch_135\">\n    <path clip-path=\"url(#p850290565c)\" d=\"M 190.451339 348.478125 \nL 195.765625 348.478125 \nL 195.765625 251.838125 \nL 190.451339 251.838125 \nz\n\" style=\"fill:#ffa500;opacity:0.7;\"/>\n   </g>\n   <g id=\"patch_136\">\n    <path clip-path=\"url(#p850290565c)\" d=\"M 195.765625 348.478125 \nL 201.079911 348.478125 \nL 201.079911 306.966852 \nL 195.765625 306.966852 \nz\n\" style=\"fill:#ffa500;opacity:0.7;\"/>\n   </g>\n   <g id=\"patch_137\">\n    <path clip-path=\"url(#p850290565c)\" d=\"M 201.079911 348.478125 \nL 206.394196 348.478125 \nL 206.394196 331.311809 \nL 201.079911 331.311809 \nz\n\" style=\"fill:#ffa500;opacity:0.7;\"/>\n   </g>\n   <g id=\"patch_138\">\n    <path clip-path=\"url(#p850290565c)\" d=\"M 206.394196 348.478125 \nL 211.708482 348.478125 \nL 211.708482 314.737435 \nL 206.394196 314.737435 \nz\n\" style=\"fill:#ffa500;opacity:0.7;\"/>\n   </g>\n   <g id=\"patch_139\">\n    <path clip-path=\"url(#p850290565c)\" d=\"M 211.708482 348.478125 \nL 217.022768 348.478125 \nL 217.022768 343.300982 \nL 211.708482 343.300982 \nz\n\" style=\"fill:#ffa500;opacity:0.7;\"/>\n   </g>\n   <g id=\"patch_140\">\n    <path clip-path=\"url(#p850290565c)\" d=\"M 217.022768 348.478125 \nL 222.337054 348.478125 \nL 222.337054 292.419375 \nL 217.022768 292.419375 \nz\n\" style=\"fill:#ffa500;opacity:0.7;\"/>\n   </g>\n   <g id=\"patch_141\">\n    <path clip-path=\"url(#p850290565c)\" d=\"M 222.337054 348.478125 \nL 227.651339 348.478125 \nL 227.651339 248.121202 \nL 222.337054 248.121202 \nz\n\" style=\"fill:#ffa500;opacity:0.7;\"/>\n   </g>\n   <g id=\"patch_142\">\n    <path clip-path=\"url(#p850290565c)\" d=\"M 227.651339 348.478125 \nL 232.965625 348.478125 \nL 232.965625 325.509111 \nL 227.651339 325.509111 \nz\n\" style=\"fill:#ffa500;opacity:0.7;\"/>\n   </g>\n   <g id=\"patch_143\">\n    <path clip-path=\"url(#p850290565c)\" d=\"M 232.965625 348.478125 \nL 238.279911 348.478125 \nL 238.279911 280.528125 \nL 232.965625 280.528125 \nz\n\" style=\"fill:#ffa500;opacity:0.7;\"/>\n   </g>\n   <g id=\"patch_144\">\n    <path clip-path=\"url(#p850290565c)\" d=\"M 238.279911 348.478125 \nL 243.594196 348.478125 \nL 243.594196 307.708125 \nL 238.279911 307.708125 \nz\n\" style=\"fill:#ffa500;opacity:0.7;\"/>\n   </g>\n   <g id=\"patch_145\">\n    <path clip-path=\"url(#p850290565c)\" d=\"M 243.594196 348.478125 \nL 248.908482 348.478125 \nL 248.908482 309.338925 \nL 243.594196 309.338925 \nz\n\" style=\"fill:#ffa500;opacity:0.7;\"/>\n   </g>\n   <g id=\"patch_146\">\n    <path clip-path=\"url(#p850290565c)\" d=\"M 248.908482 348.478125 \nL 254.222768 348.478125 \nL 254.222768 309.338925 \nL 248.908482 309.338925 \nz\n\" style=\"fill:#ffa500;opacity:0.7;\"/>\n   </g>\n   <g id=\"patch_147\">\n    <path clip-path=\"url(#p850290565c)\" d=\"M 254.222768 344.401125 \nL 259.537054 344.401125 \nL 259.537054 311.785125 \nL 254.222768 311.785125 \nz\n\" style=\"fill:#ffa500;opacity:0.7;\"/>\n   </g>\n   <g id=\"patch_148\">\n    <path clip-path=\"url(#p850290565c)\" d=\"M 259.537054 348.478125 \nL 264.851339 348.478125 \nL 264.851339 316.264792 \nL 259.537054 316.264792 \nz\n\" style=\"fill:#ffa500;opacity:0.7;\"/>\n   </g>\n   <g id=\"patch_149\">\n    <path clip-path=\"url(#p850290565c)\" d=\"M 264.851339 348.478125 \nL 270.165625 348.478125 \nL 270.165625 305.766696 \nL 264.851339 305.766696 \nz\n\" style=\"fill:#ffa500;opacity:0.7;\"/>\n   </g>\n   <g id=\"patch_150\">\n    <path clip-path=\"url(#p850290565c)\" d=\"M 270.165625 348.478125 \nL 275.479911 348.478125 \nL 275.479911 321.61789 \nL 270.165625 321.61789 \nz\n\" style=\"fill:#ffa500;opacity:0.7;\"/>\n   </g>\n   <g id=\"patch_151\">\n    <path clip-path=\"url(#p850290565c)\" d=\"M 275.479911 348.478125 \nL 280.794196 348.478125 \nL 280.794196 306.269184 \nL 275.479911 306.269184 \nz\n\" style=\"fill:#ffa500;opacity:0.7;\"/>\n   </g>\n   <g id=\"patch_152\">\n    <path clip-path=\"url(#p850290565c)\" d=\"M 280.794196 348.478125 \nL 286.108482 348.478125 \nL 286.108482 319.804718 \nL 280.794196 319.804718 \nz\n\" style=\"fill:#ffa500;opacity:0.7;\"/>\n   </g>\n   <g id=\"patch_153\">\n    <path clip-path=\"url(#p850290565c)\" d=\"M 286.108482 348.478125 \nL 291.422768 348.478125 \nL 291.422768 316.185056 \nL 286.108482 316.185056 \nz\n\" style=\"fill:#ffa500;opacity:0.7;\"/>\n   </g>\n   <g id=\"patch_154\">\n    <path clip-path=\"url(#p850290565c)\" d=\"M 291.422768 348.478125 \nL 296.737054 348.478125 \nL 296.737054 278.812882 \nL 291.422768 278.812882 \nz\n\" style=\"fill:#ffa500;opacity:0.7;\"/>\n   </g>\n   <g id=\"patch_155\">\n    <path clip-path=\"url(#p850290565c)\" d=\"M 296.737054 348.478125 \nL 302.051339 348.478125 \nL 302.051339 328.796056 \nL 296.737054 328.796056 \nz\n\" style=\"fill:#ffa500;opacity:0.7;\"/>\n   </g>\n   <g id=\"patch_156\">\n    <path clip-path=\"url(#p850290565c)\" d=\"M 302.051339 348.478125 \nL 307.365625 348.478125 \nL 307.365625 320.601202 \nL 302.051339 320.601202 \nz\n\" style=\"fill:#ffa500;opacity:0.7;\"/>\n   </g>\n   <g id=\"patch_157\">\n    <path clip-path=\"url(#p850290565c)\" d=\"M 307.365625 348.478125 \nL 312.679911 348.478125 \nL 312.679911 304.25304 \nL 307.365625 304.25304 \nz\n\" style=\"fill:#ffa500;opacity:0.7;\"/>\n   </g>\n   <g id=\"patch_158\">\n    <path clip-path=\"url(#p850290565c)\" d=\"M 312.679911 348.478125 \nL 317.994196 348.478125 \nL 317.994196 315.588041 \nL 312.679911 315.588041 \nz\n\" style=\"fill:#ffa500;opacity:0.7;\"/>\n   </g>\n   <g id=\"patch_159\">\n    <path clip-path=\"url(#p850290565c)\" d=\"M 317.994196 348.478125 \nL 323.308482 348.478125 \nL 323.308482 299.142999 \nL 317.994196 299.142999 \nz\n\" style=\"fill:#ffa500;opacity:0.7;\"/>\n   </g>\n   <g id=\"patch_160\">\n    <path clip-path=\"url(#p850290565c)\" d=\"M 323.308482 348.478125 \nL 328.622768 348.478125 \nL 328.622768 304.472411 \nL 323.308482 304.472411 \nz\n\" style=\"fill:#ffa500;opacity:0.7;\"/>\n   </g>\n   <g id=\"patch_161\">\n    <path clip-path=\"url(#p850290565c)\" d=\"M 328.622768 348.478125 \nL 333.937054 348.478125 \nL 333.937054 312.523479 \nL 328.622768 312.523479 \nz\n\" style=\"fill:#ffa500;opacity:0.7;\"/>\n   </g>\n   <g id=\"patch_162\">\n    <path clip-path=\"url(#p850290565c)\" d=\"M 333.937054 348.478125 \nL 339.251339 348.478125 \nL 339.251339 316.356307 \nL 333.937054 316.356307 \nz\n\" style=\"fill:#ffa500;opacity:0.7;\"/>\n   </g>\n   <g id=\"patch_163\">\n    <path clip-path=\"url(#p850290565c)\" d=\"M 339.251339 348.478125 \nL 344.565625 348.478125 \nL 344.565625 319.486125 \nL 339.251339 319.486125 \nz\n\" style=\"fill:#ffa500;opacity:0.7;\"/>\n   </g>\n   <g id=\"patch_164\">\n    <path clip-path=\"url(#p850290565c)\" d=\"M 344.565625 346.062125 \nL 349.879911 346.062125 \nL 349.879911 331.566125 \nL 344.565625 331.566125 \nz\n\" style=\"fill:#ffa500;opacity:0.7;\"/>\n   </g>\n   <g id=\"patch_165\">\n    <path clip-path=\"url(#p850290565c)\" d=\"M 349.879911 348.478125 \nL 355.194196 348.478125 \nL 355.194196 304.836998 \nL 349.879911 304.836998 \nz\n\" style=\"fill:#ffa500;opacity:0.7;\"/>\n   </g>\n   <g id=\"patch_166\">\n    <path clip-path=\"url(#p850290565c)\" d=\"M 355.194196 348.478125 \nL 360.508482 348.478125 \nL 360.508482 309.703859 \nL 355.194196 309.703859 \nz\n\" style=\"fill:#ffa500;opacity:0.7;\"/>\n   </g>\n   <g id=\"patch_167\">\n    <path clip-path=\"url(#p850290565c)\" d=\"M 360.508482 348.478125 \nL 365.822768 348.478125 \nL 365.822768 323.734953 \nL 360.508482 323.734953 \nz\n\" style=\"fill:#ffa500;opacity:0.7;\"/>\n   </g>\n   <g id=\"patch_168\">\n    <path clip-path=\"url(#p850290565c)\" d=\"M 365.822768 348.478125 \nL 371.137054 348.478125 \nL 371.137054 296.638125 \nL 365.822768 296.638125 \nz\n\" style=\"fill:#ffa500;opacity:0.7;\"/>\n   </g>\n   <g id=\"patch_169\">\n    <path clip-path=\"url(#p850290565c)\" d=\"M 371.137054 348.478125 \nL 376.451339 348.478125 \nL 376.451339 304.571971 \nL 371.137054 304.571971 \nz\n\" style=\"fill:#ffa500;opacity:0.7;\"/>\n   </g>\n   <g id=\"patch_170\">\n    <path clip-path=\"url(#p850290565c)\" d=\"M 376.451339 348.478125 \nL 381.765625 348.478125 \nL 381.765625 313.161437 \nL 376.451339 313.161437 \nz\n\" style=\"fill:#ffa500;opacity:0.7;\"/>\n   </g>\n   <g id=\"patch_171\">\n    <path clip-path=\"url(#p850290565c)\" d=\"M 381.765625 348.478125 \nL 387.079911 348.478125 \nL 387.079911 299.246427 \nL 381.765625 299.246427 \nz\n\" style=\"fill:#ffa500;opacity:0.7;\"/>\n   </g>\n   <g id=\"patch_172\">\n    <path clip-path=\"url(#p850290565c)\" d=\"M 387.079911 348.478125 \nL 392.394196 348.478125 \nL 392.394196 307.708125 \nL 387.079911 307.708125 \nz\n\" style=\"fill:#ffa500;opacity:0.7;\"/>\n   </g>\n   <g id=\"patch_173\">\n    <path clip-path=\"url(#p850290565c)\" d=\"M 392.394196 346.501398 \nL 397.708482 346.501398 \nL 397.708482 304.990125 \nL 392.394196 304.990125 \nz\n\" style=\"fill:#ffa500;opacity:0.7;\"/>\n   </g>\n   <g id=\"patch_174\">\n    <path clip-path=\"url(#p850290565c)\" d=\"M 397.708482 346.513306 \nL 403.022768 346.513306 \nL 403.022768 305.252101 \nL 397.708482 305.252101 \nz\n\" style=\"fill:#ffa500;opacity:0.7;\"/>\n   </g>\n   <g id=\"patch_175\">\n    <path clip-path=\"url(#p850290565c)\" d=\"M 403.022768 348.478125 \nL 408.337054 348.478125 \nL 408.337054 303.287282 \nL 403.022768 303.287282 \nz\n\" style=\"fill:#ffa500;opacity:0.7;\"/>\n   </g>\n   <g id=\"patch_176\">\n    <path clip-path=\"url(#p850290565c)\" d=\"M 408.337054 348.478125 \nL 413.651339 348.478125 \nL 413.651339 303.557885 \nL 408.337054 303.557885 \nz\n\" style=\"fill:#ffa500;opacity:0.7;\"/>\n   </g>\n   <g id=\"patch_177\">\n    <path clip-path=\"url(#p850290565c)\" d=\"M 413.651339 348.478125 \nL 418.965625 348.478125 \nL 418.965625 313.532411 \nL 413.651339 313.532411 \nz\n\" style=\"fill:#ffa500;opacity:0.7;\"/>\n   </g>\n   <g id=\"patch_178\">\n    <path clip-path=\"url(#p850290565c)\" d=\"M 418.965625 348.478125 \nL 424.279911 348.478125 \nL 424.279911 292.839066 \nL 418.965625 292.839066 \nz\n\" style=\"fill:#ffa500;opacity:0.7;\"/>\n   </g>\n   <g id=\"patch_179\">\n    <path clip-path=\"url(#p850290565c)\" d=\"M 424.279911 348.478125 \nL 429.594196 348.478125 \nL 429.594196 324.109849 \nL 424.279911 324.109849 \nz\n\" style=\"fill:#ffa500;opacity:0.7;\"/>\n   </g>\n   <g id=\"patch_180\">\n    <path clip-path=\"url(#p850290565c)\" d=\"M 429.594196 348.478125 \nL 434.908482 348.478125 \nL 434.908482 296.589034 \nL 429.594196 296.589034 \nz\n\" style=\"fill:#ffa500;opacity:0.7;\"/>\n   </g>\n   <g id=\"patch_181\">\n    <path clip-path=\"url(#p850290565c)\" d=\"M 434.908482 348.478125 \nL 440.222768 348.478125 \nL 440.222768 303.775993 \nL 434.908482 303.775993 \nz\n\" style=\"fill:#ffa500;opacity:0.7;\"/>\n   </g>\n   <g id=\"patch_182\">\n    <path clip-path=\"url(#p850290565c)\" d=\"M 440.222768 348.478125 \nL 445.537054 348.478125 \nL 445.537054 313.25897 \nL 440.222768 313.25897 \nz\n\" style=\"fill:#ffa500;opacity:0.7;\"/>\n   </g>\n   <g id=\"patch_183\">\n    <path clip-path=\"url(#p850290565c)\" d=\"M 445.537054 347.047599 \nL 450.851339 347.047599 \nL 450.851339 302.701283 \nL 445.537054 302.701283 \nz\n\" style=\"fill:#ffa500;opacity:0.7;\"/>\n   </g>\n   <g id=\"patch_184\">\n    <path clip-path=\"url(#p850290565c)\" d=\"M 450.851339 348.478125 \nL 456.165625 348.478125 \nL 456.165625 284.051458 \nL 450.851339 284.051458 \nz\n\" style=\"fill:#ffa500;opacity:0.7;\"/>\n   </g>\n   <g id=\"patch_185\">\n    <path clip-path=\"url(#p850290565c)\" d=\"M 456.165625 347.21882 \nL 461.479911 347.21882 \nL 461.479911 316.9955 \nL 456.165625 316.9955 \nz\n\" style=\"fill:#ffa500;opacity:0.7;\"/>\n   </g>\n   <g id=\"patch_186\">\n    <path clip-path=\"url(#p850290565c)\" d=\"M 461.479911 348.478125 \nL 466.794196 348.478125 \nL 466.794196 296.784842 \nL 461.479911 296.784842 \nz\n\" style=\"fill:#ffa500;opacity:0.7;\"/>\n   </g>\n   <g id=\"patch_187\">\n    <path clip-path=\"url(#p850290565c)\" d=\"M 466.794196 348.478125 \nL 472.108482 348.478125 \nL 472.108482 305.780816 \nL 466.794196 305.780816 \nz\n\" style=\"fill:#ffa500;opacity:0.7;\"/>\n   </g>\n   <g id=\"patch_188\">\n    <path clip-path=\"url(#p850290565c)\" d=\"M 472.108482 348.478125 \nL 477.422768 348.478125 \nL 477.422768 276.121811 \nL 472.108482 276.121811 \nz\n\" style=\"fill:#ffa500;opacity:0.7;\"/>\n   </g>\n   <g id=\"patch_189\">\n    <path clip-path=\"url(#p850290565c)\" d=\"M 477.422768 348.478125 \nL 482.737054 348.478125 \nL 482.737054 312.359736 \nL 477.422768 312.359736 \nz\n\" style=\"fill:#ffa500;opacity:0.7;\"/>\n   </g>\n   <g id=\"patch_190\">\n    <path clip-path=\"url(#p850290565c)\" d=\"M 482.737054 348.478125 \nL 488.051339 348.478125 \nL 488.051339 304.84468 \nL 482.737054 304.84468 \nz\n\" style=\"fill:#ffa500;opacity:0.7;\"/>\n   </g>\n   <g id=\"patch_191\">\n    <path clip-path=\"url(#p850290565c)\" d=\"M 488.051339 348.478125 \nL 493.365625 348.478125 \nL 493.365625 296.465899 \nL 488.051339 296.465899 \nz\n\" style=\"fill:#ffa500;opacity:0.7;\"/>\n   </g>\n   <g id=\"patch_192\">\n    <path clip-path=\"url(#p850290565c)\" d=\"M 493.365625 347.419164 \nL 498.679911 347.419164 \nL 498.679911 314.591372 \nL 493.365625 314.591372 \nz\n\" style=\"fill:#ffa500;opacity:0.7;\"/>\n   </g>\n   <g id=\"patch_193\">\n    <path clip-path=\"url(#p850290565c)\" d=\"M 498.679911 345.341971 \nL 503.994196 345.341971 \nL 503.994196 296.208894 \nL 498.679911 296.208894 \nz\n\" style=\"fill:#ffa500;opacity:0.7;\"/>\n   </g>\n   <g id=\"patch_194\">\n    <path clip-path=\"url(#p850290565c)\" d=\"M 503.994196 348.478125 \nL 509.308482 348.478125 \nL 509.308482 304.851628 \nL 503.994196 304.851628 \nz\n\" style=\"fill:#ffa500;opacity:0.7;\"/>\n   </g>\n   <g id=\"patch_195\">\n    <path clip-path=\"url(#p850290565c)\" d=\"M 509.308482 348.478125 \nL 514.622768 348.478125 \nL 514.622768 299.554125 \nL 509.308482 299.554125 \nz\n\" style=\"fill:#ffa500;opacity:0.7;\"/>\n   </g>\n   <g id=\"patch_196\">\n    <path clip-path=\"url(#p850290565c)\" d=\"M 514.622768 348.478125 \nL 519.937054 348.478125 \nL 519.937054 312.238125 \nL 514.622768 312.238125 \nz\n\" style=\"fill:#ffa500;opacity:0.7;\"/>\n   </g>\n   <g id=\"patch_197\">\n    <path clip-path=\"url(#p850290565c)\" d=\"M 519.937054 348.478125 \nL 525.251339 348.478125 \nL 525.251339 313.943537 \nL 519.937054 313.943537 \nz\n\" style=\"fill:#ffa500;opacity:0.7;\"/>\n   </g>\n   <g id=\"patch_198\">\n    <path clip-path=\"url(#p850290565c)\" d=\"M 525.251339 348.478125 \nL 530.565625 348.478125 \nL 530.565625 302.287836 \nL 525.251339 302.287836 \nz\n\" style=\"fill:#ffa500;opacity:0.7;\"/>\n   </g>\n   <g id=\"patch_199\">\n    <path clip-path=\"url(#p850290565c)\" d=\"M 530.565625 348.478125 \nL 535.879911 348.478125 \nL 535.879911 299.783815 \nL 530.565625 299.783815 \nz\n\" style=\"fill:#ffa500;opacity:0.7;\"/>\n   </g>\n   <g id=\"patch_200\">\n    <path clip-path=\"url(#p850290565c)\" d=\"M 535.879911 348.478125 \nL 541.194196 348.478125 \nL 541.194196 307.250035 \nL 535.879911 307.250035 \nz\n\" style=\"fill:#ffa500;opacity:0.7;\"/>\n   </g>\n   <g id=\"patch_201\">\n    <path clip-path=\"url(#p850290565c)\" d=\"M 541.194196 347.579613 \nL 546.508482 347.579613 \nL 546.508482 304.451018 \nL 541.194196 304.451018 \nz\n\" style=\"fill:#ffa500;opacity:0.7;\"/>\n   </g>\n   <g id=\"patch_202\">\n    <path clip-path=\"url(#p850290565c)\" d=\"M 546.508482 348.478125 \nL 551.822768 348.478125 \nL 551.822768 296.649961 \nL 546.508482 296.649961 \nz\n\" style=\"fill:#ffa500;opacity:0.7;\"/>\n   </g>\n   <g id=\"patch_203\">\n    <path clip-path=\"url(#p850290565c)\" d=\"M 551.822768 346.935997 \nL 557.137054 346.935997 \nL 557.137054 308.382806 \nL 551.822768 308.382806 \nz\n\" style=\"fill:#ffa500;opacity:0.7;\"/>\n   </g>\n   <g id=\"patch_204\">\n    <path clip-path=\"url(#p850290565c)\" d=\"M 557.137054 348.478125 \nL 562.451339 348.478125 \nL 562.451339 313.479221 \nL 557.137054 313.479221 \nz\n\" style=\"fill:#ffa500;opacity:0.7;\"/>\n   </g>\n   <g id=\"patch_205\">\n    <path clip-path=\"url(#p850290565c)\" d=\"M 562.451339 347.745181 \nL 567.765625 347.745181 \nL 567.765625 296.439114 \nL 562.451339 296.439114 \nz\n\" style=\"fill:#ffa500;opacity:0.7;\"/>\n   </g>\n   <g id=\"patch_206\">\n    <path clip-path=\"url(#p850290565c)\" d=\"M 567.765625 348.478125 \nL 573.079911 348.478125 \nL 573.079911 308.614125 \nL 567.765625 308.614125 \nz\n\" style=\"fill:#ffa500;opacity:0.7;\"/>\n   </g>\n   <g id=\"patch_207\">\n    <path clip-path=\"url(#p850290565c)\" d=\"M 573.079911 348.478125 \nL 578.394196 348.478125 \nL 578.394196 305.635074 \nL 573.079911 305.635074 \nz\n\" style=\"fill:#ffa500;opacity:0.7;\"/>\n   </g>\n   <g id=\"patch_208\">\n    <path clip-path=\"url(#p850290565c)\" d=\"M 578.394196 348.478125 \nL 583.708482 348.478125 \nL 583.708482 317.02454 \nL 578.394196 317.02454 \nz\n\" style=\"fill:#ffa500;opacity:0.7;\"/>\n   </g>\n   <g id=\"patch_209\">\n    <path clip-path=\"url(#p850290565c)\" d=\"M 583.708482 348.478125 \nL 589.022768 348.478125 \nL 589.022768 299.655838 \nL 583.708482 299.655838 \nz\n\" style=\"fill:#ffa500;opacity:0.7;\"/>\n   </g>\n   <g id=\"patch_210\">\n    <path clip-path=\"url(#p850290565c)\" d=\"M 589.022768 347.130356 \nL 594.337054 347.130356 \nL 594.337054 295.241265 \nL 589.022768 295.241265 \nz\n\" style=\"fill:#ffa500;opacity:0.7;\"/>\n   </g>\n   <g id=\"patch_211\">\n    <path clip-path=\"url(#p850290565c)\" d=\"M 594.337054 347.474556 \nL 599.651339 347.474556 \nL 599.651339 305.826433 \nL 594.337054 305.826433 \nz\n\" style=\"fill:#ffa500;opacity:0.7;\"/>\n   </g>\n   <g id=\"patch_212\">\n    <path clip-path=\"url(#p850290565c)\" d=\"M 599.651339 348.478125 \nL 604.965625 348.478125 \nL 604.965625 292.329062 \nL 599.651339 292.329062 \nz\n\" style=\"fill:#ffa500;opacity:0.7;\"/>\n   </g>\n   <g id=\"patch_213\">\n    <path clip-path=\"url(#p850290565c)\" d=\"M 46.965625 348.478125 \nL 52.279911 348.478125 \nL 52.279911 250.630125 \nL 46.965625 250.630125 \nz\n\" style=\"fill:#ffff00;opacity:0.7;\"/>\n   </g>\n   <g id=\"patch_214\">\n    <path clip-path=\"url(#p850290565c)\" d=\"M 52.279911 348.478125 \nL 57.594196 348.478125 \nL 57.594196 315.862125 \nL 52.279911 315.862125 \nz\n\" style=\"fill:#ffff00;opacity:0.7;\"/>\n   </g>\n   <g id=\"patch_215\">\n    <path clip-path=\"url(#p850290565c)\" d=\"M 57.594196 283.246125 \nL 62.908482 283.246125 \nL 62.908482 87.550125 \nL 57.594196 87.550125 \nz\n\" style=\"fill:#ffff00;opacity:0.7;\"/>\n   </g>\n   <g id=\"patch_216\">\n    <path clip-path=\"url(#p850290565c)\" d=\"M 62.908482 289.176307 \nL 68.222768 289.176307 \nL 68.222768 259.525398 \nL 62.908482 259.525398 \nz\n\" style=\"fill:#ffff00;opacity:0.7;\"/>\n   </g>\n   <g id=\"patch_217\">\n    <path clip-path=\"url(#p850290565c)\" d=\"M 68.222768 321.298125 \nL 73.537054 321.298125 \nL 73.537054 321.298125 \nL 68.222768 321.298125 \nz\n\" style=\"fill:#ffff00;opacity:0.7;\"/>\n   </g>\n   <g id=\"patch_218\">\n    <path clip-path=\"url(#p850290565c)\" d=\"M 73.537054 325.180982 \nL 78.851339 325.180982 \nL 78.851339 255.289554 \nL 73.537054 255.289554 \nz\n\" style=\"fill:#ffff00;opacity:0.7;\"/>\n   </g>\n   <g id=\"patch_219\">\n    <path clip-path=\"url(#p850290565c)\" d=\"M 78.851339 348.478125 \nL 84.165625 348.478125 \nL 84.165625 208.695268 \nL 78.851339 208.695268 \nz\n\" style=\"fill:#ffff00;opacity:0.7;\"/>\n   </g>\n   <g id=\"patch_220\">\n    <path clip-path=\"url(#p850290565c)\" d=\"M 84.165625 301.883839 \nL 89.479911 301.883839 \nL 89.479911 231.992411 \nL 84.165625 231.992411 \nz\n\" style=\"fill:#ffff00;opacity:0.7;\"/>\n   </g>\n   <g id=\"patch_221\">\n    <path clip-path=\"url(#p850290565c)\" d=\"M 89.479911 326.734125 \nL 94.794196 326.734125 \nL 94.794196 196.270125 \nL 89.479911 196.270125 \nz\n\" style=\"fill:#ffff00;opacity:0.7;\"/>\n   </g>\n   <g id=\"patch_222\">\n    <path clip-path=\"url(#p850290565c)\" d=\"M 94.794196 331.311809 \nL 100.108482 331.311809 \nL 100.108482 211.147599 \nL 94.794196 211.147599 \nz\n\" style=\"fill:#ffff00;opacity:0.7;\"/>\n   </g>\n   <g id=\"patch_223\">\n    <path clip-path=\"url(#p850290565c)\" d=\"M 100.108482 332.170125 \nL 105.422768 332.170125 \nL 105.422768 201.706125 \nL 100.108482 201.706125 \nz\n\" style=\"fill:#ffff00;opacity:0.7;\"/>\n   </g>\n   <g id=\"patch_224\">\n    <path clip-path=\"url(#p850290565c)\" d=\"M 105.422768 289.176307 \nL 110.737054 289.176307 \nL 110.737054 200.22358 \nL 105.422768 200.22358 \nz\n\" style=\"fill:#ffff00;opacity:0.7;\"/>\n   </g>\n   <g id=\"patch_225\">\n    <path clip-path=\"url(#p850290565c)\" d=\"M 110.737054 274.350852 \nL 116.051339 274.350852 \nL 116.051339 185.398125 \nL 110.737054 185.398125 \nz\n\" style=\"fill:#ffff00;opacity:0.7;\"/>\n   </g>\n   <g id=\"patch_226\">\n    <path clip-path=\"url(#p850290565c)\" d=\"M 116.051339 280.528125 \nL 121.365625 280.528125 \nL 121.365625 185.398125 \nL 116.051339 185.398125 \nz\n\" style=\"fill:#ffff00;opacity:0.7;\"/>\n   </g>\n   <g id=\"patch_227\">\n    <path clip-path=\"url(#p850290565c)\" d=\"M 121.365625 280.528125 \nL 126.679911 280.528125 \nL 126.679911 185.398125 \nL 121.365625 185.398125 \nz\n\" style=\"fill:#ffff00;opacity:0.7;\"/>\n   </g>\n   <g id=\"patch_228\">\n    <path clip-path=\"url(#p850290565c)\" d=\"M 126.679911 260.665817 \nL 131.994196 260.665817 \nL 131.994196 185.398125 \nL 126.679911 185.398125 \nz\n\" style=\"fill:#ffff00;opacity:0.7;\"/>\n   </g>\n   <g id=\"patch_229\">\n    <path clip-path=\"url(#p850290565c)\" d=\"M 131.994196 313.532411 \nL 137.308482 313.532411 \nL 137.308482 231.992411 \nL 131.994196 231.992411 \nz\n\" style=\"fill:#ffff00;opacity:0.7;\"/>\n   </g>\n   <g id=\"patch_230\">\n    <path clip-path=\"url(#p850290565c)\" d=\"M 137.308482 315.862125 \nL 142.622768 315.862125 \nL 142.622768 250.630125 \nL 137.308482 250.630125 \nz\n\" style=\"fill:#ffff00;opacity:0.7;\"/>\n   </g>\n   <g id=\"patch_231\">\n    <path clip-path=\"url(#p850290565c)\" d=\"M 142.622768 264.608411 \nL 147.937054 264.608411 \nL 147.937054 180.738696 \nL 142.622768 180.738696 \nz\n\" style=\"fill:#ffff00;opacity:0.7;\"/>\n   </g>\n   <g id=\"patch_232\">\n    <path clip-path=\"url(#p850290565c)\" d=\"M 147.937054 321.298125 \nL 153.251339 321.298125 \nL 153.251339 266.938125 \nL 147.937054 266.938125 \nz\n\" style=\"fill:#ffff00;opacity:0.7;\"/>\n   </g>\n   <g id=\"patch_233\">\n    <path clip-path=\"url(#p850290565c)\" d=\"M 153.251339 305.562336 \nL 158.565625 305.562336 \nL 158.565625 228.313914 \nL 153.251339 228.313914 \nz\n\" style=\"fill:#ffff00;opacity:0.7;\"/>\n   </g>\n   <g id=\"patch_234\">\n    <path clip-path=\"url(#p850290565c)\" d=\"M 158.565625 305.935516 \nL 163.879911 305.935516 \nL 163.879911 227.940734 \nL 158.565625 227.940734 \nz\n\" style=\"fill:#ffff00;opacity:0.7;\"/>\n   </g>\n   <g id=\"patch_235\">\n    <path clip-path=\"url(#p850290565c)\" d=\"M 163.879911 334.598976 \nL 169.194196 334.598976 \nL 169.194196 181.928338 \nL 163.879911 181.928338 \nz\n\" style=\"fill:#ffff00;opacity:0.7;\"/>\n   </g>\n   <g id=\"patch_236\">\n    <path clip-path=\"url(#p850290565c)\" d=\"M 169.194196 300.913125 \nL 174.508482 300.913125 \nL 174.508482 212.578125 \nL 169.194196 212.578125 \nz\n\" style=\"fill:#ffff00;opacity:0.7;\"/>\n   </g>\n   <g id=\"patch_237\">\n    <path clip-path=\"url(#p850290565c)\" d=\"M 174.508482 281.91486 \nL 179.822768 281.91486 \nL 179.822768 182.069962 \nL 174.508482 182.069962 \nz\n\" style=\"fill:#ffff00;opacity:0.7;\"/>\n   </g>\n   <g id=\"patch_238\">\n    <path clip-path=\"url(#p850290565c)\" d=\"M 179.822768 293.092465 \nL 185.137054 293.092465 \nL 185.137054 225.39888 \nL 179.822768 225.39888 \nz\n\" style=\"fill:#ffff00;opacity:0.7;\"/>\n   </g>\n   <g id=\"patch_239\">\n    <path clip-path=\"url(#p850290565c)\" d=\"M 185.137054 262.322653 \nL 190.451339 262.322653 \nL 190.451339 194.629068 \nL 185.137054 194.629068 \nz\n\" style=\"fill:#ffff00;opacity:0.7;\"/>\n   </g>\n   <g id=\"patch_240\">\n    <path clip-path=\"url(#p850290565c)\" d=\"M 190.451339 251.838125 \nL 195.765625 251.838125 \nL 195.765625 209.558125 \nL 190.451339 209.558125 \nz\n\" style=\"fill:#ffff00;opacity:0.7;\"/>\n   </g>\n   <g id=\"patch_241\">\n    <path clip-path=\"url(#p850290565c)\" d=\"M 195.765625 306.966852 \nL 201.079911 306.966852 \nL 201.079911 229.874489 \nL 195.765625 229.874489 \nz\n\" style=\"fill:#ffff00;opacity:0.7;\"/>\n   </g>\n   <g id=\"patch_242\">\n    <path clip-path=\"url(#p850290565c)\" d=\"M 201.079911 331.311809 \nL 206.394196 331.311809 \nL 206.394196 251.202336 \nL 201.079911 251.202336 \nz\n\" style=\"fill:#ffff00;opacity:0.7;\"/>\n   </g>\n   <g id=\"patch_243\">\n    <path clip-path=\"url(#p850290565c)\" d=\"M 206.394196 314.737435 \nL 211.708482 314.737435 \nL 211.708482 219.138815 \nL 206.394196 219.138815 \nz\n\" style=\"fill:#ffff00;opacity:0.7;\"/>\n   </g>\n   <g id=\"patch_244\">\n    <path clip-path=\"url(#p850290565c)\" d=\"M 211.708482 343.300982 \nL 217.022768 343.300982 \nL 217.022768 234.580982 \nL 211.708482 234.580982 \nz\n\" style=\"fill:#ffff00;opacity:0.7;\"/>\n   </g>\n   <g id=\"patch_245\">\n    <path clip-path=\"url(#p850290565c)\" d=\"M 217.022768 292.419375 \nL 222.337054 292.419375 \nL 222.337054 200.686875 \nL 217.022768 200.686875 \nz\n\" style=\"fill:#ffff00;opacity:0.7;\"/>\n   </g>\n   <g id=\"patch_246\">\n    <path clip-path=\"url(#p850290565c)\" d=\"M 222.337054 248.121202 \nL 227.651339 248.121202 \nL 227.651339 182.889202 \nL 222.337054 182.889202 \nz\n\" style=\"fill:#ffff00;opacity:0.7;\"/>\n   </g>\n   <g id=\"patch_247\">\n    <path clip-path=\"url(#p850290565c)\" d=\"M 227.651339 325.509111 \nL 232.965625 325.509111 \nL 232.965625 219.851646 \nL 227.651339 219.851646 \nz\n\" style=\"fill:#ffff00;opacity:0.7;\"/>\n   </g>\n   <g id=\"patch_248\">\n    <path clip-path=\"url(#p850290565c)\" d=\"M 232.965625 280.528125 \nL 238.279911 280.528125 \nL 238.279911 189.928125 \nL 232.965625 189.928125 \nz\n\" style=\"fill:#ffff00;opacity:0.7;\"/>\n   </g>\n   <g id=\"patch_249\">\n    <path clip-path=\"url(#p850290565c)\" d=\"M 238.279911 307.708125 \nL 243.594196 307.708125 \nL 243.594196 253.348125 \nL 238.279911 253.348125 \nz\n\" style=\"fill:#ffff00;opacity:0.7;\"/>\n   </g>\n   <g id=\"patch_250\">\n    <path clip-path=\"url(#p850290565c)\" d=\"M 243.594196 309.338925 \nL 248.908482 309.338925 \nL 248.908482 226.711725 \nL 243.594196 226.711725 \nz\n\" style=\"fill:#ffff00;opacity:0.7;\"/>\n   </g>\n   <g id=\"patch_251\">\n    <path clip-path=\"url(#p850290565c)\" d=\"M 248.908482 309.338925 \nL 254.222768 309.338925 \nL 254.222768 213.665325 \nL 248.908482 213.665325 \nz\n\" style=\"fill:#ffff00;opacity:0.7;\"/>\n   </g>\n   <g id=\"patch_252\">\n    <path clip-path=\"url(#p850290565c)\" d=\"M 254.222768 311.785125 \nL 259.537054 311.785125 \nL 259.537054 213.937125 \nL 254.222768 213.937125 \nz\n\" style=\"fill:#ffff00;opacity:0.7;\"/>\n   </g>\n   <g id=\"patch_253\">\n    <path clip-path=\"url(#p850290565c)\" d=\"M 259.537054 316.264792 \nL 264.851339 316.264792 \nL 264.851339 219.624792 \nL 259.537054 219.624792 \nz\n\" style=\"fill:#ffff00;opacity:0.7;\"/>\n   </g>\n   <g id=\"patch_254\">\n    <path clip-path=\"url(#p850290565c)\" d=\"M 264.851339 305.766696 \nL 270.165625 305.766696 \nL 270.165625 189.280982 \nL 264.851339 189.280982 \nz\n\" style=\"fill:#ffff00;opacity:0.7;\"/>\n   </g>\n   <g id=\"patch_255\">\n    <path clip-path=\"url(#p850290565c)\" d=\"M 270.165625 321.61789 \nL 275.479911 321.61789 \nL 275.479911 229.525654 \nL 270.165625 229.525654 \nz\n\" style=\"fill:#ffff00;opacity:0.7;\"/>\n   </g>\n   <g id=\"patch_256\">\n    <path clip-path=\"url(#p850290565c)\" d=\"M 275.479911 306.269184 \nL 280.794196 306.269184 \nL 280.794196 191.15389 \nL 275.479911 191.15389 \nz\n\" style=\"fill:#ffff00;opacity:0.7;\"/>\n   </g>\n   <g id=\"patch_257\">\n    <path clip-path=\"url(#p850290565c)\" d=\"M 280.794196 319.804718 \nL 286.108482 319.804718 \nL 286.108482 205.111092 \nL 280.794196 205.111092 \nz\n\" style=\"fill:#ffff00;opacity:0.7;\"/>\n   </g>\n   <g id=\"patch_258\">\n    <path clip-path=\"url(#p850290565c)\" d=\"M 286.108482 316.185056 \nL 291.422768 316.185056 \nL 291.422768 209.617927 \nL 286.108482 209.617927 \nz\n\" style=\"fill:#ffff00;opacity:0.7;\"/>\n   </g>\n   <g id=\"patch_259\">\n    <path clip-path=\"url(#p850290565c)\" d=\"M 291.422768 278.812882 \nL 296.737054 278.812882 \nL 296.737054 202.814436 \nL 291.422768 202.814436 \nz\n\" style=\"fill:#ffff00;opacity:0.7;\"/>\n   </g>\n   <g id=\"patch_260\">\n    <path clip-path=\"url(#p850290565c)\" d=\"M 296.737054 328.796056 \nL 302.051339 328.796056 \nL 302.051339 216.327091 \nL 296.737054 216.327091 \nz\n\" style=\"fill:#ffff00;opacity:0.7;\"/>\n   </g>\n   <g id=\"patch_261\">\n    <path clip-path=\"url(#p850290565c)\" d=\"M 302.051339 320.601202 \nL 307.365625 320.601202 \nL 307.365625 206.305817 \nL 302.051339 206.305817 \nz\n\" style=\"fill:#ffff00;opacity:0.7;\"/>\n   </g>\n   <g id=\"patch_262\">\n    <path clip-path=\"url(#p850290565c)\" d=\"M 307.365625 304.25304 \nL 312.679911 304.25304 \nL 312.679911 218.566939 \nL 307.365625 218.566939 \nz\n\" style=\"fill:#ffff00;opacity:0.7;\"/>\n   </g>\n   <g id=\"patch_263\">\n    <path clip-path=\"url(#p850290565c)\" d=\"M 312.679911 315.588041 \nL 317.994196 315.588041 \nL 317.994196 225.14031 \nL 312.679911 225.14031 \nz\n\" style=\"fill:#ffff00;opacity:0.7;\"/>\n   </g>\n   <g id=\"patch_264\">\n    <path clip-path=\"url(#p850290565c)\" d=\"M 317.994196 299.142999 \nL 323.308482 299.142999 \nL 323.308482 216.917789 \nL 317.994196 216.917789 \nz\n\" style=\"fill:#ffff00;opacity:0.7;\"/>\n   </g>\n   <g id=\"patch_265\">\n    <path clip-path=\"url(#p850290565c)\" d=\"M 323.308482 304.472411 \nL 328.622768 304.472411 \nL 328.622768 213.872411 \nL 323.308482 213.872411 \nz\n\" style=\"fill:#ffff00;opacity:0.7;\"/>\n   </g>\n   <g id=\"patch_266\">\n    <path clip-path=\"url(#p850290565c)\" d=\"M 328.622768 312.523479 \nL 333.937054 312.523479 \nL 333.937054 222.636865 \nL 328.622768 222.636865 \nz\n\" style=\"fill:#ffff00;opacity:0.7;\"/>\n   </g>\n   <g id=\"patch_267\">\n    <path clip-path=\"url(#p850290565c)\" d=\"M 333.937054 316.356307 \nL 339.251339 316.356307 \nL 339.251339 222.461761 \nL 333.937054 222.461761 \nz\n\" style=\"fill:#ffff00;opacity:0.7;\"/>\n   </g>\n   <g id=\"patch_268\">\n    <path clip-path=\"url(#p850290565c)\" d=\"M 339.251339 319.486125 \nL 344.565625 319.486125 \nL 344.565625 213.182125 \nL 339.251339 213.182125 \nz\n\" style=\"fill:#ffff00;opacity:0.7;\"/>\n   </g>\n   <g id=\"patch_269\">\n    <path clip-path=\"url(#p850290565c)\" d=\"M 344.565625 331.566125 \nL 349.879911 331.566125 \nL 349.879911 247.006125 \nL 344.565625 247.006125 \nz\n\" style=\"fill:#ffff00;opacity:0.7;\"/>\n   </g>\n   <g id=\"patch_270\">\n    <path clip-path=\"url(#p850290565c)\" d=\"M 349.879911 304.836998 \nL 355.194196 304.836998 \nL 355.194196 217.554745 \nL 349.879911 217.554745 \nz\n\" style=\"fill:#ffff00;opacity:0.7;\"/>\n   </g>\n   <g id=\"patch_271\">\n    <path clip-path=\"url(#p850290565c)\" d=\"M 355.194196 309.703859 \nL 360.508482 309.703859 \nL 360.508482 227.593649 \nL 355.194196 227.593649 \nz\n\" style=\"fill:#ffff00;opacity:0.7;\"/>\n   </g>\n   <g id=\"patch_272\">\n    <path clip-path=\"url(#p850290565c)\" d=\"M 360.508482 323.734953 \nL 365.822768 323.734953 \nL 365.822768 229.261022 \nL 360.508482 229.261022 \nz\n\" style=\"fill:#ffff00;opacity:0.7;\"/>\n   </g>\n   <g id=\"patch_273\">\n    <path clip-path=\"url(#p850290565c)\" d=\"M 365.822768 296.638125 \nL 371.137054 296.638125 \nL 371.137054 188.638125 \nL 365.822768 188.638125 \nz\n\" style=\"fill:#ffff00;opacity:0.7;\"/>\n   </g>\n   <g id=\"patch_274\">\n    <path clip-path=\"url(#p850290565c)\" d=\"M 371.137054 304.571971 \nL 376.451339 304.571971 \nL 376.451339 206.305817 \nL 371.137054 206.305817 \nz\n\" style=\"fill:#ffff00;opacity:0.7;\"/>\n   </g>\n   <g id=\"patch_275\">\n    <path clip-path=\"url(#p850290565c)\" d=\"M 376.451339 313.161437 \nL 381.765625 313.161437 \nL 381.765625 192.669208 \nL 376.451339 192.669208 \nz\n\" style=\"fill:#ffff00;opacity:0.7;\"/>\n   </g>\n   <g id=\"patch_276\">\n    <path clip-path=\"url(#p850290565c)\" d=\"M 381.765625 299.246427 \nL 387.079911 299.246427 \nL 387.079911 200.783031 \nL 381.765625 200.783031 \nz\n\" style=\"fill:#ffff00;opacity:0.7;\"/>\n   </g>\n   <g id=\"patch_277\">\n    <path clip-path=\"url(#p850290565c)\" d=\"M 387.079911 307.708125 \nL 392.394196 307.708125 \nL 392.394196 213.937125 \nL 387.079911 213.937125 \nz\n\" style=\"fill:#ffff00;opacity:0.7;\"/>\n   </g>\n   <g id=\"patch_278\">\n    <path clip-path=\"url(#p850290565c)\" d=\"M 392.394196 304.990125 \nL 397.708482 304.990125 \nL 397.708482 218.014125 \nL 392.394196 218.014125 \nz\n\" style=\"fill:#ffff00;opacity:0.7;\"/>\n   </g>\n   <g id=\"patch_279\">\n    <path clip-path=\"url(#p850290565c)\" d=\"M 397.708482 305.252101 \nL 403.022768 305.252101 \nL 403.022768 203.081498 \nL 397.708482 203.081498 \nz\n\" style=\"fill:#ffff00;opacity:0.7;\"/>\n   </g>\n   <g id=\"patch_280\">\n    <path clip-path=\"url(#p850290565c)\" d=\"M 403.022768 303.287282 \nL 408.337054 303.287282 \nL 408.337054 212.905595 \nL 403.022768 212.905595 \nz\n\" style=\"fill:#ffff00;opacity:0.7;\"/>\n   </g>\n   <g id=\"patch_281\">\n    <path clip-path=\"url(#p850290565c)\" d=\"M 408.337054 303.557885 \nL 413.651339 303.557885 \nL 413.651339 194.186868 \nL 408.337054 194.186868 \nz\n\" style=\"fill:#ffff00;opacity:0.7;\"/>\n   </g>\n   <g id=\"patch_282\">\n    <path clip-path=\"url(#p850290565c)\" d=\"M 413.651339 313.532411 \nL 418.965625 313.532411 \nL 418.965625 241.699554 \nL 413.651339 241.699554 \nz\n\" style=\"fill:#ffff00;opacity:0.7;\"/>\n   </g>\n   <g id=\"patch_283\">\n    <path clip-path=\"url(#p850290565c)\" d=\"M 418.965625 292.839066 \nL 424.279911 292.839066 \nL 424.279911 189.235301 \nL 418.965625 189.235301 \nz\n\" style=\"fill:#ffff00;opacity:0.7;\"/>\n   </g>\n   <g id=\"patch_284\">\n    <path clip-path=\"url(#p850290565c)\" d=\"M 424.279911 324.109849 \nL 429.594196 324.109849 \nL 429.594196 211.640884 \nL 424.279911 211.640884 \nz\n\" style=\"fill:#ffff00;opacity:0.7;\"/>\n   </g>\n   <g id=\"patch_285\">\n    <path clip-path=\"url(#p850290565c)\" d=\"M 429.594196 296.589034 \nL 434.908482 296.589034 \nL 434.908482 190.95767 \nL 429.594196 190.95767 \nz\n\" style=\"fill:#ffff00;opacity:0.7;\"/>\n   </g>\n   <g id=\"patch_286\">\n    <path clip-path=\"url(#p850290565c)\" d=\"M 434.908482 303.775993 \nL 440.222768 303.775993 \nL 440.222768 196.159749 \nL 434.908482 196.159749 \nz\n\" style=\"fill:#ffff00;opacity:0.7;\"/>\n   </g>\n   <g id=\"patch_287\">\n    <path clip-path=\"url(#p850290565c)\" d=\"M 440.222768 313.25897 \nL 445.537054 313.25897 \nL 445.537054 230.570519 \nL 440.222768 230.570519 \nz\n\" style=\"fill:#ffff00;opacity:0.7;\"/>\n   </g>\n   <g id=\"patch_288\">\n    <path clip-path=\"url(#p850290565c)\" d=\"M 445.537054 302.701283 \nL 450.851339 302.701283 \nL 450.851339 211.147599 \nL 445.537054 211.147599 \nz\n\" style=\"fill:#ffff00;opacity:0.7;\"/>\n   </g>\n   <g id=\"patch_289\">\n    <path clip-path=\"url(#p850290565c)\" d=\"M 450.851339 284.051458 \nL 456.165625 284.051458 \nL 456.165625 183.384792 \nL 450.851339 183.384792 \nz\n\" style=\"fill:#ffff00;opacity:0.7;\"/>\n   </g>\n   <g id=\"patch_290\">\n    <path clip-path=\"url(#p850290565c)\" d=\"M 456.165625 316.9955 \nL 461.479911 316.9955 \nL 461.479911 240.177893 \nL 456.165625 240.177893 \nz\n\" style=\"fill:#ffff00;opacity:0.7;\"/>\n   </g>\n   <g id=\"patch_291\">\n    <path clip-path=\"url(#p850290565c)\" d=\"M 461.479911 296.784842 \nL 466.794196 296.784842 \nL 466.794196 194.629068 \nL 461.479911 194.629068 \nz\n\" style=\"fill:#ffff00;opacity:0.7;\"/>\n   </g>\n   <g id=\"patch_292\">\n    <path clip-path=\"url(#p850290565c)\" d=\"M 466.794196 305.780816 \nL 472.108482 305.780816 \nL 472.108482 216.828089 \nL 466.794196 216.828089 \nz\n\" style=\"fill:#ffff00;opacity:0.7;\"/>\n   </g>\n   <g id=\"patch_293\">\n    <path clip-path=\"url(#p850290565c)\" d=\"M 472.108482 276.121811 \nL 477.422768 276.121811 \nL 477.422768 183.728364 \nL 472.108482 183.728364 \nz\n\" style=\"fill:#ffff00;opacity:0.7;\"/>\n   </g>\n   <g id=\"patch_294\">\n    <path clip-path=\"url(#p850290565c)\" d=\"M 477.422768 312.359736 \nL 482.737054 312.359736 \nL 482.737054 213.855038 \nL 477.422768 213.855038 \nz\n\" style=\"fill:#ffff00;opacity:0.7;\"/>\n   </g>\n   <g id=\"patch_295\">\n    <path clip-path=\"url(#p850290565c)\" d=\"M 482.737054 304.84468 \nL 488.051339 304.84468 \nL 488.051339 193.579396 \nL 482.737054 193.579396 \nz\n\" style=\"fill:#ffff00;opacity:0.7;\"/>\n   </g>\n   <g id=\"patch_296\">\n    <path clip-path=\"url(#p850290565c)\" d=\"M 488.051339 296.465899 \nL 493.365625 296.465899 \nL 493.365625 195.692211 \nL 488.051339 195.692211 \nz\n\" style=\"fill:#ffff00;opacity:0.7;\"/>\n   </g>\n   <g id=\"patch_297\">\n    <path clip-path=\"url(#p850290565c)\" d=\"M 493.365625 314.591372 \nL 498.679911 314.591372 \nL 498.679911 212.931112 \nL 493.365625 212.931112 \nz\n\" style=\"fill:#ffff00;opacity:0.7;\"/>\n   </g>\n   <g id=\"patch_298\">\n    <path clip-path=\"url(#p850290565c)\" d=\"M 498.679911 296.208894 \nL 503.994196 296.208894 \nL 503.994196 201.078894 \nL 498.679911 201.078894 \nz\n\" style=\"fill:#ffff00;opacity:0.7;\"/>\n   </g>\n   <g id=\"patch_299\">\n    <path clip-path=\"url(#p850290565c)\" d=\"M 503.994196 304.851628 \nL 509.308482 304.851628 \nL 509.308482 195.785386 \nL 503.994196 195.785386 \nz\n\" style=\"fill:#ffff00;opacity:0.7;\"/>\n   </g>\n   <g id=\"patch_300\">\n    <path clip-path=\"url(#p850290565c)\" d=\"M 509.308482 299.554125 \nL 514.622768 299.554125 \nL 514.622768 189.475125 \nL 509.308482 189.475125 \nz\n\" style=\"fill:#ffff00;opacity:0.7;\"/>\n   </g>\n   <g id=\"patch_301\">\n    <path clip-path=\"url(#p850290565c)\" d=\"M 514.622768 312.238125 \nL 519.937054 312.238125 \nL 519.937054 217.230557 \nL 514.622768 217.230557 \nz\n\" style=\"fill:#ffff00;opacity:0.7;\"/>\n   </g>\n   <g id=\"patch_302\">\n    <path clip-path=\"url(#p850290565c)\" d=\"M 519.937054 313.943537 \nL 525.251339 313.943537 \nL 525.251339 204.584007 \nL 519.937054 204.584007 \nz\n\" style=\"fill:#ffff00;opacity:0.7;\"/>\n   </g>\n   <g id=\"patch_303\">\n    <path clip-path=\"url(#p850290565c)\" d=\"M 525.251339 302.287836 \nL 530.565625 302.287836 \nL 530.565625 218.391189 \nL 525.251339 218.391189 \nz\n\" style=\"fill:#ffff00;opacity:0.7;\"/>\n   </g>\n   <g id=\"patch_304\">\n    <path clip-path=\"url(#p850290565c)\" d=\"M 530.565625 299.783815 \nL 535.879911 299.783815 \nL 535.879911 206.070238 \nL 530.565625 206.070238 \nz\n\" style=\"fill:#ffff00;opacity:0.7;\"/>\n   </g>\n   <g id=\"patch_305\">\n    <path clip-path=\"url(#p850290565c)\" d=\"M 535.879911 307.250035 \nL 541.194196 307.250035 \nL 541.194196 209.218799 \nL 535.879911 209.218799 \nz\n\" style=\"fill:#ffff00;opacity:0.7;\"/>\n   </g>\n   <g id=\"patch_306\">\n    <path clip-path=\"url(#p850290565c)\" d=\"M 541.194196 304.451018 \nL 546.508482 304.451018 \nL 546.508482 204.716142 \nL 541.194196 204.716142 \nz\n\" style=\"fill:#ffff00;opacity:0.7;\"/>\n   </g>\n   <g id=\"patch_307\">\n    <path clip-path=\"url(#p850290565c)\" d=\"M 546.508482 296.649961 \nL 551.822768 296.649961 \nL 551.822768 186.738509 \nL 546.508482 186.738509 \nz\n\" style=\"fill:#ffff00;opacity:0.7;\"/>\n   </g>\n   <g id=\"patch_308\">\n    <path clip-path=\"url(#p850290565c)\" d=\"M 551.822768 308.382806 \nL 557.137054 308.382806 \nL 557.137054 209.686636 \nL 551.822768 209.686636 \nz\n\" style=\"fill:#ffff00;opacity:0.7;\"/>\n   </g>\n   <g id=\"patch_309\">\n    <path clip-path=\"url(#p850290565c)\" d=\"M 557.137054 313.479221 \nL 562.451339 313.479221 \nL 562.451339 212.950454 \nL 557.137054 212.950454 \nz\n\" style=\"fill:#ffff00;opacity:0.7;\"/>\n   </g>\n   <g id=\"patch_310\">\n    <path clip-path=\"url(#p850290565c)\" d=\"M 562.451339 296.439114 \nL 567.765625 296.439114 \nL 567.765625 199.690529 \nL 562.451339 199.690529 \nz\n\" style=\"fill:#ffff00;opacity:0.7;\"/>\n   </g>\n   <g id=\"patch_311\">\n    <path clip-path=\"url(#p850290565c)\" d=\"M 567.765625 308.614125 \nL 573.079911 308.614125 \nL 573.079911 217.289325 \nL 567.765625 217.289325 \nz\n\" style=\"fill:#ffff00;opacity:0.7;\"/>\n   </g>\n   <g id=\"patch_312\">\n    <path clip-path=\"url(#p850290565c)\" d=\"M 573.079911 305.635074 \nL 578.394196 305.635074 \nL 578.394196 201.982532 \nL 573.079911 201.982532 \nz\n\" style=\"fill:#ffff00;opacity:0.7;\"/>\n   </g>\n   <g id=\"patch_313\">\n    <path clip-path=\"url(#p850290565c)\" d=\"M 578.394196 317.02454 \nL 583.708482 317.02454 \nL 583.708482 219.928691 \nL 578.394196 219.928691 \nz\n\" style=\"fill:#ffff00;opacity:0.7;\"/>\n   </g>\n   <g id=\"patch_314\">\n    <path clip-path=\"url(#p850290565c)\" d=\"M 583.708482 299.655838 \nL 589.022768 299.655838 \nL 589.022768 206.757876 \nL 583.708482 206.757876 \nz\n\" style=\"fill:#ffff00;opacity:0.7;\"/>\n   </g>\n   <g id=\"patch_315\">\n    <path clip-path=\"url(#p850290565c)\" d=\"M 589.022768 295.241265 \nL 594.337054 295.241265 \nL 594.337054 191.463084 \nL 589.022768 191.463084 \nz\n\" style=\"fill:#ffff00;opacity:0.7;\"/>\n   </g>\n   <g id=\"patch_316\">\n    <path clip-path=\"url(#p850290565c)\" d=\"M 594.337054 305.826433 \nL 599.651339 305.826433 \nL 599.651339 208.982002 \nL 594.337054 208.982002 \nz\n\" style=\"fill:#ffff00;opacity:0.7;\"/>\n   </g>\n   <g id=\"patch_317\">\n    <path clip-path=\"url(#p850290565c)\" d=\"M 599.651339 292.329062 \nL 604.965625 292.329062 \nL 604.965625 194.068201 \nL 599.651339 194.068201 \nz\n\" style=\"fill:#ffff00;opacity:0.7;\"/>\n   </g>\n   <g id=\"patch_318\">\n    <path clip-path=\"url(#p850290565c)\" d=\"M 46.965625 250.630125 \nL 52.279911 250.630125 \nL 52.279911 218.014125 \nL 46.965625 218.014125 \nz\n\" style=\"fill:#808080;opacity:0.7;\"/>\n   </g>\n   <g id=\"patch_319\">\n    <path clip-path=\"url(#p850290565c)\" d=\"M 52.279911 315.862125 \nL 57.594196 315.862125 \nL 57.594196 283.246125 \nL 52.279911 283.246125 \nz\n\" style=\"fill:#808080;opacity:0.7;\"/>\n   </g>\n   <g id=\"patch_320\">\n    <path clip-path=\"url(#p850290565c)\" d=\"M 57.594196 87.550125 \nL 62.908482 87.550125 \nL 62.908482 87.550125 \nL 57.594196 87.550125 \nz\n\" style=\"fill:#808080;opacity:0.7;\"/>\n   </g>\n   <g id=\"patch_321\">\n    <path clip-path=\"url(#p850290565c)\" d=\"M 62.908482 259.525398 \nL 68.222768 259.525398 \nL 68.222768 229.874489 \nL 62.908482 229.874489 \nz\n\" style=\"fill:#808080;opacity:0.7;\"/>\n   </g>\n   <g id=\"patch_322\">\n    <path clip-path=\"url(#p850290565c)\" d=\"M 68.222768 321.298125 \nL 73.537054 321.298125 \nL 73.537054 185.398125 \nL 68.222768 185.398125 \nz\n\" style=\"fill:#808080;opacity:0.7;\"/>\n   </g>\n   <g id=\"patch_323\">\n    <path clip-path=\"url(#p850290565c)\" d=\"M 73.537054 255.289554 \nL 78.851339 255.289554 \nL 78.851339 255.289554 \nL 73.537054 255.289554 \nz\n\" style=\"fill:#808080;opacity:0.7;\"/>\n   </g>\n   <g id=\"patch_324\">\n    <path clip-path=\"url(#p850290565c)\" d=\"M 78.851339 208.695268 \nL 84.165625 208.695268 \nL 84.165625 185.398125 \nL 78.851339 185.398125 \nz\n\" style=\"fill:#808080;opacity:0.7;\"/>\n   </g>\n   <g id=\"patch_325\">\n    <path clip-path=\"url(#p850290565c)\" d=\"M 84.165625 231.992411 \nL 89.479911 231.992411 \nL 89.479911 162.100982 \nL 84.165625 162.100982 \nz\n\" style=\"fill:#808080;opacity:0.7;\"/>\n   </g>\n   <g id=\"patch_326\">\n    <path clip-path=\"url(#p850290565c)\" d=\"M 89.479911 196.270125 \nL 94.794196 196.270125 \nL 94.794196 152.782125 \nL 89.479911 152.782125 \nz\n\" style=\"fill:#808080;opacity:0.7;\"/>\n   </g>\n   <g id=\"patch_327\">\n    <path clip-path=\"url(#p850290565c)\" d=\"M 94.794196 211.147599 \nL 100.108482 211.147599 \nL 100.108482 176.814967 \nL 94.794196 176.814967 \nz\n\" style=\"fill:#808080;opacity:0.7;\"/>\n   </g>\n   <g id=\"patch_328\">\n    <path clip-path=\"url(#p850290565c)\" d=\"M 100.108482 201.706125 \nL 105.422768 201.706125 \nL 105.422768 185.398125 \nL 100.108482 185.398125 \nz\n\" style=\"fill:#808080;opacity:0.7;\"/>\n   </g>\n   <g id=\"patch_329\">\n    <path clip-path=\"url(#p850290565c)\" d=\"M 105.422768 200.22358 \nL 110.737054 200.22358 \nL 110.737054 170.57267 \nL 105.422768 170.57267 \nz\n\" style=\"fill:#808080;opacity:0.7;\"/>\n   </g>\n   <g id=\"patch_330\">\n    <path clip-path=\"url(#p850290565c)\" d=\"M 110.737054 185.398125 \nL 116.051339 185.398125 \nL 116.051339 140.921761 \nL 110.737054 140.921761 \nz\n\" style=\"fill:#808080;opacity:0.7;\"/>\n   </g>\n   <g id=\"patch_331\">\n    <path clip-path=\"url(#p850290565c)\" d=\"M 116.051339 185.398125 \nL 121.365625 185.398125 \nL 121.365625 131.038125 \nL 116.051339 131.038125 \nz\n\" style=\"fill:#808080;opacity:0.7;\"/>\n   </g>\n   <g id=\"patch_332\">\n    <path clip-path=\"url(#p850290565c)\" d=\"M 121.365625 185.398125 \nL 126.679911 185.398125 \nL 126.679911 171.808125 \nL 121.365625 171.808125 \nz\n\" style=\"fill:#808080;opacity:0.7;\"/>\n   </g>\n   <g id=\"patch_333\">\n    <path clip-path=\"url(#p850290565c)\" d=\"M 126.679911 185.398125 \nL 131.994196 185.398125 \nL 131.994196 135.219663 \nL 126.679911 135.219663 \nz\n\" style=\"fill:#808080;opacity:0.7;\"/>\n   </g>\n   <g id=\"patch_334\">\n    <path clip-path=\"url(#p850290565c)\" d=\"M 131.994196 231.992411 \nL 137.308482 231.992411 \nL 137.308482 220.343839 \nL 131.994196 220.343839 \nz\n\" style=\"fill:#808080;opacity:0.7;\"/>\n   </g>\n   <g id=\"patch_335\">\n    <path clip-path=\"url(#p850290565c)\" d=\"M 137.308482 250.630125 \nL 142.622768 250.630125 \nL 142.622768 228.886125 \nL 137.308482 228.886125 \nz\n\" style=\"fill:#808080;opacity:0.7;\"/>\n   </g>\n   <g id=\"patch_336\">\n    <path clip-path=\"url(#p850290565c)\" d=\"M 142.622768 180.738696 \nL 147.937054 180.738696 \nL 147.937054 152.782125 \nL 142.622768 152.782125 \nz\n\" style=\"fill:#808080;opacity:0.7;\"/>\n   </g>\n   <g id=\"patch_337\">\n    <path clip-path=\"url(#p850290565c)\" d=\"M 147.937054 266.938125 \nL 153.251339 266.938125 \nL 153.251339 221.638125 \nL 147.937054 221.638125 \nz\n\" style=\"fill:#808080;opacity:0.7;\"/>\n   </g>\n   <g id=\"patch_338\">\n    <path clip-path=\"url(#p850290565c)\" d=\"M 153.251339 228.313914 \nL 158.565625 228.313914 \nL 158.565625 193.981283 \nL 153.251339 193.981283 \nz\n\" style=\"fill:#808080;opacity:0.7;\"/>\n   </g>\n   <g id=\"patch_339\">\n    <path clip-path=\"url(#p850290565c)\" d=\"M 158.565625 227.940734 \nL 163.879911 227.940734 \nL 163.879911 206.669429 \nL 158.565625 206.669429 \nz\n\" style=\"fill:#808080;opacity:0.7;\"/>\n   </g>\n   <g id=\"patch_340\">\n    <path clip-path=\"url(#p850290565c)\" d=\"M 163.879911 181.928338 \nL 169.194196 181.928338 \nL 169.194196 168.049189 \nL 163.879911 168.049189 \nz\n\" style=\"fill:#808080;opacity:0.7;\"/>\n   </g>\n   <g id=\"patch_341\">\n    <path clip-path=\"url(#p850290565c)\" d=\"M 169.194196 212.578125 \nL 174.508482 212.578125 \nL 174.508482 185.398125 \nL 169.194196 185.398125 \nz\n\" style=\"fill:#808080;opacity:0.7;\"/>\n   </g>\n   <g id=\"patch_342\">\n    <path clip-path=\"url(#p850290565c)\" d=\"M 174.508482 182.069962 \nL 179.822768 182.069962 \nL 179.822768 155.444656 \nL 174.508482 155.444656 \nz\n\" style=\"fill:#808080;opacity:0.7;\"/>\n   </g>\n   <g id=\"patch_343\">\n    <path clip-path=\"url(#p850290565c)\" d=\"M 179.822768 225.39888 \nL 185.137054 225.39888 \nL 185.137054 200.783031 \nL 179.822768 200.783031 \nz\n\" style=\"fill:#808080;opacity:0.7;\"/>\n   </g>\n   <g id=\"patch_344\">\n    <path clip-path=\"url(#p850290565c)\" d=\"M 185.137054 194.629068 \nL 190.451339 194.629068 \nL 190.451339 182.321144 \nL 185.137054 182.321144 \nz\n\" style=\"fill:#808080;opacity:0.7;\"/>\n   </g>\n   <g id=\"patch_345\">\n    <path clip-path=\"url(#p850290565c)\" d=\"M 190.451339 209.558125 \nL 195.765625 209.558125 \nL 195.765625 185.398125 \nL 190.451339 185.398125 \nz\n\" style=\"fill:#808080;opacity:0.7;\"/>\n   </g>\n   <g id=\"patch_346\">\n    <path clip-path=\"url(#p850290565c)\" d=\"M 195.765625 229.874489 \nL 201.079911 229.874489 \nL 201.079911 212.083943 \nL 195.765625 212.083943 \nz\n\" style=\"fill:#808080;opacity:0.7;\"/>\n   </g>\n   <g id=\"patch_347\">\n    <path clip-path=\"url(#p850290565c)\" d=\"M 201.079911 251.202336 \nL 206.394196 251.202336 \nL 206.394196 216.869704 \nL 201.079911 216.869704 \nz\n\" style=\"fill:#808080;opacity:0.7;\"/>\n   </g>\n   <g id=\"patch_348\">\n    <path clip-path=\"url(#p850290565c)\" d=\"M 206.394196 219.138815 \nL 211.708482 219.138815 \nL 211.708482 179.774677 \nL 206.394196 179.774677 \nz\n\" style=\"fill:#808080;opacity:0.7;\"/>\n   </g>\n   <g id=\"patch_349\">\n    <path clip-path=\"url(#p850290565c)\" d=\"M 211.708482 234.580982 \nL 217.022768 234.580982 \nL 217.022768 182.809554 \nL 211.708482 182.809554 \nz\n\" style=\"fill:#808080;opacity:0.7;\"/>\n   </g>\n   <g id=\"patch_350\">\n    <path clip-path=\"url(#p850290565c)\" d=\"M 217.022768 200.686875 \nL 222.337054 200.686875 \nL 222.337054 175.205625 \nL 217.022768 175.205625 \nz\n\" style=\"fill:#808080;opacity:0.7;\"/>\n   </g>\n   <g id=\"patch_351\">\n    <path clip-path=\"url(#p850290565c)\" d=\"M 222.337054 182.889202 \nL 227.651339 182.889202 \nL 227.651339 167.835663 \nL 222.337054 167.835663 \nz\n\" style=\"fill:#808080;opacity:0.7;\"/>\n   </g>\n   <g id=\"patch_352\">\n    <path clip-path=\"url(#p850290565c)\" d=\"M 227.651339 219.851646 \nL 232.965625 219.851646 \nL 232.965625 196.882632 \nL 227.651339 196.882632 \nz\n\" style=\"fill:#808080;opacity:0.7;\"/>\n   </g>\n   <g id=\"patch_353\">\n    <path clip-path=\"url(#p850290565c)\" d=\"M 232.965625 189.928125 \nL 238.279911 189.928125 \nL 238.279911 167.278125 \nL 232.965625 167.278125 \nz\n\" style=\"fill:#808080;opacity:0.7;\"/>\n   </g>\n   <g id=\"patch_354\">\n    <path clip-path=\"url(#p850290565c)\" d=\"M 238.279911 253.348125 \nL 243.594196 253.348125 \nL 243.594196 230.698125 \nL 238.279911 230.698125 \nz\n\" style=\"fill:#808080;opacity:0.7;\"/>\n   </g>\n   <g id=\"patch_355\">\n    <path clip-path=\"url(#p850290565c)\" d=\"M 243.594196 226.711725 \nL 248.908482 226.711725 \nL 248.908482 187.572525 \nL 243.594196 187.572525 \nz\n\" style=\"fill:#808080;opacity:0.7;\"/>\n   </g>\n   <g id=\"patch_356\">\n    <path clip-path=\"url(#p850290565c)\" d=\"M 248.908482 213.665325 \nL 254.222768 213.665325 \nL 254.222768 187.572525 \nL 248.908482 187.572525 \nz\n\" style=\"fill:#808080;opacity:0.7;\"/>\n   </g>\n   <g id=\"patch_357\">\n    <path clip-path=\"url(#p850290565c)\" d=\"M 254.222768 213.937125 \nL 259.537054 213.937125 \nL 259.537054 173.167125 \nL 254.222768 173.167125 \nz\n\" style=\"fill:#808080;opacity:0.7;\"/>\n   </g>\n   <g id=\"patch_358\">\n    <path clip-path=\"url(#p850290565c)\" d=\"M 259.537054 219.624792 \nL 264.851339 219.624792 \nL 264.851339 187.411458 \nL 259.537054 187.411458 \nz\n\" style=\"fill:#808080;opacity:0.7;\"/>\n   </g>\n   <g id=\"patch_359\">\n    <path clip-path=\"url(#p850290565c)\" d=\"M 264.851339 189.280982 \nL 270.165625 189.280982 \nL 270.165625 181.515268 \nL 264.851339 181.515268 \nz\n\" style=\"fill:#808080;opacity:0.7;\"/>\n   </g>\n   <g id=\"patch_360\">\n    <path clip-path=\"url(#p850290565c)\" d=\"M 270.165625 229.525654 \nL 275.479911 229.525654 \nL 275.479911 202.665419 \nL 270.165625 202.665419 \nz\n\" style=\"fill:#808080;opacity:0.7;\"/>\n   </g>\n   <g id=\"patch_361\">\n    <path clip-path=\"url(#p850290565c)\" d=\"M 275.479911 191.15389 \nL 280.794196 191.15389 \nL 280.794196 156.619301 \nL 275.479911 156.619301 \nz\n\" style=\"fill:#808080;opacity:0.7;\"/>\n   </g>\n   <g id=\"patch_362\">\n    <path clip-path=\"url(#p850290565c)\" d=\"M 280.794196 205.111092 \nL 286.108482 205.111092 \nL 286.108482 190.774389 \nL 280.794196 190.774389 \nz\n\" style=\"fill:#808080;opacity:0.7;\"/>\n   </g>\n   <g id=\"patch_363\">\n    <path clip-path=\"url(#p850290565c)\" d=\"M 286.108482 209.617927 \nL 291.422768 209.617927 \nL 291.422768 183.783472 \nL 286.108482 183.783472 \nz\n\" style=\"fill:#808080;opacity:0.7;\"/>\n   </g>\n   <g id=\"patch_364\">\n    <path clip-path=\"url(#p850290565c)\" d=\"M 291.422768 202.814436 \nL 296.737054 202.814436 \nL 296.737054 180.648222 \nL 291.422768 180.648222 \nz\n\" style=\"fill:#808080;opacity:0.7;\"/>\n   </g>\n   <g id=\"patch_365\">\n    <path clip-path=\"url(#p850290565c)\" d=\"M 296.737054 216.327091 \nL 302.051339 216.327091 \nL 302.051339 188.209849 \nL 296.737054 188.209849 \nz\n\" style=\"fill:#808080;opacity:0.7;\"/>\n   </g>\n   <g id=\"patch_366\">\n    <path clip-path=\"url(#p850290565c)\" d=\"M 302.051339 206.305817 \nL 307.365625 206.305817 \nL 307.365625 175.641202 \nL 302.051339 175.641202 \nz\n\" style=\"fill:#808080;opacity:0.7;\"/>\n   </g>\n   <g id=\"patch_367\">\n    <path clip-path=\"url(#p850290565c)\" d=\"M 307.365625 218.566939 \nL 312.679911 218.566939 \nL 312.679911 199.218464 \nL 307.365625 199.218464 \nz\n\" style=\"fill:#808080;opacity:0.7;\"/>\n   </g>\n   <g id=\"patch_368\">\n    <path clip-path=\"url(#p850290565c)\" d=\"M 312.679911 225.14031 \nL 317.994196 225.14031 \nL 317.994196 186.768545 \nL 312.679911 186.768545 \nz\n\" style=\"fill:#808080;opacity:0.7;\"/>\n   </g>\n   <g id=\"patch_369\">\n    <path clip-path=\"url(#p850290565c)\" d=\"M 317.994196 216.917789 \nL 323.308482 216.917789 \nL 323.308482 194.991066 \nL 317.994196 194.991066 \nz\n\" style=\"fill:#808080;opacity:0.7;\"/>\n   </g>\n   <g id=\"patch_370\">\n    <path clip-path=\"url(#p850290565c)\" d=\"M 323.308482 213.872411 \nL 328.622768 213.872411 \nL 328.622768 182.809554 \nL 323.308482 182.809554 \nz\n\" style=\"fill:#808080;opacity:0.7;\"/>\n   </g>\n   <g id=\"patch_371\">\n    <path clip-path=\"url(#p850290565c)\" d=\"M 328.622768 222.636865 \nL 333.937054 222.636865 \nL 333.937054 189.250408 \nL 328.622768 189.250408 \nz\n\" style=\"fill:#808080;opacity:0.7;\"/>\n   </g>\n   <g id=\"patch_372\">\n    <path clip-path=\"url(#p850290565c)\" d=\"M 333.937054 222.461761 \nL 339.251339 222.461761 \nL 339.251339 200.22358 \nL 333.937054 200.22358 \nz\n\" style=\"fill:#808080;opacity:0.7;\"/>\n   </g>\n   <g id=\"patch_373\">\n    <path clip-path=\"url(#p850290565c)\" d=\"M 339.251339 213.182125 \nL 344.565625 213.182125 \nL 344.565625 189.022125 \nL 339.251339 189.022125 \nz\n\" style=\"fill:#808080;opacity:0.7;\"/>\n   </g>\n   <g id=\"patch_374\">\n    <path clip-path=\"url(#p850290565c)\" d=\"M 344.565625 247.006125 \nL 349.879911 247.006125 \nL 349.879911 215.598125 \nL 344.565625 215.598125 \nz\n\" style=\"fill:#808080;opacity:0.7;\"/>\n   </g>\n   <g id=\"patch_375\">\n    <path clip-path=\"url(#p850290565c)\" d=\"M 349.879911 217.554745 \nL 355.194196 217.554745 \nL 355.194196 189.991928 \nL 349.879911 189.991928 \nz\n\" style=\"fill:#808080;opacity:0.7;\"/>\n   </g>\n   <g id=\"patch_376\">\n    <path clip-path=\"url(#p850290565c)\" d=\"M 355.194196 227.593649 \nL 360.508482 227.593649 \nL 360.508482 207.066097 \nL 355.194196 207.066097 \nz\n\" style=\"fill:#808080;opacity:0.7;\"/>\n   </g>\n   <g id=\"patch_377\">\n    <path clip-path=\"url(#p850290565c)\" d=\"M 360.508482 229.261022 \nL 365.822768 229.261022 \nL 365.822768 195.520332 \nL 360.508482 195.520332 \nz\n\" style=\"fill:#808080;opacity:0.7;\"/>\n   </g>\n   <g id=\"patch_378\">\n    <path clip-path=\"url(#p850290565c)\" d=\"M 365.822768 188.638125 \nL 371.137054 188.638125 \nL 371.137054 169.198125 \nL 365.822768 169.198125 \nz\n\" style=\"fill:#808080;opacity:0.7;\"/>\n   </g>\n   <g id=\"patch_379\">\n    <path clip-path=\"url(#p850290565c)\" d=\"M 371.137054 206.305817 \nL 376.451339 206.305817 \nL 376.451339 177.035048 \nL 371.137054 177.035048 \nz\n\" style=\"fill:#808080;opacity:0.7;\"/>\n   </g>\n   <g id=\"patch_380\">\n    <path clip-path=\"url(#p850290565c)\" d=\"M 376.451339 192.669208 \nL 381.765625 192.669208 \nL 381.765625 176.04959 \nL 376.451339 176.04959 \nz\n\" style=\"fill:#808080;opacity:0.7;\"/>\n   </g>\n   <g id=\"patch_381\">\n    <path clip-path=\"url(#p850290565c)\" d=\"M 381.765625 200.783031 \nL 387.079911 200.783031 \nL 387.079911 176.167182 \nL 381.765625 176.167182 \nz\n\" style=\"fill:#808080;opacity:0.7;\"/>\n   </g>\n   <g id=\"patch_382\">\n    <path clip-path=\"url(#p850290565c)\" d=\"M 387.079911 213.937125 \nL 392.394196 213.937125 \nL 392.394196 187.436625 \nL 387.079911 187.436625 \nz\n\" style=\"fill:#808080;opacity:0.7;\"/>\n   </g>\n   <g id=\"patch_383\">\n    <path clip-path=\"url(#p850290565c)\" d=\"M 392.394196 218.014125 \nL 397.708482 218.014125 \nL 397.708482 192.31667 \nL 392.394196 192.31667 \nz\n\" style=\"fill:#808080;opacity:0.7;\"/>\n   </g>\n   <g id=\"patch_384\">\n    <path clip-path=\"url(#p850290565c)\" d=\"M 397.708482 203.081498 \nL 403.022768 203.081498 \nL 403.022768 161.820294 \nL 397.708482 161.820294 \nz\n\" style=\"fill:#808080;opacity:0.7;\"/>\n   </g>\n   <g id=\"patch_385\">\n    <path clip-path=\"url(#p850290565c)\" d=\"M 403.022768 212.905595 \nL 408.337054 212.905595 \nL 408.337054 189.327764 \nL 403.022768 189.327764 \nz\n\" style=\"fill:#808080;opacity:0.7;\"/>\n   </g>\n   <g id=\"patch_386\">\n    <path clip-path=\"url(#p850290565c)\" d=\"M 408.337054 194.186868 \nL 413.651339 194.186868 \nL 413.651339 168.797167 \nL 408.337054 168.797167 \nz\n\" style=\"fill:#808080;opacity:0.7;\"/>\n   </g>\n   <g id=\"patch_387\">\n    <path clip-path=\"url(#p850290565c)\" d=\"M 413.651339 241.699554 \nL 418.965625 241.699554 \nL 418.965625 212.578125 \nL 413.651339 212.578125 \nz\n\" style=\"fill:#808080;opacity:0.7;\"/>\n   </g>\n   <g id=\"patch_388\">\n    <path clip-path=\"url(#p850290565c)\" d=\"M 418.965625 189.235301 \nL 424.279911 189.235301 \nL 424.279911 168.130831 \nL 418.965625 168.130831 \nz\n\" style=\"fill:#808080;opacity:0.7;\"/>\n   </g>\n   <g id=\"patch_389\">\n    <path clip-path=\"url(#p850290565c)\" d=\"M 424.279911 211.640884 \nL 429.594196 211.640884 \nL 429.594196 189.147091 \nL 424.279911 189.147091 \nz\n\" style=\"fill:#808080;opacity:0.7;\"/>\n   </g>\n   <g id=\"patch_390\">\n    <path clip-path=\"url(#p850290565c)\" d=\"M 429.594196 190.95767 \nL 434.908482 190.95767 \nL 434.908482 168.719489 \nL 429.594196 168.719489 \nz\n\" style=\"fill:#808080;opacity:0.7;\"/>\n   </g>\n   <g id=\"patch_391\">\n    <path clip-path=\"url(#p850290565c)\" d=\"M 434.908482 196.159749 \nL 440.222768 196.159749 \nL 440.222768 166.358328 \nL 434.908482 166.358328 \nz\n\" style=\"fill:#808080;opacity:0.7;\"/>\n   </g>\n   <g id=\"patch_392\">\n    <path clip-path=\"url(#p850290565c)\" d=\"M 440.222768 230.570519 \nL 445.537054 230.570519 \nL 445.537054 199.945167 \nL 440.222768 199.945167 \nz\n\" style=\"fill:#808080;opacity:0.7;\"/>\n   </g>\n   <g id=\"patch_393\">\n    <path clip-path=\"url(#p850290565c)\" d=\"M 445.537054 211.147599 \nL 450.851339 211.147599 \nL 450.851339 185.398125 \nL 445.537054 185.398125 \nz\n\" style=\"fill:#808080;opacity:0.7;\"/>\n   </g>\n   <g id=\"patch_394\">\n    <path clip-path=\"url(#p850290565c)\" d=\"M 450.851339 183.384792 \nL 456.165625 183.384792 \nL 456.165625 164.593681 \nL 450.851339 164.593681 \nz\n\" style=\"fill:#808080;opacity:0.7;\"/>\n   </g>\n   <g id=\"patch_395\">\n    <path clip-path=\"url(#p850290565c)\" d=\"M 456.165625 240.177893 \nL 461.479911 240.177893 \nL 461.479911 216.251098 \nL 456.165625 216.251098 \nz\n\" style=\"fill:#808080;opacity:0.7;\"/>\n   </g>\n   <g id=\"patch_396\">\n    <path clip-path=\"url(#p850290565c)\" d=\"M 461.479911 194.629068 \nL 466.794196 194.629068 \nL 466.794196 163.859257 \nL 461.479911 163.859257 \nz\n\" style=\"fill:#808080;opacity:0.7;\"/>\n   </g>\n   <g id=\"patch_397\">\n    <path clip-path=\"url(#p850290565c)\" d=\"M 466.794196 216.828089 \nL 472.108482 216.828089 \nL 472.108482 183.61907 \nL 466.794196 183.61907 \nz\n\" style=\"fill:#808080;opacity:0.7;\"/>\n   </g>\n   <g id=\"patch_398\">\n    <path clip-path=\"url(#p850290565c)\" d=\"M 472.108482 183.728364 \nL 477.422768 183.728364 \nL 477.422768 162.578057 \nL 472.108482 162.578057 \nz\n\" style=\"fill:#808080;opacity:0.7;\"/>\n   </g>\n   <g id=\"patch_399\">\n    <path clip-path=\"url(#p850290565c)\" d=\"M 477.422768 213.855038 \nL 482.737054 213.855038 \nL 482.737054 186.492622 \nL 477.422768 186.492622 \nz\n\" style=\"fill:#808080;opacity:0.7;\"/>\n   </g>\n   <g id=\"patch_400\">\n    <path clip-path=\"url(#p850290565c)\" d=\"M 482.737054 193.579396 \nL 488.051339 193.579396 \nL 488.051339 161.945148 \nL 482.737054 161.945148 \nz\n\" style=\"fill:#808080;opacity:0.7;\"/>\n   </g>\n   <g id=\"patch_401\">\n    <path clip-path=\"url(#p850290565c)\" d=\"M 488.051339 195.692211 \nL 493.365625 195.692211 \nL 493.365625 172.936863 \nL 488.051339 172.936863 \nz\n\" style=\"fill:#808080;opacity:0.7;\"/>\n   </g>\n   <g id=\"patch_402\">\n    <path clip-path=\"url(#p850290565c)\" d=\"M 493.365625 212.931112 \nL 498.679911 212.931112 \nL 498.679911 177.985398 \nL 493.365625 177.985398 \nz\n\" style=\"fill:#808080;opacity:0.7;\"/>\n   </g>\n   <g id=\"patch_403\">\n    <path clip-path=\"url(#p850290565c)\" d=\"M 498.679911 201.078894 \nL 503.994196 201.078894 \nL 503.994196 174.944279 \nL 498.679911 174.944279 \nz\n\" style=\"fill:#808080;opacity:0.7;\"/>\n   </g>\n   <g id=\"patch_404\">\n    <path clip-path=\"url(#p850290565c)\" d=\"M 503.994196 195.785386 \nL 509.308482 195.785386 \nL 509.308482 172.933412 \nL 503.994196 172.933412 \nz\n\" style=\"fill:#808080;opacity:0.7;\"/>\n   </g>\n   <g id=\"patch_405\">\n    <path clip-path=\"url(#p850290565c)\" d=\"M 509.308482 189.475125 \nL 514.622768 189.475125 \nL 514.622768 166.032375 \nL 509.308482 166.032375 \nz\n\" style=\"fill:#808080;opacity:0.7;\"/>\n   </g>\n   <g id=\"patch_406\">\n    <path clip-path=\"url(#p850290565c)\" d=\"M 514.622768 217.230557 \nL 519.937054 217.230557 \nL 519.937054 183.928936 \nL 514.622768 183.928936 \nz\n\" style=\"fill:#808080;opacity:0.7;\"/>\n   </g>\n   <g id=\"patch_407\">\n    <path clip-path=\"url(#p850290565c)\" d=\"M 519.937054 204.584007 \nL 525.251339 204.584007 \nL 525.251339 185.398125 \nL 519.937054 185.398125 \nz\n\" style=\"fill:#808080;opacity:0.7;\"/>\n   </g>\n   <g id=\"patch_408\">\n    <path clip-path=\"url(#p850290565c)\" d=\"M 525.251339 218.391189 \nL 530.565625 218.391189 \nL 530.565625 190.11142 \nL 525.251339 190.11142 \nz\n\" style=\"fill:#808080;opacity:0.7;\"/>\n   </g>\n   <g id=\"patch_409\">\n    <path clip-path=\"url(#p850290565c)\" d=\"M 530.565625 206.070238 \nL 535.879911 206.070238 \nL 535.879911 188.613787 \nL 530.565625 188.613787 \nz\n\" style=\"fill:#808080;opacity:0.7;\"/>\n   </g>\n   <g id=\"patch_410\">\n    <path clip-path=\"url(#p850290565c)\" d=\"M 535.879911 209.218799 \nL 541.194196 209.218799 \nL 541.194196 182.649586 \nL 535.879911 182.649586 \nz\n\" style=\"fill:#808080;opacity:0.7;\"/>\n   </g>\n   <g id=\"patch_411\">\n    <path clip-path=\"url(#p850290565c)\" d=\"M 541.194196 204.716142 \nL 546.508482 204.716142 \nL 546.508482 178.659282 \nL 541.194196 178.659282 \nz\n\" style=\"fill:#808080;opacity:0.7;\"/>\n   </g>\n   <g id=\"patch_412\">\n    <path clip-path=\"url(#p850290565c)\" d=\"M 546.508482 186.738509 \nL 551.822768 186.738509 \nL 551.822768 159.930837 \nL 546.508482 159.930837 \nz\n\" style=\"fill:#808080;opacity:0.7;\"/>\n   </g>\n   <g id=\"patch_413\">\n    <path clip-path=\"url(#p850290565c)\" d=\"M 551.822768 209.686636 \nL 557.137054 209.686636 \nL 557.137054 182.699402 \nL 551.822768 182.699402 \nz\n\" style=\"fill:#808080;opacity:0.7;\"/>\n   </g>\n   <g id=\"patch_414\">\n    <path clip-path=\"url(#p850290565c)\" d=\"M 557.137054 212.950454 \nL 562.451339 212.950454 \nL 562.451339 186.142783 \nL 557.137054 186.142783 \nz\n\" style=\"fill:#808080;opacity:0.7;\"/>\n   </g>\n   <g id=\"patch_415\">\n    <path clip-path=\"url(#p850290565c)\" d=\"M 562.451339 199.690529 \nL 567.765625 199.690529 \nL 567.765625 175.503383 \nL 562.451339 175.503383 \nz\n\" style=\"fill:#808080;opacity:0.7;\"/>\n   </g>\n   <g id=\"patch_416\">\n    <path clip-path=\"url(#p850290565c)\" d=\"M 567.765625 217.289325 \nL 573.079911 217.289325 \nL 573.079911 192.646125 \nL 567.765625 192.646125 \nz\n\" style=\"fill:#808080;opacity:0.7;\"/>\n   </g>\n   <g id=\"patch_417\">\n    <path clip-path=\"url(#p850290565c)\" d=\"M 573.079911 201.982532 \nL 578.394196 201.982532 \nL 578.394196 169.504735 \nL 573.079911 169.504735 \nz\n\" style=\"fill:#808080;opacity:0.7;\"/>\n   </g>\n   <g id=\"patch_418\">\n    <path clip-path=\"url(#p850290565c)\" d=\"M 578.394196 219.928691 \nL 583.708482 219.928691 \nL 583.708482 193.945295 \nL 578.394196 193.945295 \nz\n\" style=\"fill:#808080;opacity:0.7;\"/>\n   </g>\n   <g id=\"patch_419\">\n    <path clip-path=\"url(#p850290565c)\" d=\"M 583.708482 206.757876 \nL 589.022768 206.757876 \nL 589.022768 183.024819 \nL 583.708482 183.024819 \nz\n\" style=\"fill:#808080;opacity:0.7;\"/>\n   </g>\n   <g id=\"patch_420\">\n    <path clip-path=\"url(#p850290565c)\" d=\"M 589.022768 191.463084 \nL 594.337054 191.463084 \nL 594.337054 174.615976 \nL 589.022768 174.615976 \nz\n\" style=\"fill:#808080;opacity:0.7;\"/>\n   </g>\n   <g id=\"patch_421\">\n    <path clip-path=\"url(#p850290565c)\" d=\"M 594.337054 208.982002 \nL 599.651339 208.982002 \nL 599.651339 187.907048 \nL 594.337054 187.907048 \nz\n\" style=\"fill:#808080;opacity:0.7;\"/>\n   </g>\n   <g id=\"patch_422\">\n    <path clip-path=\"url(#p850290565c)\" d=\"M 599.651339 194.068201 \nL 604.965625 194.068201 \nL 604.965625 179.205214 \nL 599.651339 179.205214 \nz\n\" style=\"fill:#808080;opacity:0.7;\"/>\n   </g>\n   <g id=\"patch_423\">\n    <path clip-path=\"url(#p850290565c)\" d=\"M 46.965625 218.014125 \nL 52.279911 218.014125 \nL 52.279911 22.318125 \nL 46.965625 22.318125 \nz\n\" style=\"fill:#008000;opacity:0.7;\"/>\n   </g>\n   <g id=\"patch_424\">\n    <path clip-path=\"url(#p850290565c)\" d=\"M 52.279911 283.246125 \nL 57.594196 283.246125 \nL 57.594196 22.318125 \nL 52.279911 22.318125 \nz\n\" style=\"fill:#008000;opacity:0.7;\"/>\n   </g>\n   <g id=\"patch_425\">\n    <path clip-path=\"url(#p850290565c)\" d=\"M 57.594196 87.550125 \nL 62.908482 87.550125 \nL 62.908482 22.318125 \nL 57.594196 22.318125 \nz\n\" style=\"fill:#008000;opacity:0.7;\"/>\n   </g>\n   <g id=\"patch_426\">\n    <path clip-path=\"url(#p850290565c)\" d=\"M 62.908482 229.874489 \nL 68.222768 229.874489 \nL 68.222768 22.318125 \nL 62.908482 22.318125 \nz\n\" style=\"fill:#008000;opacity:0.7;\"/>\n   </g>\n   <g id=\"patch_427\">\n    <path clip-path=\"url(#p850290565c)\" d=\"M 68.222768 185.398125 \nL 73.537054 185.398125 \nL 73.537054 22.318125 \nL 68.222768 22.318125 \nz\n\" style=\"fill:#008000;opacity:0.7;\"/>\n   </g>\n   <g id=\"patch_428\">\n    <path clip-path=\"url(#p850290565c)\" d=\"M 73.537054 255.289554 \nL 78.851339 255.289554 \nL 78.851339 22.318125 \nL 73.537054 22.318125 \nz\n\" style=\"fill:#008000;opacity:0.7;\"/>\n   </g>\n   <g id=\"patch_429\">\n    <path clip-path=\"url(#p850290565c)\" d=\"M 78.851339 185.398125 \nL 84.165625 185.398125 \nL 84.165625 22.318125 \nL 78.851339 22.318125 \nz\n\" style=\"fill:#008000;opacity:0.7;\"/>\n   </g>\n   <g id=\"patch_430\">\n    <path clip-path=\"url(#p850290565c)\" d=\"M 84.165625 162.100982 \nL 89.479911 162.100982 \nL 89.479911 22.318125 \nL 84.165625 22.318125 \nz\n\" style=\"fill:#008000;opacity:0.7;\"/>\n   </g>\n   <g id=\"patch_431\">\n    <path clip-path=\"url(#p850290565c)\" d=\"M 89.479911 152.782125 \nL 94.794196 152.782125 \nL 94.794196 22.318125 \nL 89.479911 22.318125 \nz\n\" style=\"fill:#008000;opacity:0.7;\"/>\n   </g>\n   <g id=\"patch_432\">\n    <path clip-path=\"url(#p850290565c)\" d=\"M 94.794196 176.814967 \nL 100.108482 176.814967 \nL 100.108482 22.318125 \nL 94.794196 22.318125 \nz\n\" style=\"fill:#008000;opacity:0.7;\"/>\n   </g>\n   <g id=\"patch_433\">\n    <path clip-path=\"url(#p850290565c)\" d=\"M 100.108482 185.398125 \nL 105.422768 185.398125 \nL 105.422768 22.318125 \nL 100.108482 22.318125 \nz\n\" style=\"fill:#008000;opacity:0.7;\"/>\n   </g>\n   <g id=\"patch_434\">\n    <path clip-path=\"url(#p850290565c)\" d=\"M 105.422768 170.57267 \nL 110.737054 170.57267 \nL 110.737054 22.318125 \nL 105.422768 22.318125 \nz\n\" style=\"fill:#008000;opacity:0.7;\"/>\n   </g>\n   <g id=\"patch_435\">\n    <path clip-path=\"url(#p850290565c)\" d=\"M 110.737054 140.921761 \nL 116.051339 140.921761 \nL 116.051339 22.318125 \nL 110.737054 22.318125 \nz\n\" style=\"fill:#008000;opacity:0.7;\"/>\n   </g>\n   <g id=\"patch_436\">\n    <path clip-path=\"url(#p850290565c)\" d=\"M 116.051339 131.038125 \nL 121.365625 131.038125 \nL 121.365625 22.318125 \nL 116.051339 22.318125 \nz\n\" style=\"fill:#008000;opacity:0.7;\"/>\n   </g>\n   <g id=\"patch_437\">\n    <path clip-path=\"url(#p850290565c)\" d=\"M 121.365625 171.808125 \nL 126.679911 171.808125 \nL 126.679911 22.318125 \nL 121.365625 22.318125 \nz\n\" style=\"fill:#008000;opacity:0.7;\"/>\n   </g>\n   <g id=\"patch_438\">\n    <path clip-path=\"url(#p850290565c)\" d=\"M 126.679911 135.219663 \nL 131.994196 135.219663 \nL 131.994196 22.318125 \nL 126.679911 22.318125 \nz\n\" style=\"fill:#008000;opacity:0.7;\"/>\n   </g>\n   <g id=\"patch_439\">\n    <path clip-path=\"url(#p850290565c)\" d=\"M 131.994196 220.343839 \nL 137.308482 220.343839 \nL 137.308482 33.966696 \nL 131.994196 33.966696 \nz\n\" style=\"fill:#008000;opacity:0.7;\"/>\n   </g>\n   <g id=\"patch_440\">\n    <path clip-path=\"url(#p850290565c)\" d=\"M 137.308482 228.886125 \nL 142.622768 228.886125 \nL 142.622768 22.318125 \nL 137.308482 22.318125 \nz\n\" style=\"fill:#008000;opacity:0.7;\"/>\n   </g>\n   <g id=\"patch_441\">\n    <path clip-path=\"url(#p850290565c)\" d=\"M 142.622768 152.782125 \nL 147.937054 152.782125 \nL 147.937054 22.318125 \nL 142.622768 22.318125 \nz\n\" style=\"fill:#008000;opacity:0.7;\"/>\n   </g>\n   <g id=\"patch_442\">\n    <path clip-path=\"url(#p850290565c)\" d=\"M 147.937054 221.638125 \nL 153.251339 221.638125 \nL 153.251339 22.318125 \nL 147.937054 22.318125 \nz\n\" style=\"fill:#008000;opacity:0.7;\"/>\n   </g>\n   <g id=\"patch_443\">\n    <path clip-path=\"url(#p850290565c)\" d=\"M 153.251339 193.981283 \nL 158.565625 193.981283 \nL 158.565625 22.318125 \nL 153.251339 22.318125 \nz\n\" style=\"fill:#008000;opacity:0.7;\"/>\n   </g>\n   <g id=\"patch_444\">\n    <path clip-path=\"url(#p850290565c)\" d=\"M 158.565625 206.669429 \nL 163.879911 206.669429 \nL 163.879911 22.318125 \nL 158.565625 22.318125 \nz\n\" style=\"fill:#008000;opacity:0.7;\"/>\n   </g>\n   <g id=\"patch_445\">\n    <path clip-path=\"url(#p850290565c)\" d=\"M 163.879911 168.049189 \nL 169.194196 168.049189 \nL 169.194196 22.318125 \nL 163.879911 22.318125 \nz\n\" style=\"fill:#008000;opacity:0.7;\"/>\n   </g>\n   <g id=\"patch_446\">\n    <path clip-path=\"url(#p850290565c)\" d=\"M 169.194196 185.398125 \nL 174.508482 185.398125 \nL 174.508482 22.318125 \nL 169.194196 22.318125 \nz\n\" style=\"fill:#008000;opacity:0.7;\"/>\n   </g>\n   <g id=\"patch_447\">\n    <path clip-path=\"url(#p850290565c)\" d=\"M 174.508482 155.444656 \nL 179.822768 155.444656 \nL 179.822768 22.318125 \nL 174.508482 22.318125 \nz\n\" style=\"fill:#008000;opacity:0.7;\"/>\n   </g>\n   <g id=\"patch_448\">\n    <path clip-path=\"url(#p850290565c)\" d=\"M 179.822768 200.783031 \nL 185.137054 200.783031 \nL 185.137054 22.318125 \nL 179.822768 22.318125 \nz\n\" style=\"fill:#008000;opacity:0.7;\"/>\n   </g>\n   <g id=\"patch_449\">\n    <path clip-path=\"url(#p850290565c)\" d=\"M 185.137054 182.321144 \nL 190.451339 182.321144 \nL 190.451339 22.318125 \nL 185.137054 22.318125 \nz\n\" style=\"fill:#008000;opacity:0.7;\"/>\n   </g>\n   <g id=\"patch_450\">\n    <path clip-path=\"url(#p850290565c)\" d=\"M 190.451339 185.398125 \nL 195.765625 185.398125 \nL 195.765625 28.358125 \nL 190.451339 28.358125 \nz\n\" style=\"fill:#008000;opacity:0.7;\"/>\n   </g>\n   <g id=\"patch_451\">\n    <path clip-path=\"url(#p850290565c)\" d=\"M 195.765625 212.083943 \nL 201.079911 212.083943 \nL 201.079911 22.318125 \nL 195.765625 22.318125 \nz\n\" style=\"fill:#008000;opacity:0.7;\"/>\n   </g>\n   <g id=\"patch_452\">\n    <path clip-path=\"url(#p850290565c)\" d=\"M 201.079911 216.869704 \nL 206.394196 216.869704 \nL 206.394196 22.318125 \nL 201.079911 22.318125 \nz\n\" style=\"fill:#008000;opacity:0.7;\"/>\n   </g>\n   <g id=\"patch_453\">\n    <path clip-path=\"url(#p850290565c)\" d=\"M 206.394196 179.774677 \nL 211.708482 179.774677 \nL 211.708482 22.318125 \nL 206.394196 22.318125 \nz\n\" style=\"fill:#008000;opacity:0.7;\"/>\n   </g>\n   <g id=\"patch_454\">\n    <path clip-path=\"url(#p850290565c)\" d=\"M 211.708482 182.809554 \nL 217.022768 182.809554 \nL 217.022768 22.318125 \nL 211.708482 22.318125 \nz\n\" style=\"fill:#008000;opacity:0.7;\"/>\n   </g>\n   <g id=\"patch_455\">\n    <path clip-path=\"url(#p850290565c)\" d=\"M 217.022768 175.205625 \nL 222.337054 175.205625 \nL 222.337054 22.318125 \nL 217.022768 22.318125 \nz\n\" style=\"fill:#008000;opacity:0.7;\"/>\n   </g>\n   <g id=\"patch_456\">\n    <path clip-path=\"url(#p850290565c)\" d=\"M 222.337054 167.835663 \nL 227.651339 167.835663 \nL 227.651339 22.318125 \nL 222.337054 22.318125 \nz\n\" style=\"fill:#008000;opacity:0.7;\"/>\n   </g>\n   <g id=\"patch_457\">\n    <path clip-path=\"url(#p850290565c)\" d=\"M 227.651339 196.882632 \nL 232.965625 196.882632 \nL 232.965625 22.318125 \nL 227.651339 22.318125 \nz\n\" style=\"fill:#008000;opacity:0.7;\"/>\n   </g>\n   <g id=\"patch_458\">\n    <path clip-path=\"url(#p850290565c)\" d=\"M 232.965625 167.278125 \nL 238.279911 167.278125 \nL 238.279911 22.318125 \nL 232.965625 22.318125 \nz\n\" style=\"fill:#008000;opacity:0.7;\"/>\n   </g>\n   <g id=\"patch_459\">\n    <path clip-path=\"url(#p850290565c)\" d=\"M 238.279911 230.698125 \nL 243.594196 230.698125 \nL 243.594196 22.318125 \nL 238.279911 22.318125 \nz\n\" style=\"fill:#008000;opacity:0.7;\"/>\n   </g>\n   <g id=\"patch_460\">\n    <path clip-path=\"url(#p850290565c)\" d=\"M 243.594196 187.572525 \nL 248.908482 187.572525 \nL 248.908482 22.318125 \nL 243.594196 22.318125 \nz\n\" style=\"fill:#008000;opacity:0.7;\"/>\n   </g>\n   <g id=\"patch_461\">\n    <path clip-path=\"url(#p850290565c)\" d=\"M 248.908482 187.572525 \nL 254.222768 187.572525 \nL 254.222768 22.318125 \nL 248.908482 22.318125 \nz\n\" style=\"fill:#008000;opacity:0.7;\"/>\n   </g>\n   <g id=\"patch_462\">\n    <path clip-path=\"url(#p850290565c)\" d=\"M 254.222768 173.167125 \nL 259.537054 173.167125 \nL 259.537054 22.318125 \nL 254.222768 22.318125 \nz\n\" style=\"fill:#008000;opacity:0.7;\"/>\n   </g>\n   <g id=\"patch_463\">\n    <path clip-path=\"url(#p850290565c)\" d=\"M 259.537054 187.411458 \nL 264.851339 187.411458 \nL 264.851339 22.318125 \nL 259.537054 22.318125 \nz\n\" style=\"fill:#008000;opacity:0.7;\"/>\n   </g>\n   <g id=\"patch_464\">\n    <path clip-path=\"url(#p850290565c)\" d=\"M 264.851339 181.515268 \nL 270.165625 181.515268 \nL 270.165625 22.318125 \nL 264.851339 22.318125 \nz\n\" style=\"fill:#008000;opacity:0.7;\"/>\n   </g>\n   <g id=\"patch_465\">\n    <path clip-path=\"url(#p850290565c)\" d=\"M 270.165625 202.665419 \nL 275.479911 202.665419 \nL 275.479911 22.318125 \nL 270.165625 22.318125 \nz\n\" style=\"fill:#008000;opacity:0.7;\"/>\n   </g>\n   <g id=\"patch_466\">\n    <path clip-path=\"url(#p850290565c)\" d=\"M 275.479911 156.619301 \nL 280.794196 156.619301 \nL 280.794196 22.318125 \nL 275.479911 22.318125 \nz\n\" style=\"fill:#008000;opacity:0.7;\"/>\n   </g>\n   <g id=\"patch_467\">\n    <path clip-path=\"url(#p850290565c)\" d=\"M 280.794196 190.774389 \nL 286.108482 190.774389 \nL 286.108482 22.318125 \nL 280.794196 22.318125 \nz\n\" style=\"fill:#008000;opacity:0.7;\"/>\n   </g>\n   <g id=\"patch_468\">\n    <path clip-path=\"url(#p850290565c)\" d=\"M 286.108482 183.783472 \nL 291.422768 183.783472 \nL 291.422768 22.318125 \nL 286.108482 22.318125 \nz\n\" style=\"fill:#008000;opacity:0.7;\"/>\n   </g>\n   <g id=\"patch_469\">\n    <path clip-path=\"url(#p850290565c)\" d=\"M 291.422768 180.648222 \nL 296.737054 180.648222 \nL 296.737054 22.318125 \nL 291.422768 22.318125 \nz\n\" style=\"fill:#008000;opacity:0.7;\"/>\n   </g>\n   <g id=\"patch_470\">\n    <path clip-path=\"url(#p850290565c)\" d=\"M 296.737054 188.209849 \nL 302.051339 188.209849 \nL 302.051339 22.318125 \nL 296.737054 22.318125 \nz\n\" style=\"fill:#008000;opacity:0.7;\"/>\n   </g>\n   <g id=\"patch_471\">\n    <path clip-path=\"url(#p850290565c)\" d=\"M 302.051339 175.641202 \nL 307.365625 175.641202 \nL 307.365625 22.318125 \nL 302.051339 22.318125 \nz\n\" style=\"fill:#008000;opacity:0.7;\"/>\n   </g>\n   <g id=\"patch_472\">\n    <path clip-path=\"url(#p850290565c)\" d=\"M 307.365625 199.218464 \nL 312.679911 199.218464 \nL 312.679911 22.318125 \nL 307.365625 22.318125 \nz\n\" style=\"fill:#008000;opacity:0.7;\"/>\n   </g>\n   <g id=\"patch_473\">\n    <path clip-path=\"url(#p850290565c)\" d=\"M 312.679911 186.768545 \nL 317.994196 186.768545 \nL 317.994196 22.318125 \nL 312.679911 22.318125 \nz\n\" style=\"fill:#008000;opacity:0.7;\"/>\n   </g>\n   <g id=\"patch_474\">\n    <path clip-path=\"url(#p850290565c)\" d=\"M 317.994196 194.991066 \nL 323.308482 194.991066 \nL 323.308482 22.318125 \nL 317.994196 22.318125 \nz\n\" style=\"fill:#008000;opacity:0.7;\"/>\n   </g>\n   <g id=\"patch_475\">\n    <path clip-path=\"url(#p850290565c)\" d=\"M 323.308482 182.809554 \nL 328.622768 182.809554 \nL 328.622768 22.318125 \nL 323.308482 22.318125 \nz\n\" style=\"fill:#008000;opacity:0.7;\"/>\n   </g>\n   <g id=\"patch_476\">\n    <path clip-path=\"url(#p850290565c)\" d=\"M 328.622768 189.250408 \nL 333.937054 189.250408 \nL 333.937054 22.318125 \nL 328.622768 22.318125 \nz\n\" style=\"fill:#008000;opacity:0.7;\"/>\n   </g>\n   <g id=\"patch_477\">\n    <path clip-path=\"url(#p850290565c)\" d=\"M 333.937054 200.22358 \nL 339.251339 200.22358 \nL 339.251339 22.318125 \nL 333.937054 22.318125 \nz\n\" style=\"fill:#008000;opacity:0.7;\"/>\n   </g>\n   <g id=\"patch_478\">\n    <path clip-path=\"url(#p850290565c)\" d=\"M 339.251339 189.022125 \nL 344.565625 189.022125 \nL 344.565625 22.318125 \nL 339.251339 22.318125 \nz\n\" style=\"fill:#008000;opacity:0.7;\"/>\n   </g>\n   <g id=\"patch_479\">\n    <path clip-path=\"url(#p850290565c)\" d=\"M 344.565625 215.598125 \nL 349.879911 215.598125 \nL 349.879911 24.734125 \nL 344.565625 24.734125 \nz\n\" style=\"fill:#008000;opacity:0.7;\"/>\n   </g>\n   <g id=\"patch_480\">\n    <path clip-path=\"url(#p850290565c)\" d=\"M 349.879911 189.991928 \nL 355.194196 189.991928 \nL 355.194196 22.318125 \nL 349.879911 22.318125 \nz\n\" style=\"fill:#008000;opacity:0.7;\"/>\n   </g>\n   <g id=\"patch_481\">\n    <path clip-path=\"url(#p850290565c)\" d=\"M 355.194196 207.066097 \nL 360.508482 207.066097 \nL 360.508482 22.318125 \nL 355.194196 22.318125 \nz\n\" style=\"fill:#008000;opacity:0.7;\"/>\n   </g>\n   <g id=\"patch_482\">\n    <path clip-path=\"url(#p850290565c)\" d=\"M 360.508482 195.520332 \nL 365.822768 195.520332 \nL 365.822768 24.567504 \nL 360.508482 24.567504 \nz\n\" style=\"fill:#008000;opacity:0.7;\"/>\n   </g>\n   <g id=\"patch_483\">\n    <path clip-path=\"url(#p850290565c)\" d=\"M 365.822768 169.198125 \nL 371.137054 169.198125 \nL 371.137054 22.318125 \nL 365.822768 22.318125 \nz\n\" style=\"fill:#008000;opacity:0.7;\"/>\n   </g>\n   <g id=\"patch_484\">\n    <path clip-path=\"url(#p850290565c)\" d=\"M 371.137054 177.035048 \nL 376.451339 177.035048 \nL 376.451339 22.318125 \nL 371.137054 22.318125 \nz\n\" style=\"fill:#008000;opacity:0.7;\"/>\n   </g>\n   <g id=\"patch_485\">\n    <path clip-path=\"url(#p850290565c)\" d=\"M 376.451339 176.04959 \nL 381.765625 176.04959 \nL 381.765625 22.318125 \nL 376.451339 22.318125 \nz\n\" style=\"fill:#008000;opacity:0.7;\"/>\n   </g>\n   <g id=\"patch_486\">\n    <path clip-path=\"url(#p850290565c)\" d=\"M 381.765625 176.167182 \nL 387.079911 176.167182 \nL 387.079911 22.318125 \nL 381.765625 22.318125 \nz\n\" style=\"fill:#008000;opacity:0.7;\"/>\n   </g>\n   <g id=\"patch_487\">\n    <path clip-path=\"url(#p850290565c)\" d=\"M 387.079911 187.436625 \nL 392.394196 187.436625 \nL 392.394196 22.318125 \nL 387.079911 22.318125 \nz\n\" style=\"fill:#008000;opacity:0.7;\"/>\n   </g>\n   <g id=\"patch_488\">\n    <path clip-path=\"url(#p850290565c)\" d=\"M 392.394196 192.31667 \nL 397.708482 192.31667 \nL 397.708482 22.318125 \nL 392.394196 22.318125 \nz\n\" style=\"fill:#008000;opacity:0.7;\"/>\n   </g>\n   <g id=\"patch_489\">\n    <path clip-path=\"url(#p850290565c)\" d=\"M 397.708482 161.820294 \nL 403.022768 161.820294 \nL 403.022768 22.318125 \nL 397.708482 22.318125 \nz\n\" style=\"fill:#008000;opacity:0.7;\"/>\n   </g>\n   <g id=\"patch_490\">\n    <path clip-path=\"url(#p850290565c)\" d=\"M 403.022768 189.327764 \nL 408.337054 189.327764 \nL 408.337054 22.318125 \nL 403.022768 22.318125 \nz\n\" style=\"fill:#008000;opacity:0.7;\"/>\n   </g>\n   <g id=\"patch_491\">\n    <path clip-path=\"url(#p850290565c)\" d=\"M 408.337054 168.797167 \nL 413.651339 168.797167 \nL 413.651339 22.318125 \nL 408.337054 22.318125 \nz\n\" style=\"fill:#008000;opacity:0.7;\"/>\n   </g>\n   <g id=\"patch_492\">\n    <path clip-path=\"url(#p850290565c)\" d=\"M 413.651339 212.578125 \nL 418.965625 212.578125 \nL 418.965625 22.318125 \nL 413.651339 22.318125 \nz\n\" style=\"fill:#008000;opacity:0.7;\"/>\n   </g>\n   <g id=\"patch_493\">\n    <path clip-path=\"url(#p850290565c)\" d=\"M 418.965625 168.130831 \nL 424.279911 168.130831 \nL 424.279911 22.318125 \nL 418.965625 22.318125 \nz\n\" style=\"fill:#008000;opacity:0.7;\"/>\n   </g>\n   <g id=\"patch_494\">\n    <path clip-path=\"url(#p850290565c)\" d=\"M 424.279911 189.147091 \nL 429.594196 189.147091 \nL 429.594196 24.192608 \nL 424.279911 24.192608 \nz\n\" style=\"fill:#008000;opacity:0.7;\"/>\n   </g>\n   <g id=\"patch_495\">\n    <path clip-path=\"url(#p850290565c)\" d=\"M 429.594196 168.719489 \nL 434.908482 168.719489 \nL 434.908482 24.171307 \nL 429.594196 24.171307 \nz\n\" style=\"fill:#008000;opacity:0.7;\"/>\n   </g>\n   <g id=\"patch_496\">\n    <path clip-path=\"url(#p850290565c)\" d=\"M 434.908482 166.358328 \nL 440.222768 166.358328 \nL 440.222768 25.629394 \nL 434.908482 25.629394 \nz\n\" style=\"fill:#008000;opacity:0.7;\"/>\n   </g>\n   <g id=\"patch_497\">\n    <path clip-path=\"url(#p850290565c)\" d=\"M 440.222768 199.945167 \nL 445.537054 199.945167 \nL 445.537054 22.318125 \nL 440.222768 22.318125 \nz\n\" style=\"fill:#008000;opacity:0.7;\"/>\n   </g>\n   <g id=\"patch_498\">\n    <path clip-path=\"url(#p850290565c)\" d=\"M 445.537054 185.398125 \nL 450.851339 185.398125 \nL 450.851339 22.318125 \nL 445.537054 22.318125 \nz\n\" style=\"fill:#008000;opacity:0.7;\"/>\n   </g>\n   <g id=\"patch_499\">\n    <path clip-path=\"url(#p850290565c)\" d=\"M 450.851339 164.593681 \nL 456.165625 164.593681 \nL 456.165625 22.318125 \nL 450.851339 22.318125 \nz\n\" style=\"fill:#008000;opacity:0.7;\"/>\n   </g>\n   <g id=\"patch_500\">\n    <path clip-path=\"url(#p850290565c)\" d=\"M 456.165625 216.251098 \nL 461.479911 216.251098 \nL 461.479911 23.57743 \nL 456.165625 23.57743 \nz\n\" style=\"fill:#008000;opacity:0.7;\"/>\n   </g>\n   <g id=\"patch_501\">\n    <path clip-path=\"url(#p850290565c)\" d=\"M 461.479911 163.859257 \nL 466.794196 163.859257 \nL 466.794196 22.318125 \nL 461.479911 22.318125 \nz\n\" style=\"fill:#008000;opacity:0.7;\"/>\n   </g>\n   <g id=\"patch_502\">\n    <path clip-path=\"url(#p850290565c)\" d=\"M 466.794196 183.61907 \nL 472.108482 183.61907 \nL 472.108482 22.318125 \nL 466.794196 22.318125 \nz\n\" style=\"fill:#008000;opacity:0.7;\"/>\n   </g>\n   <g id=\"patch_503\">\n    <path clip-path=\"url(#p850290565c)\" d=\"M 472.108482 162.578057 \nL 477.422768 162.578057 \nL 477.422768 22.318125 \nL 472.108482 22.318125 \nz\n\" style=\"fill:#008000;opacity:0.7;\"/>\n   </g>\n   <g id=\"patch_504\">\n    <path clip-path=\"url(#p850290565c)\" d=\"M 477.422768 186.492622 \nL 482.737054 186.492622 \nL 482.737054 23.412622 \nL 477.422768 23.412622 \nz\n\" style=\"fill:#008000;opacity:0.7;\"/>\n   </g>\n   <g id=\"patch_505\">\n    <path clip-path=\"url(#p850290565c)\" d=\"M 482.737054 161.945148 \nL 488.051339 161.945148 \nL 488.051339 22.318125 \nL 482.737054 22.318125 \nz\n\" style=\"fill:#008000;opacity:0.7;\"/>\n   </g>\n   <g id=\"patch_506\">\n    <path clip-path=\"url(#p850290565c)\" d=\"M 488.051339 172.936863 \nL 493.365625 172.936863 \nL 493.365625 22.318125 \nL 488.051339 22.318125 \nz\n\" style=\"fill:#008000;opacity:0.7;\"/>\n   </g>\n   <g id=\"patch_507\">\n    <path clip-path=\"url(#p850290565c)\" d=\"M 493.365625 177.985398 \nL 498.679911 177.985398 \nL 498.679911 22.318125 \nL 493.365625 22.318125 \nz\n\" style=\"fill:#008000;opacity:0.7;\"/>\n   </g>\n   <g id=\"patch_508\">\n    <path clip-path=\"url(#p850290565c)\" d=\"M 498.679911 174.944279 \nL 503.994196 174.944279 \nL 503.994196 24.408894 \nL 498.679911 24.408894 \nz\n\" style=\"fill:#008000;opacity:0.7;\"/>\n   </g>\n   <g id=\"patch_509\">\n    <path clip-path=\"url(#p850290565c)\" d=\"M 503.994196 172.933412 \nL 509.308482 172.933412 \nL 509.308482 22.318125 \nL 503.994196 22.318125 \nz\n\" style=\"fill:#008000;opacity:0.7;\"/>\n   </g>\n   <g id=\"patch_510\">\n    <path clip-path=\"url(#p850290565c)\" d=\"M 509.308482 166.032375 \nL 514.622768 166.032375 \nL 514.622768 22.318125 \nL 509.308482 22.318125 \nz\n\" style=\"fill:#008000;opacity:0.7;\"/>\n   </g>\n   <g id=\"patch_511\">\n    <path clip-path=\"url(#p850290565c)\" d=\"M 514.622768 183.928936 \nL 519.937054 183.928936 \nL 519.937054 22.318125 \nL 514.622768 22.318125 \nz\n\" style=\"fill:#008000;opacity:0.7;\"/>\n   </g>\n   <g id=\"patch_512\">\n    <path clip-path=\"url(#p850290565c)\" d=\"M 519.937054 185.398125 \nL 525.251339 185.398125 \nL 525.251339 23.277419 \nL 519.937054 23.277419 \nz\n\" style=\"fill:#008000;opacity:0.7;\"/>\n   </g>\n   <g id=\"patch_513\">\n    <path clip-path=\"url(#p850290565c)\" d=\"M 525.251339 190.11142 \nL 530.565625 190.11142 \nL 530.565625 23.260784 \nL 525.251339 23.260784 \nz\n\" style=\"fill:#008000;opacity:0.7;\"/>\n   </g>\n   <g id=\"patch_514\">\n    <path clip-path=\"url(#p850290565c)\" d=\"M 530.565625 188.613787 \nL 535.879911 188.613787 \nL 535.879911 22.318125 \nL 530.565625 22.318125 \nz\n\" style=\"fill:#008000;opacity:0.7;\"/>\n   </g>\n   <g id=\"patch_515\">\n    <path clip-path=\"url(#p850290565c)\" d=\"M 535.879911 182.649586 \nL 541.194196 182.649586 \nL 541.194196 23.234305 \nL 535.879911 23.234305 \nz\n\" style=\"fill:#008000;opacity:0.7;\"/>\n   </g>\n   <g id=\"patch_516\">\n    <path clip-path=\"url(#p850290565c)\" d=\"M 541.194196 178.659282 \nL 546.508482 178.659282 \nL 546.508482 22.318125 \nL 541.194196 22.318125 \nz\n\" style=\"fill:#008000;opacity:0.7;\"/>\n   </g>\n   <g id=\"patch_517\">\n    <path clip-path=\"url(#p850290565c)\" d=\"M 546.508482 159.930837 \nL 551.822768 159.930837 \nL 551.822768 22.318125 \nL 546.508482 22.318125 \nz\n\" style=\"fill:#008000;opacity:0.7;\"/>\n   </g>\n   <g id=\"patch_518\">\n    <path clip-path=\"url(#p850290565c)\" d=\"M 551.822768 182.699402 \nL 557.137054 182.699402 \nL 557.137054 22.318125 \nL 551.822768 22.318125 \nz\n\" style=\"fill:#008000;opacity:0.7;\"/>\n   </g>\n   <g id=\"patch_519\">\n    <path clip-path=\"url(#p850290565c)\" d=\"M 557.137054 186.142783 \nL 562.451339 186.142783 \nL 562.451339 22.318125 \nL 557.137054 22.318125 \nz\n\" style=\"fill:#008000;opacity:0.7;\"/>\n   </g>\n   <g id=\"patch_520\">\n    <path clip-path=\"url(#p850290565c)\" d=\"M 562.451339 175.503383 \nL 567.765625 175.503383 \nL 567.765625 22.318125 \nL 562.451339 22.318125 \nz\n\" style=\"fill:#008000;opacity:0.7;\"/>\n   </g>\n   <g id=\"patch_521\">\n    <path clip-path=\"url(#p850290565c)\" d=\"M 567.765625 192.646125 \nL 573.079911 192.646125 \nL 573.079911 22.318125 \nL 567.765625 22.318125 \nz\n\" style=\"fill:#008000;opacity:0.7;\"/>\n   </g>\n   <g id=\"patch_522\">\n    <path clip-path=\"url(#p850290565c)\" d=\"M 573.079911 169.504735 \nL 578.394196 169.504735 \nL 578.394196 22.318125 \nL 573.079911 22.318125 \nz\n\" style=\"fill:#008000;opacity:0.7;\"/>\n   </g>\n   <g id=\"patch_523\">\n    <path clip-path=\"url(#p850290565c)\" d=\"M 578.394196 193.945295 \nL 583.708482 193.945295 \nL 583.708482 23.685672 \nL 578.394196 23.685672 \nz\n\" style=\"fill:#008000;opacity:0.7;\"/>\n   </g>\n   <g id=\"patch_524\">\n    <path clip-path=\"url(#p850290565c)\" d=\"M 583.708482 183.024819 \nL 589.022768 183.024819 \nL 589.022768 22.318125 \nL 583.708482 22.318125 \nz\n\" style=\"fill:#008000;opacity:0.7;\"/>\n   </g>\n   <g id=\"patch_525\">\n    <path clip-path=\"url(#p850290565c)\" d=\"M 589.022768 174.615976 \nL 594.337054 174.615976 \nL 594.337054 25.013662 \nL 589.022768 25.013662 \nz\n\" style=\"fill:#008000;opacity:0.7;\"/>\n   </g>\n   <g id=\"patch_526\">\n    <path clip-path=\"url(#p850290565c)\" d=\"M 594.337054 187.907048 \nL 599.651339 187.907048 \nL 599.651339 22.318125 \nL 594.337054 22.318125 \nz\n\" style=\"fill:#008000;opacity:0.7;\"/>\n   </g>\n   <g id=\"patch_527\">\n    <path clip-path=\"url(#p850290565c)\" d=\"M 599.651339 179.205214 \nL 604.965625 179.205214 \nL 604.965625 25.20815 \nL 599.651339 25.20815 \nz\n\" style=\"fill:#008000;opacity:0.7;\"/>\n   </g>\n   <g id=\"matplotlib.axis_1\">\n    <g id=\"xtick_1\">\n     <g id=\"line2d_1\">\n      <defs>\n       <path d=\"M 0 0 \nL 0 3.5 \n\" id=\"m4101e8a7b5\" style=\"stroke:#000000;stroke-width:0.8;\"/>\n      </defs>\n      <g>\n       <use style=\"stroke:#000000;stroke-width:0.8;\" x=\"49.622768\" xlink:href=\"#m4101e8a7b5\" y=\"348.478125\"/>\n      </g>\n     </g>\n     <g id=\"text_1\">\n      <!-- 10 -->\n      <defs>\n       <path d=\"M 12.40625 8.296875 \nL 28.515625 8.296875 \nL 28.515625 63.921875 \nL 10.984375 60.40625 \nL 10.984375 69.390625 \nL 28.421875 72.90625 \nL 38.28125 72.90625 \nL 38.28125 8.296875 \nL 54.390625 8.296875 \nL 54.390625 0 \nL 12.40625 0 \nz\n\" id=\"DejaVuSans-49\"/>\n       <path d=\"M 31.78125 66.40625 \nQ 24.171875 66.40625 20.328125 58.90625 \nQ 16.5 51.421875 16.5 36.375 \nQ 16.5 21.390625 20.328125 13.890625 \nQ 24.171875 6.390625 31.78125 6.390625 \nQ 39.453125 6.390625 43.28125 13.890625 \nQ 47.125 21.390625 47.125 36.375 \nQ 47.125 51.421875 43.28125 58.90625 \nQ 39.453125 66.40625 31.78125 66.40625 \nz\nM 31.78125 74.21875 \nQ 44.046875 74.21875 50.515625 64.515625 \nQ 56.984375 54.828125 56.984375 36.375 \nQ 56.984375 17.96875 50.515625 8.265625 \nQ 44.046875 -1.421875 31.78125 -1.421875 \nQ 19.53125 -1.421875 13.0625 8.265625 \nQ 6.59375 17.96875 6.59375 36.375 \nQ 6.59375 54.828125 13.0625 64.515625 \nQ 19.53125 74.21875 31.78125 74.21875 \nz\n\" id=\"DejaVuSans-48\"/>\n      </defs>\n      <g transform=\"translate(43.260268 363.076562)scale(0.1 -0.1)\">\n       <use xlink:href=\"#DejaVuSans-49\"/>\n       <use x=\"63.623047\" xlink:href=\"#DejaVuSans-48\"/>\n      </g>\n     </g>\n    </g>\n    <g id=\"xtick_2\">\n     <g id=\"line2d_2\">\n      <g>\n       <use style=\"stroke:#000000;stroke-width:0.8;\" x=\"155.908482\" xlink:href=\"#m4101e8a7b5\" y=\"348.478125\"/>\n      </g>\n     </g>\n     <g id=\"text_2\">\n      <!-- 11 -->\n      <g transform=\"translate(149.545982 363.076562)scale(0.1 -0.1)\">\n       <use xlink:href=\"#DejaVuSans-49\"/>\n       <use x=\"63.623047\" xlink:href=\"#DejaVuSans-49\"/>\n      </g>\n     </g>\n    </g>\n    <g id=\"xtick_3\">\n     <g id=\"line2d_3\">\n      <g>\n       <use style=\"stroke:#000000;stroke-width:0.8;\" x=\"262.194196\" xlink:href=\"#m4101e8a7b5\" y=\"348.478125\"/>\n      </g>\n     </g>\n     <g id=\"text_3\">\n      <!-- 12 -->\n      <defs>\n       <path d=\"M 19.1875 8.296875 \nL 53.609375 8.296875 \nL 53.609375 0 \nL 7.328125 0 \nL 7.328125 8.296875 \nQ 12.9375 14.109375 22.625 23.890625 \nQ 32.328125 33.6875 34.8125 36.53125 \nQ 39.546875 41.84375 41.421875 45.53125 \nQ 43.3125 49.21875 43.3125 52.78125 \nQ 43.3125 58.59375 39.234375 62.25 \nQ 35.15625 65.921875 28.609375 65.921875 \nQ 23.96875 65.921875 18.8125 64.3125 \nQ 13.671875 62.703125 7.8125 59.421875 \nL 7.8125 69.390625 \nQ 13.765625 71.78125 18.9375 73 \nQ 24.125 74.21875 28.421875 74.21875 \nQ 39.75 74.21875 46.484375 68.546875 \nQ 53.21875 62.890625 53.21875 53.421875 \nQ 53.21875 48.921875 51.53125 44.890625 \nQ 49.859375 40.875 45.40625 35.40625 \nQ 44.1875 33.984375 37.640625 27.21875 \nQ 31.109375 20.453125 19.1875 8.296875 \nz\n\" id=\"DejaVuSans-50\"/>\n      </defs>\n      <g transform=\"translate(255.831696 363.076562)scale(0.1 -0.1)\">\n       <use xlink:href=\"#DejaVuSans-49\"/>\n       <use x=\"63.623047\" xlink:href=\"#DejaVuSans-50\"/>\n      </g>\n     </g>\n    </g>\n    <g id=\"xtick_4\">\n     <g id=\"line2d_4\">\n      <g>\n       <use style=\"stroke:#000000;stroke-width:0.8;\" x=\"368.479911\" xlink:href=\"#m4101e8a7b5\" y=\"348.478125\"/>\n      </g>\n     </g>\n     <g id=\"text_4\">\n      <!-- 14 -->\n      <defs>\n       <path d=\"M 37.796875 64.3125 \nL 12.890625 25.390625 \nL 37.796875 25.390625 \nz\nM 35.203125 72.90625 \nL 47.609375 72.90625 \nL 47.609375 25.390625 \nL 58.015625 25.390625 \nL 58.015625 17.1875 \nL 47.609375 17.1875 \nL 47.609375 0 \nL 37.796875 0 \nL 37.796875 17.1875 \nL 4.890625 17.1875 \nL 4.890625 26.703125 \nz\n\" id=\"DejaVuSans-52\"/>\n      </defs>\n      <g transform=\"translate(362.117411 363.076562)scale(0.1 -0.1)\">\n       <use xlink:href=\"#DejaVuSans-49\"/>\n       <use x=\"63.623047\" xlink:href=\"#DejaVuSans-52\"/>\n      </g>\n     </g>\n    </g>\n    <g id=\"xtick_5\">\n     <g id=\"line2d_5\">\n      <g>\n       <use style=\"stroke:#000000;stroke-width:0.8;\" x=\"474.765625\" xlink:href=\"#m4101e8a7b5\" y=\"348.478125\"/>\n      </g>\n     </g>\n     <g id=\"text_5\">\n      <!-- 18 -->\n      <defs>\n       <path d=\"M 31.78125 34.625 \nQ 24.75 34.625 20.71875 30.859375 \nQ 16.703125 27.09375 16.703125 20.515625 \nQ 16.703125 13.921875 20.71875 10.15625 \nQ 24.75 6.390625 31.78125 6.390625 \nQ 38.8125 6.390625 42.859375 10.171875 \nQ 46.921875 13.96875 46.921875 20.515625 \nQ 46.921875 27.09375 42.890625 30.859375 \nQ 38.875 34.625 31.78125 34.625 \nz\nM 21.921875 38.8125 \nQ 15.578125 40.375 12.03125 44.71875 \nQ 8.5 49.078125 8.5 55.328125 \nQ 8.5 64.0625 14.71875 69.140625 \nQ 20.953125 74.21875 31.78125 74.21875 \nQ 42.671875 74.21875 48.875 69.140625 \nQ 55.078125 64.0625 55.078125 55.328125 \nQ 55.078125 49.078125 51.53125 44.71875 \nQ 48 40.375 41.703125 38.8125 \nQ 48.828125 37.15625 52.796875 32.3125 \nQ 56.78125 27.484375 56.78125 20.515625 \nQ 56.78125 9.90625 50.3125 4.234375 \nQ 43.84375 -1.421875 31.78125 -1.421875 \nQ 19.734375 -1.421875 13.25 4.234375 \nQ 6.78125 9.90625 6.78125 20.515625 \nQ 6.78125 27.484375 10.78125 32.3125 \nQ 14.796875 37.15625 21.921875 38.8125 \nz\nM 18.3125 54.390625 \nQ 18.3125 48.734375 21.84375 45.5625 \nQ 25.390625 42.390625 31.78125 42.390625 \nQ 38.140625 42.390625 41.71875 45.5625 \nQ 45.3125 48.734375 45.3125 54.390625 \nQ 45.3125 60.0625 41.71875 63.234375 \nQ 38.140625 66.40625 31.78125 66.40625 \nQ 25.390625 66.40625 21.84375 63.234375 \nQ 18.3125 60.0625 18.3125 54.390625 \nz\n\" id=\"DejaVuSans-56\"/>\n      </defs>\n      <g transform=\"translate(468.403125 363.076562)scale(0.1 -0.1)\">\n       <use xlink:href=\"#DejaVuSans-49\"/>\n       <use x=\"63.623047\" xlink:href=\"#DejaVuSans-56\"/>\n      </g>\n     </g>\n    </g>\n    <g id=\"xtick_6\">\n     <g id=\"line2d_6\">\n      <g>\n       <use style=\"stroke:#000000;stroke-width:0.8;\" x=\"581.051339\" xlink:href=\"#m4101e8a7b5\" y=\"348.478125\"/>\n      </g>\n     </g>\n     <g id=\"text_6\">\n      <!-- 31 -->\n      <defs>\n       <path d=\"M 40.578125 39.3125 \nQ 47.65625 37.796875 51.625 33 \nQ 55.609375 28.21875 55.609375 21.1875 \nQ 55.609375 10.40625 48.1875 4.484375 \nQ 40.765625 -1.421875 27.09375 -1.421875 \nQ 22.515625 -1.421875 17.65625 -0.515625 \nQ 12.796875 0.390625 7.625 2.203125 \nL 7.625 11.71875 \nQ 11.71875 9.328125 16.59375 8.109375 \nQ 21.484375 6.890625 26.8125 6.890625 \nQ 36.078125 6.890625 40.9375 10.546875 \nQ 45.796875 14.203125 45.796875 21.1875 \nQ 45.796875 27.640625 41.28125 31.265625 \nQ 36.765625 34.90625 28.71875 34.90625 \nL 20.21875 34.90625 \nL 20.21875 43.015625 \nL 29.109375 43.015625 \nQ 36.375 43.015625 40.234375 45.921875 \nQ 44.09375 48.828125 44.09375 54.296875 \nQ 44.09375 59.90625 40.109375 62.90625 \nQ 36.140625 65.921875 28.71875 65.921875 \nQ 24.65625 65.921875 20.015625 65.03125 \nQ 15.375 64.15625 9.8125 62.3125 \nL 9.8125 71.09375 \nQ 15.4375 72.65625 20.34375 73.4375 \nQ 25.25 74.21875 29.59375 74.21875 \nQ 40.828125 74.21875 47.359375 69.109375 \nQ 53.90625 64.015625 53.90625 55.328125 \nQ 53.90625 49.265625 50.4375 45.09375 \nQ 46.96875 40.921875 40.578125 39.3125 \nz\n\" id=\"DejaVuSans-51\"/>\n      </defs>\n      <g transform=\"translate(574.688839 363.076562)scale(0.1 -0.1)\">\n       <use xlink:href=\"#DejaVuSans-51\"/>\n       <use x=\"63.623047\" xlink:href=\"#DejaVuSans-49\"/>\n      </g>\n     </g>\n    </g>\n    <g id=\"text_7\">\n     <!-- Cluster size in ions -->\n     <defs>\n      <path d=\"M 64.40625 67.28125 \nL 64.40625 56.890625 \nQ 59.421875 61.53125 53.78125 63.8125 \nQ 48.140625 66.109375 41.796875 66.109375 \nQ 29.296875 66.109375 22.65625 58.46875 \nQ 16.015625 50.828125 16.015625 36.375 \nQ 16.015625 21.96875 22.65625 14.328125 \nQ 29.296875 6.6875 41.796875 6.6875 \nQ 48.140625 6.6875 53.78125 8.984375 \nQ 59.421875 11.28125 64.40625 15.921875 \nL 64.40625 5.609375 \nQ 59.234375 2.09375 53.4375 0.328125 \nQ 47.65625 -1.421875 41.21875 -1.421875 \nQ 24.65625 -1.421875 15.125 8.703125 \nQ 5.609375 18.84375 5.609375 36.375 \nQ 5.609375 53.953125 15.125 64.078125 \nQ 24.65625 74.21875 41.21875 74.21875 \nQ 47.75 74.21875 53.53125 72.484375 \nQ 59.328125 70.75 64.40625 67.28125 \nz\n\" id=\"DejaVuSans-67\"/>\n      <path d=\"M 9.421875 75.984375 \nL 18.40625 75.984375 \nL 18.40625 0 \nL 9.421875 0 \nz\n\" id=\"DejaVuSans-108\"/>\n      <path d=\"M 8.5 21.578125 \nL 8.5 54.6875 \nL 17.484375 54.6875 \nL 17.484375 21.921875 \nQ 17.484375 14.15625 20.5 10.265625 \nQ 23.53125 6.390625 29.59375 6.390625 \nQ 36.859375 6.390625 41.078125 11.03125 \nQ 45.3125 15.671875 45.3125 23.6875 \nL 45.3125 54.6875 \nL 54.296875 54.6875 \nL 54.296875 0 \nL 45.3125 0 \nL 45.3125 8.40625 \nQ 42.046875 3.421875 37.71875 1 \nQ 33.40625 -1.421875 27.6875 -1.421875 \nQ 18.265625 -1.421875 13.375 4.4375 \nQ 8.5 10.296875 8.5 21.578125 \nz\nM 31.109375 56 \nz\n\" id=\"DejaVuSans-117\"/>\n      <path d=\"M 44.28125 53.078125 \nL 44.28125 44.578125 \nQ 40.484375 46.53125 36.375 47.5 \nQ 32.28125 48.484375 27.875 48.484375 \nQ 21.1875 48.484375 17.84375 46.4375 \nQ 14.5 44.390625 14.5 40.28125 \nQ 14.5 37.15625 16.890625 35.375 \nQ 19.28125 33.59375 26.515625 31.984375 \nL 29.59375 31.296875 \nQ 39.15625 29.25 43.1875 25.515625 \nQ 47.21875 21.78125 47.21875 15.09375 \nQ 47.21875 7.46875 41.1875 3.015625 \nQ 35.15625 -1.421875 24.609375 -1.421875 \nQ 20.21875 -1.421875 15.453125 -0.5625 \nQ 10.6875 0.296875 5.421875 2 \nL 5.421875 11.28125 \nQ 10.40625 8.6875 15.234375 7.390625 \nQ 20.0625 6.109375 24.8125 6.109375 \nQ 31.15625 6.109375 34.5625 8.28125 \nQ 37.984375 10.453125 37.984375 14.40625 \nQ 37.984375 18.0625 35.515625 20.015625 \nQ 33.0625 21.96875 24.703125 23.78125 \nL 21.578125 24.515625 \nQ 13.234375 26.265625 9.515625 29.90625 \nQ 5.8125 33.546875 5.8125 39.890625 \nQ 5.8125 47.609375 11.28125 51.796875 \nQ 16.75 56 26.8125 56 \nQ 31.78125 56 36.171875 55.265625 \nQ 40.578125 54.546875 44.28125 53.078125 \nz\n\" id=\"DejaVuSans-115\"/>\n      <path d=\"M 18.3125 70.21875 \nL 18.3125 54.6875 \nL 36.8125 54.6875 \nL 36.8125 47.703125 \nL 18.3125 47.703125 \nL 18.3125 18.015625 \nQ 18.3125 11.328125 20.140625 9.421875 \nQ 21.96875 7.515625 27.59375 7.515625 \nL 36.8125 7.515625 \nL 36.8125 0 \nL 27.59375 0 \nQ 17.1875 0 13.234375 3.875 \nQ 9.28125 7.765625 9.28125 18.015625 \nL 9.28125 47.703125 \nL 2.6875 47.703125 \nL 2.6875 54.6875 \nL 9.28125 54.6875 \nL 9.28125 70.21875 \nz\n\" id=\"DejaVuSans-116\"/>\n      <path d=\"M 56.203125 29.59375 \nL 56.203125 25.203125 \nL 14.890625 25.203125 \nQ 15.484375 15.921875 20.484375 11.0625 \nQ 25.484375 6.203125 34.421875 6.203125 \nQ 39.59375 6.203125 44.453125 7.46875 \nQ 49.3125 8.734375 54.109375 11.28125 \nL 54.109375 2.78125 \nQ 49.265625 0.734375 44.1875 -0.34375 \nQ 39.109375 -1.421875 33.890625 -1.421875 \nQ 20.796875 -1.421875 13.15625 6.1875 \nQ 5.515625 13.8125 5.515625 26.8125 \nQ 5.515625 40.234375 12.765625 48.109375 \nQ 20.015625 56 32.328125 56 \nQ 43.359375 56 49.78125 48.890625 \nQ 56.203125 41.796875 56.203125 29.59375 \nz\nM 47.21875 32.234375 \nQ 47.125 39.59375 43.09375 43.984375 \nQ 39.0625 48.390625 32.421875 48.390625 \nQ 24.90625 48.390625 20.390625 44.140625 \nQ 15.875 39.890625 15.1875 32.171875 \nz\n\" id=\"DejaVuSans-101\"/>\n      <path d=\"M 41.109375 46.296875 \nQ 39.59375 47.171875 37.8125 47.578125 \nQ 36.03125 48 33.890625 48 \nQ 26.265625 48 22.1875 43.046875 \nQ 18.109375 38.09375 18.109375 28.8125 \nL 18.109375 0 \nL 9.078125 0 \nL 9.078125 54.6875 \nL 18.109375 54.6875 \nL 18.109375 46.1875 \nQ 20.953125 51.171875 25.484375 53.578125 \nQ 30.03125 56 36.53125 56 \nQ 37.453125 56 38.578125 55.875 \nQ 39.703125 55.765625 41.0625 55.515625 \nz\n\" id=\"DejaVuSans-114\"/>\n      <path id=\"DejaVuSans-32\"/>\n      <path d=\"M 9.421875 54.6875 \nL 18.40625 54.6875 \nL 18.40625 0 \nL 9.421875 0 \nz\nM 9.421875 75.984375 \nL 18.40625 75.984375 \nL 18.40625 64.59375 \nL 9.421875 64.59375 \nz\n\" id=\"DejaVuSans-105\"/>\n      <path d=\"M 5.515625 54.6875 \nL 48.1875 54.6875 \nL 48.1875 46.484375 \nL 14.40625 7.171875 \nL 48.1875 7.171875 \nL 48.1875 0 \nL 4.296875 0 \nL 4.296875 8.203125 \nL 38.09375 47.515625 \nL 5.515625 47.515625 \nz\n\" id=\"DejaVuSans-122\"/>\n      <path d=\"M 54.890625 33.015625 \nL 54.890625 0 \nL 45.90625 0 \nL 45.90625 32.71875 \nQ 45.90625 40.484375 42.875 44.328125 \nQ 39.84375 48.1875 33.796875 48.1875 \nQ 26.515625 48.1875 22.3125 43.546875 \nQ 18.109375 38.921875 18.109375 30.90625 \nL 18.109375 0 \nL 9.078125 0 \nL 9.078125 54.6875 \nL 18.109375 54.6875 \nL 18.109375 46.1875 \nQ 21.34375 51.125 25.703125 53.5625 \nQ 30.078125 56 35.796875 56 \nQ 45.21875 56 50.046875 50.171875 \nQ 54.890625 44.34375 54.890625 33.015625 \nz\n\" id=\"DejaVuSans-110\"/>\n      <path d=\"M 30.609375 48.390625 \nQ 23.390625 48.390625 19.1875 42.75 \nQ 14.984375 37.109375 14.984375 27.296875 \nQ 14.984375 17.484375 19.15625 11.84375 \nQ 23.34375 6.203125 30.609375 6.203125 \nQ 37.796875 6.203125 41.984375 11.859375 \nQ 46.1875 17.53125 46.1875 27.296875 \nQ 46.1875 37.015625 41.984375 42.703125 \nQ 37.796875 48.390625 30.609375 48.390625 \nz\nM 30.609375 56 \nQ 42.328125 56 49.015625 48.375 \nQ 55.71875 40.765625 55.71875 27.296875 \nQ 55.71875 13.875 49.015625 6.21875 \nQ 42.328125 -1.421875 30.609375 -1.421875 \nQ 18.84375 -1.421875 12.171875 6.21875 \nQ 5.515625 13.875 5.515625 27.296875 \nQ 5.515625 40.765625 12.171875 48.375 \nQ 18.84375 56 30.609375 56 \nz\n\" id=\"DejaVuSans-111\"/>\n     </defs>\n     <g transform=\"translate(278.978125 376.754687)scale(0.1 -0.1)\">\n      <use xlink:href=\"#DejaVuSans-67\"/>\n      <use x=\"69.824219\" xlink:href=\"#DejaVuSans-108\"/>\n      <use x=\"97.607422\" xlink:href=\"#DejaVuSans-117\"/>\n      <use x=\"160.986328\" xlink:href=\"#DejaVuSans-115\"/>\n      <use x=\"213.085938\" xlink:href=\"#DejaVuSans-116\"/>\n      <use x=\"252.294922\" xlink:href=\"#DejaVuSans-101\"/>\n      <use x=\"313.818359\" xlink:href=\"#DejaVuSans-114\"/>\n      <use x=\"354.931641\" xlink:href=\"#DejaVuSans-32\"/>\n      <use x=\"386.71875\" xlink:href=\"#DejaVuSans-115\"/>\n      <use x=\"438.818359\" xlink:href=\"#DejaVuSans-105\"/>\n      <use x=\"466.601562\" xlink:href=\"#DejaVuSans-122\"/>\n      <use x=\"519.091797\" xlink:href=\"#DejaVuSans-101\"/>\n      <use x=\"580.615234\" xlink:href=\"#DejaVuSans-32\"/>\n      <use x=\"612.402344\" xlink:href=\"#DejaVuSans-105\"/>\n      <use x=\"640.185547\" xlink:href=\"#DejaVuSans-110\"/>\n      <use x=\"703.564453\" xlink:href=\"#DejaVuSans-32\"/>\n      <use x=\"735.351562\" xlink:href=\"#DejaVuSans-105\"/>\n      <use x=\"763.134766\" xlink:href=\"#DejaVuSans-111\"/>\n      <use x=\"824.316406\" xlink:href=\"#DejaVuSans-110\"/>\n      <use x=\"887.695312\" xlink:href=\"#DejaVuSans-115\"/>\n     </g>\n    </g>\n   </g>\n   <g id=\"matplotlib.axis_2\">\n    <g id=\"ytick_1\">\n     <g id=\"line2d_7\">\n      <defs>\n       <path d=\"M 0 0 \nL -3.5 0 \n\" id=\"ma689ea3038\" style=\"stroke:#000000;stroke-width:0.8;\"/>\n      </defs>\n      <g>\n       <use style=\"stroke:#000000;stroke-width:0.8;\" x=\"46.965625\" xlink:href=\"#ma689ea3038\" y=\"348.478125\"/>\n      </g>\n     </g>\n     <g id=\"text_8\">\n      <!-- 0 -->\n      <g transform=\"translate(33.603125 352.277344)scale(0.1 -0.1)\">\n       <use xlink:href=\"#DejaVuSans-48\"/>\n      </g>\n     </g>\n    </g>\n    <g id=\"ytick_2\">\n     <g id=\"line2d_8\">\n      <g>\n       <use style=\"stroke:#000000;stroke-width:0.8;\" x=\"46.965625\" xlink:href=\"#ma689ea3038\" y=\"283.246125\"/>\n      </g>\n     </g>\n     <g id=\"text_9\">\n      <!-- 20 -->\n      <g transform=\"translate(27.240625 287.045344)scale(0.1 -0.1)\">\n       <use xlink:href=\"#DejaVuSans-50\"/>\n       <use x=\"63.623047\" xlink:href=\"#DejaVuSans-48\"/>\n      </g>\n     </g>\n    </g>\n    <g id=\"ytick_3\">\n     <g id=\"line2d_9\">\n      <g>\n       <use style=\"stroke:#000000;stroke-width:0.8;\" x=\"46.965625\" xlink:href=\"#ma689ea3038\" y=\"218.014125\"/>\n      </g>\n     </g>\n     <g id=\"text_10\">\n      <!-- 40 -->\n      <g transform=\"translate(27.240625 221.813344)scale(0.1 -0.1)\">\n       <use xlink:href=\"#DejaVuSans-52\"/>\n       <use x=\"63.623047\" xlink:href=\"#DejaVuSans-48\"/>\n      </g>\n     </g>\n    </g>\n    <g id=\"ytick_4\">\n     <g id=\"line2d_10\">\n      <g>\n       <use style=\"stroke:#000000;stroke-width:0.8;\" x=\"46.965625\" xlink:href=\"#ma689ea3038\" y=\"152.782125\"/>\n      </g>\n     </g>\n     <g id=\"text_11\">\n      <!-- 60 -->\n      <defs>\n       <path d=\"M 33.015625 40.375 \nQ 26.375 40.375 22.484375 35.828125 \nQ 18.609375 31.296875 18.609375 23.390625 \nQ 18.609375 15.53125 22.484375 10.953125 \nQ 26.375 6.390625 33.015625 6.390625 \nQ 39.65625 6.390625 43.53125 10.953125 \nQ 47.40625 15.53125 47.40625 23.390625 \nQ 47.40625 31.296875 43.53125 35.828125 \nQ 39.65625 40.375 33.015625 40.375 \nz\nM 52.59375 71.296875 \nL 52.59375 62.3125 \nQ 48.875 64.0625 45.09375 64.984375 \nQ 41.3125 65.921875 37.59375 65.921875 \nQ 27.828125 65.921875 22.671875 59.328125 \nQ 17.53125 52.734375 16.796875 39.40625 \nQ 19.671875 43.65625 24.015625 45.921875 \nQ 28.375 48.1875 33.59375 48.1875 \nQ 44.578125 48.1875 50.953125 41.515625 \nQ 57.328125 34.859375 57.328125 23.390625 \nQ 57.328125 12.15625 50.6875 5.359375 \nQ 44.046875 -1.421875 33.015625 -1.421875 \nQ 20.359375 -1.421875 13.671875 8.265625 \nQ 6.984375 17.96875 6.984375 36.375 \nQ 6.984375 53.65625 15.1875 63.9375 \nQ 23.390625 74.21875 37.203125 74.21875 \nQ 40.921875 74.21875 44.703125 73.484375 \nQ 48.484375 72.75 52.59375 71.296875 \nz\n\" id=\"DejaVuSans-54\"/>\n      </defs>\n      <g transform=\"translate(27.240625 156.581344)scale(0.1 -0.1)\">\n       <use xlink:href=\"#DejaVuSans-54\"/>\n       <use x=\"63.623047\" xlink:href=\"#DejaVuSans-48\"/>\n      </g>\n     </g>\n    </g>\n    <g id=\"ytick_5\">\n     <g id=\"line2d_11\">\n      <g>\n       <use style=\"stroke:#000000;stroke-width:0.8;\" x=\"46.965625\" xlink:href=\"#ma689ea3038\" y=\"87.550125\"/>\n      </g>\n     </g>\n     <g id=\"text_12\">\n      <!-- 80 -->\n      <g transform=\"translate(27.240625 91.349344)scale(0.1 -0.1)\">\n       <use xlink:href=\"#DejaVuSans-56\"/>\n       <use x=\"63.623047\" xlink:href=\"#DejaVuSans-48\"/>\n      </g>\n     </g>\n    </g>\n    <g id=\"ytick_6\">\n     <g id=\"line2d_12\">\n      <g>\n       <use style=\"stroke:#000000;stroke-width:0.8;\" x=\"46.965625\" xlink:href=\"#ma689ea3038\" y=\"22.318125\"/>\n      </g>\n     </g>\n     <g id=\"text_13\">\n      <!-- 100 -->\n      <g transform=\"translate(20.878125 26.117344)scale(0.1 -0.1)\">\n       <use xlink:href=\"#DejaVuSans-49\"/>\n       <use x=\"63.623047\" xlink:href=\"#DejaVuSans-48\"/>\n       <use x=\"127.246094\" xlink:href=\"#DejaVuSans-48\"/>\n      </g>\n     </g>\n    </g>\n    <g id=\"text_14\">\n     <!-- Corrected cluster composition [at.%] -->\n     <defs>\n      <path d=\"M 48.78125 52.59375 \nL 48.78125 44.1875 \nQ 44.96875 46.296875 41.140625 47.34375 \nQ 37.3125 48.390625 33.40625 48.390625 \nQ 24.65625 48.390625 19.8125 42.84375 \nQ 14.984375 37.3125 14.984375 27.296875 \nQ 14.984375 17.28125 19.8125 11.734375 \nQ 24.65625 6.203125 33.40625 6.203125 \nQ 37.3125 6.203125 41.140625 7.25 \nQ 44.96875 8.296875 48.78125 10.40625 \nL 48.78125 2.09375 \nQ 45.015625 0.34375 40.984375 -0.53125 \nQ 36.96875 -1.421875 32.421875 -1.421875 \nQ 20.0625 -1.421875 12.78125 6.34375 \nQ 5.515625 14.109375 5.515625 27.296875 \nQ 5.515625 40.671875 12.859375 48.328125 \nQ 20.21875 56 33.015625 56 \nQ 37.15625 56 41.109375 55.140625 \nQ 45.0625 54.296875 48.78125 52.59375 \nz\n\" id=\"DejaVuSans-99\"/>\n      <path d=\"M 45.40625 46.390625 \nL 45.40625 75.984375 \nL 54.390625 75.984375 \nL 54.390625 0 \nL 45.40625 0 \nL 45.40625 8.203125 \nQ 42.578125 3.328125 38.25 0.953125 \nQ 33.9375 -1.421875 27.875 -1.421875 \nQ 17.96875 -1.421875 11.734375 6.484375 \nQ 5.515625 14.40625 5.515625 27.296875 \nQ 5.515625 40.1875 11.734375 48.09375 \nQ 17.96875 56 27.875 56 \nQ 33.9375 56 38.25 53.625 \nQ 42.578125 51.265625 45.40625 46.390625 \nz\nM 14.796875 27.296875 \nQ 14.796875 17.390625 18.875 11.75 \nQ 22.953125 6.109375 30.078125 6.109375 \nQ 37.203125 6.109375 41.296875 11.75 \nQ 45.40625 17.390625 45.40625 27.296875 \nQ 45.40625 37.203125 41.296875 42.84375 \nQ 37.203125 48.484375 30.078125 48.484375 \nQ 22.953125 48.484375 18.875 42.84375 \nQ 14.796875 37.203125 14.796875 27.296875 \nz\n\" id=\"DejaVuSans-100\"/>\n      <path d=\"M 52 44.1875 \nQ 55.375 50.25 60.0625 53.125 \nQ 64.75 56 71.09375 56 \nQ 79.640625 56 84.28125 50.015625 \nQ 88.921875 44.046875 88.921875 33.015625 \nL 88.921875 0 \nL 79.890625 0 \nL 79.890625 32.71875 \nQ 79.890625 40.578125 77.09375 44.375 \nQ 74.3125 48.1875 68.609375 48.1875 \nQ 61.625 48.1875 57.5625 43.546875 \nQ 53.515625 38.921875 53.515625 30.90625 \nL 53.515625 0 \nL 44.484375 0 \nL 44.484375 32.71875 \nQ 44.484375 40.625 41.703125 44.40625 \nQ 38.921875 48.1875 33.109375 48.1875 \nQ 26.21875 48.1875 22.15625 43.53125 \nQ 18.109375 38.875 18.109375 30.90625 \nL 18.109375 0 \nL 9.078125 0 \nL 9.078125 54.6875 \nL 18.109375 54.6875 \nL 18.109375 46.1875 \nQ 21.1875 51.21875 25.484375 53.609375 \nQ 29.78125 56 35.6875 56 \nQ 41.65625 56 45.828125 52.96875 \nQ 50 49.953125 52 44.1875 \nz\n\" id=\"DejaVuSans-109\"/>\n      <path d=\"M 18.109375 8.203125 \nL 18.109375 -20.796875 \nL 9.078125 -20.796875 \nL 9.078125 54.6875 \nL 18.109375 54.6875 \nL 18.109375 46.390625 \nQ 20.953125 51.265625 25.265625 53.625 \nQ 29.59375 56 35.59375 56 \nQ 45.5625 56 51.78125 48.09375 \nQ 58.015625 40.1875 58.015625 27.296875 \nQ 58.015625 14.40625 51.78125 6.484375 \nQ 45.5625 -1.421875 35.59375 -1.421875 \nQ 29.59375 -1.421875 25.265625 0.953125 \nQ 20.953125 3.328125 18.109375 8.203125 \nz\nM 48.6875 27.296875 \nQ 48.6875 37.203125 44.609375 42.84375 \nQ 40.53125 48.484375 33.40625 48.484375 \nQ 26.265625 48.484375 22.1875 42.84375 \nQ 18.109375 37.203125 18.109375 27.296875 \nQ 18.109375 17.390625 22.1875 11.75 \nQ 26.265625 6.109375 33.40625 6.109375 \nQ 40.53125 6.109375 44.609375 11.75 \nQ 48.6875 17.390625 48.6875 27.296875 \nz\n\" id=\"DejaVuSans-112\"/>\n      <path d=\"M 8.59375 75.984375 \nL 29.296875 75.984375 \nL 29.296875 69 \nL 17.578125 69 \nL 17.578125 -6.203125 \nL 29.296875 -6.203125 \nL 29.296875 -13.1875 \nL 8.59375 -13.1875 \nz\n\" id=\"DejaVuSans-91\"/>\n      <path d=\"M 34.28125 27.484375 \nQ 23.390625 27.484375 19.1875 25 \nQ 14.984375 22.515625 14.984375 16.5 \nQ 14.984375 11.71875 18.140625 8.90625 \nQ 21.296875 6.109375 26.703125 6.109375 \nQ 34.1875 6.109375 38.703125 11.40625 \nQ 43.21875 16.703125 43.21875 25.484375 \nL 43.21875 27.484375 \nz\nM 52.203125 31.203125 \nL 52.203125 0 \nL 43.21875 0 \nL 43.21875 8.296875 \nQ 40.140625 3.328125 35.546875 0.953125 \nQ 30.953125 -1.421875 24.3125 -1.421875 \nQ 15.921875 -1.421875 10.953125 3.296875 \nQ 6 8.015625 6 15.921875 \nQ 6 25.140625 12.171875 29.828125 \nQ 18.359375 34.515625 30.609375 34.515625 \nL 43.21875 34.515625 \nL 43.21875 35.40625 \nQ 43.21875 41.609375 39.140625 45 \nQ 35.0625 48.390625 27.6875 48.390625 \nQ 23 48.390625 18.546875 47.265625 \nQ 14.109375 46.140625 10.015625 43.890625 \nL 10.015625 52.203125 \nQ 14.9375 54.109375 19.578125 55.046875 \nQ 24.21875 56 28.609375 56 \nQ 40.484375 56 46.34375 49.84375 \nQ 52.203125 43.703125 52.203125 31.203125 \nz\n\" id=\"DejaVuSans-97\"/>\n      <path d=\"M 10.6875 12.40625 \nL 21 12.40625 \nL 21 0 \nL 10.6875 0 \nz\n\" id=\"DejaVuSans-46\"/>\n      <path d=\"M 72.703125 32.078125 \nQ 68.453125 32.078125 66.03125 28.46875 \nQ 63.625 24.859375 63.625 18.40625 \nQ 63.625 12.0625 66.03125 8.421875 \nQ 68.453125 4.78125 72.703125 4.78125 \nQ 76.859375 4.78125 79.265625 8.421875 \nQ 81.6875 12.0625 81.6875 18.40625 \nQ 81.6875 24.8125 79.265625 28.4375 \nQ 76.859375 32.078125 72.703125 32.078125 \nz\nM 72.703125 38.28125 \nQ 80.421875 38.28125 84.953125 32.90625 \nQ 89.5 27.546875 89.5 18.40625 \nQ 89.5 9.28125 84.9375 3.921875 \nQ 80.375 -1.421875 72.703125 -1.421875 \nQ 64.890625 -1.421875 60.34375 3.921875 \nQ 55.8125 9.28125 55.8125 18.40625 \nQ 55.8125 27.59375 60.375 32.9375 \nQ 64.9375 38.28125 72.703125 38.28125 \nz\nM 22.3125 68.015625 \nQ 18.109375 68.015625 15.6875 64.375 \nQ 13.28125 60.75 13.28125 54.390625 \nQ 13.28125 47.953125 15.671875 44.328125 \nQ 18.0625 40.71875 22.3125 40.71875 \nQ 26.5625 40.71875 28.96875 44.328125 \nQ 31.390625 47.953125 31.390625 54.390625 \nQ 31.390625 60.6875 28.953125 64.34375 \nQ 26.515625 68.015625 22.3125 68.015625 \nz\nM 66.40625 74.21875 \nL 74.21875 74.21875 \nL 28.609375 -1.421875 \nL 20.796875 -1.421875 \nz\nM 22.3125 74.21875 \nQ 30.03125 74.21875 34.609375 68.875 \nQ 39.203125 63.53125 39.203125 54.390625 \nQ 39.203125 45.171875 34.640625 39.84375 \nQ 30.078125 34.515625 22.3125 34.515625 \nQ 14.546875 34.515625 10.03125 39.859375 \nQ 5.515625 45.21875 5.515625 54.390625 \nQ 5.515625 63.484375 10.046875 68.84375 \nQ 14.59375 74.21875 22.3125 74.21875 \nz\n\" id=\"DejaVuSans-37\"/>\n      <path d=\"M 30.421875 75.984375 \nL 30.421875 -13.1875 \nL 9.71875 -13.1875 \nL 9.71875 -6.203125 \nL 21.390625 -6.203125 \nL 21.390625 69 \nL 9.71875 69 \nL 9.71875 75.984375 \nz\n\" id=\"DejaVuSans-93\"/>\n     </defs>\n     <g transform=\"translate(14.798438 277.416875)rotate(-90)scale(0.1 -0.1)\">\n      <use xlink:href=\"#DejaVuSans-67\"/>\n      <use x=\"69.824219\" xlink:href=\"#DejaVuSans-111\"/>\n      <use x=\"131.005859\" xlink:href=\"#DejaVuSans-114\"/>\n      <use x=\"170.369141\" xlink:href=\"#DejaVuSans-114\"/>\n      <use x=\"209.232422\" xlink:href=\"#DejaVuSans-101\"/>\n      <use x=\"270.755859\" xlink:href=\"#DejaVuSans-99\"/>\n      <use x=\"325.736328\" xlink:href=\"#DejaVuSans-116\"/>\n      <use x=\"364.945312\" xlink:href=\"#DejaVuSans-101\"/>\n      <use x=\"426.46875\" xlink:href=\"#DejaVuSans-100\"/>\n      <use x=\"489.945312\" xlink:href=\"#DejaVuSans-32\"/>\n      <use x=\"521.732422\" xlink:href=\"#DejaVuSans-99\"/>\n      <use x=\"576.712891\" xlink:href=\"#DejaVuSans-108\"/>\n      <use x=\"604.496094\" xlink:href=\"#DejaVuSans-117\"/>\n      <use x=\"667.875\" xlink:href=\"#DejaVuSans-115\"/>\n      <use x=\"719.974609\" xlink:href=\"#DejaVuSans-116\"/>\n      <use x=\"759.183594\" xlink:href=\"#DejaVuSans-101\"/>\n      <use x=\"820.707031\" xlink:href=\"#DejaVuSans-114\"/>\n      <use x=\"861.820312\" xlink:href=\"#DejaVuSans-32\"/>\n      <use x=\"893.607422\" xlink:href=\"#DejaVuSans-99\"/>\n      <use x=\"948.587891\" xlink:href=\"#DejaVuSans-111\"/>\n      <use x=\"1009.769531\" xlink:href=\"#DejaVuSans-109\"/>\n      <use x=\"1107.181641\" xlink:href=\"#DejaVuSans-112\"/>\n      <use x=\"1170.658203\" xlink:href=\"#DejaVuSans-111\"/>\n      <use x=\"1231.839844\" xlink:href=\"#DejaVuSans-115\"/>\n      <use x=\"1283.939453\" xlink:href=\"#DejaVuSans-105\"/>\n      <use x=\"1311.722656\" xlink:href=\"#DejaVuSans-116\"/>\n      <use x=\"1350.931641\" xlink:href=\"#DejaVuSans-105\"/>\n      <use x=\"1378.714844\" xlink:href=\"#DejaVuSans-111\"/>\n      <use x=\"1439.896484\" xlink:href=\"#DejaVuSans-110\"/>\n      <use x=\"1503.275391\" xlink:href=\"#DejaVuSans-32\"/>\n      <use x=\"1535.0625\" xlink:href=\"#DejaVuSans-91\"/>\n      <use x=\"1574.076172\" xlink:href=\"#DejaVuSans-97\"/>\n      <use x=\"1635.355469\" xlink:href=\"#DejaVuSans-116\"/>\n      <use x=\"1674.564453\" xlink:href=\"#DejaVuSans-46\"/>\n      <use x=\"1706.351562\" xlink:href=\"#DejaVuSans-37\"/>\n      <use x=\"1801.371094\" xlink:href=\"#DejaVuSans-93\"/>\n     </g>\n    </g>\n   </g>\n   <g id=\"line2d_13\">\n    <path clip-path=\"url(#p850290565c)\" d=\"M 49.622768 306.077325 \nL 54.937054 302.815725 \nL 60.251339 341.954925 \nL 65.565625 185.398125 \nL 76.194196 244.106925 \nL 81.508482 244.106925 \nL 86.822768 214.752525 \nL 92.137054 273.461325 \nL 97.451339 244.106925 \nL 102.765625 280.281034 \nL 108.079911 253.595216 \nL 113.394196 253.595216 \nL 118.708482 250.630125 \nL 124.022768 280.281034 \nL 129.337054 197.258489 \nL 134.651339 306.966852 \nL 139.965625 250.630125 \nL 145.279911 250.630125 \nL 150.594196 333.65267 \nL 155.908482 253.595216 \nL 161.222768 226.909398 \nL 166.537054 280.281034 \nL 171.851339 231.604125 \nL 177.165625 283.246125 \nL 182.479911 237.040125 \nL 187.794196 283.246125 \nL 193.108482 256.066125 \nL 198.422768 283.246125 \nL 203.737054 185.398125 \nL 209.051339 207.142125 \nL 214.365625 207.142125 \nL 219.679911 283.246125 \nL 224.994196 231.604125 \nL 230.308482 258.784125 \nL 235.622768 234.322125 \nL 240.937054 182.680125 \nL 246.251339 258.784125 \nL 251.565625 182.680125 \nL 256.879911 313.144125 \nL 262.194196 258.784125 \nL 267.508482 261.502125 \nL 272.822768 231.604125 \nL 278.137054 263.17474 \nL 283.451339 315.862125 \nL 288.765625 240.594433 \nL 299.394196 240.594433 \nL 304.708482 215.505202 \nL 310.022768 215.505202 \nL 315.337054 263.17474 \nL 320.651339 180.738696 \nL 325.965625 248.300411 \nL 331.279911 266.938125 \nL 336.594196 269.267839 \nL 341.908482 266.938125 \nL 347.222768 225.003268 \nL 352.537054 292.564982 \nL 357.851339 245.970696 \nL 363.165625 183.068411 \nL 368.479911 245.970696 \nL 373.794196 245.970696 \nL 379.108482 252.804525 \nL 384.422768 213.665325 \nL 389.737054 254.978925 \nL 395.051339 254.978925 \nL 400.365625 233.234925 \nL 405.679911 252.804525 \nL 410.994196 238.399125 \nL 416.308482 279.169125 \nL 421.622768 203.744625 \nL 426.937054 201.706125 \nL 432.251339 242.476125 \nL 437.565625 238.399125 \nL 442.879911 225.688478 \nL 448.194196 206.502596 \nL 453.508482 319.699301 \nL 458.822768 191.15389 \nL 464.137054 242.955772 \nL 469.451339 206.502596 \nL 474.765625 201.706125 \nL 480.079911 230.698125 \nL 485.394196 288.138525 \nL 490.708482 227.798925 \nL 496.022768 226.168125 \nL 501.337054 227.798925 \nL 506.651339 213.121725 \nL 511.965625 278.586696 \nL 517.279911 247.523839 \nL 522.594196 261.502125 \nL 527.908482 265.45558 \nL 533.222768 180.950489 \nL 543.851339 213.759864 \nL 549.165625 200.997082 \nL 554.479911 262.861125 \nL 559.794196 231.604125 \nL 565.108482 236.651839 \nL 570.422768 210.141297 \nL 575.737054 273.461325 \nL 581.051339 198.023673 \nL 586.365625 248.055178 \nL 591.679911 216.497102 \nL 596.994196 247.665034 \nL 602.308482 233.234925 \nL 607.622768 252.048212 \nL 612.937054 207.577005 \nL 618.251339 238.670925 \nL 623.565625 191.710899 \nL 628.879911 256.236 \nL 634.194196 241.648908 \nL 639.508482 219.178982 \nL 644.822768 222.000525 \nL 650.137054 236.803777 \nL 655.451339 234.676647 \nL 660.765625 257.644319 \nL 666.079911 284.254867 \nL 671.394196 232.039005 \nL 676.708482 229.953911 \nL 682.022768 250.099784 \nL 687.337054 243.00219 \nL 692.651339 225.841965 \nL 697.965625 218.014125 \nL 703.279911 259.479427 \nL 708.594196 200.953448 \nL 713.908482 201.830614 \nL 719.222768 218.693625 \nL 724.537054 249.29886 \nL 729.851339 230.591537 \nL 735.165625 220.815499 \nL 740.479911 225.655588 \nL 745.794196 205.511325 \nL 751.108482 223.390389 \nL 756.422768 225.677994 \nL 761.737054 219.060628 \nL 762.784375 223.387713 \nL 762.784375 223.387713 \n\" style=\"fill:none;stroke:#ff0000;stroke-linecap:square;stroke-opacity:0.7;stroke-width:1.5;\"/>\n   </g>\n   <g id=\"patch_528\">\n    <path d=\"M 46.965625 348.478125 \nL 46.965625 22.318125 \n\" style=\"fill:none;stroke:#000000;stroke-linecap:square;stroke-linejoin:miter;stroke-width:0.8;\"/>\n   </g>\n   <g id=\"patch_529\">\n    <path d=\"M 604.965625 348.478125 \nL 604.965625 22.318125 \n\" style=\"fill:none;stroke:#000000;stroke-linecap:square;stroke-linejoin:miter;stroke-width:0.8;\"/>\n   </g>\n   <g id=\"patch_530\">\n    <path d=\"M 46.965625 348.478125 \nL 604.965625 348.478125 \n\" style=\"fill:none;stroke:#000000;stroke-linecap:square;stroke-linejoin:miter;stroke-width:0.8;\"/>\n   </g>\n   <g id=\"patch_531\">\n    <path d=\"M 46.965625 22.318125 \nL 604.965625 22.318125 \n\" style=\"fill:none;stroke:#000000;stroke-linecap:square;stroke-linejoin:miter;stroke-width:0.8;\"/>\n   </g>\n   <g id=\"text_15\">\n    <!-- Cluster composition and size for order = 6 nm -->\n    <defs>\n     <path d=\"M 37.109375 75.984375 \nL 37.109375 68.5 \nL 28.515625 68.5 \nQ 23.6875 68.5 21.796875 66.546875 \nQ 19.921875 64.59375 19.921875 59.515625 \nL 19.921875 54.6875 \nL 34.71875 54.6875 \nL 34.71875 47.703125 \nL 19.921875 47.703125 \nL 19.921875 0 \nL 10.890625 0 \nL 10.890625 47.703125 \nL 2.296875 47.703125 \nL 2.296875 54.6875 \nL 10.890625 54.6875 \nL 10.890625 58.5 \nQ 10.890625 67.625 15.140625 71.796875 \nQ 19.390625 75.984375 28.609375 75.984375 \nz\n\" id=\"DejaVuSans-102\"/>\n     <path d=\"M 10.59375 45.40625 \nL 73.1875 45.40625 \nL 73.1875 37.203125 \nL 10.59375 37.203125 \nz\nM 10.59375 25.484375 \nL 73.1875 25.484375 \nL 73.1875 17.1875 \nL 10.59375 17.1875 \nz\n\" id=\"DejaVuSans-61\"/>\n    </defs>\n    <g transform=\"translate(187.170625 16.318125)scale(0.12 -0.12)\">\n     <use xlink:href=\"#DejaVuSans-67\"/>\n     <use x=\"69.824219\" xlink:href=\"#DejaVuSans-108\"/>\n     <use x=\"97.607422\" xlink:href=\"#DejaVuSans-117\"/>\n     <use x=\"160.986328\" xlink:href=\"#DejaVuSans-115\"/>\n     <use x=\"213.085938\" xlink:href=\"#DejaVuSans-116\"/>\n     <use x=\"252.294922\" xlink:href=\"#DejaVuSans-101\"/>\n     <use x=\"313.818359\" xlink:href=\"#DejaVuSans-114\"/>\n     <use x=\"354.931641\" xlink:href=\"#DejaVuSans-32\"/>\n     <use x=\"386.71875\" xlink:href=\"#DejaVuSans-99\"/>\n     <use x=\"441.699219\" xlink:href=\"#DejaVuSans-111\"/>\n     <use x=\"502.880859\" xlink:href=\"#DejaVuSans-109\"/>\n     <use x=\"600.292969\" xlink:href=\"#DejaVuSans-112\"/>\n     <use x=\"663.769531\" xlink:href=\"#DejaVuSans-111\"/>\n     <use x=\"724.951172\" xlink:href=\"#DejaVuSans-115\"/>\n     <use x=\"777.050781\" xlink:href=\"#DejaVuSans-105\"/>\n     <use x=\"804.833984\" xlink:href=\"#DejaVuSans-116\"/>\n     <use x=\"844.042969\" xlink:href=\"#DejaVuSans-105\"/>\n     <use x=\"871.826172\" xlink:href=\"#DejaVuSans-111\"/>\n     <use x=\"933.007812\" xlink:href=\"#DejaVuSans-110\"/>\n     <use x=\"996.386719\" xlink:href=\"#DejaVuSans-32\"/>\n     <use x=\"1028.173828\" xlink:href=\"#DejaVuSans-97\"/>\n     <use x=\"1089.453125\" xlink:href=\"#DejaVuSans-110\"/>\n     <use x=\"1152.832031\" xlink:href=\"#DejaVuSans-100\"/>\n     <use x=\"1216.308594\" xlink:href=\"#DejaVuSans-32\"/>\n     <use x=\"1248.095703\" xlink:href=\"#DejaVuSans-115\"/>\n     <use x=\"1300.195312\" xlink:href=\"#DejaVuSans-105\"/>\n     <use x=\"1327.978516\" xlink:href=\"#DejaVuSans-122\"/>\n     <use x=\"1380.46875\" xlink:href=\"#DejaVuSans-101\"/>\n     <use x=\"1441.992188\" xlink:href=\"#DejaVuSans-32\"/>\n     <use x=\"1473.779297\" xlink:href=\"#DejaVuSans-102\"/>\n     <use x=\"1508.984375\" xlink:href=\"#DejaVuSans-111\"/>\n     <use x=\"1570.166016\" xlink:href=\"#DejaVuSans-114\"/>\n     <use x=\"1611.279297\" xlink:href=\"#DejaVuSans-32\"/>\n     <use x=\"1643.066406\" xlink:href=\"#DejaVuSans-111\"/>\n     <use x=\"1704.248047\" xlink:href=\"#DejaVuSans-114\"/>\n     <use x=\"1743.611328\" xlink:href=\"#DejaVuSans-100\"/>\n     <use x=\"1807.087891\" xlink:href=\"#DejaVuSans-101\"/>\n     <use x=\"1868.611328\" xlink:href=\"#DejaVuSans-114\"/>\n     <use x=\"1909.724609\" xlink:href=\"#DejaVuSans-32\"/>\n     <use x=\"1941.511719\" xlink:href=\"#DejaVuSans-61\"/>\n     <use x=\"2025.300781\" xlink:href=\"#DejaVuSans-32\"/>\n     <use x=\"2057.087891\" xlink:href=\"#DejaVuSans-54\"/>\n     <use x=\"2120.710938\" xlink:href=\"#DejaVuSans-32\"/>\n     <use x=\"2152.498047\" xlink:href=\"#DejaVuSans-110\"/>\n     <use x=\"2215.876953\" xlink:href=\"#DejaVuSans-109\"/>\n    </g>\n   </g>\n   <g id=\"legend_1\">\n    <g id=\"patch_532\">\n     <path d=\"M 667.765625 118.386875 \nL 752.584375 118.386875 \nQ 754.584375 118.386875 754.584375 116.386875 \nL 754.584375 29.318125 \nQ 754.584375 27.318125 752.584375 27.318125 \nL 667.765625 27.318125 \nQ 665.765625 27.318125 665.765625 29.318125 \nL 665.765625 116.386875 \nQ 665.765625 118.386875 667.765625 118.386875 \nz\n\" style=\"fill:#ffffff;opacity:0.8;stroke:#cccccc;stroke-linejoin:miter;\"/>\n    </g>\n    <g id=\"line2d_14\">\n     <path d=\"M 669.765625 35.416562 \nL 689.765625 35.416562 \n\" style=\"fill:none;stroke:#ff0000;stroke-linecap:square;stroke-opacity:0.7;stroke-width:1.5;\"/>\n    </g>\n    <g id=\"line2d_15\"/>\n    <g id=\"text_16\">\n     <!-- Fe content -->\n     <defs>\n      <path d=\"M 9.8125 72.90625 \nL 51.703125 72.90625 \nL 51.703125 64.59375 \nL 19.671875 64.59375 \nL 19.671875 43.109375 \nL 48.578125 43.109375 \nL 48.578125 34.8125 \nL 19.671875 34.8125 \nL 19.671875 0 \nL 9.8125 0 \nz\n\" id=\"DejaVuSans-70\"/>\n     </defs>\n     <g transform=\"translate(697.765625 38.916562)scale(0.1 -0.1)\">\n      <use xlink:href=\"#DejaVuSans-70\"/>\n      <use x=\"52.019531\" xlink:href=\"#DejaVuSans-101\"/>\n      <use x=\"113.542969\" xlink:href=\"#DejaVuSans-32\"/>\n      <use x=\"145.330078\" xlink:href=\"#DejaVuSans-99\"/>\n      <use x=\"200.310547\" xlink:href=\"#DejaVuSans-111\"/>\n      <use x=\"261.492188\" xlink:href=\"#DejaVuSans-110\"/>\n      <use x=\"324.871094\" xlink:href=\"#DejaVuSans-116\"/>\n      <use x=\"364.080078\" xlink:href=\"#DejaVuSans-101\"/>\n      <use x=\"425.603516\" xlink:href=\"#DejaVuSans-110\"/>\n      <use x=\"488.982422\" xlink:href=\"#DejaVuSans-116\"/>\n     </g>\n    </g>\n    <g id=\"patch_533\">\n     <path d=\"M 669.765625 53.594687 \nL 689.765625 53.594687 \nL 689.765625 46.594687 \nL 669.765625 46.594687 \nz\n\" style=\"fill:#ffc0cb;opacity:0.7;\"/>\n    </g>\n    <g id=\"text_17\">\n     <!-- P -->\n     <defs>\n      <path d=\"M 19.671875 64.796875 \nL 19.671875 37.40625 \nL 32.078125 37.40625 \nQ 38.96875 37.40625 42.71875 40.96875 \nQ 46.484375 44.53125 46.484375 51.125 \nQ 46.484375 57.671875 42.71875 61.234375 \nQ 38.96875 64.796875 32.078125 64.796875 \nz\nM 9.8125 72.90625 \nL 32.078125 72.90625 \nQ 44.34375 72.90625 50.609375 67.359375 \nQ 56.890625 61.8125 56.890625 51.125 \nQ 56.890625 40.328125 50.609375 34.8125 \nQ 44.34375 29.296875 32.078125 29.296875 \nL 19.671875 29.296875 \nL 19.671875 0 \nL 9.8125 0 \nz\n\" id=\"DejaVuSans-80\"/>\n     </defs>\n     <g transform=\"translate(697.765625 53.594687)scale(0.1 -0.1)\">\n      <use xlink:href=\"#DejaVuSans-80\"/>\n     </g>\n    </g>\n    <g id=\"patch_534\">\n     <path d=\"M 669.765625 68.272812 \nL 689.765625 68.272812 \nL 689.765625 61.272812 \nL 669.765625 61.272812 \nz\n\" style=\"fill:#ffa500;opacity:0.7;\"/>\n    </g>\n    <g id=\"text_18\">\n     <!-- Cu -->\n     <g transform=\"translate(697.765625 68.272812)scale(0.1 -0.1)\">\n      <use xlink:href=\"#DejaVuSans-67\"/>\n      <use x=\"69.824219\" xlink:href=\"#DejaVuSans-117\"/>\n     </g>\n    </g>\n    <g id=\"patch_535\">\n     <path d=\"M 669.765625 82.950937 \nL 689.765625 82.950937 \nL 689.765625 75.950937 \nL 669.765625 75.950937 \nz\n\" style=\"fill:#ffff00;opacity:0.7;\"/>\n    </g>\n    <g id=\"text_19\">\n     <!-- Mn -->\n     <defs>\n      <path d=\"M 9.8125 72.90625 \nL 24.515625 72.90625 \nL 43.109375 23.296875 \nL 61.8125 72.90625 \nL 76.515625 72.90625 \nL 76.515625 0 \nL 66.890625 0 \nL 66.890625 64.015625 \nL 48.09375 14.015625 \nL 38.1875 14.015625 \nL 19.390625 64.015625 \nL 19.390625 0 \nL 9.8125 0 \nz\n\" id=\"DejaVuSans-77\"/>\n     </defs>\n     <g transform=\"translate(697.765625 82.950937)scale(0.1 -0.1)\">\n      <use xlink:href=\"#DejaVuSans-77\"/>\n      <use x=\"86.279297\" xlink:href=\"#DejaVuSans-110\"/>\n     </g>\n    </g>\n    <g id=\"patch_536\">\n     <path d=\"M 669.765625 97.629062 \nL 689.765625 97.629062 \nL 689.765625 90.629062 \nL 669.765625 90.629062 \nz\n\" style=\"fill:#808080;opacity:0.7;\"/>\n    </g>\n    <g id=\"text_20\">\n     <!-- Si -->\n     <defs>\n      <path d=\"M 53.515625 70.515625 \nL 53.515625 60.890625 \nQ 47.90625 63.578125 42.921875 64.890625 \nQ 37.9375 66.21875 33.296875 66.21875 \nQ 25.25 66.21875 20.875 63.09375 \nQ 16.5 59.96875 16.5 54.203125 \nQ 16.5 49.359375 19.40625 46.890625 \nQ 22.3125 44.4375 30.421875 42.921875 \nL 36.375 41.703125 \nQ 47.40625 39.59375 52.65625 34.296875 \nQ 57.90625 29 57.90625 20.125 \nQ 57.90625 9.515625 50.796875 4.046875 \nQ 43.703125 -1.421875 29.984375 -1.421875 \nQ 24.8125 -1.421875 18.96875 -0.25 \nQ 13.140625 0.921875 6.890625 3.21875 \nL 6.890625 13.375 \nQ 12.890625 10.015625 18.65625 8.296875 \nQ 24.421875 6.59375 29.984375 6.59375 \nQ 38.421875 6.59375 43.015625 9.90625 \nQ 47.609375 13.234375 47.609375 19.390625 \nQ 47.609375 24.75 44.3125 27.78125 \nQ 41.015625 30.8125 33.5 32.328125 \nL 27.484375 33.5 \nQ 16.453125 35.6875 11.515625 40.375 \nQ 6.59375 45.0625 6.59375 53.421875 \nQ 6.59375 63.09375 13.40625 68.65625 \nQ 20.21875 74.21875 32.171875 74.21875 \nQ 37.3125 74.21875 42.625 73.28125 \nQ 47.953125 72.359375 53.515625 70.515625 \nz\n\" id=\"DejaVuSans-83\"/>\n     </defs>\n     <g transform=\"translate(697.765625 97.629062)scale(0.1 -0.1)\">\n      <use xlink:href=\"#DejaVuSans-83\"/>\n      <use x=\"63.476562\" xlink:href=\"#DejaVuSans-105\"/>\n     </g>\n    </g>\n    <g id=\"patch_537\">\n     <path d=\"M 669.765625 112.307187 \nL 689.765625 112.307187 \nL 689.765625 105.307187 \nL 669.765625 105.307187 \nz\n\" style=\"fill:#008000;opacity:0.7;\"/>\n    </g>\n    <g id=\"text_21\">\n     <!-- Ni -->\n     <defs>\n      <path d=\"M 9.8125 72.90625 \nL 23.09375 72.90625 \nL 55.421875 11.921875 \nL 55.421875 72.90625 \nL 64.984375 72.90625 \nL 64.984375 0 \nL 51.703125 0 \nL 19.390625 60.984375 \nL 19.390625 0 \nL 9.8125 0 \nz\n\" id=\"DejaVuSans-78\"/>\n     </defs>\n     <g transform=\"translate(697.765625 112.307187)scale(0.1 -0.1)\">\n      <use xlink:href=\"#DejaVuSans-78\"/>\n      <use x=\"74.804688\" xlink:href=\"#DejaVuSans-105\"/>\n     </g>\n    </g>\n   </g>\n  </g>\n </g>\n <defs>\n  <clipPath id=\"p850290565c\">\n   <rect height=\"326.16\" width=\"558\" x=\"46.965625\" y=\"22.318125\"/>\n  </clipPath>\n </defs>\n</svg>\n",
      "image/png": "[encoded data removed]"
     },
     "metadata": {
      "needs_background": "light"
     }
    }
   ],
   "source": [
    "# same but with bar\n",
    "# corrected compositions by excluding certain elements from the calculations\n",
    "exclude_ions = [\"Fe\"]\n",
    "overlap_ions = {\"Fm\": 0.90}\n",
    "n_min = 10\n",
    "core_ion_colors = {\n",
    "    \"Cu\": \"orange\",\n",
    "    \"Ni\": \"green\",\n",
    "    \"Mn\": \"yellow\",\n",
    "    \"P\": \"pink\",\n",
    "    \"Si\": \"grey\"\n",
    "}\n",
    "plot_with_Fe = True\n",
    "\n",
    "# before reading the data and after creating pandas dataframes, drop specified columns\n",
    "# retrieve the data needed from the cluster stats files for the composition plots\n",
    "core_ions = [\"P\", \"Cu\", \"Mn\", \"Si\", \"Ni\"]\n",
    "\n",
    "# create a new dictionary every time you run a correction to avoid correcting data more than once\n",
    "dfs = {}\n",
    "cluster_data = {}\n",
    "\n",
    "for i, dm in enumerate(dmax_values):\n",
    "    plt.figure(figsize=(10, 6))\n",
    "    # open the cluster stats file and create pandas dataframe\n",
    "    cluster_stats_file = xml_files[i].replace(\".xml\", \"_cluster-stats.txt\")\n",
    "    local_df = pandas.read_csv(cluster_stats_file, sep=\"\\t\")\n",
    "    \n",
    "    # insert all the corrections in here\n",
    "    # exclude (matrix) ions by deleting the column\n",
    "    local_df = local_df.drop(exclude_ions, axis=1)\n",
    "    # lower the amount of ions for each element that has overlap with matrix ions\n",
    "    for overlap_ion in overlap_ions:\n",
    "        local_df[overlap_ion] = round(local_df[overlap_ion] * overlap_ions[overlap_ion])\n",
    "    # transfer the overlapping ions into \"original\" elements\n",
    "    local_df[\"Ni\"] = local_df[\"Ni\"] + local_df[\"Fm\"]\n",
    "    # delete the overlaping ions by multiplying by 0 to keep the total amount of ions constant\n",
    "    local_df[\"Fm\"] = local_df[\"Fm\"] * 0\n",
    "    \n",
    "    # add total ions in cluster value\n",
    "    local_df[\"Cluster Size\"] = local_df.iloc[:, 3:-2].sum(axis=1)\n",
    "    \n",
    "    # change n_min\n",
    "    local_df = local_df[local_df[\"Cluster Size\"] >= n_min]\n",
    "    \n",
    "    # sort it by size\n",
    "    local_df = local_df.sort_values(by=\"Cluster Size\")\n",
    "    \n",
    "    previous_y_values = []\n",
    "    # iterate through rows and find their core ions and total ions values\n",
    "    for i2, core_ion in enumerate(core_ions):\n",
    "        cluster_size_values = local_df[\"Cluster Size\"]\n",
    "        x_values = np.arange(len(cluster_size_values))\n",
    "        y_values = local_df[core_ion] / local_df[\"Cluster Size\"] * 100\n",
    "        \n",
    "#         # for each cluster size find all clusters and calculate mean core ion content with stdev\n",
    "#         for i3, x in enumerate(iter(x_values)):\n",
    "#             all_for_one_size = local_df[local_df[\"Cluster Size\"] == x][core_ion]\n",
    "#             y_values[i3] = all_for_one_size.mean() / x * 100\n",
    "#             y_std[i3] = all_for_one_size.std() / x * 100\n",
    "#             # TODO: think about how to plot st dev later on\n",
    "        \n",
    "        if i2 == 0:\n",
    "            plt.bar(x_values, y_values, width=1, alpha=0.7, label=core_ion, \n",
    "                    color=core_ion_colors[core_ion])\n",
    "            previous_y_values = y_values\n",
    "        else:\n",
    "            plt.bar(x_values, y_values, bottom=previous_y_values, width=1, \n",
    "                    alpha=0.7, label=core_ion, color=core_ion_colors[core_ion])\n",
    "            previous_y_values = previous_y_values + y_values\n",
    "        \n",
    "    # reopen pandas dataframe to get the Fe content and plot a line\n",
    "    if plot_with_Fe:\n",
    "        local_df = pandas.read_csv(cluster_stats_file, sep=\"\\t\")\n",
    "                                \n",
    "        # TODO: improve\n",
    "        # transfer the overlapping ions into \"original\" elements\n",
    "        local_df[\"Fe\"] = local_df[\"Fe\"] + (local_df[\"Fm\"] * 0.1)\n",
    "        # delete the overlaping ions by multiplying by 0 to keep the total amount of ions constant\n",
    "        local_df[\"Ni\"] = local_df[\"Ni\"] + (local_df[\"Fm\"] * 0.9)\n",
    "\n",
    "        # add total ions in cluster value\n",
    "        local_df[\"Cluster Size\"] = local_df.iloc[:, 3:-2].sum(axis=1)\n",
    "\n",
    "        # change n_min\n",
    "        local_df = local_df[local_df[\"Cluster Size\"] >= n_min]\n",
    "\n",
    "        # sort it by size\n",
    "        local_df = local_df.sort_values(by=\"Cluster Size\")\n",
    "\n",
    "        Fe_concentration = local_df[\"Fe\"] / local_df[\"Cluster Size\"] * 100\n",
    "        cluster_size_values = local_df[\"Cluster Size\"]\n",
    "        x_values = np.arange(len(cluster_size_values))\n",
    "        # TODO: data smoothing?\n",
    "        plt.plot(x_values, Fe_concentration, 'r-', label=\"Fe content\", alpha=0.7)\n",
    "        \n",
    "    # adjust the plot    \n",
    "    plt.xlabel(\"Cluster size in ions\")\n",
    "    plt.ylabel(\"Corrected cluster composition [at.%]\")\n",
    "    \n",
    "    # prepare the x axis - plot every 20th value\n",
    "    tick = 20\n",
    "    cluster_size_values = cluster_size_values.astype(int)\n",
    "    plt.xticks(x_values[::tick], cluster_size_values[::tick])\n",
    "    plt.legend(bbox_to_anchor=(1.1, 1))\n",
    "#     plt.grid()\n",
    "    plt.xlim(-0.5, len(y_values)-0.5)\n",
    "    plt.ylim(0, 100)\n",
    "    plt.title(\"Cluster composition and size for order = %s nm\"%dm)\n",
    "    plt.show()\n"
   ]
  },
  {
   "cell_type": "markdown",
   "metadata": {},
   "source": [
    "### Plotting using Plotly library\n"
   ]
  },
  {
   "cell_type": "code",
   "execution_count": 42,
   "metadata": {},
   "outputs": [
    {
     "output_type": "stream",
     "name": "stdout",
     "text": "105\n"
    },
    {
     "output_type": "display_data",
     "data": {
      "application/vnd.plotly.v1+json": {
       "config": {
        "plotlyServerURL": "https://plot.ly"
       },
       "data": [
        {
         "marker": {
          "color": "pink"
         },
         "name": "P",
         "type": "bar",
         "x": [
          0,
          1,
          2,
          3,
          4,
          5,
          6,
          7,
          8,
          9,
          10,
          11,
          12,
          13,
          14,
          15,
          16,
          17,
          18,
          19,
          20,
          21,
          22,
          23,
          24,
          25,
          26,
          27,
          28,
          29,
          30,
          31,
          32,
          33,
          34,
          35,
          36,
          37,
          38,
          39,
          40,
          41,
          42,
          43,
          44,
          45,
          46,
          47,
          48,
          49,
          50,
          51,
          52,
          53,
          54,
          55,
          56,
          57,
          58,
          59,
          60,
          61,
          62,
          63,
          64,
          65,
          66,
          67,
          68,
          69,
          70,
          71,
          72,
          73,
          74,
          75,
          76,
          77,
          78,
          79,
          80,
          81,
          82,
          83,
          84,
          85,
          86,
          87,
          88,
          89,
          90,
          91,
          92,
          93,
          94,
          95,
          96,
          97,
          98,
          99,
          100,
          101,
          102,
          103,
          104
         ],
         "y": [
          0,
          0,
          0,
          0,
          0,
          0,
          0,
          0,
          0,
          0,
          0,
          4.545454545454546,
          0,
          4.166666666666666,
          0,
          0,
          0,
          0,
          0,
          0,
          0,
          0,
          0,
          0,
          0,
          0,
          0,
          0,
          0,
          0,
          0,
          0,
          0,
          0,
          0,
          0,
          0,
          0,
          0,
          1.25,
          0,
          0,
          0,
          0,
          0,
          0,
          0,
          0,
          0,
          0,
          0,
          0,
          0,
          0,
          0,
          0,
          0.7407407407407408,
          0,
          0,
          0,
          0,
          0,
          0,
          0,
          0,
          0.6060606060606061,
          0.6024096385542169,
          0,
          0,
          0,
          0,
          0,
          0,
          0,
          0,
          0.43859649122807015,
          0,
          0.3861003861003861,
          0,
          0,
          0,
          0,
          0,
          0,
          0.3246753246753247,
          0.9615384615384616,
          0,
          0,
          0,
          0,
          0,
          0,
          0,
          0.27548209366391185,
          0,
          0.4728132387706856,
          0,
          0.22471910112359553,
          0,
          0,
          0,
          0,
          0.4132231404958678,
          0.3076923076923077,
          0
         ]
        },
        {
         "marker": {
          "color": "orange"
         },
         "name": "Cu",
         "type": "bar",
         "x": [
          0,
          1,
          2,
          3,
          4,
          5,
          6,
          7,
          8,
          9,
          10,
          11,
          12,
          13,
          14,
          15,
          16,
          17,
          18,
          19,
          20,
          21,
          22,
          23,
          24,
          25,
          26,
          27,
          28,
          29,
          30,
          31,
          32,
          33,
          34,
          35,
          36,
          37,
          38,
          39,
          40,
          41,
          42,
          43,
          44,
          45,
          46,
          47,
          48,
          49,
          50,
          51,
          52,
          53,
          54,
          55,
          56,
          57,
          58,
          59,
          60,
          61,
          62,
          63,
          64,
          65,
          66,
          67,
          68,
          69,
          70,
          71,
          72,
          73,
          74,
          75,
          76,
          77,
          78,
          79,
          80,
          81,
          82,
          83,
          84,
          85,
          86,
          87,
          88,
          89,
          90,
          91,
          92,
          93,
          94,
          95,
          96,
          97,
          98,
          99,
          100,
          101,
          102,
          103,
          104
         ],
         "y": [
          0,
          0,
          20,
          18.181818181818183,
          8.333333333333332,
          7.142857142857142,
          0,
          14.285714285714285,
          6.666666666666667,
          5.263157894736842,
          5,
          13.636363636363635,
          22.727272727272727,
          16.666666666666664,
          20.833333333333336,
          26.923076923076923,
          10.714285714285714,
          10,
          25.71428571428571,
          8.333333333333332,
          13.157894736842104,
          13.043478260869565,
          4.25531914893617,
          14.583333333333334,
          20.408163265306122,
          16.9811320754717,
          26.41509433962264,
          29.629629629629626,
          12.727272727272727,
          5.263157894736842,
          10.344827586206897,
          1.5873015873015872,
          17.1875,
          30.76923076923077,
          7.042253521126761,
          20.833333333333336,
          12.5,
          12,
          12,
          10,
          9.876543209876543,
          13.095238095238097,
          8.235294117647058,
          12.941176470588237,
          8.791208791208792,
          9.900990099009901,
          21.35922330097087,
          6.0344827586206895,
          8.547008547008547,
          13.559322033898304,
          10.084033613445378,
          15.126050420168067,
          13.492063492063492,
          11.023622047244094,
          9.848484848484848,
          8.88888888888889,
          4.444444444444445,
          13.380281690140844,
          11.888111888111888,
          7.586206896551724,
          15.894039735099339,
          13.461538461538462,
          10.828025477707007,
          15.09433962264151,
          12.5,
          12.727272727272727,
          12.650602409638553,
          13.855421686746988,
          13.77245508982036,
          10.714285714285714,
          17.058823529411764,
          7.471264367816093,
          15.909090909090908,
          13.705583756345177,
          10.7981220657277,
          13.596491228070176,
          19.753086419753085,
          9.266409266409266,
          15.849056603773585,
          13.090909090909092,
          22.18430034129693,
          11.073825503355705,
          13.377926421404682,
          15.946843853820598,
          10.064935064935066,
          15.064102564102564,
          13.375796178343949,
          15,
          11.11111111111111,
          10.588235294117647,
          14.16184971098266,
          14.929577464788732,
          12.640449438202248,
          13.223140495867769,
          15.890410958904111,
          11.82033096926714,
          10.730593607305936,
          15.730337078651685,
          12.222222222222221,
          13.135593220338984,
          9.643605870020965,
          14.96881496881497,
          15.909090909090908,
          12.769230769230768,
          17.21518987341772
         ]
        },
        {
         "marker": {
          "color": "yellow"
         },
         "name": "Mn",
         "type": "bar",
         "x": [
          0,
          1,
          2,
          3,
          4,
          5,
          6,
          7,
          8,
          9,
          10,
          11,
          12,
          13,
          14,
          15,
          16,
          17,
          18,
          19,
          20,
          21,
          22,
          23,
          24,
          25,
          26,
          27,
          28,
          29,
          30,
          31,
          32,
          33,
          34,
          35,
          36,
          37,
          38,
          39,
          40,
          41,
          42,
          43,
          44,
          45,
          46,
          47,
          48,
          49,
          50,
          51,
          52,
          53,
          54,
          55,
          56,
          57,
          58,
          59,
          60,
          61,
          62,
          63,
          64,
          65,
          66,
          67,
          68,
          69,
          70,
          71,
          72,
          73,
          74,
          75,
          76,
          77,
          78,
          79,
          80,
          81,
          82,
          83,
          84,
          85,
          86,
          87,
          88,
          89,
          90,
          91,
          92,
          93,
          94,
          95,
          96,
          97,
          98,
          99,
          100,
          101,
          102,
          103,
          104
         ],
         "y": [
          30,
          10,
          60,
          9.090909090909092,
          0,
          21.428571428571427,
          42.857142857142854,
          21.428571428571427,
          40,
          36.84210526315789,
          40,
          27.27272727272727,
          27.27272727272727,
          29.166666666666668,
          29.166666666666668,
          23.076923076923077,
          25,
          20,
          25.71428571428571,
          16.666666666666664,
          23.684210526315788,
          23.91304347826087,
          46.808510638297875,
          27.083333333333332,
          30.612244897959183,
          20.754716981132077,
          20.754716981132077,
          12.962962962962962,
          23.636363636363637,
          24.561403508771928,
          29.310344827586203,
          33.33333333333333,
          28.125,
          20,
          32.3943661971831,
          27.77777777777778,
          16.666666666666664,
          25.333333333333336,
          29.333333333333332,
          30,
          29.629629629629626,
          35.714285714285715,
          28.235294117647058,
          35.294117647058826,
          35.16483516483517,
          32.67326732673268,
          23.300970873786408,
          34.48275862068966,
          35.04273504273504,
          26.27118644067797,
          27.73109243697479,
          25.210084033613445,
          27.77777777777778,
          27.559055118110237,
          28.78787878787879,
          32.592592592592595,
          25.925925925925924,
          26.76056338028169,
          25.174825174825177,
          28.965517241379313,
          33.11258278145696,
          30.128205128205128,
          36.94267515923567,
          30.18867924528302,
          28.749999999999996,
          26.666666666666668,
          31.32530120481928,
          27.710843373493976,
          33.532934131736525,
          22.023809523809522,
          31.76470588235294,
          34.48275862068966,
          32.38636363636363,
          32.99492385786802,
          25.352112676056336,
          28.07017543859649,
          30.864197530864196,
          23.552123552123554,
          31.32075471698113,
          27.27272727272727,
          28.327645051194537,
          30.201342281879196,
          34.11371237458194,
          30.89700996677741,
          31.16883116883117,
          29.166666666666668,
          33.43949044585987,
          33.75,
          29.129129129129126,
          33.52941176470588,
          25.722543352601157,
          28.732394366197184,
          30.0561797752809,
          30.57851239669421,
          33.6986301369863,
          30.260047281323878,
          30.82191780821918,
          29.662921348314608,
          28.000000000000004,
          31.779661016949152,
          29.769392033542978,
          28.482328482328484,
          31.818181818181817,
          29.69230769230769,
          30.126582278481013
         ]
        },
        {
         "marker": {
          "color": "grey"
         },
         "name": "Si",
         "type": "bar",
         "x": [
          0,
          1,
          2,
          3,
          4,
          5,
          6,
          7,
          8,
          9,
          10,
          11,
          12,
          13,
          14,
          15,
          16,
          17,
          18,
          19,
          20,
          21,
          22,
          23,
          24,
          25,
          26,
          27,
          28,
          29,
          30,
          31,
          32,
          33,
          34,
          35,
          36,
          37,
          38,
          39,
          40,
          41,
          42,
          43,
          44,
          45,
          46,
          47,
          48,
          49,
          50,
          51,
          52,
          53,
          54,
          55,
          56,
          57,
          58,
          59,
          60,
          61,
          62,
          63,
          64,
          65,
          66,
          67,
          68,
          69,
          70,
          71,
          72,
          73,
          74,
          75,
          76,
          77,
          78,
          79,
          80,
          81,
          82,
          83,
          84,
          85,
          86,
          87,
          88,
          89,
          90,
          91,
          92,
          93,
          94,
          95,
          96,
          97,
          98,
          99,
          100,
          101,
          102,
          103,
          104
         ],
         "y": [
          10,
          10,
          0,
          9.090909090909092,
          41.66666666666667,
          0,
          7.142857142857142,
          21.428571428571427,
          13.333333333333334,
          10.526315789473683,
          5,
          9.090909090909092,
          13.636363636363635,
          16.666666666666664,
          4.166666666666666,
          15.384615384615385,
          3.571428571428571,
          6.666666666666667,
          8.571428571428571,
          13.88888888888889,
          10.526315789473683,
          6.521739130434782,
          4.25531914893617,
          8.333333333333332,
          8.16326530612245,
          7.547169811320755,
          3.7735849056603774,
          7.4074074074074066,
          5.454545454545454,
          10.526315789473683,
          12.068965517241379,
          15.873015873015872,
          7.8125,
          4.615384615384616,
          7.042253521126761,
          6.944444444444445,
          6.944444444444445,
          12,
          8,
          12.5,
          9.876543209876543,
          2.380952380952381,
          8.235294117647058,
          10.588235294117647,
          4.395604395604396,
          7.920792079207921,
          6.796116504854369,
          8.620689655172415,
          9.401709401709402,
          5.932203389830509,
          11.76470588235294,
          6.722689075630252,
          9.523809523809524,
          10.236220472440944,
          6.8181818181818175,
          7.4074074074074066,
          9.62962962962963,
          8.450704225352112,
          6.293706293706294,
          10.344827586206897,
          5.960264900662252,
          8.974358974358974,
          5.095541401273886,
          7.547169811320755,
          8.125,
          7.878787878787878,
          12.650602409638553,
          7.228915662650602,
          7.784431137724551,
          8.928571428571429,
          6.470588235294119,
          6.896551724137931,
          6.8181818181818175,
          9.137055837563452,
          9.389671361502346,
          7.894736842105263,
          5.761316872427984,
          7.335907335907336,
          9.433962264150944,
          10.181818181818182,
          6.484641638225256,
          8.389261744966444,
          9.698996655518394,
          6.976744186046512,
          10.714285714285714,
          8.012820512820513,
          7.006369426751593,
          7.187499999999999,
          10.21021021021021,
          5.88235294117647,
          8.670520231213873,
          5.352112676056338,
          8.146067415730338,
          7.988980716253444,
          8.21917808219178,
          8.274231678486997,
          8.21917808219178,
          7.415730337078652,
          7.555555555555555,
          9.957627118644067,
          7.966457023060797,
          7.276507276507277,
          5.1652892561983474,
          6.461538461538462,
          4.556962025316456
         ]
        },
        {
         "marker": {
          "color": "green"
         },
         "name": "Ni",
         "type": "bar",
         "x": [
          0,
          1,
          2,
          3,
          4,
          5,
          6,
          7,
          8,
          9,
          10,
          11,
          12,
          13,
          14,
          15,
          16,
          17,
          18,
          19,
          20,
          21,
          22,
          23,
          24,
          25,
          26,
          27,
          28,
          29,
          30,
          31,
          32,
          33,
          34,
          35,
          36,
          37,
          38,
          39,
          40,
          41,
          42,
          43,
          44,
          45,
          46,
          47,
          48,
          49,
          50,
          51,
          52,
          53,
          54,
          55,
          56,
          57,
          58,
          59,
          60,
          61,
          62,
          63,
          64,
          65,
          66,
          67,
          68,
          69,
          70,
          71,
          72,
          73,
          74,
          75,
          76,
          77,
          78,
          79,
          80,
          81,
          82,
          83,
          84,
          85,
          86,
          87,
          88,
          89,
          90,
          91,
          92,
          93,
          94,
          95,
          96,
          97,
          98,
          99,
          100,
          101,
          102,
          103,
          104
         ],
         "y": [
          60,
          80,
          20,
          63.63636363636363,
          50,
          71.42857142857143,
          50,
          42.857142857142854,
          40,
          47.368421052631575,
          50,
          45.45454545454545,
          36.36363636363637,
          33.33333333333333,
          45.83333333333333,
          34.61538461538461,
          57.14285714285714,
          63.33333333333333,
          40,
          61.111111111111114,
          52.63157894736842,
          56.52173913043478,
          44.680851063829785,
          50,
          40.816326530612244,
          54.71698113207547,
          49.056603773584904,
          48.148148148148145,
          58.18181818181818,
          59.64912280701754,
          48.275862068965516,
          49.2063492063492,
          46.875,
          44.61538461538462,
          53.52112676056338,
          44.44444444444444,
          63.888888888888886,
          50.66666666666667,
          50.66666666666667,
          46.25,
          50.617283950617285,
          48.80952380952381,
          55.294117647058826,
          41.17647058823529,
          51.64835164835166,
          49.504950495049506,
          48.54368932038835,
          50.86206896551724,
          47.008547008547005,
          54.23728813559322,
          50.42016806722689,
          52.94117647058824,
          49.2063492063492,
          51.181102362204726,
          54.54545454545454,
          51.11111111111111,
          58.51851851851851,
          51.40845070422535,
          56.64335664335665,
          52.41379310344828,
          45.033112582781456,
          47.43589743589743,
          47.13375796178344,
          47.16981132075472,
          50.625,
          52.121212121212125,
          42.77108433734939,
          51.204819277108435,
          44.91017964071856,
          58.333333333333336,
          44.70588235294118,
          50.57471264367817,
          44.31818181818182,
          43.14720812182741,
          54.460093896713616,
          50,
          43.62139917695473,
          59.07335907335908,
          43.39622641509434,
          49.45454545454545,
          43.003412969283275,
          50,
          42.80936454849498,
          46.179401993355484,
          47.72727272727273,
          46.15384615384615,
          46.17834394904459,
          44.0625,
          49.549549549549546,
          49.705882352941174,
          51.15606936416185,
          50.985915492957744,
          48.87640449438202,
          47.93388429752066,
          42.19178082191781,
          49.1725768321513,
          50.2283105022831,
          46.96629213483146,
          52.22222222222223,
          45.1271186440678,
          52.20125786163522,
          49.272349272349274,
          45.867768595041326,
          50.76923076923077,
          47.21518987341772
         ]
        },
        {
         "line": {
          "color": "red"
         },
         "name": "Fe",
         "opacity": 0.7,
         "type": "scatter",
         "x": [
          0,
          1,
          2,
          3,
          4,
          5,
          6,
          7,
          8,
          9,
          10,
          11,
          12,
          13,
          14,
          15,
          16,
          17,
          18,
          19,
          20,
          21,
          22,
          23,
          24,
          25,
          26,
          27,
          28,
          29,
          30,
          31,
          32,
          33,
          34,
          35,
          36,
          37,
          38,
          39,
          40,
          41,
          42,
          43,
          44,
          45,
          46,
          47,
          48,
          49,
          50,
          51,
          52,
          53,
          54,
          55,
          56,
          57,
          58,
          59,
          60,
          61,
          62,
          63,
          64,
          65,
          66,
          67,
          68,
          69,
          70,
          71,
          72,
          73,
          74,
          75,
          76,
          77,
          78,
          79,
          80,
          81,
          82,
          83,
          84,
          85,
          86,
          87,
          88,
          89,
          90,
          91,
          92,
          93,
          94,
          95,
          96,
          97,
          98,
          99,
          100,
          101,
          102,
          103,
          104
         ],
         "y": [
          13,
          13.999999999999998,
          2,
          50,
          41,
          32,
          32,
          41,
          23,
          32,
          20.909090909090907,
          29.090909090909093,
          29.090909090909093,
          30,
          20.909090909090907,
          46.36363636363636,
          12.727272727272727,
          30,
          30,
          4.545454545454546,
          29.090909090909093,
          37.272727272727266,
          20.909090909090907,
          35.833333333333336,
          20,
          34.166666666666664,
          20,
          28.333333333333332,
          20,
          50,
          43.333333333333336,
          43.333333333333336,
          20,
          35.833333333333336,
          27.499999999999996,
          35,
          50.83333333333333,
          27.499999999999996,
          50.83333333333333,
          10.833333333333334,
          27.499999999999996,
          26.666666666666668,
          35.833333333333336,
          26.153846153846157,
          10,
          33.07692307692307,
          33.07692307692307,
          33.07692307692307,
          40.76923076923077,
          40.76923076923077,
          26.153846153846157,
          51.42857142857144,
          30.71428571428571,
          25,
          24.285714285714285,
          25,
          37.857142857142854,
          17.142857142857142,
          31.428571428571434,
          50.71428571428571,
          31.428571428571434,
          31.428571428571434,
          29.333333333333332,
          41.333333333333336,
          28.666666666666668,
          28.666666666666668,
          35.333333333333336,
          29.333333333333332,
          33.75,
          21.25,
          44.375,
          45,
          32.5,
          33.75,
          37.64705882352941,
          43.529411764705884,
          8.823529411764707,
          48.23529411764705,
          32.35294117647059,
          43.529411764705884,
          44.99999999999999,
          36.11111111111111,
          18.5,
          37,
          37.5,
          37,
          41.5,
          21.428571428571427,
          30.952380952380953,
          26.666666666666668,
          25.454545454545453,
          51.36363636363637,
          46.36363636363636,
          41.30434782608695,
          45.21739130434783,
          26.25,
          35.833333333333336,
          34.285714285714285,
          42.41379310344828,
          23,
          46.12903225806452,
          30.78947368421052,
          40.46511627906976,
          30.909090909090907,
          35.333333333333336,
          29.565217391304348,
          43.2,
          33.666666666666664,
          48.064516129032256,
          28.281250000000004,
          32.7536231884058,
          39.64285714285714,
          38.77777777777778,
          34.23913043478261,
          34.89130434782609,
          27.8494623655914,
          19.690721649484537,
          35.7,
          36.339285714285715,
          30.16260162601626,
          32.33870967741936,
          37.6,
          40,
          27.286821705426355,
          45.230769230769226,
          44.961832061068705,
          39.791666666666664,
          30.408163265306126,
          36.1437908496732,
          39.141104294478524,
          37.65714285714286,
          43.833333333333336,
          38.35164835164835,
          37.650273224043715,
          39.67914438502674,
          32.94736842105263,
          32.2680412371134,
          34.641148325358856,
          38.23255813953488,
          37.90983606557377,
          36.69387755102041,
          34.96124031007752,
          35.79150579150579,
          34.8014440433213,
          37.74305555555556,
          42.291666666666664,
          30.10135135135135,
          40.671140939597315,
          43.85382059800664,
          33.28947368421053,
          36.54952076677316,
          40.89171974522293,
          36.21875,
          32.46951219512195,
          37.27536231884058,
          40.63768115942029,
          34.87031700288185,
          37.93103448275862,
          38.039772727272734,
          38.78186968838527,
          33.48314606741573,
          37.4585635359116,
          34.2032967032967,
          35.121293800539085,
          42.04488778054863,
          35.44117647058823,
          33.90396659707724,
          36.36363636363637,
          43.91389432485323,
          28.674242424242426,
          36.01476014760147,
          26.02888086642599,
          32.27739726027397,
          37.70764119601329,
          37.73246329526917,
          35.350734094616634,
          35.71207430340557,
          35.465648854961835,
          39.59701492537314,
          36.971935007385525,
          35.77247191011236,
          34.654255319148945,
          35.94953519256308,
          35.79920739762219,
          40.45454545454545,
          39.40051020408163,
          41.37931034482759,
          32.926829268292686,
          38.223896663078584,
          37.40938166311301,
          32.803261977573904,
          38.46837944664031,
          39.05769230769231,
          37.50716332378224,
          41.82475158084914,
          35.69364161849711,
          34.44652908067542
         ]
        }
       ],
       "layout": {
        "barmode": "stack",
        "template": {
         "data": {
          "bar": [
           {
            "error_x": {
             "color": "#2a3f5f"
            },
            "error_y": {
             "color": "#2a3f5f"
            },
            "marker": {
             "line": {
              "color": "#E5ECF6",
              "width": 0.5
             }
            },
            "type": "bar"
           }
          ],
          "barpolar": [
           {
            "marker": {
             "line": {
              "color": "#E5ECF6",
              "width": 0.5
             }
            },
            "type": "barpolar"
           }
          ],
          "carpet": [
           {
            "aaxis": {
             "endlinecolor": "#2a3f5f",
             "gridcolor": "white",
             "linecolor": "white",
             "minorgridcolor": "white",
             "startlinecolor": "#2a3f5f"
            },
            "baxis": {
             "endlinecolor": "#2a3f5f",
             "gridcolor": "white",
             "linecolor": "white",
             "minorgridcolor": "white",
             "startlinecolor": "#2a3f5f"
            },
            "type": "carpet"
           }
          ],
          "choropleth": [
           {
            "colorbar": {
             "outlinewidth": 0,
             "ticks": ""
            },
            "type": "choropleth"
           }
          ],
          "contour": [
           {
            "colorbar": {
             "outlinewidth": 0,
             "ticks": ""
            },
            "colorscale": [
             [
              0,
              "#0d0887"
             ],
             [
              0.1111111111111111,
              "#46039f"
             ],
             [
              0.2222222222222222,
              "#7201a8"
             ],
             [
              0.3333333333333333,
              "#9c179e"
             ],
             [
              0.4444444444444444,
              "#bd3786"
             ],
             [
              0.5555555555555556,
              "#d8576b"
             ],
             [
              0.6666666666666666,
              "#ed7953"
             ],
             [
              0.7777777777777778,
              "#fb9f3a"
             ],
             [
              0.8888888888888888,
              "#fdca26"
             ],
             [
              1,
              "#f0f921"
             ]
            ],
            "type": "contour"
           }
          ],
          "contourcarpet": [
           {
            "colorbar": {
             "outlinewidth": 0,
             "ticks": ""
            },
            "type": "contourcarpet"
           }
          ],
          "heatmap": [
           {
            "colorbar": {
             "outlinewidth": 0,
             "ticks": ""
            },
            "colorscale": [
             [
              0,
              "#0d0887"
             ],
             [
              0.1111111111111111,
              "#46039f"
             ],
             [
              0.2222222222222222,
              "#7201a8"
             ],
             [
              0.3333333333333333,
              "#9c179e"
             ],
             [
              0.4444444444444444,
              "#bd3786"
             ],
             [
              0.5555555555555556,
              "#d8576b"
             ],
             [
              0.6666666666666666,
              "#ed7953"
             ],
             [
              0.7777777777777778,
              "#fb9f3a"
             ],
             [
              0.8888888888888888,
              "#fdca26"
             ],
             [
              1,
              "#f0f921"
             ]
            ],
            "type": "heatmap"
           }
          ],
          "heatmapgl": [
           {
            "colorbar": {
             "outlinewidth": 0,
             "ticks": ""
            },
            "colorscale": [
             [
              0,
              "#0d0887"
             ],
             [
              0.1111111111111111,
              "#46039f"
             ],
             [
              0.2222222222222222,
              "#7201a8"
             ],
             [
              0.3333333333333333,
              "#9c179e"
             ],
             [
              0.4444444444444444,
              "#bd3786"
             ],
             [
              0.5555555555555556,
              "#d8576b"
             ],
             [
              0.6666666666666666,
              "#ed7953"
             ],
             [
              0.7777777777777778,
              "#fb9f3a"
             ],
             [
              0.8888888888888888,
              "#fdca26"
             ],
             [
              1,
              "#f0f921"
             ]
            ],
            "type": "heatmapgl"
           }
          ],
          "histogram": [
           {
            "marker": {
             "colorbar": {
              "outlinewidth": 0,
              "ticks": ""
             }
            },
            "type": "histogram"
           }
          ],
          "histogram2d": [
           {
            "colorbar": {
             "outlinewidth": 0,
             "ticks": ""
            },
            "colorscale": [
             [
              0,
              "#0d0887"
             ],
             [
              0.1111111111111111,
              "#46039f"
             ],
             [
              0.2222222222222222,
              "#7201a8"
             ],
             [
              0.3333333333333333,
              "#9c179e"
             ],
             [
              0.4444444444444444,
              "#bd3786"
             ],
             [
              0.5555555555555556,
              "#d8576b"
             ],
             [
              0.6666666666666666,
              "#ed7953"
             ],
             [
              0.7777777777777778,
              "#fb9f3a"
             ],
             [
              0.8888888888888888,
              "#fdca26"
             ],
             [
              1,
              "#f0f921"
             ]
            ],
            "type": "histogram2d"
           }
          ],
          "histogram2dcontour": [
           {
            "colorbar": {
             "outlinewidth": 0,
             "ticks": ""
            },
            "colorscale": [
             [
              0,
              "#0d0887"
             ],
             [
              0.1111111111111111,
              "#46039f"
             ],
             [
              0.2222222222222222,
              "#7201a8"
             ],
             [
              0.3333333333333333,
              "#9c179e"
             ],
             [
              0.4444444444444444,
              "#bd3786"
             ],
             [
              0.5555555555555556,
              "#d8576b"
             ],
             [
              0.6666666666666666,
              "#ed7953"
             ],
             [
              0.7777777777777778,
              "#fb9f3a"
             ],
             [
              0.8888888888888888,
              "#fdca26"
             ],
             [
              1,
              "#f0f921"
             ]
            ],
            "type": "histogram2dcontour"
           }
          ],
          "mesh3d": [
           {
            "colorbar": {
             "outlinewidth": 0,
             "ticks": ""
            },
            "type": "mesh3d"
           }
          ],
          "parcoords": [
           {
            "line": {
             "colorbar": {
              "outlinewidth": 0,
              "ticks": ""
             }
            },
            "type": "parcoords"
           }
          ],
          "pie": [
           {
            "automargin": true,
            "type": "pie"
           }
          ],
          "scatter": [
           {
            "marker": {
             "colorbar": {
              "outlinewidth": 0,
              "ticks": ""
             }
            },
            "type": "scatter"
           }
          ],
          "scatter3d": [
           {
            "line": {
             "colorbar": {
              "outlinewidth": 0,
              "ticks": ""
             }
            },
            "marker": {
             "colorbar": {
              "outlinewidth": 0,
              "ticks": ""
             }
            },
            "type": "scatter3d"
           }
          ],
          "scattercarpet": [
           {
            "marker": {
             "colorbar": {
              "outlinewidth": 0,
              "ticks": ""
             }
            },
            "type": "scattercarpet"
           }
          ],
          "scattergeo": [
           {
            "marker": {
             "colorbar": {
              "outlinewidth": 0,
              "ticks": ""
             }
            },
            "type": "scattergeo"
           }
          ],
          "scattergl": [
           {
            "marker": {
             "colorbar": {
              "outlinewidth": 0,
              "ticks": ""
             }
            },
            "type": "scattergl"
           }
          ],
          "scattermapbox": [
           {
            "marker": {
             "colorbar": {
              "outlinewidth": 0,
              "ticks": ""
             }
            },
            "type": "scattermapbox"
           }
          ],
          "scatterpolar": [
           {
            "marker": {
             "colorbar": {
              "outlinewidth": 0,
              "ticks": ""
             }
            },
            "type": "scatterpolar"
           }
          ],
          "scatterpolargl": [
           {
            "marker": {
             "colorbar": {
              "outlinewidth": 0,
              "ticks": ""
             }
            },
            "type": "scatterpolargl"
           }
          ],
          "scatterternary": [
           {
            "marker": {
             "colorbar": {
              "outlinewidth": 0,
              "ticks": ""
             }
            },
            "type": "scatterternary"
           }
          ],
          "surface": [
           {
            "colorbar": {
             "outlinewidth": 0,
             "ticks": ""
            },
            "colorscale": [
             [
              0,
              "#0d0887"
             ],
             [
              0.1111111111111111,
              "#46039f"
             ],
             [
              0.2222222222222222,
              "#7201a8"
             ],
             [
              0.3333333333333333,
              "#9c179e"
             ],
             [
              0.4444444444444444,
              "#bd3786"
             ],
             [
              0.5555555555555556,
              "#d8576b"
             ],
             [
              0.6666666666666666,
              "#ed7953"
             ],
             [
              0.7777777777777778,
              "#fb9f3a"
             ],
             [
              0.8888888888888888,
              "#fdca26"
             ],
             [
              1,
              "#f0f921"
             ]
            ],
            "type": "surface"
           }
          ],
          "table": [
           {
            "cells": {
             "fill": {
              "color": "#EBF0F8"
             },
             "line": {
              "color": "white"
             }
            },
            "header": {
             "fill": {
              "color": "#C8D4E3"
             },
             "line": {
              "color": "white"
             }
            },
            "type": "table"
           }
          ]
         },
         "layout": {
          "annotationdefaults": {
           "arrowcolor": "#2a3f5f",
           "arrowhead": 0,
           "arrowwidth": 1
          },
          "coloraxis": {
           "colorbar": {
            "outlinewidth": 0,
            "ticks": ""
           }
          },
          "colorscale": {
           "diverging": [
            [
             0,
             "#8e0152"
            ],
            [
             0.1,
             "#c51b7d"
            ],
            [
             0.2,
             "#de77ae"
            ],
            [
             0.3,
             "#f1b6da"
            ],
            [
             0.4,
             "#fde0ef"
            ],
            [
             0.5,
             "#f7f7f7"
            ],
            [
             0.6,
             "#e6f5d0"
            ],
            [
             0.7,
             "#b8e186"
            ],
            [
             0.8,
             "#7fbc41"
            ],
            [
             0.9,
             "#4d9221"
            ],
            [
             1,
             "#276419"
            ]
           ],
           "sequential": [
            [
             0,
             "#0d0887"
            ],
            [
             0.1111111111111111,
             "#46039f"
            ],
            [
             0.2222222222222222,
             "#7201a8"
            ],
            [
             0.3333333333333333,
             "#9c179e"
            ],
            [
             0.4444444444444444,
             "#bd3786"
            ],
            [
             0.5555555555555556,
             "#d8576b"
            ],
            [
             0.6666666666666666,
             "#ed7953"
            ],
            [
             0.7777777777777778,
             "#fb9f3a"
            ],
            [
             0.8888888888888888,
             "#fdca26"
            ],
            [
             1,
             "#f0f921"
            ]
           ],
           "sequentialminus": [
            [
             0,
             "#0d0887"
            ],
            [
             0.1111111111111111,
             "#46039f"
            ],
            [
             0.2222222222222222,
             "#7201a8"
            ],
            [
             0.3333333333333333,
             "#9c179e"
            ],
            [
             0.4444444444444444,
             "#bd3786"
            ],
            [
             0.5555555555555556,
             "#d8576b"
            ],
            [
             0.6666666666666666,
             "#ed7953"
            ],
            [
             0.7777777777777778,
             "#fb9f3a"
            ],
            [
             0.8888888888888888,
             "#fdca26"
            ],
            [
             1,
             "#f0f921"
            ]
           ]
          },
          "colorway": [
           "#636efa",
           "#EF553B",
           "#00cc96",
           "#ab63fa",
           "#FFA15A",
           "#19d3f3",
           "#FF6692",
           "#B6E880",
           "#FF97FF",
           "#FECB52"
          ],
          "font": {
           "color": "#2a3f5f"
          },
          "geo": {
           "bgcolor": "white",
           "lakecolor": "white",
           "landcolor": "#E5ECF6",
           "showlakes": true,
           "showland": true,
           "subunitcolor": "white"
          },
          "hoverlabel": {
           "align": "left"
          },
          "hovermode": "closest",
          "mapbox": {
           "style": "light"
          },
          "paper_bgcolor": "white",
          "plot_bgcolor": "#E5ECF6",
          "polar": {
           "angularaxis": {
            "gridcolor": "white",
            "linecolor": "white",
            "ticks": ""
           },
           "bgcolor": "#E5ECF6",
           "radialaxis": {
            "gridcolor": "white",
            "linecolor": "white",
            "ticks": ""
           }
          },
          "scene": {
           "xaxis": {
            "backgroundcolor": "#E5ECF6",
            "gridcolor": "white",
            "gridwidth": 2,
            "linecolor": "white",
            "showbackground": true,
            "ticks": "",
            "zerolinecolor": "white"
           },
           "yaxis": {
            "backgroundcolor": "#E5ECF6",
            "gridcolor": "white",
            "gridwidth": 2,
            "linecolor": "white",
            "showbackground": true,
            "ticks": "",
            "zerolinecolor": "white"
           },
           "zaxis": {
            "backgroundcolor": "#E5ECF6",
            "gridcolor": "white",
            "gridwidth": 2,
            "linecolor": "white",
            "showbackground": true,
            "ticks": "",
            "zerolinecolor": "white"
           }
          },
          "shapedefaults": {
           "line": {
            "color": "#2a3f5f"
           }
          },
          "ternary": {
           "aaxis": {
            "gridcolor": "white",
            "linecolor": "white",
            "ticks": ""
           },
           "baxis": {
            "gridcolor": "white",
            "linecolor": "white",
            "ticks": ""
           },
           "bgcolor": "#E5ECF6",
           "caxis": {
            "gridcolor": "white",
            "linecolor": "white",
            "ticks": ""
           }
          },
          "title": {
           "x": 0.05
          },
          "xaxis": {
           "automargin": true,
           "gridcolor": "white",
           "linecolor": "white",
           "ticks": "",
           "title": {
            "standoff": 15
           },
           "zerolinecolor": "white",
           "zerolinewidth": 2
          },
          "yaxis": {
           "automargin": true,
           "gridcolor": "white",
           "linecolor": "white",
           "ticks": "",
           "title": {
            "standoff": 15
           },
           "zerolinecolor": "white",
           "zerolinewidth": 2
          }
         }
        },
        "title": {
         "text": "Core Ion concentration"
        },
        "xaxis": {
         "ticktext": [
          10,
          10,
          11,
          11,
          12,
          12,
          12,
          13,
          14,
          15,
          16,
          17,
          20,
          22,
          29,
          46,
          90,
          123,
          144,
          183,
          245,
          298,
          345,
          362,
          511,
          613,
          753,
          938,
          1599
         ],
         "tickvals": [
          0,
          7,
          14,
          21,
          28,
          35,
          42,
          49,
          56,
          63,
          70,
          77,
          84,
          91,
          98
         ],
         "title": {
          "text": "Cluster Size in Ions"
         }
        },
        "yaxis": {
         "title": {
          "text": "Concentration in at. %"
         }
        }
       }
      },
      "text/html": "<div>\n        \n        \n            <div id=\"400f72db-5471-424d-8e3b-86a0be9d408b\" class=\"plotly-graph-div\" style=\"height:525px; width:100%;\"></div>\n            <script type=\"text/javascript\">\n                require([\"plotly\"], function(Plotly) {\n                    window.PLOTLYENV=window.PLOTLYENV || {};\n                    \n                if (document.getElementById(\"400f72db-5471-424d-8e3b-86a0be9d408b\")) {\n                    Plotly.newPlot(\n                        '400f72db-5471-424d-8e3b-86a0be9d408b',\n                        [{\"marker\": {\"color\": \"pink\"}, \"name\": \"P\", \"type\": \"bar\", \"x\": [0, 1, 2, 3, 4, 5, 6, 7, 8, 9, 10, 11, 12, 13, 14, 15, 16, 17, 18, 19, 20, 21, 22, 23, 24, 25, 26, 27, 28, 29, 30, 31, 32, 33, 34, 35, 36, 37, 38, 39, 40, 41, 42, 43, 44, 45, 46, 47, 48, 49, 50, 51, 52, 53, 54, 55, 56, 57, 58, 59, 60, 61, 62, 63, 64, 65, 66, 67, 68, 69, 70, 71, 72, 73, 74, 75, 76, 77, 78, 79, 80, 81, 82, 83, 84, 85, 86, 87, 88, 89, 90, 91, 92, 93, 94, 95, 96, 97, 98, 99, 100, 101, 102, 103, 104], \"y\": [0.0, 0.0, 0.0, 0.0, 0.0, 0.0, 0.0, 0.0, 0.0, 0.0, 0.0, 4.545454545454546, 0.0, 4.166666666666666, 0.0, 0.0, 0.0, 0.0, 0.0, 0.0, 0.0, 0.0, 0.0, 0.0, 0.0, 0.0, 0.0, 0.0, 0.0, 0.0, 0.0, 0.0, 0.0, 0.0, 0.0, 0.0, 0.0, 0.0, 0.0, 1.25, 0.0, 0.0, 0.0, 0.0, 0.0, 0.0, 0.0, 0.0, 0.0, 0.0, 0.0, 0.0, 0.0, 0.0, 0.0, 0.0, 0.7407407407407408, 0.0, 0.0, 0.0, 0.0, 0.0, 0.0, 0.0, 0.0, 0.6060606060606061, 0.6024096385542169, 0.0, 0.0, 0.0, 0.0, 0.0, 0.0, 0.0, 0.0, 0.43859649122807015, 0.0, 0.3861003861003861, 0.0, 0.0, 0.0, 0.0, 0.0, 0.0, 0.3246753246753247, 0.9615384615384616, 0.0, 0.0, 0.0, 0.0, 0.0, 0.0, 0.0, 0.27548209366391185, 0.0, 0.4728132387706856, 0.0, 0.22471910112359553, 0.0, 0.0, 0.0, 0.0, 0.4132231404958678, 0.3076923076923077, 0.0]}, {\"marker\": {\"color\": \"orange\"}, \"name\": \"Cu\", \"type\": \"bar\", \"x\": [0, 1, 2, 3, 4, 5, 6, 7, 8, 9, 10, 11, 12, 13, 14, 15, 16, 17, 18, 19, 20, 21, 22, 23, 24, 25, 26, 27, 28, 29, 30, 31, 32, 33, 34, 35, 36, 37, 38, 39, 40, 41, 42, 43, 44, 45, 46, 47, 48, 49, 50, 51, 52, 53, 54, 55, 56, 57, 58, 59, 60, 61, 62, 63, 64, 65, 66, 67, 68, 69, 70, 71, 72, 73, 74, 75, 76, 77, 78, 79, 80, 81, 82, 83, 84, 85, 86, 87, 88, 89, 90, 91, 92, 93, 94, 95, 96, 97, 98, 99, 100, 101, 102, 103, 104], \"y\": [0.0, 0.0, 20.0, 18.181818181818183, 8.333333333333332, 7.142857142857142, 0.0, 14.285714285714285, 6.666666666666667, 5.263157894736842, 5.0, 13.636363636363635, 22.727272727272727, 16.666666666666664, 20.833333333333336, 26.923076923076923, 10.714285714285714, 10.0, 25.71428571428571, 8.333333333333332, 13.157894736842104, 13.043478260869565, 4.25531914893617, 14.583333333333334, 20.408163265306122, 16.9811320754717, 26.41509433962264, 29.629629629629626, 12.727272727272727, 5.263157894736842, 10.344827586206897, 1.5873015873015872, 17.1875, 30.76923076923077, 7.042253521126761, 20.833333333333336, 12.5, 12.0, 12.0, 10.0, 9.876543209876543, 13.095238095238097, 8.235294117647058, 12.941176470588237, 8.791208791208792, 9.900990099009901, 21.35922330097087, 6.0344827586206895, 8.547008547008547, 13.559322033898304, 10.084033613445378, 15.126050420168067, 13.492063492063492, 11.023622047244094, 9.848484848484848, 8.88888888888889, 4.444444444444445, 13.380281690140844, 11.888111888111888, 7.586206896551724, 15.894039735099339, 13.461538461538462, 10.828025477707007, 15.09433962264151, 12.5, 12.727272727272727, 12.650602409638553, 13.855421686746988, 13.77245508982036, 10.714285714285714, 17.058823529411764, 7.471264367816093, 15.909090909090908, 13.705583756345177, 10.7981220657277, 13.596491228070176, 19.753086419753085, 9.266409266409266, 15.849056603773585, 13.090909090909092, 22.18430034129693, 11.073825503355705, 13.377926421404682, 15.946843853820598, 10.064935064935066, 15.064102564102564, 13.375796178343949, 15.0, 11.11111111111111, 10.588235294117647, 14.16184971098266, 14.929577464788732, 12.640449438202248, 13.223140495867769, 15.890410958904111, 11.82033096926714, 10.730593607305936, 15.730337078651685, 12.222222222222221, 13.135593220338984, 9.643605870020965, 14.96881496881497, 15.909090909090908, 12.769230769230768, 17.21518987341772]}, {\"marker\": {\"color\": \"yellow\"}, \"name\": \"Mn\", \"type\": \"bar\", \"x\": [0, 1, 2, 3, 4, 5, 6, 7, 8, 9, 10, 11, 12, 13, 14, 15, 16, 17, 18, 19, 20, 21, 22, 23, 24, 25, 26, 27, 28, 29, 30, 31, 32, 33, 34, 35, 36, 37, 38, 39, 40, 41, 42, 43, 44, 45, 46, 47, 48, 49, 50, 51, 52, 53, 54, 55, 56, 57, 58, 59, 60, 61, 62, 63, 64, 65, 66, 67, 68, 69, 70, 71, 72, 73, 74, 75, 76, 77, 78, 79, 80, 81, 82, 83, 84, 85, 86, 87, 88, 89, 90, 91, 92, 93, 94, 95, 96, 97, 98, 99, 100, 101, 102, 103, 104], \"y\": [30.0, 10.0, 60.0, 9.090909090909092, 0.0, 21.428571428571427, 42.857142857142854, 21.428571428571427, 40.0, 36.84210526315789, 40.0, 27.27272727272727, 27.27272727272727, 29.166666666666668, 29.166666666666668, 23.076923076923077, 25.0, 20.0, 25.71428571428571, 16.666666666666664, 23.684210526315788, 23.91304347826087, 46.808510638297875, 27.083333333333332, 30.612244897959183, 20.754716981132077, 20.754716981132077, 12.962962962962962, 23.636363636363637, 24.561403508771928, 29.310344827586203, 33.33333333333333, 28.125, 20.0, 32.3943661971831, 27.77777777777778, 16.666666666666664, 25.333333333333336, 29.333333333333332, 30.0, 29.629629629629626, 35.714285714285715, 28.235294117647058, 35.294117647058826, 35.16483516483517, 32.67326732673268, 23.300970873786408, 34.48275862068966, 35.04273504273504, 26.27118644067797, 27.73109243697479, 25.210084033613445, 27.77777777777778, 27.559055118110237, 28.78787878787879, 32.592592592592595, 25.925925925925924, 26.76056338028169, 25.174825174825177, 28.965517241379313, 33.11258278145696, 30.128205128205128, 36.94267515923567, 30.18867924528302, 28.749999999999996, 26.666666666666668, 31.32530120481928, 27.710843373493976, 33.532934131736525, 22.023809523809522, 31.76470588235294, 34.48275862068966, 32.38636363636363, 32.99492385786802, 25.352112676056336, 28.07017543859649, 30.864197530864196, 23.552123552123554, 31.32075471698113, 27.27272727272727, 28.327645051194537, 30.201342281879196, 34.11371237458194, 30.89700996677741, 31.16883116883117, 29.166666666666668, 33.43949044585987, 33.75, 29.129129129129126, 33.52941176470588, 25.722543352601157, 28.732394366197184, 30.0561797752809, 30.57851239669421, 33.6986301369863, 30.260047281323878, 30.82191780821918, 29.662921348314608, 28.000000000000004, 31.779661016949152, 29.769392033542978, 28.482328482328484, 31.818181818181817, 29.69230769230769, 30.126582278481013]}, {\"marker\": {\"color\": \"grey\"}, \"name\": \"Si\", \"type\": \"bar\", \"x\": [0, 1, 2, 3, 4, 5, 6, 7, 8, 9, 10, 11, 12, 13, 14, 15, 16, 17, 18, 19, 20, 21, 22, 23, 24, 25, 26, 27, 28, 29, 30, 31, 32, 33, 34, 35, 36, 37, 38, 39, 40, 41, 42, 43, 44, 45, 46, 47, 48, 49, 50, 51, 52, 53, 54, 55, 56, 57, 58, 59, 60, 61, 62, 63, 64, 65, 66, 67, 68, 69, 70, 71, 72, 73, 74, 75, 76, 77, 78, 79, 80, 81, 82, 83, 84, 85, 86, 87, 88, 89, 90, 91, 92, 93, 94, 95, 96, 97, 98, 99, 100, 101, 102, 103, 104], \"y\": [10.0, 10.0, 0.0, 9.090909090909092, 41.66666666666667, 0.0, 7.142857142857142, 21.428571428571427, 13.333333333333334, 10.526315789473683, 5.0, 9.090909090909092, 13.636363636363635, 16.666666666666664, 4.166666666666666, 15.384615384615385, 3.571428571428571, 6.666666666666667, 8.571428571428571, 13.88888888888889, 10.526315789473683, 6.521739130434782, 4.25531914893617, 8.333333333333332, 8.16326530612245, 7.547169811320755, 3.7735849056603774, 7.4074074074074066, 5.454545454545454, 10.526315789473683, 12.068965517241379, 15.873015873015872, 7.8125, 4.615384615384616, 7.042253521126761, 6.944444444444445, 6.944444444444445, 12.0, 8.0, 12.5, 9.876543209876543, 2.380952380952381, 8.235294117647058, 10.588235294117647, 4.395604395604396, 7.920792079207921, 6.796116504854369, 8.620689655172415, 9.401709401709402, 5.932203389830509, 11.76470588235294, 6.722689075630252, 9.523809523809524, 10.236220472440944, 6.8181818181818175, 7.4074074074074066, 9.62962962962963, 8.450704225352112, 6.293706293706294, 10.344827586206897, 5.960264900662252, 8.974358974358974, 5.095541401273886, 7.547169811320755, 8.125, 7.878787878787878, 12.650602409638553, 7.228915662650602, 7.784431137724551, 8.928571428571429, 6.470588235294119, 6.896551724137931, 6.8181818181818175, 9.137055837563452, 9.389671361502346, 7.894736842105263, 5.761316872427984, 7.335907335907336, 9.433962264150944, 10.181818181818182, 6.484641638225256, 8.389261744966444, 9.698996655518394, 6.976744186046512, 10.714285714285714, 8.012820512820513, 7.006369426751593, 7.187499999999999, 10.21021021021021, 5.88235294117647, 8.670520231213873, 5.352112676056338, 8.146067415730338, 7.988980716253444, 8.21917808219178, 8.274231678486997, 8.21917808219178, 7.415730337078652, 7.555555555555555, 9.957627118644067, 7.966457023060797, 7.276507276507277, 5.1652892561983474, 6.461538461538462, 4.556962025316456]}, {\"marker\": {\"color\": \"green\"}, \"name\": \"Ni\", \"type\": \"bar\", \"x\": [0, 1, 2, 3, 4, 5, 6, 7, 8, 9, 10, 11, 12, 13, 14, 15, 16, 17, 18, 19, 20, 21, 22, 23, 24, 25, 26, 27, 28, 29, 30, 31, 32, 33, 34, 35, 36, 37, 38, 39, 40, 41, 42, 43, 44, 45, 46, 47, 48, 49, 50, 51, 52, 53, 54, 55, 56, 57, 58, 59, 60, 61, 62, 63, 64, 65, 66, 67, 68, 69, 70, 71, 72, 73, 74, 75, 76, 77, 78, 79, 80, 81, 82, 83, 84, 85, 86, 87, 88, 89, 90, 91, 92, 93, 94, 95, 96, 97, 98, 99, 100, 101, 102, 103, 104], \"y\": [60.0, 80.0, 20.0, 63.63636363636363, 50.0, 71.42857142857143, 50.0, 42.857142857142854, 40.0, 47.368421052631575, 50.0, 45.45454545454545, 36.36363636363637, 33.33333333333333, 45.83333333333333, 34.61538461538461, 57.14285714285714, 63.33333333333333, 40.0, 61.111111111111114, 52.63157894736842, 56.52173913043478, 44.680851063829785, 50.0, 40.816326530612244, 54.71698113207547, 49.056603773584904, 48.148148148148145, 58.18181818181818, 59.64912280701754, 48.275862068965516, 49.2063492063492, 46.875, 44.61538461538462, 53.52112676056338, 44.44444444444444, 63.888888888888886, 50.66666666666667, 50.66666666666667, 46.25, 50.617283950617285, 48.80952380952381, 55.294117647058826, 41.17647058823529, 51.64835164835166, 49.504950495049506, 48.54368932038835, 50.86206896551724, 47.008547008547005, 54.23728813559322, 50.42016806722689, 52.94117647058824, 49.2063492063492, 51.181102362204726, 54.54545454545454, 51.11111111111111, 58.51851851851851, 51.40845070422535, 56.64335664335665, 52.41379310344828, 45.033112582781456, 47.43589743589743, 47.13375796178344, 47.16981132075472, 50.625, 52.121212121212125, 42.77108433734939, 51.204819277108435, 44.91017964071856, 58.333333333333336, 44.70588235294118, 50.57471264367817, 44.31818181818182, 43.14720812182741, 54.460093896713616, 50.0, 43.62139917695473, 59.07335907335908, 43.39622641509434, 49.45454545454545, 43.003412969283275, 50.0, 42.80936454849498, 46.179401993355484, 47.72727272727273, 46.15384615384615, 46.17834394904459, 44.0625, 49.549549549549546, 49.705882352941174, 51.15606936416185, 50.985915492957744, 48.87640449438202, 47.93388429752066, 42.19178082191781, 49.1725768321513, 50.2283105022831, 46.96629213483146, 52.22222222222223, 45.1271186440678, 52.20125786163522, 49.272349272349274, 45.867768595041326, 50.76923076923077, 47.21518987341772]}, {\"line\": {\"color\": \"red\"}, \"name\": \"Fe\", \"opacity\": 0.7, \"type\": \"scatter\", \"x\": [0, 1, 2, 3, 4, 5, 6, 7, 8, 9, 10, 11, 12, 13, 14, 15, 16, 17, 18, 19, 20, 21, 22, 23, 24, 25, 26, 27, 28, 29, 30, 31, 32, 33, 34, 35, 36, 37, 38, 39, 40, 41, 42, 43, 44, 45, 46, 47, 48, 49, 50, 51, 52, 53, 54, 55, 56, 57, 58, 59, 60, 61, 62, 63, 64, 65, 66, 67, 68, 69, 70, 71, 72, 73, 74, 75, 76, 77, 78, 79, 80, 81, 82, 83, 84, 85, 86, 87, 88, 89, 90, 91, 92, 93, 94, 95, 96, 97, 98, 99, 100, 101, 102, 103, 104], \"y\": [13.0, 13.999999999999998, 2.0, 50.0, 41.0, 32.0, 32.0, 41.0, 23.0, 32.0, 20.909090909090907, 29.090909090909093, 29.090909090909093, 30.0, 20.909090909090907, 46.36363636363636, 12.727272727272727, 30.0, 30.0, 4.545454545454546, 29.090909090909093, 37.272727272727266, 20.909090909090907, 35.833333333333336, 20.0, 34.166666666666664, 20.0, 28.333333333333332, 20.0, 50.0, 43.333333333333336, 43.333333333333336, 20.0, 35.833333333333336, 27.499999999999996, 35.0, 50.83333333333333, 27.499999999999996, 50.83333333333333, 10.833333333333334, 27.499999999999996, 26.666666666666668, 35.833333333333336, 26.153846153846157, 10.0, 33.07692307692307, 33.07692307692307, 33.07692307692307, 40.76923076923077, 40.76923076923077, 26.153846153846157, 51.42857142857144, 30.71428571428571, 25.0, 24.285714285714285, 25.0, 37.857142857142854, 17.142857142857142, 31.428571428571434, 50.71428571428571, 31.428571428571434, 31.428571428571434, 29.333333333333332, 41.333333333333336, 28.666666666666668, 28.666666666666668, 35.333333333333336, 29.333333333333332, 33.75, 21.25, 44.375, 45.0, 32.5, 33.75, 37.64705882352941, 43.529411764705884, 8.823529411764707, 48.23529411764705, 32.35294117647059, 43.529411764705884, 44.99999999999999, 36.11111111111111, 18.5, 37.0, 37.5, 37.0, 41.5, 21.428571428571427, 30.952380952380953, 26.666666666666668, 25.454545454545453, 51.36363636363637, 46.36363636363636, 41.30434782608695, 45.21739130434783, 26.25, 35.833333333333336, 34.285714285714285, 42.41379310344828, 23.0, 46.12903225806452, 30.78947368421052, 40.46511627906976, 30.909090909090907, 35.333333333333336, 29.565217391304348, 43.2, 33.666666666666664, 48.064516129032256, 28.281250000000004, 32.7536231884058, 39.64285714285714, 38.77777777777778, 34.23913043478261, 34.89130434782609, 27.8494623655914, 19.690721649484537, 35.7, 36.339285714285715, 30.16260162601626, 32.33870967741936, 37.6, 40.0, 27.286821705426355, 45.230769230769226, 44.961832061068705, 39.791666666666664, 30.408163265306126, 36.1437908496732, 39.141104294478524, 37.65714285714286, 43.833333333333336, 38.35164835164835, 37.650273224043715, 39.67914438502674, 32.94736842105263, 32.2680412371134, 34.641148325358856, 38.23255813953488, 37.90983606557377, 36.69387755102041, 34.96124031007752, 35.79150579150579, 34.8014440433213, 37.74305555555556, 42.291666666666664, 30.10135135135135, 40.671140939597315, 43.85382059800664, 33.28947368421053, 36.54952076677316, 40.89171974522293, 36.21875, 32.46951219512195, 37.27536231884058, 40.63768115942029, 34.87031700288185, 37.93103448275862, 38.039772727272734, 38.78186968838527, 33.48314606741573, 37.4585635359116, 34.2032967032967, 35.121293800539085, 42.04488778054863, 35.44117647058823, 33.90396659707724, 36.36363636363637, 43.91389432485323, 28.674242424242426, 36.01476014760147, 26.02888086642599, 32.27739726027397, 37.70764119601329, 37.73246329526917, 35.350734094616634, 35.71207430340557, 35.465648854961835, 39.59701492537314, 36.971935007385525, 35.77247191011236, 34.654255319148945, 35.94953519256308, 35.79920739762219, 40.45454545454545, 39.40051020408163, 41.37931034482759, 32.926829268292686, 38.223896663078584, 37.40938166311301, 32.803261977573904, 38.46837944664031, 39.05769230769231, 37.50716332378224, 41.82475158084914, 35.69364161849711, 34.44652908067542]}],\n                        {\"barmode\": \"stack\", \"template\": {\"data\": {\"bar\": [{\"error_x\": {\"color\": \"#2a3f5f\"}, \"error_y\": {\"color\": \"#2a3f5f\"}, \"marker\": {\"line\": {\"color\": \"#E5ECF6\", \"width\": 0.5}}, \"type\": \"bar\"}], \"barpolar\": [{\"marker\": {\"line\": {\"color\": \"#E5ECF6\", \"width\": 0.5}}, \"type\": \"barpolar\"}], \"carpet\": [{\"aaxis\": {\"endlinecolor\": \"#2a3f5f\", \"gridcolor\": \"white\", \"linecolor\": \"white\", \"minorgridcolor\": \"white\", \"startlinecolor\": \"#2a3f5f\"}, \"baxis\": {\"endlinecolor\": \"#2a3f5f\", \"gridcolor\": \"white\", \"linecolor\": \"white\", \"minorgridcolor\": \"white\", \"startlinecolor\": \"#2a3f5f\"}, \"type\": \"carpet\"}], \"choropleth\": [{\"colorbar\": {\"outlinewidth\": 0, \"ticks\": \"\"}, \"type\": \"choropleth\"}], \"contour\": [{\"colorbar\": {\"outlinewidth\": 0, \"ticks\": \"\"}, \"colorscale\": [[0.0, \"#0d0887\"], [0.1111111111111111, \"#46039f\"], [0.2222222222222222, \"#7201a8\"], [0.3333333333333333, \"#9c179e\"], [0.4444444444444444, \"#bd3786\"], [0.5555555555555556, \"#d8576b\"], [0.6666666666666666, \"#ed7953\"], [0.7777777777777778, \"#fb9f3a\"], [0.8888888888888888, \"#fdca26\"], [1.0, \"#f0f921\"]], \"type\": \"contour\"}], \"contourcarpet\": [{\"colorbar\": {\"outlinewidth\": 0, \"ticks\": \"\"}, \"type\": \"contourcarpet\"}], \"heatmap\": [{\"colorbar\": {\"outlinewidth\": 0, \"ticks\": \"\"}, \"colorscale\": [[0.0, \"#0d0887\"], [0.1111111111111111, \"#46039f\"], [0.2222222222222222, \"#7201a8\"], [0.3333333333333333, \"#9c179e\"], [0.4444444444444444, \"#bd3786\"], [0.5555555555555556, \"#d8576b\"], [0.6666666666666666, \"#ed7953\"], [0.7777777777777778, \"#fb9f3a\"], [0.8888888888888888, \"#fdca26\"], [1.0, \"#f0f921\"]], \"type\": \"heatmap\"}], \"heatmapgl\": [{\"colorbar\": {\"outlinewidth\": 0, \"ticks\": \"\"}, \"colorscale\": [[0.0, \"#0d0887\"], [0.1111111111111111, \"#46039f\"], [0.2222222222222222, \"#7201a8\"], [0.3333333333333333, \"#9c179e\"], [0.4444444444444444, \"#bd3786\"], [0.5555555555555556, \"#d8576b\"], [0.6666666666666666, \"#ed7953\"], [0.7777777777777778, \"#fb9f3a\"], [0.8888888888888888, \"#fdca26\"], [1.0, \"#f0f921\"]], \"type\": \"heatmapgl\"}], \"histogram\": [{\"marker\": {\"colorbar\": {\"outlinewidth\": 0, \"ticks\": \"\"}}, \"type\": \"histogram\"}], \"histogram2d\": [{\"colorbar\": {\"outlinewidth\": 0, \"ticks\": \"\"}, \"colorscale\": [[0.0, \"#0d0887\"], [0.1111111111111111, \"#46039f\"], [0.2222222222222222, \"#7201a8\"], [0.3333333333333333, \"#9c179e\"], [0.4444444444444444, \"#bd3786\"], [0.5555555555555556, \"#d8576b\"], [0.6666666666666666, \"#ed7953\"], [0.7777777777777778, \"#fb9f3a\"], [0.8888888888888888, \"#fdca26\"], [1.0, \"#f0f921\"]], \"type\": \"histogram2d\"}], \"histogram2dcontour\": [{\"colorbar\": {\"outlinewidth\": 0, \"ticks\": \"\"}, \"colorscale\": [[0.0, \"#0d0887\"], [0.1111111111111111, \"#46039f\"], [0.2222222222222222, \"#7201a8\"], [0.3333333333333333, \"#9c179e\"], [0.4444444444444444, \"#bd3786\"], [0.5555555555555556, \"#d8576b\"], [0.6666666666666666, \"#ed7953\"], [0.7777777777777778, \"#fb9f3a\"], [0.8888888888888888, \"#fdca26\"], [1.0, \"#f0f921\"]], \"type\": \"histogram2dcontour\"}], \"mesh3d\": [{\"colorbar\": {\"outlinewidth\": 0, \"ticks\": \"\"}, \"type\": \"mesh3d\"}], \"parcoords\": [{\"line\": {\"colorbar\": {\"outlinewidth\": 0, \"ticks\": \"\"}}, \"type\": \"parcoords\"}], \"pie\": [{\"automargin\": true, \"type\": \"pie\"}], \"scatter\": [{\"marker\": {\"colorbar\": {\"outlinewidth\": 0, \"ticks\": \"\"}}, \"type\": \"scatter\"}], \"scatter3d\": [{\"line\": {\"colorbar\": {\"outlinewidth\": 0, \"ticks\": \"\"}}, \"marker\": {\"colorbar\": {\"outlinewidth\": 0, \"ticks\": \"\"}}, \"type\": \"scatter3d\"}], \"scattercarpet\": [{\"marker\": {\"colorbar\": {\"outlinewidth\": 0, \"ticks\": \"\"}}, \"type\": \"scattercarpet\"}], \"scattergeo\": [{\"marker\": {\"colorbar\": {\"outlinewidth\": 0, \"ticks\": \"\"}}, \"type\": \"scattergeo\"}], \"scattergl\": [{\"marker\": {\"colorbar\": {\"outlinewidth\": 0, \"ticks\": \"\"}}, \"type\": \"scattergl\"}], \"scattermapbox\": [{\"marker\": {\"colorbar\": {\"outlinewidth\": 0, \"ticks\": \"\"}}, \"type\": \"scattermapbox\"}], \"scatterpolar\": [{\"marker\": {\"colorbar\": {\"outlinewidth\": 0, \"ticks\": \"\"}}, \"type\": \"scatterpolar\"}], \"scatterpolargl\": [{\"marker\": {\"colorbar\": {\"outlinewidth\": 0, \"ticks\": \"\"}}, \"type\": \"scatterpolargl\"}], \"scatterternary\": [{\"marker\": {\"colorbar\": {\"outlinewidth\": 0, \"ticks\": \"\"}}, \"type\": \"scatterternary\"}], \"surface\": [{\"colorbar\": {\"outlinewidth\": 0, \"ticks\": \"\"}, \"colorscale\": [[0.0, \"#0d0887\"], [0.1111111111111111, \"#46039f\"], [0.2222222222222222, \"#7201a8\"], [0.3333333333333333, \"#9c179e\"], [0.4444444444444444, \"#bd3786\"], [0.5555555555555556, \"#d8576b\"], [0.6666666666666666, \"#ed7953\"], [0.7777777777777778, \"#fb9f3a\"], [0.8888888888888888, \"#fdca26\"], [1.0, \"#f0f921\"]], \"type\": \"surface\"}], \"table\": [{\"cells\": {\"fill\": {\"color\": \"#EBF0F8\"}, \"line\": {\"color\": \"white\"}}, \"header\": {\"fill\": {\"color\": \"#C8D4E3\"}, \"line\": {\"color\": \"white\"}}, \"type\": \"table\"}]}, \"layout\": {\"annotationdefaults\": {\"arrowcolor\": \"#2a3f5f\", \"arrowhead\": 0, \"arrowwidth\": 1}, \"coloraxis\": {\"colorbar\": {\"outlinewidth\": 0, \"ticks\": \"\"}}, \"colorscale\": {\"diverging\": [[0, \"#8e0152\"], [0.1, \"#c51b7d\"], [0.2, \"#de77ae\"], [0.3, \"#f1b6da\"], [0.4, \"#fde0ef\"], [0.5, \"#f7f7f7\"], [0.6, \"#e6f5d0\"], [0.7, \"#b8e186\"], [0.8, \"#7fbc41\"], [0.9, \"#4d9221\"], [1, \"#276419\"]], \"sequential\": [[0.0, \"#0d0887\"], [0.1111111111111111, \"#46039f\"], [0.2222222222222222, \"#7201a8\"], [0.3333333333333333, \"#9c179e\"], [0.4444444444444444, \"#bd3786\"], [0.5555555555555556, \"#d8576b\"], [0.6666666666666666, \"#ed7953\"], [0.7777777777777778, \"#fb9f3a\"], [0.8888888888888888, \"#fdca26\"], [1.0, \"#f0f921\"]], \"sequentialminus\": [[0.0, \"#0d0887\"], [0.1111111111111111, \"#46039f\"], [0.2222222222222222, \"#7201a8\"], [0.3333333333333333, \"#9c179e\"], [0.4444444444444444, \"#bd3786\"], [0.5555555555555556, \"#d8576b\"], [0.6666666666666666, \"#ed7953\"], [0.7777777777777778, \"#fb9f3a\"], [0.8888888888888888, \"#fdca26\"], [1.0, \"#f0f921\"]]}, \"colorway\": [\"#636efa\", \"#EF553B\", \"#00cc96\", \"#ab63fa\", \"#FFA15A\", \"#19d3f3\", \"#FF6692\", \"#B6E880\", \"#FF97FF\", \"#FECB52\"], \"font\": {\"color\": \"#2a3f5f\"}, \"geo\": {\"bgcolor\": \"white\", \"lakecolor\": \"white\", \"landcolor\": \"#E5ECF6\", \"showlakes\": true, \"showland\": true, \"subunitcolor\": \"white\"}, \"hoverlabel\": {\"align\": \"left\"}, \"hovermode\": \"closest\", \"mapbox\": {\"style\": \"light\"}, \"paper_bgcolor\": \"white\", \"plot_bgcolor\": \"#E5ECF6\", \"polar\": {\"angularaxis\": {\"gridcolor\": \"white\", \"linecolor\": \"white\", \"ticks\": \"\"}, \"bgcolor\": \"#E5ECF6\", \"radialaxis\": {\"gridcolor\": \"white\", \"linecolor\": \"white\", \"ticks\": \"\"}}, \"scene\": {\"xaxis\": {\"backgroundcolor\": \"#E5ECF6\", \"gridcolor\": \"white\", \"gridwidth\": 2, \"linecolor\": \"white\", \"showbackground\": true, \"ticks\": \"\", \"zerolinecolor\": \"white\"}, \"yaxis\": {\"backgroundcolor\": \"#E5ECF6\", \"gridcolor\": \"white\", \"gridwidth\": 2, \"linecolor\": \"white\", \"showbackground\": true, \"ticks\": \"\", \"zerolinecolor\": \"white\"}, \"zaxis\": {\"backgroundcolor\": \"#E5ECF6\", \"gridcolor\": \"white\", \"gridwidth\": 2, \"linecolor\": \"white\", \"showbackground\": true, \"ticks\": \"\", \"zerolinecolor\": \"white\"}}, \"shapedefaults\": {\"line\": {\"color\": \"#2a3f5f\"}}, \"ternary\": {\"aaxis\": {\"gridcolor\": \"white\", \"linecolor\": \"white\", \"ticks\": \"\"}, \"baxis\": {\"gridcolor\": \"white\", \"linecolor\": \"white\", \"ticks\": \"\"}, \"bgcolor\": \"#E5ECF6\", \"caxis\": {\"gridcolor\": \"white\", \"linecolor\": \"white\", \"ticks\": \"\"}}, \"title\": {\"x\": 0.05}, \"xaxis\": {\"automargin\": true, \"gridcolor\": \"white\", \"linecolor\": \"white\", \"ticks\": \"\", \"title\": {\"standoff\": 15}, \"zerolinecolor\": \"white\", \"zerolinewidth\": 2}, \"yaxis\": {\"automargin\": true, \"gridcolor\": \"white\", \"linecolor\": \"white\", \"ticks\": \"\", \"title\": {\"standoff\": 15}, \"zerolinecolor\": \"white\", \"zerolinewidth\": 2}}}, \"title\": {\"text\": \"Core Ion concentration\"}, \"xaxis\": {\"ticktext\": [10.0, 10.0, 11.0, 11.0, 12.0, 12.0, 12.0, 13.0, 14.0, 15.0, 16.0, 17.0, 20.0, 22.0, 29.0, 46.0, 90.0, 123.0, 144.0, 183.0, 245.0, 298.0, 345.0, 362.0, 511.0, 613.0, 753.0, 938.0, 1599.0], \"tickvals\": [0, 7, 14, 21, 28, 35, 42, 49, 56, 63, 70, 77, 84, 91, 98], \"title\": {\"text\": \"Cluster Size in Ions\"}}, \"yaxis\": {\"title\": {\"text\": \"Concentration in at. %\"}}},\n                        {\"responsive\": true}\n                    ).then(function(){\n                            \nvar gd = document.getElementById('400f72db-5471-424d-8e3b-86a0be9d408b');\nvar x = new MutationObserver(function (mutations, observer) {{\n        var display = window.getComputedStyle(gd).display;\n        if (!display || display === 'none') {{\n            console.log([gd, 'removed!']);\n            Plotly.purge(gd);\n            observer.disconnect();\n        }}\n}});\n\n// Listen for the removal of the full notebook cells\nvar notebookContainer = gd.closest('#notebook-container');\nif (notebookContainer) {{\n    x.observe(notebookContainer, {childList: true});\n}}\n\n// Listen for the clearing of the current output cell\nvar outputEl = gd.closest('.output');\nif (outputEl) {{\n    x.observe(outputEl, {childList: true});\n}}\n\n                        })\n                };\n                });\n            </script>\n        </div>"
     },
     "metadata": {}
    }
   ],
   "source": [
    "# same but with bar\n",
    "# corrected compositions by excluding certain elements from the calculations\n",
    "exclude_ions = [\"Fe\"]\n",
    "overlap_ions = {\"Fm\": 0.90}\n",
    "n_min = 10\n",
    "core_ion_colors = {\n",
    "    \"Cu\": \"orange\",\n",
    "    \"Ni\": \"green\",\n",
    "    \"Mn\": \"yellow\",\n",
    "    \"P\": \"pink\",\n",
    "    \"Si\": \"grey\"\n",
    "}\n",
    "plot_with_Fe = True\n",
    "\n",
    "# before reading the data and after creating pandas dataframes, drop specified columns\n",
    "# retrieve the data needed from the cluster stats files for the composition plots\n",
    "core_ions = [\"P\", \"Cu\", \"Mn\", \"Si\", \"Ni\"]\n",
    "\n",
    "# create a new dictionary every time you run a correction to avoid correcting data more than once\n",
    "dfs = {}\n",
    "cluster_data = {}\n",
    "\n",
    "for i, dm in enumerate(dmax_values):\n",
    "    # create a new figure\n",
    "    fig = go.Figure()\n",
    "    \n",
    "    # open the cluster stats file and create pandas dataframe\n",
    "    cluster_stats_file = xml_files[i].replace(\".xml\", \"_cluster-stats.txt\")\n",
    "    local_df = pandas.read_csv(cluster_stats_file, sep=\"\\t\")\n",
    "    \n",
    "    # insert all the corrections in here\n",
    "    # exclude (matrix) ions by deleting the column\n",
    "    local_df = local_df.drop(exclude_ions, axis=1)\n",
    "    # lower the amount of ions for each element that has overlap with matrix ions\n",
    "    for overlap_ion in overlap_ions:\n",
    "        local_df[overlap_ion] = round(local_df[overlap_ion] * overlap_ions[overlap_ion])\n",
    "    # transfer the overlapping ions into \"original\" elements\n",
    "    local_df[\"Ni\"] = local_df[\"Ni\"] + local_df[\"Fm\"]\n",
    "    # delete the overlaping ions by multiplying by 0 to keep the total amount of ions constant\n",
    "    local_df[\"Fm\"] = local_df[\"Fm\"] * 0\n",
    "    \n",
    "    # add total ions in cluster value\n",
    "    local_df[\"Cluster Size\"] = local_df.iloc[:, 3:-2].sum(axis=1)\n",
    "    \n",
    "    # change n_min\n",
    "    local_df = local_df[local_df[\"Cluster Size\"] >= n_min]\n",
    "    \n",
    "    # sort it by size\n",
    "    local_df = local_df.sort_values(by=\"Cluster Size\")\n",
    "    \n",
    "    previous_y_values = []\n",
    "    # iterate through rows and find their core ions and total ions values\n",
    "    x_values = np.arange(len(local_df[\"Cluster Size\"]))\n",
    "    for i2, core_ion in enumerate(core_ions):\n",
    "        y_values = local_df[core_ion] / local_df[\"Cluster Size\"] * 100\n",
    "        \n",
    "#         # for each cluster size find all clusters and calculate mean core ion content with stdev\n",
    "#         for i3, x in enumerate(iter(x_values)):\n",
    "#             all_for_one_size = local_df[local_df[\"Cluster Size\"] == x][core_ion]\n",
    "#             y_values[i3] = all_for_one_size.mean() / x * 100\n",
    "#             y_std[i3] = all_for_one_size.std() / x * 100\n",
    "#             # TODO: think about how to plot st dev later on\n",
    "\n",
    "        fig.add_trace(go.Bar(\n",
    "            x=x_values, \n",
    "            y=y_values, \n",
    "            name=core_ion,\n",
    "            marker_color=core_ion_colors[core_ion]\n",
    "        ))\n",
    "\n",
    "        \n",
    "        \n",
    "    # reopen pandas dataframe to get the Fe content and plot a line\n",
    "    if plot_with_Fe:\n",
    "        local_df = pandas.read_csv(cluster_stats_file, sep=\"\\t\")\n",
    "                                \n",
    "        # TODO: improve\n",
    "        # transfer the overlapping ions into \"original\" elements\n",
    "        local_df[\"Fe\"] = local_df[\"Fe\"] + (local_df[\"Fm\"] * 0.1)\n",
    "        # delete the overlaping ions by multiplying by 0 to keep the total amount of ions constant\n",
    "        local_df[\"Ni\"] = local_df[\"Ni\"] + (local_df[\"Fm\"] * 0.9)\n",
    "\n",
    "        # add total ions in cluster value\n",
    "        local_df[\"Cluster Size\"] = local_df.iloc[:, 3:-2].sum(axis=1)\n",
    "\n",
    "        # change n_min\n",
    "        local_df = local_df[local_df[\"Cluster Size\"] >= n_min]\n",
    "\n",
    "        # sort it by size\n",
    "        local_df = local_df.sort_values(by=\"Cluster Size\")\n",
    "\n",
    "        Fe_concentration = local_df[\"Fe\"] / local_df[\"Cluster Size\"] * 100\n",
    "\n",
    "        # TODO: data smoothing?\n",
    "        # plt.plot(x_values, Fe_concentration, 'r-', label=\"Fe content\", alpha=0.7)\n",
    "        fig.add_trace(go.Line(x=x_values, y=Fe_concentration, name=\"Fe\", opacity=0.7, line_color=\"red\"))\n",
    "        \n",
    "    # adjust the plot\n",
    "    fig.update_layout(\n",
    "        barmode=\"stack\", \n",
    "        title_text=\"Core Ion concentration\"\n",
    "    )\n",
    "\n",
    "    # Set custom x-axis labels\n",
    "    how_many_ticks = 15\n",
    "    print(len(x_values))\n",
    "    interval = round(len(x_values) / how_many_ticks)\n",
    "\n",
    "    \n",
    "    ticktext_data = local_df[\"Cluster Size\"][::interval]\n",
    "    ticktvals_data = x_values[::interval]\n",
    "\n",
    "    \n",
    "    fig.update_xaxes(\n",
    "        ticktext=ticktext_data,\n",
    "        tickvals=ticktvals_data,\n",
    "        title_text=\"Cluster Size in Ions\"\n",
    "    )\n",
    "\n",
    "    fig.update_yaxes(\n",
    "        title_text=\"Concentration in at. %\"\n",
    "    )\n",
    "\n",
    "    fig.show()\n",
    "\n"
   ]
  },
  {
   "cell_type": "markdown",
   "metadata": {},
   "source": [
    "## Ternary Diagrams\n",
    "\n",
    "### Plotting using Plotly library"
   ]
  },
  {
   "cell_type": "code",
   "execution_count": 40,
   "metadata": {},
   "outputs": [
    {
     "data": {
      "application/vnd.plotly.v1+json": {
       "config": {
        "plotlyServerURL": "https://plot.ly"
       },
       "data": [
        {
         "a": [
          6,
          8,
          2,
          7,
          6,
          10,
          7,
          6,
          6,
          9,
          10,
          10,
          8,
          8,
          11,
          9,
          16,
          19,
          14,
          22,
          20,
          26,
          21,
          24,
          20,
          29,
          26,
          26,
          32,
          34,
          28,
          31,
          30,
          29,
          38,
          32,
          46,
          38,
          38,
          37,
          41,
          41,
          47,
          35,
          47,
          50,
          50,
          59,
          55,
          64,
          60,
          63,
          62,
          65,
          72,
          69,
          79,
          73,
          81,
          76,
          68,
          74,
          74,
          75,
          81,
          86,
          71,
          85,
          75,
          98,
          76,
          88,
          78,
          85,
          116,
          114,
          106,
          153,
          115,
          136,
          126,
          149,
          128,
          139,
          147,
          144,
          145,
          141,
          165,
          169,
          177,
          181,
          174,
          174,
          154,
          208,
          220,
          209,
          235,
          213,
          249,
          237,
          222,
          330,
          373
         ],
         "b": [
          1,
          1,
          0,
          1,
          5,
          0,
          1,
          3,
          2,
          2,
          1,
          2,
          3,
          4,
          1,
          4,
          1,
          2,
          3,
          5,
          4,
          3,
          2,
          4,
          4,
          4,
          2,
          4,
          3,
          6,
          7,
          10,
          5,
          3,
          5,
          5,
          5,
          9,
          6,
          10,
          8,
          2,
          7,
          9,
          4,
          8,
          7,
          10,
          11,
          7,
          14,
          8,
          12,
          13,
          9,
          10,
          13,
          12,
          9,
          15,
          9,
          14,
          8,
          12,
          13,
          13,
          21,
          12,
          13,
          15,
          11,
          12,
          12,
          18,
          20,
          18,
          14,
          19,
          25,
          28,
          19,
          25,
          29,
          21,
          33,
          25,
          22,
          23,
          34,
          20,
          30,
          19,
          29,
          29,
          30,
          35,
          36,
          33,
          34,
          47,
          38,
          35,
          25,
          42,
          36
         ],
         "c": [
          3,
          1,
          6,
          1,
          0,
          3,
          6,
          3,
          6,
          7,
          8,
          6,
          6,
          7,
          7,
          6,
          7,
          6,
          9,
          6,
          9,
          11,
          22,
          13,
          15,
          11,
          11,
          7,
          13,
          14,
          17,
          21,
          18,
          13,
          23,
          20,
          12,
          19,
          22,
          24,
          24,
          30,
          24,
          30,
          32,
          33,
          24,
          40,
          41,
          31,
          33,
          30,
          35,
          35,
          38,
          44,
          35,
          38,
          36,
          42,
          50,
          47,
          58,
          48,
          46,
          44,
          52,
          46,
          56,
          37,
          54,
          60,
          57,
          65,
          54,
          64,
          75,
          61,
          83,
          75,
          83,
          90,
          102,
          93,
          96,
          91,
          105,
          108,
          97,
          114,
          89,
          102,
          107,
          111,
          123,
          128,
          135,
          132,
          126,
          150,
          142,
          137,
          154,
          193,
          238
         ],
         "hovertemplate": "<b>%{hovertext}</b><br><br>Ni=%{a}<br>Si=%{b}<br>Mn=%{c}<br>Cluster Size=%{marker.color}<extra></extra>",
         "hovertext": [
          10,
          10,
          10,
          11,
          12,
          14,
          14,
          14,
          15,
          19,
          20,
          22,
          22,
          24,
          24,
          26,
          28,
          30,
          35,
          36,
          38,
          46,
          47,
          48,
          49,
          53,
          53,
          54,
          55,
          57,
          58,
          63,
          64,
          65,
          71,
          72,
          72,
          75,
          75,
          80,
          81,
          84,
          85,
          85,
          91,
          101,
          103,
          116,
          117,
          118,
          119,
          119,
          126,
          127,
          132,
          135,
          135,
          142,
          143,
          145,
          151,
          156,
          157,
          159,
          160,
          165,
          166,
          166,
          167,
          168,
          170,
          174,
          176,
          197,
          213,
          228,
          243,
          259,
          265,
          275,
          293,
          298,
          299,
          301,
          308,
          312,
          314,
          320,
          333,
          340,
          346,
          355,
          356,
          363,
          365,
          423,
          438,
          445,
          450,
          472,
          477,
          481,
          484,
          650,
          790
         ],
         "legendgroup": "",
         "marker": {
          "color": [
           10,
           10,
           10,
           11,
           12,
           14,
           14,
           14,
           15,
           19,
           20,
           22,
           22,
           24,
           24,
           26,
           28,
           30,
           35,
           36,
           38,
           46,
           47,
           48,
           49,
           53,
           53,
           54,
           55,
           57,
           58,
           63,
           64,
           65,
           71,
           72,
           72,
           75,
           75,
           80,
           81,
           84,
           85,
           85,
           91,
           101,
           103,
           116,
           117,
           118,
           119,
           119,
           126,
           127,
           132,
           135,
           135,
           142,
           143,
           145,
           151,
           156,
           157,
           159,
           160,
           165,
           166,
           166,
           167,
           168,
           170,
           174,
           176,
           197,
           213,
           228,
           243,
           259,
           265,
           275,
           293,
           298,
           299,
           301,
           308,
           312,
           314,
           320,
           333,
           340,
           346,
           355,
           356,
           363,
           365,
           423,
           438,
           445,
           450,
           472,
           477,
           481,
           484,
           650,
           790
          ],
          "coloraxis": "coloraxis",
          "opacity": 0.6,
          "size": [
           10,
           10,
           10,
           11,
           12,
           14,
           14,
           14,
           15,
           19,
           20,
           22,
           22,
           24,
           24,
           26,
           28,
           30,
           35,
           36,
           38,
           46,
           47,
           48,
           49,
           53,
           53,
           54,
           55,
           57,
           58,
           63,
           64,
           65,
           71,
           72,
           72,
           75,
           75,
           80,
           81,
           84,
           85,
           85,
           91,
           101,
           103,
           116,
           117,
           118,
           119,
           119,
           126,
           127,
           132,
           135,
           135,
           142,
           143,
           145,
           151,
           156,
           157,
           159,
           160,
           165,
           166,
           166,
           167,
           168,
           170,
           174,
           176,
           197,
           213,
           228,
           243,
           259,
           265,
           275,
           293,
           298,
           299,
           301,
           308,
           312,
           314,
           320,
           333,
           340,
           346,
           355,
           356,
           363,
           365,
           423,
           438,
           445,
           450,
           472,
           477,
           481,
           484,
           650,
           790
          ],
          "sizemode": "area",
          "sizeref": 1.975,
          "symbol": "circle"
         },
         "mode": "markers",
         "name": "",
         "showlegend": false,
         "subplot": "ternary",
         "type": "scatterternary"
        }
       ],
       "layout": {
        "coloraxis": {
         "colorbar": {
          "title": {
           "text": "Cluster Size"
          }
         },
         "colorscale": [
          [
           0,
           "#440154"
          ],
          [
           0.1111111111111111,
           "#482878"
          ],
          [
           0.2222222222222222,
           "#3e4989"
          ],
          [
           0.3333333333333333,
           "#31688e"
          ],
          [
           0.4444444444444444,
           "#26828e"
          ],
          [
           0.5555555555555556,
           "#1f9e89"
          ],
          [
           0.6666666666666666,
           "#35b779"
          ],
          [
           0.7777777777777778,
           "#6ece58"
          ],
          [
           0.8888888888888888,
           "#b5de2b"
          ],
          [
           1,
           "#fde725"
          ]
         ]
        },
        "legend": {
         "itemsizing": "constant",
         "tracegroupgap": 0
        },
        "margin": {
         "t": 60
        },
        "template": {
         "data": {
          "bar": [
           {
            "error_x": {
             "color": "#2a3f5f"
            },
            "error_y": {
             "color": "#2a3f5f"
            },
            "marker": {
             "line": {
              "color": "#E5ECF6",
              "width": 0.5
             }
            },
            "type": "bar"
           }
          ],
          "barpolar": [
           {
            "marker": {
             "line": {
              "color": "#E5ECF6",
              "width": 0.5
             }
            },
            "type": "barpolar"
           }
          ],
          "carpet": [
           {
            "aaxis": {
             "endlinecolor": "#2a3f5f",
             "gridcolor": "white",
             "linecolor": "white",
             "minorgridcolor": "white",
             "startlinecolor": "#2a3f5f"
            },
            "baxis": {
             "endlinecolor": "#2a3f5f",
             "gridcolor": "white",
             "linecolor": "white",
             "minorgridcolor": "white",
             "startlinecolor": "#2a3f5f"
            },
            "type": "carpet"
           }
          ],
          "choropleth": [
           {
            "colorbar": {
             "outlinewidth": 0,
             "ticks": ""
            },
            "type": "choropleth"
           }
          ],
          "contour": [
           {
            "colorbar": {
             "outlinewidth": 0,
             "ticks": ""
            },
            "colorscale": [
             [
              0,
              "#0d0887"
             ],
             [
              0.1111111111111111,
              "#46039f"
             ],
             [
              0.2222222222222222,
              "#7201a8"
             ],
             [
              0.3333333333333333,
              "#9c179e"
             ],
             [
              0.4444444444444444,
              "#bd3786"
             ],
             [
              0.5555555555555556,
              "#d8576b"
             ],
             [
              0.6666666666666666,
              "#ed7953"
             ],
             [
              0.7777777777777778,
              "#fb9f3a"
             ],
             [
              0.8888888888888888,
              "#fdca26"
             ],
             [
              1,
              "#f0f921"
             ]
            ],
            "type": "contour"
           }
          ],
          "contourcarpet": [
           {
            "colorbar": {
             "outlinewidth": 0,
             "ticks": ""
            },
            "type": "contourcarpet"
           }
          ],
          "heatmap": [
           {
            "colorbar": {
             "outlinewidth": 0,
             "ticks": ""
            },
            "colorscale": [
             [
              0,
              "#0d0887"
             ],
             [
              0.1111111111111111,
              "#46039f"
             ],
             [
              0.2222222222222222,
              "#7201a8"
             ],
             [
              0.3333333333333333,
              "#9c179e"
             ],
             [
              0.4444444444444444,
              "#bd3786"
             ],
             [
              0.5555555555555556,
              "#d8576b"
             ],
             [
              0.6666666666666666,
              "#ed7953"
             ],
             [
              0.7777777777777778,
              "#fb9f3a"
             ],
             [
              0.8888888888888888,
              "#fdca26"
             ],
             [
              1,
              "#f0f921"
             ]
            ],
            "type": "heatmap"
           }
          ],
          "heatmapgl": [
           {
            "colorbar": {
             "outlinewidth": 0,
             "ticks": ""
            },
            "colorscale": [
             [
              0,
              "#0d0887"
             ],
             [
              0.1111111111111111,
              "#46039f"
             ],
             [
              0.2222222222222222,
              "#7201a8"
             ],
             [
              0.3333333333333333,
              "#9c179e"
             ],
             [
              0.4444444444444444,
              "#bd3786"
             ],
             [
              0.5555555555555556,
              "#d8576b"
             ],
             [
              0.6666666666666666,
              "#ed7953"
             ],
             [
              0.7777777777777778,
              "#fb9f3a"
             ],
             [
              0.8888888888888888,
              "#fdca26"
             ],
             [
              1,
              "#f0f921"
             ]
            ],
            "type": "heatmapgl"
           }
          ],
          "histogram": [
           {
            "marker": {
             "colorbar": {
              "outlinewidth": 0,
              "ticks": ""
             }
            },
            "type": "histogram"
           }
          ],
          "histogram2d": [
           {
            "colorbar": {
             "outlinewidth": 0,
             "ticks": ""
            },
            "colorscale": [
             [
              0,
              "#0d0887"
             ],
             [
              0.1111111111111111,
              "#46039f"
             ],
             [
              0.2222222222222222,
              "#7201a8"
             ],
             [
              0.3333333333333333,
              "#9c179e"
             ],
             [
              0.4444444444444444,
              "#bd3786"
             ],
             [
              0.5555555555555556,
              "#d8576b"
             ],
             [
              0.6666666666666666,
              "#ed7953"
             ],
             [
              0.7777777777777778,
              "#fb9f3a"
             ],
             [
              0.8888888888888888,
              "#fdca26"
             ],
             [
              1,
              "#f0f921"
             ]
            ],
            "type": "histogram2d"
           }
          ],
          "histogram2dcontour": [
           {
            "colorbar": {
             "outlinewidth": 0,
             "ticks": ""
            },
            "colorscale": [
             [
              0,
              "#0d0887"
             ],
             [
              0.1111111111111111,
              "#46039f"
             ],
             [
              0.2222222222222222,
              "#7201a8"
             ],
             [
              0.3333333333333333,
              "#9c179e"
             ],
             [
              0.4444444444444444,
              "#bd3786"
             ],
             [
              0.5555555555555556,
              "#d8576b"
             ],
             [
              0.6666666666666666,
              "#ed7953"
             ],
             [
              0.7777777777777778,
              "#fb9f3a"
             ],
             [
              0.8888888888888888,
              "#fdca26"
             ],
             [
              1,
              "#f0f921"
             ]
            ],
            "type": "histogram2dcontour"
           }
          ],
          "mesh3d": [
           {
            "colorbar": {
             "outlinewidth": 0,
             "ticks": ""
            },
            "type": "mesh3d"
           }
          ],
          "parcoords": [
           {
            "line": {
             "colorbar": {
              "outlinewidth": 0,
              "ticks": ""
             }
            },
            "type": "parcoords"
           }
          ],
          "pie": [
           {
            "automargin": true,
            "type": "pie"
           }
          ],
          "scatter": [
           {
            "marker": {
             "colorbar": {
              "outlinewidth": 0,
              "ticks": ""
             }
            },
            "type": "scatter"
           }
          ],
          "scatter3d": [
           {
            "line": {
             "colorbar": {
              "outlinewidth": 0,
              "ticks": ""
             }
            },
            "marker": {
             "colorbar": {
              "outlinewidth": 0,
              "ticks": ""
             }
            },
            "type": "scatter3d"
           }
          ],
          "scattercarpet": [
           {
            "marker": {
             "colorbar": {
              "outlinewidth": 0,
              "ticks": ""
             }
            },
            "type": "scattercarpet"
           }
          ],
          "scattergeo": [
           {
            "marker": {
             "colorbar": {
              "outlinewidth": 0,
              "ticks": ""
             }
            },
            "type": "scattergeo"
           }
          ],
          "scattergl": [
           {
            "marker": {
             "colorbar": {
              "outlinewidth": 0,
              "ticks": ""
             }
            },
            "type": "scattergl"
           }
          ],
          "scattermapbox": [
           {
            "marker": {
             "colorbar": {
              "outlinewidth": 0,
              "ticks": ""
             }
            },
            "type": "scattermapbox"
           }
          ],
          "scatterpolar": [
           {
            "marker": {
             "colorbar": {
              "outlinewidth": 0,
              "ticks": ""
             }
            },
            "type": "scatterpolar"
           }
          ],
          "scatterpolargl": [
           {
            "marker": {
             "colorbar": {
              "outlinewidth": 0,
              "ticks": ""
             }
            },
            "type": "scatterpolargl"
           }
          ],
          "scatterternary": [
           {
            "marker": {
             "colorbar": {
              "outlinewidth": 0,
              "ticks": ""
             }
            },
            "type": "scatterternary"
           }
          ],
          "surface": [
           {
            "colorbar": {
             "outlinewidth": 0,
             "ticks": ""
            },
            "colorscale": [
             [
              0,
              "#0d0887"
             ],
             [
              0.1111111111111111,
              "#46039f"
             ],
             [
              0.2222222222222222,
              "#7201a8"
             ],
             [
              0.3333333333333333,
              "#9c179e"
             ],
             [
              0.4444444444444444,
              "#bd3786"
             ],
             [
              0.5555555555555556,
              "#d8576b"
             ],
             [
              0.6666666666666666,
              "#ed7953"
             ],
             [
              0.7777777777777778,
              "#fb9f3a"
             ],
             [
              0.8888888888888888,
              "#fdca26"
             ],
             [
              1,
              "#f0f921"
             ]
            ],
            "type": "surface"
           }
          ],
          "table": [
           {
            "cells": {
             "fill": {
              "color": "#EBF0F8"
             },
             "line": {
              "color": "white"
             }
            },
            "header": {
             "fill": {
              "color": "#C8D4E3"
             },
             "line": {
              "color": "white"
             }
            },
            "type": "table"
           }
          ]
         },
         "layout": {
          "annotationdefaults": {
           "arrowcolor": "#2a3f5f",
           "arrowhead": 0,
           "arrowwidth": 1
          },
          "coloraxis": {
           "colorbar": {
            "outlinewidth": 0,
            "ticks": ""
           }
          },
          "colorscale": {
           "diverging": [
            [
             0,
             "#8e0152"
            ],
            [
             0.1,
             "#c51b7d"
            ],
            [
             0.2,
             "#de77ae"
            ],
            [
             0.3,
             "#f1b6da"
            ],
            [
             0.4,
             "#fde0ef"
            ],
            [
             0.5,
             "#f7f7f7"
            ],
            [
             0.6,
             "#e6f5d0"
            ],
            [
             0.7,
             "#b8e186"
            ],
            [
             0.8,
             "#7fbc41"
            ],
            [
             0.9,
             "#4d9221"
            ],
            [
             1,
             "#276419"
            ]
           ],
           "sequential": [
            [
             0,
             "#0d0887"
            ],
            [
             0.1111111111111111,
             "#46039f"
            ],
            [
             0.2222222222222222,
             "#7201a8"
            ],
            [
             0.3333333333333333,
             "#9c179e"
            ],
            [
             0.4444444444444444,
             "#bd3786"
            ],
            [
             0.5555555555555556,
             "#d8576b"
            ],
            [
             0.6666666666666666,
             "#ed7953"
            ],
            [
             0.7777777777777778,
             "#fb9f3a"
            ],
            [
             0.8888888888888888,
             "#fdca26"
            ],
            [
             1,
             "#f0f921"
            ]
           ],
           "sequentialminus": [
            [
             0,
             "#0d0887"
            ],
            [
             0.1111111111111111,
             "#46039f"
            ],
            [
             0.2222222222222222,
             "#7201a8"
            ],
            [
             0.3333333333333333,
             "#9c179e"
            ],
            [
             0.4444444444444444,
             "#bd3786"
            ],
            [
             0.5555555555555556,
             "#d8576b"
            ],
            [
             0.6666666666666666,
             "#ed7953"
            ],
            [
             0.7777777777777778,
             "#fb9f3a"
            ],
            [
             0.8888888888888888,
             "#fdca26"
            ],
            [
             1,
             "#f0f921"
            ]
           ]
          },
          "colorway": [
           "#636efa",
           "#EF553B",
           "#00cc96",
           "#ab63fa",
           "#FFA15A",
           "#19d3f3",
           "#FF6692",
           "#B6E880",
           "#FF97FF",
           "#FECB52"
          ],
          "font": {
           "color": "#2a3f5f"
          },
          "geo": {
           "bgcolor": "white",
           "lakecolor": "white",
           "landcolor": "#E5ECF6",
           "showlakes": true,
           "showland": true,
           "subunitcolor": "white"
          },
          "hoverlabel": {
           "align": "left"
          },
          "hovermode": "closest",
          "mapbox": {
           "style": "light"
          },
          "paper_bgcolor": "white",
          "plot_bgcolor": "#E5ECF6",
          "polar": {
           "angularaxis": {
            "gridcolor": "white",
            "linecolor": "white",
            "ticks": ""
           },
           "bgcolor": "#E5ECF6",
           "radialaxis": {
            "gridcolor": "white",
            "linecolor": "white",
            "ticks": ""
           }
          },
          "scene": {
           "xaxis": {
            "backgroundcolor": "#E5ECF6",
            "gridcolor": "white",
            "gridwidth": 2,
            "linecolor": "white",
            "showbackground": true,
            "ticks": "",
            "zerolinecolor": "white"
           },
           "yaxis": {
            "backgroundcolor": "#E5ECF6",
            "gridcolor": "white",
            "gridwidth": 2,
            "linecolor": "white",
            "showbackground": true,
            "ticks": "",
            "zerolinecolor": "white"
           },
           "zaxis": {
            "backgroundcolor": "#E5ECF6",
            "gridcolor": "white",
            "gridwidth": 2,
            "linecolor": "white",
            "showbackground": true,
            "ticks": "",
            "zerolinecolor": "white"
           }
          },
          "shapedefaults": {
           "line": {
            "color": "#2a3f5f"
           }
          },
          "ternary": {
           "aaxis": {
            "gridcolor": "white",
            "linecolor": "white",
            "ticks": ""
           },
           "baxis": {
            "gridcolor": "white",
            "linecolor": "white",
            "ticks": ""
           },
           "bgcolor": "#E5ECF6",
           "caxis": {
            "gridcolor": "white",
            "linecolor": "white",
            "ticks": ""
           }
          },
          "title": {
           "x": 0.05
          },
          "xaxis": {
           "automargin": true,
           "gridcolor": "white",
           "linecolor": "white",
           "ticks": "",
           "title": {
            "standoff": 15
           },
           "zerolinecolor": "white",
           "zerolinewidth": 2
          },
          "yaxis": {
           "automargin": true,
           "gridcolor": "white",
           "linecolor": "white",
           "ticks": "",
           "title": {
            "standoff": 15
           },
           "zerolinecolor": "white",
           "zerolinewidth": 2
          }
         }
        },
        "ternary": {
         "aaxis": {
          "title": {
           "text": "Ni"
          }
         },
         "baxis": {
          "title": {
           "text": "Si"
          }
         },
         "caxis": {
          "title": {
           "text": "Mn"
          }
         },
         "domain": {
          "x": [
           0,
           1
          ],
          "y": [
           0,
           1
          ]
         }
        }
       }
      },
      "text/html": [
       "<div>\n",
       "        \n",
       "        \n",
       "            <div id=\"7fdaf020-aa7b-431d-8224-7910defce470\" class=\"plotly-graph-div\" style=\"height:525px; width:100%;\"></div>\n",
       "            <script type=\"text/javascript\">\n",
       "                require([\"plotly\"], function(Plotly) {\n",
       "                    window.PLOTLYENV=window.PLOTLYENV || {};\n",
       "                    \n",
       "                if (document.getElementById(\"7fdaf020-aa7b-431d-8224-7910defce470\")) {\n",
       "                    Plotly.newPlot(\n",
       "                        '7fdaf020-aa7b-431d-8224-7910defce470',\n",
       "                        [{\"a\": [6.0, 8.0, 2.0, 7.0, 6.0, 10.0, 7.0, 6.0, 6.0, 9.0, 10.0, 10.0, 8.0, 8.0, 11.0, 9.0, 16.0, 19.0, 14.0, 22.0, 20.0, 26.0, 21.0, 24.0, 20.0, 29.0, 26.0, 26.0, 32.0, 34.0, 28.0, 31.0, 30.0, 29.0, 38.0, 32.0, 46.0, 38.0, 38.0, 37.0, 41.0, 41.0, 47.0, 35.0, 47.0, 50.0, 50.0, 59.0, 55.0, 64.0, 60.0, 63.0, 62.0, 65.0, 72.0, 69.0, 79.0, 73.0, 81.0, 76.0, 68.0, 74.0, 74.0, 75.0, 81.0, 86.0, 71.0, 85.0, 75.0, 98.0, 76.0, 88.0, 78.0, 85.0, 116.0, 114.0, 106.0, 153.0, 115.0, 136.0, 126.0, 149.0, 128.0, 139.0, 147.0, 144.0, 145.0, 141.0, 165.0, 169.0, 177.0, 181.0, 174.0, 174.0, 154.0, 208.0, 220.0, 209.0, 235.0, 213.0, 249.0, 237.0, 222.0, 330.0, 373.0], \"b\": [1, 1, 0, 1, 5, 0, 1, 3, 2, 2, 1, 2, 3, 4, 1, 4, 1, 2, 3, 5, 4, 3, 2, 4, 4, 4, 2, 4, 3, 6, 7, 10, 5, 3, 5, 5, 5, 9, 6, 10, 8, 2, 7, 9, 4, 8, 7, 10, 11, 7, 14, 8, 12, 13, 9, 10, 13, 12, 9, 15, 9, 14, 8, 12, 13, 13, 21, 12, 13, 15, 11, 12, 12, 18, 20, 18, 14, 19, 25, 28, 19, 25, 29, 21, 33, 25, 22, 23, 34, 20, 30, 19, 29, 29, 30, 35, 36, 33, 34, 47, 38, 35, 25, 42, 36], \"c\": [3, 1, 6, 1, 0, 3, 6, 3, 6, 7, 8, 6, 6, 7, 7, 6, 7, 6, 9, 6, 9, 11, 22, 13, 15, 11, 11, 7, 13, 14, 17, 21, 18, 13, 23, 20, 12, 19, 22, 24, 24, 30, 24, 30, 32, 33, 24, 40, 41, 31, 33, 30, 35, 35, 38, 44, 35, 38, 36, 42, 50, 47, 58, 48, 46, 44, 52, 46, 56, 37, 54, 60, 57, 65, 54, 64, 75, 61, 83, 75, 83, 90, 102, 93, 96, 91, 105, 108, 97, 114, 89, 102, 107, 111, 123, 128, 135, 132, 126, 150, 142, 137, 154, 193, 238], \"hovertemplate\": \"<b>%{hovertext}</b><br><br>Ni=%{a}<br>Si=%{b}<br>Mn=%{c}<br>Cluster Size=%{marker.color}<extra></extra>\", \"hovertext\": [10.0, 10.0, 10.0, 11.0, 12.0, 14.0, 14.0, 14.0, 15.0, 19.0, 20.0, 22.0, 22.0, 24.0, 24.0, 26.0, 28.0, 30.0, 35.0, 36.0, 38.0, 46.0, 47.0, 48.0, 49.0, 53.0, 53.0, 54.0, 55.0, 57.0, 58.0, 63.0, 64.0, 65.0, 71.0, 72.0, 72.0, 75.0, 75.0, 80.0, 81.0, 84.0, 85.0, 85.0, 91.0, 101.0, 103.0, 116.0, 117.0, 118.0, 119.0, 119.0, 126.0, 127.0, 132.0, 135.0, 135.0, 142.0, 143.0, 145.0, 151.0, 156.0, 157.0, 159.0, 160.0, 165.0, 166.0, 166.0, 167.0, 168.0, 170.0, 174.0, 176.0, 197.0, 213.0, 228.0, 243.0, 259.0, 265.0, 275.0, 293.0, 298.0, 299.0, 301.0, 308.0, 312.0, 314.0, 320.0, 333.0, 340.0, 346.0, 355.0, 356.0, 363.0, 365.0, 423.0, 438.0, 445.0, 450.0, 472.0, 477.0, 481.0, 484.0, 650.0, 790.0], \"legendgroup\": \"\", \"marker\": {\"color\": [10.0, 10.0, 10.0, 11.0, 12.0, 14.0, 14.0, 14.0, 15.0, 19.0, 20.0, 22.0, 22.0, 24.0, 24.0, 26.0, 28.0, 30.0, 35.0, 36.0, 38.0, 46.0, 47.0, 48.0, 49.0, 53.0, 53.0, 54.0, 55.0, 57.0, 58.0, 63.0, 64.0, 65.0, 71.0, 72.0, 72.0, 75.0, 75.0, 80.0, 81.0, 84.0, 85.0, 85.0, 91.0, 101.0, 103.0, 116.0, 117.0, 118.0, 119.0, 119.0, 126.0, 127.0, 132.0, 135.0, 135.0, 142.0, 143.0, 145.0, 151.0, 156.0, 157.0, 159.0, 160.0, 165.0, 166.0, 166.0, 167.0, 168.0, 170.0, 174.0, 176.0, 197.0, 213.0, 228.0, 243.0, 259.0, 265.0, 275.0, 293.0, 298.0, 299.0, 301.0, 308.0, 312.0, 314.0, 320.0, 333.0, 340.0, 346.0, 355.0, 356.0, 363.0, 365.0, 423.0, 438.0, 445.0, 450.0, 472.0, 477.0, 481.0, 484.0, 650.0, 790.0], \"coloraxis\": \"coloraxis\", \"opacity\": 0.6, \"size\": [10.0, 10.0, 10.0, 11.0, 12.0, 14.0, 14.0, 14.0, 15.0, 19.0, 20.0, 22.0, 22.0, 24.0, 24.0, 26.0, 28.0, 30.0, 35.0, 36.0, 38.0, 46.0, 47.0, 48.0, 49.0, 53.0, 53.0, 54.0, 55.0, 57.0, 58.0, 63.0, 64.0, 65.0, 71.0, 72.0, 72.0, 75.0, 75.0, 80.0, 81.0, 84.0, 85.0, 85.0, 91.0, 101.0, 103.0, 116.0, 117.0, 118.0, 119.0, 119.0, 126.0, 127.0, 132.0, 135.0, 135.0, 142.0, 143.0, 145.0, 151.0, 156.0, 157.0, 159.0, 160.0, 165.0, 166.0, 166.0, 167.0, 168.0, 170.0, 174.0, 176.0, 197.0, 213.0, 228.0, 243.0, 259.0, 265.0, 275.0, 293.0, 298.0, 299.0, 301.0, 308.0, 312.0, 314.0, 320.0, 333.0, 340.0, 346.0, 355.0, 356.0, 363.0, 365.0, 423.0, 438.0, 445.0, 450.0, 472.0, 477.0, 481.0, 484.0, 650.0, 790.0], \"sizemode\": \"area\", \"sizeref\": 1.975, \"symbol\": \"circle\"}, \"mode\": \"markers\", \"name\": \"\", \"showlegend\": false, \"subplot\": \"ternary\", \"type\": \"scatterternary\"}],\n",
       "                        {\"coloraxis\": {\"colorbar\": {\"title\": {\"text\": \"Cluster Size\"}}, \"colorscale\": [[0.0, \"#440154\"], [0.1111111111111111, \"#482878\"], [0.2222222222222222, \"#3e4989\"], [0.3333333333333333, \"#31688e\"], [0.4444444444444444, \"#26828e\"], [0.5555555555555556, \"#1f9e89\"], [0.6666666666666666, \"#35b779\"], [0.7777777777777778, \"#6ece58\"], [0.8888888888888888, \"#b5de2b\"], [1.0, \"#fde725\"]]}, \"legend\": {\"itemsizing\": \"constant\", \"tracegroupgap\": 0}, \"margin\": {\"t\": 60}, \"template\": {\"data\": {\"bar\": [{\"error_x\": {\"color\": \"#2a3f5f\"}, \"error_y\": {\"color\": \"#2a3f5f\"}, \"marker\": {\"line\": {\"color\": \"#E5ECF6\", \"width\": 0.5}}, \"type\": \"bar\"}], \"barpolar\": [{\"marker\": {\"line\": {\"color\": \"#E5ECF6\", \"width\": 0.5}}, \"type\": \"barpolar\"}], \"carpet\": [{\"aaxis\": {\"endlinecolor\": \"#2a3f5f\", \"gridcolor\": \"white\", \"linecolor\": \"white\", \"minorgridcolor\": \"white\", \"startlinecolor\": \"#2a3f5f\"}, \"baxis\": {\"endlinecolor\": \"#2a3f5f\", \"gridcolor\": \"white\", \"linecolor\": \"white\", \"minorgridcolor\": \"white\", \"startlinecolor\": \"#2a3f5f\"}, \"type\": \"carpet\"}], \"choropleth\": [{\"colorbar\": {\"outlinewidth\": 0, \"ticks\": \"\"}, \"type\": \"choropleth\"}], \"contour\": [{\"colorbar\": {\"outlinewidth\": 0, \"ticks\": \"\"}, \"colorscale\": [[0.0, \"#0d0887\"], [0.1111111111111111, \"#46039f\"], [0.2222222222222222, \"#7201a8\"], [0.3333333333333333, \"#9c179e\"], [0.4444444444444444, \"#bd3786\"], [0.5555555555555556, \"#d8576b\"], [0.6666666666666666, \"#ed7953\"], [0.7777777777777778, \"#fb9f3a\"], [0.8888888888888888, \"#fdca26\"], [1.0, \"#f0f921\"]], \"type\": \"contour\"}], \"contourcarpet\": [{\"colorbar\": {\"outlinewidth\": 0, \"ticks\": \"\"}, \"type\": \"contourcarpet\"}], \"heatmap\": [{\"colorbar\": {\"outlinewidth\": 0, \"ticks\": \"\"}, \"colorscale\": [[0.0, \"#0d0887\"], [0.1111111111111111, \"#46039f\"], [0.2222222222222222, \"#7201a8\"], [0.3333333333333333, \"#9c179e\"], [0.4444444444444444, \"#bd3786\"], [0.5555555555555556, \"#d8576b\"], [0.6666666666666666, \"#ed7953\"], [0.7777777777777778, \"#fb9f3a\"], [0.8888888888888888, \"#fdca26\"], [1.0, \"#f0f921\"]], \"type\": \"heatmap\"}], \"heatmapgl\": [{\"colorbar\": {\"outlinewidth\": 0, \"ticks\": \"\"}, \"colorscale\": [[0.0, \"#0d0887\"], [0.1111111111111111, \"#46039f\"], [0.2222222222222222, \"#7201a8\"], [0.3333333333333333, \"#9c179e\"], [0.4444444444444444, \"#bd3786\"], [0.5555555555555556, \"#d8576b\"], [0.6666666666666666, \"#ed7953\"], [0.7777777777777778, \"#fb9f3a\"], [0.8888888888888888, \"#fdca26\"], [1.0, \"#f0f921\"]], \"type\": \"heatmapgl\"}], \"histogram\": [{\"marker\": {\"colorbar\": {\"outlinewidth\": 0, \"ticks\": \"\"}}, \"type\": \"histogram\"}], \"histogram2d\": [{\"colorbar\": {\"outlinewidth\": 0, \"ticks\": \"\"}, \"colorscale\": [[0.0, \"#0d0887\"], [0.1111111111111111, \"#46039f\"], [0.2222222222222222, \"#7201a8\"], [0.3333333333333333, \"#9c179e\"], [0.4444444444444444, \"#bd3786\"], [0.5555555555555556, \"#d8576b\"], [0.6666666666666666, \"#ed7953\"], [0.7777777777777778, \"#fb9f3a\"], [0.8888888888888888, \"#fdca26\"], [1.0, \"#f0f921\"]], \"type\": \"histogram2d\"}], \"histogram2dcontour\": [{\"colorbar\": {\"outlinewidth\": 0, \"ticks\": \"\"}, \"colorscale\": [[0.0, \"#0d0887\"], [0.1111111111111111, \"#46039f\"], [0.2222222222222222, \"#7201a8\"], [0.3333333333333333, \"#9c179e\"], [0.4444444444444444, \"#bd3786\"], [0.5555555555555556, \"#d8576b\"], [0.6666666666666666, \"#ed7953\"], [0.7777777777777778, \"#fb9f3a\"], [0.8888888888888888, \"#fdca26\"], [1.0, \"#f0f921\"]], \"type\": \"histogram2dcontour\"}], \"mesh3d\": [{\"colorbar\": {\"outlinewidth\": 0, \"ticks\": \"\"}, \"type\": \"mesh3d\"}], \"parcoords\": [{\"line\": {\"colorbar\": {\"outlinewidth\": 0, \"ticks\": \"\"}}, \"type\": \"parcoords\"}], \"pie\": [{\"automargin\": true, \"type\": \"pie\"}], \"scatter\": [{\"marker\": {\"colorbar\": {\"outlinewidth\": 0, \"ticks\": \"\"}}, \"type\": \"scatter\"}], \"scatter3d\": [{\"line\": {\"colorbar\": {\"outlinewidth\": 0, \"ticks\": \"\"}}, \"marker\": {\"colorbar\": {\"outlinewidth\": 0, \"ticks\": \"\"}}, \"type\": \"scatter3d\"}], \"scattercarpet\": [{\"marker\": {\"colorbar\": {\"outlinewidth\": 0, \"ticks\": \"\"}}, \"type\": \"scattercarpet\"}], \"scattergeo\": [{\"marker\": {\"colorbar\": {\"outlinewidth\": 0, \"ticks\": \"\"}}, \"type\": \"scattergeo\"}], \"scattergl\": [{\"marker\": {\"colorbar\": {\"outlinewidth\": 0, \"ticks\": \"\"}}, \"type\": \"scattergl\"}], \"scattermapbox\": [{\"marker\": {\"colorbar\": {\"outlinewidth\": 0, \"ticks\": \"\"}}, \"type\": \"scattermapbox\"}], \"scatterpolar\": [{\"marker\": {\"colorbar\": {\"outlinewidth\": 0, \"ticks\": \"\"}}, \"type\": \"scatterpolar\"}], \"scatterpolargl\": [{\"marker\": {\"colorbar\": {\"outlinewidth\": 0, \"ticks\": \"\"}}, \"type\": \"scatterpolargl\"}], \"scatterternary\": [{\"marker\": {\"colorbar\": {\"outlinewidth\": 0, \"ticks\": \"\"}}, \"type\": \"scatterternary\"}], \"surface\": [{\"colorbar\": {\"outlinewidth\": 0, \"ticks\": \"\"}, \"colorscale\": [[0.0, \"#0d0887\"], [0.1111111111111111, \"#46039f\"], [0.2222222222222222, \"#7201a8\"], [0.3333333333333333, \"#9c179e\"], [0.4444444444444444, \"#bd3786\"], [0.5555555555555556, \"#d8576b\"], [0.6666666666666666, \"#ed7953\"], [0.7777777777777778, \"#fb9f3a\"], [0.8888888888888888, \"#fdca26\"], [1.0, \"#f0f921\"]], \"type\": \"surface\"}], \"table\": [{\"cells\": {\"fill\": {\"color\": \"#EBF0F8\"}, \"line\": {\"color\": \"white\"}}, \"header\": {\"fill\": {\"color\": \"#C8D4E3\"}, \"line\": {\"color\": \"white\"}}, \"type\": \"table\"}]}, \"layout\": {\"annotationdefaults\": {\"arrowcolor\": \"#2a3f5f\", \"arrowhead\": 0, \"arrowwidth\": 1}, \"coloraxis\": {\"colorbar\": {\"outlinewidth\": 0, \"ticks\": \"\"}}, \"colorscale\": {\"diverging\": [[0, \"#8e0152\"], [0.1, \"#c51b7d\"], [0.2, \"#de77ae\"], [0.3, \"#f1b6da\"], [0.4, \"#fde0ef\"], [0.5, \"#f7f7f7\"], [0.6, \"#e6f5d0\"], [0.7, \"#b8e186\"], [0.8, \"#7fbc41\"], [0.9, \"#4d9221\"], [1, \"#276419\"]], \"sequential\": [[0.0, \"#0d0887\"], [0.1111111111111111, \"#46039f\"], [0.2222222222222222, \"#7201a8\"], [0.3333333333333333, \"#9c179e\"], [0.4444444444444444, \"#bd3786\"], [0.5555555555555556, \"#d8576b\"], [0.6666666666666666, \"#ed7953\"], [0.7777777777777778, \"#fb9f3a\"], [0.8888888888888888, \"#fdca26\"], [1.0, \"#f0f921\"]], \"sequentialminus\": [[0.0, \"#0d0887\"], [0.1111111111111111, \"#46039f\"], [0.2222222222222222, \"#7201a8\"], [0.3333333333333333, \"#9c179e\"], [0.4444444444444444, \"#bd3786\"], [0.5555555555555556, \"#d8576b\"], [0.6666666666666666, \"#ed7953\"], [0.7777777777777778, \"#fb9f3a\"], [0.8888888888888888, \"#fdca26\"], [1.0, \"#f0f921\"]]}, \"colorway\": [\"#636efa\", \"#EF553B\", \"#00cc96\", \"#ab63fa\", \"#FFA15A\", \"#19d3f3\", \"#FF6692\", \"#B6E880\", \"#FF97FF\", \"#FECB52\"], \"font\": {\"color\": \"#2a3f5f\"}, \"geo\": {\"bgcolor\": \"white\", \"lakecolor\": \"white\", \"landcolor\": \"#E5ECF6\", \"showlakes\": true, \"showland\": true, \"subunitcolor\": \"white\"}, \"hoverlabel\": {\"align\": \"left\"}, \"hovermode\": \"closest\", \"mapbox\": {\"style\": \"light\"}, \"paper_bgcolor\": \"white\", \"plot_bgcolor\": \"#E5ECF6\", \"polar\": {\"angularaxis\": {\"gridcolor\": \"white\", \"linecolor\": \"white\", \"ticks\": \"\"}, \"bgcolor\": \"#E5ECF6\", \"radialaxis\": {\"gridcolor\": \"white\", \"linecolor\": \"white\", \"ticks\": \"\"}}, \"scene\": {\"xaxis\": {\"backgroundcolor\": \"#E5ECF6\", \"gridcolor\": \"white\", \"gridwidth\": 2, \"linecolor\": \"white\", \"showbackground\": true, \"ticks\": \"\", \"zerolinecolor\": \"white\"}, \"yaxis\": {\"backgroundcolor\": \"#E5ECF6\", \"gridcolor\": \"white\", \"gridwidth\": 2, \"linecolor\": \"white\", \"showbackground\": true, \"ticks\": \"\", \"zerolinecolor\": \"white\"}, \"zaxis\": {\"backgroundcolor\": \"#E5ECF6\", \"gridcolor\": \"white\", \"gridwidth\": 2, \"linecolor\": \"white\", \"showbackground\": true, \"ticks\": \"\", \"zerolinecolor\": \"white\"}}, \"shapedefaults\": {\"line\": {\"color\": \"#2a3f5f\"}}, \"ternary\": {\"aaxis\": {\"gridcolor\": \"white\", \"linecolor\": \"white\", \"ticks\": \"\"}, \"baxis\": {\"gridcolor\": \"white\", \"linecolor\": \"white\", \"ticks\": \"\"}, \"bgcolor\": \"#E5ECF6\", \"caxis\": {\"gridcolor\": \"white\", \"linecolor\": \"white\", \"ticks\": \"\"}}, \"title\": {\"x\": 0.05}, \"xaxis\": {\"automargin\": true, \"gridcolor\": \"white\", \"linecolor\": \"white\", \"ticks\": \"\", \"title\": {\"standoff\": 15}, \"zerolinecolor\": \"white\", \"zerolinewidth\": 2}, \"yaxis\": {\"automargin\": true, \"gridcolor\": \"white\", \"linecolor\": \"white\", \"ticks\": \"\", \"title\": {\"standoff\": 15}, \"zerolinecolor\": \"white\", \"zerolinewidth\": 2}}}, \"ternary\": {\"aaxis\": {\"title\": {\"text\": \"Ni\"}}, \"baxis\": {\"title\": {\"text\": \"Si\"}}, \"caxis\": {\"title\": {\"text\": \"Mn\"}}, \"domain\": {\"x\": [0.0, 1.0], \"y\": [0.0, 1.0]}}},\n",
       "                        {\"responsive\": true}\n",
       "                    ).then(function(){\n",
       "                            \n",
       "var gd = document.getElementById('7fdaf020-aa7b-431d-8224-7910defce470');\n",
       "var x = new MutationObserver(function (mutations, observer) {{\n",
       "        var display = window.getComputedStyle(gd).display;\n",
       "        if (!display || display === 'none') {{\n",
       "            console.log([gd, 'removed!']);\n",
       "            Plotly.purge(gd);\n",
       "            observer.disconnect();\n",
       "        }}\n",
       "}});\n",
       "\n",
       "// Listen for the removal of the full notebook cells\n",
       "var notebookContainer = gd.closest('#notebook-container');\n",
       "if (notebookContainer) {{\n",
       "    x.observe(notebookContainer, {childList: true});\n",
       "}}\n",
       "\n",
       "// Listen for the clearing of the current output cell\n",
       "var outputEl = gd.closest('.output');\n",
       "if (outputEl) {{\n",
       "    x.observe(outputEl, {childList: true});\n",
       "}}\n",
       "\n",
       "                        })\n",
       "                };\n",
       "                });\n",
       "            </script>\n",
       "        </div>"
      ]
     },
     "metadata": {},
     "output_type": "display_data"
    }
   ],
   "source": [
    "# before reading the data and after creating pandas dataframes, drop specified columns\n",
    "# retrieve the data needed from the cluster stats files for the composition plots\n",
    "core_ions = [\"Mn\", \"Si\", \"Ni\", \"Cu\"]\n",
    "\n",
    "# create a new dictionary every time you run a correction to avoid correcting data more than once\n",
    "dfs = {}\n",
    "cluster_data = {}\n",
    "\n",
    "for i, dm in enumerate(dmax_values):\n",
    "    \n",
    "    # open the cluster stats file and create pandas dataframe\n",
    "    cluster_stats_file = xml_files[i].replace(\".xml\", \"_cluster-stats.txt\")\n",
    "    local_df = pandas.read_csv(cluster_stats_file, sep=\"\\t\")\n",
    "    \n",
    "    # insert all the corrections in here\n",
    "    # exclude (matrix) ions by deleting the column\n",
    "    local_df = local_df.drop(exclude_ions, axis=1)\n",
    "    # lower the amount of ions for each element that has overlap with matrix ions\n",
    "    for overlap_ion in overlap_ions:\n",
    "        local_df[overlap_ion] = round(local_df[overlap_ion] * overlap_ions[overlap_ion])\n",
    "    # transfer the overlapping ions into \"original\" elements\n",
    "    local_df[\"Ni\"] = local_df[\"Ni\"] + local_df[\"Fm\"]\n",
    "    # delete the overlaping ions by multiplying by 0 to keep the total amount of ions constant\n",
    "    local_df[\"Fm\"] = local_df[\"Fm\"] * 0\n",
    "    \n",
    "    # add total ions in cluster value\n",
    "    local_df[\"Cluster Size\"] = local_df.iloc[:, 3:-2].sum(axis=1)\n",
    "    \n",
    "    # change n_min\n",
    "    local_df = local_df[local_df[\"Cluster Size\"] >= n_min]\n",
    "    \n",
    "    # sort it by size\n",
    "    local_df = local_df.sort_values(by=\"Cluster Size\")\n",
    "    \n",
    "    previous_y_values = []\n",
    "    # iterate through rows and find their core ions and total ions values\n",
    "    # then core ions / total ions to know the absolute concentration \n",
    "    for i2, core_ion in enumerate(core_ions):\n",
    "        cluster_size_values = local_df[\"Cluster Size\"]\n",
    "        x_values = np.arange(len(cluster_size_values))\n",
    "        y_values = local_df[core_ion] / local_df[\"Cluster Size\"] * 100\n",
    "        \n",
    "    # find the sum of ternary ions in each cluster    \n",
    "    local_df[\"Relative Cluster Size\"] = local_df[\"Ni\"] + local_df[\"Cu\"] + local_df[\"Mn\"] + local_df[\"Si\"]\n",
    "    \n",
    "    # once you have sum of ternary ions in each cluster, find relative concentration of each core ion\n",
    "    local_df[\"Relative Ni+Mn\"] = (local_df[\"Ni\"] + local_df[\"Mn\"]) / relative_cluster_size\n",
    "    local_df[\"Relative Si\"] = local_df[\"Si\"] / relative_cluster_size\n",
    "    local_df[\"Relative Cu\"] = local_df[\"Cu\"] / relative_cluster_size\n",
    "\n",
    "\n",
    "\n",
    "    # plotting using plotly ternary diagrams\n",
    "#     fig = px.scatter_ternary(local_df, a=\"relative_Ni_Mn\", b=\"relative_Si\", c=\"relative_Cu\")\n",
    "    fig = px.scatter_ternary(\n",
    "        local_df, a=\"Ni\", b=\"Si\", c=\"Mn\", \n",
    "        hover_name=\"Cluster Size\",\n",
    "        size=\"Cluster Size\", size_max=20,\n",
    "        color=\"Cluster Size\", color_continuous_scale=px.colors.sequential.Viridis,\n",
    "        opacity=0.6\n",
    "#         marker=dict(\n",
    "#             color='LightSkyBlue',\n",
    "#             size='Relative Cluster Size',\n",
    "#             size_max = 15,\n",
    "#             opacity=0.5,\n",
    "#             line=dict(\n",
    "#                 color='MediumPurple',\n",
    "#                 width=5\n",
    "#             )\n",
    "#         )\n",
    "    )\n",
    "    \n",
    "    fig.show()"
   ]
  },
  {
   "cell_type": "code",
   "execution_count": 55,
   "metadata": {},
   "outputs": [
    {
     "output_type": "display_data",
     "data": {
      "application/vnd.plotly.v1+json": {
       "config": {
        "plotlyServerURL": "https://plot.ly"
       },
       "data": [
        {
         "a": [
          9,
          9,
          8,
          8,
          6,
          13,
          13,
          9,
          12,
          16,
          18,
          16,
          14,
          15,
          18,
          15,
          23,
          25,
          23,
          28,
          29,
          37,
          43,
          37,
          35,
          40,
          37,
          33,
          45,
          48,
          45,
          52,
          48,
          42,
          61,
          52,
          58,
          57,
          60,
          61,
          65,
          71,
          71,
          65,
          79,
          83,
          74,
          99,
          96,
          95,
          93,
          93,
          97,
          100,
          110,
          113,
          114,
          111,
          117,
          118,
          118,
          121,
          132,
          123,
          127,
          130,
          123,
          131,
          131,
          135,
          130,
          148,
          135,
          150,
          170,
          178,
          181,
          214,
          198,
          211,
          209,
          239,
          230,
          232,
          243,
          235,
          250,
          249,
          262,
          283,
          266,
          283,
          281,
          285,
          277,
          336,
          355,
          341,
          361,
          363,
          391,
          374,
          376,
          523,
          611
         ],
         "b": [
          1,
          1,
          0,
          1,
          5,
          0,
          1,
          3,
          2,
          2,
          1,
          2,
          3,
          4,
          1,
          4,
          1,
          2,
          3,
          5,
          4,
          3,
          2,
          4,
          4,
          4,
          2,
          4,
          3,
          6,
          7,
          10,
          5,
          3,
          5,
          5,
          5,
          9,
          6,
          10,
          8,
          2,
          7,
          9,
          4,
          8,
          7,
          10,
          11,
          7,
          14,
          8,
          12,
          13,
          9,
          10,
          13,
          12,
          9,
          15,
          9,
          14,
          8,
          12,
          13,
          13,
          21,
          12,
          13,
          15,
          11,
          12,
          12,
          18,
          20,
          18,
          14,
          19,
          25,
          28,
          19,
          25,
          29,
          21,
          33,
          25,
          22,
          23,
          34,
          20,
          30,
          19,
          29,
          29,
          30,
          35,
          36,
          33,
          34,
          47,
          38,
          35,
          25,
          42,
          36
         ],
         "c": [
          0,
          0,
          2,
          2,
          1,
          1,
          0,
          2,
          1,
          1,
          1,
          3,
          5,
          4,
          5,
          7,
          3,
          3,
          9,
          3,
          5,
          6,
          2,
          7,
          10,
          9,
          14,
          16,
          7,
          3,
          6,
          1,
          11,
          20,
          5,
          15,
          9,
          9,
          9,
          8,
          8,
          11,
          7,
          11,
          8,
          10,
          22,
          7,
          10,
          16,
          12,
          18,
          17,
          14,
          13,
          12,
          6,
          19,
          17,
          11,
          24,
          21,
          17,
          24,
          20,
          21,
          21,
          23,
          23,
          18,
          29,
          13,
          28,
          27,
          23,
          31,
          48,
          24,
          42,
          36,
          65,
          33,
          40,
          48,
          31,
          47,
          42,
          48,
          37,
          36,
          49,
          53,
          45,
          48,
          58,
          50,
          47,
          70,
          55,
          62,
          46,
          72,
          77,
          83,
          136
         ],
         "hovertemplate": "<b>%{hovertext}</b><br><br>Ni+Mn=%{a}<br>Si=%{b}<br>Cu=%{c}<br>Cluster Size=%{marker.size}<br>Z Axis=%{marker.color}<extra></extra>",
         "hovertext": [
          10,
          10,
          10,
          11,
          12,
          14,
          14,
          14,
          15,
          19,
          20,
          22,
          22,
          24,
          24,
          26,
          28,
          30,
          35,
          36,
          38,
          46,
          47,
          48,
          49,
          53,
          53,
          54,
          55,
          57,
          58,
          63,
          64,
          65,
          71,
          72,
          72,
          75,
          75,
          80,
          81,
          84,
          85,
          85,
          91,
          101,
          103,
          116,
          117,
          118,
          119,
          119,
          126,
          127,
          132,
          135,
          135,
          142,
          143,
          145,
          151,
          156,
          157,
          159,
          160,
          165,
          166,
          166,
          167,
          168,
          170,
          174,
          176,
          197,
          213,
          228,
          243,
          259,
          265,
          275,
          293,
          298,
          299,
          301,
          308,
          312,
          314,
          320,
          333,
          340,
          346,
          355,
          356,
          363,
          365,
          423,
          438,
          445,
          450,
          472,
          477,
          481,
          484,
          650,
          790
         ],
         "legendgroup": "",
         "marker": {
          "color": [
           -48.2773,
           -56.42100000000001,
           -53.655,
           -40.3178,
           -51.4667,
           -44.8312,
           -34.5393,
           -51.2973,
           -30.4391,
           -35.8563,
           -59.4934,
           -11.46,
           -49.0055,
           -50.1563,
           -31.8548,
           -40.7862,
           -35.1539,
           -41.5846,
           -52.0062,
           -39.7635,
           -44.5673,
           -20.9047,
           -34.7432,
           -53.2085,
           -53.8258,
           -34.5922,
           -29.4134,
           -10.2466,
           -48.3454,
           -39.138000000000005,
           -24.5773,
           -39.8259,
           -43.178999999999995,
           -50.7306,
           -35.3459,
           -45.8095,
           -16.3566,
           -20.5836,
           -10.8613,
           -50.8725,
           -38.0886,
           -51.4951,
           -9.01697,
           -14.0744,
           -12.2406,
           -48.0361,
           -52.5145,
           -33.5697,
           -37.9748,
           -43.9061,
           -28.7324,
           -44.0795,
           -39.441,
           -26.3376,
           -40.4551,
           -44.5564,
           -45.356,
           -39.0945,
           -52.7873,
           -38.1951,
           -22.8845,
           -29.6987,
           -36.0778,
           -17.463,
           -8.73773,
           -7.9070800000000006,
           -50.07899999999999,
           -20.025,
           -27.1298,
           -38.8981,
           -13.6768,
           -29.8122,
           -29.5479,
           -31.8949,
           -13.9451,
           -29.7417,
           -21.732,
           -14.6098,
           -49.7563,
           -42.5378,
           -50.701,
           -11.4227,
           -21.8632,
           -43.9934,
           -6.4993099999999995,
           -52.8347,
           -45.5978,
           -31.7745,
           -31.4134,
           -18.7231,
           -50.6136,
           -23.8156,
           -16.8149,
           -50.1431,
           -36.0268,
           -21.1837,
           -49.7394,
           -48.0512,
           -46.4604,
           -34.7374,
           -32.9063,
           -33.5508,
           -55.3728,
           -8.368039999999999,
           -31.5729
          ],
          "coloraxis": "coloraxis",
          "opacity": 0.6,
          "size": [
           10,
           10,
           10,
           11,
           12,
           14,
           14,
           14,
           15,
           19,
           20,
           22,
           22,
           24,
           24,
           26,
           28,
           30,
           35,
           36,
           38,
           46,
           47,
           48,
           49,
           53,
           53,
           54,
           55,
           57,
           58,
           63,
           64,
           65,
           71,
           72,
           72,
           75,
           75,
           80,
           81,
           84,
           85,
           85,
           91,
           101,
           103,
           116,
           117,
           118,
           119,
           119,
           126,
           127,
           132,
           135,
           135,
           142,
           143,
           145,
           151,
           156,
           157,
           159,
           160,
           165,
           166,
           166,
           167,
           168,
           170,
           174,
           176,
           197,
           213,
           228,
           243,
           259,
           265,
           275,
           293,
           298,
           299,
           301,
           308,
           312,
           314,
           320,
           333,
           340,
           346,
           355,
           356,
           363,
           365,
           423,
           438,
           445,
           450,
           472,
           477,
           481,
           484,
           650,
           790
          ],
          "sizemode": "area",
          "sizeref": 1.975,
          "symbol": "circle"
         },
         "mode": "markers",
         "name": "",
         "showlegend": false,
         "subplot": "ternary",
         "type": "scatterternary"
        }
       ],
       "layout": {
        "coloraxis": {
         "colorbar": {
          "title": {
           "text": "Z Axis"
          }
         },
         "colorscale": [
          [
           0,
           "#440154"
          ],
          [
           0.1111111111111111,
           "#482878"
          ],
          [
           0.2222222222222222,
           "#3e4989"
          ],
          [
           0.3333333333333333,
           "#31688e"
          ],
          [
           0.4444444444444444,
           "#26828e"
          ],
          [
           0.5555555555555556,
           "#1f9e89"
          ],
          [
           0.6666666666666666,
           "#35b779"
          ],
          [
           0.7777777777777778,
           "#6ece58"
          ],
          [
           0.8888888888888888,
           "#b5de2b"
          ],
          [
           1,
           "#fde725"
          ]
         ]
        },
        "legend": {
         "itemsizing": "constant",
         "tracegroupgap": 0
        },
        "margin": {
         "t": 60
        },
        "template": {
         "data": {
          "bar": [
           {
            "error_x": {
             "color": "#2a3f5f"
            },
            "error_y": {
             "color": "#2a3f5f"
            },
            "marker": {
             "line": {
              "color": "#E5ECF6",
              "width": 0.5
             }
            },
            "type": "bar"
           }
          ],
          "barpolar": [
           {
            "marker": {
             "line": {
              "color": "#E5ECF6",
              "width": 0.5
             }
            },
            "type": "barpolar"
           }
          ],
          "carpet": [
           {
            "aaxis": {
             "endlinecolor": "#2a3f5f",
             "gridcolor": "white",
             "linecolor": "white",
             "minorgridcolor": "white",
             "startlinecolor": "#2a3f5f"
            },
            "baxis": {
             "endlinecolor": "#2a3f5f",
             "gridcolor": "white",
             "linecolor": "white",
             "minorgridcolor": "white",
             "startlinecolor": "#2a3f5f"
            },
            "type": "carpet"
           }
          ],
          "choropleth": [
           {
            "colorbar": {
             "outlinewidth": 0,
             "ticks": ""
            },
            "type": "choropleth"
           }
          ],
          "contour": [
           {
            "colorbar": {
             "outlinewidth": 0,
             "ticks": ""
            },
            "colorscale": [
             [
              0,
              "#0d0887"
             ],
             [
              0.1111111111111111,
              "#46039f"
             ],
             [
              0.2222222222222222,
              "#7201a8"
             ],
             [
              0.3333333333333333,
              "#9c179e"
             ],
             [
              0.4444444444444444,
              "#bd3786"
             ],
             [
              0.5555555555555556,
              "#d8576b"
             ],
             [
              0.6666666666666666,
              "#ed7953"
             ],
             [
              0.7777777777777778,
              "#fb9f3a"
             ],
             [
              0.8888888888888888,
              "#fdca26"
             ],
             [
              1,
              "#f0f921"
             ]
            ],
            "type": "contour"
           }
          ],
          "contourcarpet": [
           {
            "colorbar": {
             "outlinewidth": 0,
             "ticks": ""
            },
            "type": "contourcarpet"
           }
          ],
          "heatmap": [
           {
            "colorbar": {
             "outlinewidth": 0,
             "ticks": ""
            },
            "colorscale": [
             [
              0,
              "#0d0887"
             ],
             [
              0.1111111111111111,
              "#46039f"
             ],
             [
              0.2222222222222222,
              "#7201a8"
             ],
             [
              0.3333333333333333,
              "#9c179e"
             ],
             [
              0.4444444444444444,
              "#bd3786"
             ],
             [
              0.5555555555555556,
              "#d8576b"
             ],
             [
              0.6666666666666666,
              "#ed7953"
             ],
             [
              0.7777777777777778,
              "#fb9f3a"
             ],
             [
              0.8888888888888888,
              "#fdca26"
             ],
             [
              1,
              "#f0f921"
             ]
            ],
            "type": "heatmap"
           }
          ],
          "heatmapgl": [
           {
            "colorbar": {
             "outlinewidth": 0,
             "ticks": ""
            },
            "colorscale": [
             [
              0,
              "#0d0887"
             ],
             [
              0.1111111111111111,
              "#46039f"
             ],
             [
              0.2222222222222222,
              "#7201a8"
             ],
             [
              0.3333333333333333,
              "#9c179e"
             ],
             [
              0.4444444444444444,
              "#bd3786"
             ],
             [
              0.5555555555555556,
              "#d8576b"
             ],
             [
              0.6666666666666666,
              "#ed7953"
             ],
             [
              0.7777777777777778,
              "#fb9f3a"
             ],
             [
              0.8888888888888888,
              "#fdca26"
             ],
             [
              1,
              "#f0f921"
             ]
            ],
            "type": "heatmapgl"
           }
          ],
          "histogram": [
           {
            "marker": {
             "colorbar": {
              "outlinewidth": 0,
              "ticks": ""
             }
            },
            "type": "histogram"
           }
          ],
          "histogram2d": [
           {
            "colorbar": {
             "outlinewidth": 0,
             "ticks": ""
            },
            "colorscale": [
             [
              0,
              "#0d0887"
             ],
             [
              0.1111111111111111,
              "#46039f"
             ],
             [
              0.2222222222222222,
              "#7201a8"
             ],
             [
              0.3333333333333333,
              "#9c179e"
             ],
             [
              0.4444444444444444,
              "#bd3786"
             ],
             [
              0.5555555555555556,
              "#d8576b"
             ],
             [
              0.6666666666666666,
              "#ed7953"
             ],
             [
              0.7777777777777778,
              "#fb9f3a"
             ],
             [
              0.8888888888888888,
              "#fdca26"
             ],
             [
              1,
              "#f0f921"
             ]
            ],
            "type": "histogram2d"
           }
          ],
          "histogram2dcontour": [
           {
            "colorbar": {
             "outlinewidth": 0,
             "ticks": ""
            },
            "colorscale": [
             [
              0,
              "#0d0887"
             ],
             [
              0.1111111111111111,
              "#46039f"
             ],
             [
              0.2222222222222222,
              "#7201a8"
             ],
             [
              0.3333333333333333,
              "#9c179e"
             ],
             [
              0.4444444444444444,
              "#bd3786"
             ],
             [
              0.5555555555555556,
              "#d8576b"
             ],
             [
              0.6666666666666666,
              "#ed7953"
             ],
             [
              0.7777777777777778,
              "#fb9f3a"
             ],
             [
              0.8888888888888888,
              "#fdca26"
             ],
             [
              1,
              "#f0f921"
             ]
            ],
            "type": "histogram2dcontour"
           }
          ],
          "mesh3d": [
           {
            "colorbar": {
             "outlinewidth": 0,
             "ticks": ""
            },
            "type": "mesh3d"
           }
          ],
          "parcoords": [
           {
            "line": {
             "colorbar": {
              "outlinewidth": 0,
              "ticks": ""
             }
            },
            "type": "parcoords"
           }
          ],
          "pie": [
           {
            "automargin": true,
            "type": "pie"
           }
          ],
          "scatter": [
           {
            "marker": {
             "colorbar": {
              "outlinewidth": 0,
              "ticks": ""
             }
            },
            "type": "scatter"
           }
          ],
          "scatter3d": [
           {
            "line": {
             "colorbar": {
              "outlinewidth": 0,
              "ticks": ""
             }
            },
            "marker": {
             "colorbar": {
              "outlinewidth": 0,
              "ticks": ""
             }
            },
            "type": "scatter3d"
           }
          ],
          "scattercarpet": [
           {
            "marker": {
             "colorbar": {
              "outlinewidth": 0,
              "ticks": ""
             }
            },
            "type": "scattercarpet"
           }
          ],
          "scattergeo": [
           {
            "marker": {
             "colorbar": {
              "outlinewidth": 0,
              "ticks": ""
             }
            },
            "type": "scattergeo"
           }
          ],
          "scattergl": [
           {
            "marker": {
             "colorbar": {
              "outlinewidth": 0,
              "ticks": ""
             }
            },
            "type": "scattergl"
           }
          ],
          "scattermapbox": [
           {
            "marker": {
             "colorbar": {
              "outlinewidth": 0,
              "ticks": ""
             }
            },
            "type": "scattermapbox"
           }
          ],
          "scatterpolar": [
           {
            "marker": {
             "colorbar": {
              "outlinewidth": 0,
              "ticks": ""
             }
            },
            "type": "scatterpolar"
           }
          ],
          "scatterpolargl": [
           {
            "marker": {
             "colorbar": {
              "outlinewidth": 0,
              "ticks": ""
             }
            },
            "type": "scatterpolargl"
           }
          ],
          "scatterternary": [
           {
            "marker": {
             "colorbar": {
              "outlinewidth": 0,
              "ticks": ""
             }
            },
            "type": "scatterternary"
           }
          ],
          "surface": [
           {
            "colorbar": {
             "outlinewidth": 0,
             "ticks": ""
            },
            "colorscale": [
             [
              0,
              "#0d0887"
             ],
             [
              0.1111111111111111,
              "#46039f"
             ],
             [
              0.2222222222222222,
              "#7201a8"
             ],
             [
              0.3333333333333333,
              "#9c179e"
             ],
             [
              0.4444444444444444,
              "#bd3786"
             ],
             [
              0.5555555555555556,
              "#d8576b"
             ],
             [
              0.6666666666666666,
              "#ed7953"
             ],
             [
              0.7777777777777778,
              "#fb9f3a"
             ],
             [
              0.8888888888888888,
              "#fdca26"
             ],
             [
              1,
              "#f0f921"
             ]
            ],
            "type": "surface"
           }
          ],
          "table": [
           {
            "cells": {
             "fill": {
              "color": "#EBF0F8"
             },
             "line": {
              "color": "white"
             }
            },
            "header": {
             "fill": {
              "color": "#C8D4E3"
             },
             "line": {
              "color": "white"
             }
            },
            "type": "table"
           }
          ]
         },
         "layout": {
          "annotationdefaults": {
           "arrowcolor": "#2a3f5f",
           "arrowhead": 0,
           "arrowwidth": 1
          },
          "coloraxis": {
           "colorbar": {
            "outlinewidth": 0,
            "ticks": ""
           }
          },
          "colorscale": {
           "diverging": [
            [
             0,
             "#8e0152"
            ],
            [
             0.1,
             "#c51b7d"
            ],
            [
             0.2,
             "#de77ae"
            ],
            [
             0.3,
             "#f1b6da"
            ],
            [
             0.4,
             "#fde0ef"
            ],
            [
             0.5,
             "#f7f7f7"
            ],
            [
             0.6,
             "#e6f5d0"
            ],
            [
             0.7,
             "#b8e186"
            ],
            [
             0.8,
             "#7fbc41"
            ],
            [
             0.9,
             "#4d9221"
            ],
            [
             1,
             "#276419"
            ]
           ],
           "sequential": [
            [
             0,
             "#0d0887"
            ],
            [
             0.1111111111111111,
             "#46039f"
            ],
            [
             0.2222222222222222,
             "#7201a8"
            ],
            [
             0.3333333333333333,
             "#9c179e"
            ],
            [
             0.4444444444444444,
             "#bd3786"
            ],
            [
             0.5555555555555556,
             "#d8576b"
            ],
            [
             0.6666666666666666,
             "#ed7953"
            ],
            [
             0.7777777777777778,
             "#fb9f3a"
            ],
            [
             0.8888888888888888,
             "#fdca26"
            ],
            [
             1,
             "#f0f921"
            ]
           ],
           "sequentialminus": [
            [
             0,
             "#0d0887"
            ],
            [
             0.1111111111111111,
             "#46039f"
            ],
            [
             0.2222222222222222,
             "#7201a8"
            ],
            [
             0.3333333333333333,
             "#9c179e"
            ],
            [
             0.4444444444444444,
             "#bd3786"
            ],
            [
             0.5555555555555556,
             "#d8576b"
            ],
            [
             0.6666666666666666,
             "#ed7953"
            ],
            [
             0.7777777777777778,
             "#fb9f3a"
            ],
            [
             0.8888888888888888,
             "#fdca26"
            ],
            [
             1,
             "#f0f921"
            ]
           ]
          },
          "colorway": [
           "#636efa",
           "#EF553B",
           "#00cc96",
           "#ab63fa",
           "#FFA15A",
           "#19d3f3",
           "#FF6692",
           "#B6E880",
           "#FF97FF",
           "#FECB52"
          ],
          "font": {
           "color": "#2a3f5f"
          },
          "geo": {
           "bgcolor": "white",
           "lakecolor": "white",
           "landcolor": "#E5ECF6",
           "showlakes": true,
           "showland": true,
           "subunitcolor": "white"
          },
          "hoverlabel": {
           "align": "left"
          },
          "hovermode": "closest",
          "mapbox": {
           "style": "light"
          },
          "paper_bgcolor": "white",
          "plot_bgcolor": "#E5ECF6",
          "polar": {
           "angularaxis": {
            "gridcolor": "white",
            "linecolor": "white",
            "ticks": ""
           },
           "bgcolor": "#E5ECF6",
           "radialaxis": {
            "gridcolor": "white",
            "linecolor": "white",
            "ticks": ""
           }
          },
          "scene": {
           "xaxis": {
            "backgroundcolor": "#E5ECF6",
            "gridcolor": "white",
            "gridwidth": 2,
            "linecolor": "white",
            "showbackground": true,
            "ticks": "",
            "zerolinecolor": "white"
           },
           "yaxis": {
            "backgroundcolor": "#E5ECF6",
            "gridcolor": "white",
            "gridwidth": 2,
            "linecolor": "white",
            "showbackground": true,
            "ticks": "",
            "zerolinecolor": "white"
           },
           "zaxis": {
            "backgroundcolor": "#E5ECF6",
            "gridcolor": "white",
            "gridwidth": 2,
            "linecolor": "white",
            "showbackground": true,
            "ticks": "",
            "zerolinecolor": "white"
           }
          },
          "shapedefaults": {
           "line": {
            "color": "#2a3f5f"
           }
          },
          "ternary": {
           "aaxis": {
            "gridcolor": "white",
            "linecolor": "white",
            "ticks": ""
           },
           "baxis": {
            "gridcolor": "white",
            "linecolor": "white",
            "ticks": ""
           },
           "bgcolor": "#E5ECF6",
           "caxis": {
            "gridcolor": "white",
            "linecolor": "white",
            "ticks": ""
           }
          },
          "title": {
           "x": 0.05
          },
          "xaxis": {
           "automargin": true,
           "gridcolor": "white",
           "linecolor": "white",
           "ticks": "",
           "title": {
            "standoff": 15
           },
           "zerolinecolor": "white",
           "zerolinewidth": 2
          },
          "yaxis": {
           "automargin": true,
           "gridcolor": "white",
           "linecolor": "white",
           "ticks": "",
           "title": {
            "standoff": 15
           },
           "zerolinecolor": "white",
           "zerolinewidth": 2
          }
         }
        },
        "ternary": {
         "aaxis": {
          "title": {
           "text": "Ni+Mn"
          }
         },
         "baxis": {
          "title": {
           "text": "Si"
          }
         },
         "caxis": {
          "title": {
           "text": "Cu"
          }
         },
         "domain": {
          "x": [
           0,
           1
          ],
          "y": [
           0,
           1
          ]
         }
        }
       }
      },
      "text/html": "<div>\n        \n        \n            <div id=\"73e8d8ba-b922-4914-8d44-fcc0b1893987\" class=\"plotly-graph-div\" style=\"height:525px; width:100%;\"></div>\n            <script type=\"text/javascript\">\n                require([\"plotly\"], function(Plotly) {\n                    window.PLOTLYENV=window.PLOTLYENV || {};\n                    \n                if (document.getElementById(\"73e8d8ba-b922-4914-8d44-fcc0b1893987\")) {\n                    Plotly.newPlot(\n                        '73e8d8ba-b922-4914-8d44-fcc0b1893987',\n                        [{\"a\": [9.0, 9.0, 8.0, 8.0, 6.0, 13.0, 13.0, 9.0, 12.0, 16.0, 18.0, 16.0, 14.0, 15.0, 18.0, 15.0, 23.0, 25.0, 23.0, 28.0, 29.0, 37.0, 43.0, 37.0, 35.0, 40.0, 37.0, 33.0, 45.0, 48.0, 45.0, 52.0, 48.0, 42.0, 61.0, 52.0, 58.0, 57.0, 60.0, 61.0, 65.0, 71.0, 71.0, 65.0, 79.0, 83.0, 74.0, 99.0, 96.0, 95.0, 93.0, 93.0, 97.0, 100.0, 110.0, 113.0, 114.0, 111.0, 117.0, 118.0, 118.0, 121.0, 132.0, 123.0, 127.0, 130.0, 123.0, 131.0, 131.0, 135.0, 130.0, 148.0, 135.0, 150.0, 170.0, 178.0, 181.0, 214.0, 198.0, 211.0, 209.0, 239.0, 230.0, 232.0, 243.0, 235.0, 250.0, 249.0, 262.0, 283.0, 266.0, 283.0, 281.0, 285.0, 277.0, 336.0, 355.0, 341.0, 361.0, 363.0, 391.0, 374.0, 376.0, 523.0, 611.0], \"b\": [1, 1, 0, 1, 5, 0, 1, 3, 2, 2, 1, 2, 3, 4, 1, 4, 1, 2, 3, 5, 4, 3, 2, 4, 4, 4, 2, 4, 3, 6, 7, 10, 5, 3, 5, 5, 5, 9, 6, 10, 8, 2, 7, 9, 4, 8, 7, 10, 11, 7, 14, 8, 12, 13, 9, 10, 13, 12, 9, 15, 9, 14, 8, 12, 13, 13, 21, 12, 13, 15, 11, 12, 12, 18, 20, 18, 14, 19, 25, 28, 19, 25, 29, 21, 33, 25, 22, 23, 34, 20, 30, 19, 29, 29, 30, 35, 36, 33, 34, 47, 38, 35, 25, 42, 36], \"c\": [0, 0, 2, 2, 1, 1, 0, 2, 1, 1, 1, 3, 5, 4, 5, 7, 3, 3, 9, 3, 5, 6, 2, 7, 10, 9, 14, 16, 7, 3, 6, 1, 11, 20, 5, 15, 9, 9, 9, 8, 8, 11, 7, 11, 8, 10, 22, 7, 10, 16, 12, 18, 17, 14, 13, 12, 6, 19, 17, 11, 24, 21, 17, 24, 20, 21, 21, 23, 23, 18, 29, 13, 28, 27, 23, 31, 48, 24, 42, 36, 65, 33, 40, 48, 31, 47, 42, 48, 37, 36, 49, 53, 45, 48, 58, 50, 47, 70, 55, 62, 46, 72, 77, 83, 136], \"hovertemplate\": \"<b>%{hovertext}</b><br><br>Ni+Mn=%{a}<br>Si=%{b}<br>Cu=%{c}<br>Cluster Size=%{marker.size}<br>Z Axis=%{marker.color}<extra></extra>\", \"hovertext\": [10.0, 10.0, 10.0, 11.0, 12.0, 14.0, 14.0, 14.0, 15.0, 19.0, 20.0, 22.0, 22.0, 24.0, 24.0, 26.0, 28.0, 30.0, 35.0, 36.0, 38.0, 46.0, 47.0, 48.0, 49.0, 53.0, 53.0, 54.0, 55.0, 57.0, 58.0, 63.0, 64.0, 65.0, 71.0, 72.0, 72.0, 75.0, 75.0, 80.0, 81.0, 84.0, 85.0, 85.0, 91.0, 101.0, 103.0, 116.0, 117.0, 118.0, 119.0, 119.0, 126.0, 127.0, 132.0, 135.0, 135.0, 142.0, 143.0, 145.0, 151.0, 156.0, 157.0, 159.0, 160.0, 165.0, 166.0, 166.0, 167.0, 168.0, 170.0, 174.0, 176.0, 197.0, 213.0, 228.0, 243.0, 259.0, 265.0, 275.0, 293.0, 298.0, 299.0, 301.0, 308.0, 312.0, 314.0, 320.0, 333.0, 340.0, 346.0, 355.0, 356.0, 363.0, 365.0, 423.0, 438.0, 445.0, 450.0, 472.0, 477.0, 481.0, 484.0, 650.0, 790.0], \"legendgroup\": \"\", \"marker\": {\"color\": [-48.2773, -56.42100000000001, -53.655, -40.3178, -51.4667, -44.8312, -34.5393, -51.2973, -30.4391, -35.8563, -59.4934, -11.46, -49.0055, -50.1563, -31.8548, -40.7862, -35.1539, -41.5846, -52.0062, -39.7635, -44.5673, -20.9047, -34.7432, -53.2085, -53.8258, -34.5922, -29.4134, -10.2466, -48.3454, -39.138000000000005, -24.5773, -39.8259, -43.178999999999995, -50.7306, -35.3459, -45.8095, -16.3566, -20.5836, -10.8613, -50.8725, -38.0886, -51.4951, -9.01697, -14.0744, -12.2406, -48.0361, -52.5145, -33.5697, -37.9748, -43.9061, -28.7324, -44.0795, -39.441, -26.3376, -40.4551, -44.5564, -45.356, -39.0945, -52.7873, -38.1951, -22.8845, -29.6987, -36.0778, -17.463, -8.73773, -7.9070800000000006, -50.07899999999999, -20.025, -27.1298, -38.8981, -13.6768, -29.8122, -29.5479, -31.8949, -13.9451, -29.7417, -21.732, -14.6098, -49.7563, -42.5378, -50.701, -11.4227, -21.8632, -43.9934, -6.4993099999999995, -52.8347, -45.5978, -31.7745, -31.4134, -18.7231, -50.6136, -23.8156, -16.8149, -50.1431, -36.0268, -21.1837, -49.7394, -48.0512, -46.4604, -34.7374, -32.9063, -33.5508, -55.3728, -8.368039999999999, -31.5729], \"coloraxis\": \"coloraxis\", \"opacity\": 0.6, \"size\": [10.0, 10.0, 10.0, 11.0, 12.0, 14.0, 14.0, 14.0, 15.0, 19.0, 20.0, 22.0, 22.0, 24.0, 24.0, 26.0, 28.0, 30.0, 35.0, 36.0, 38.0, 46.0, 47.0, 48.0, 49.0, 53.0, 53.0, 54.0, 55.0, 57.0, 58.0, 63.0, 64.0, 65.0, 71.0, 72.0, 72.0, 75.0, 75.0, 80.0, 81.0, 84.0, 85.0, 85.0, 91.0, 101.0, 103.0, 116.0, 117.0, 118.0, 119.0, 119.0, 126.0, 127.0, 132.0, 135.0, 135.0, 142.0, 143.0, 145.0, 151.0, 156.0, 157.0, 159.0, 160.0, 165.0, 166.0, 166.0, 167.0, 168.0, 170.0, 174.0, 176.0, 197.0, 213.0, 228.0, 243.0, 259.0, 265.0, 275.0, 293.0, 298.0, 299.0, 301.0, 308.0, 312.0, 314.0, 320.0, 333.0, 340.0, 346.0, 355.0, 356.0, 363.0, 365.0, 423.0, 438.0, 445.0, 450.0, 472.0, 477.0, 481.0, 484.0, 650.0, 790.0], \"sizemode\": \"area\", \"sizeref\": 1.975, \"symbol\": \"circle\"}, \"mode\": \"markers\", \"name\": \"\", \"showlegend\": false, \"subplot\": \"ternary\", \"type\": \"scatterternary\"}],\n                        {\"coloraxis\": {\"colorbar\": {\"title\": {\"text\": \"Z Axis\"}}, \"colorscale\": [[0.0, \"#440154\"], [0.1111111111111111, \"#482878\"], [0.2222222222222222, \"#3e4989\"], [0.3333333333333333, \"#31688e\"], [0.4444444444444444, \"#26828e\"], [0.5555555555555556, \"#1f9e89\"], [0.6666666666666666, \"#35b779\"], [0.7777777777777778, \"#6ece58\"], [0.8888888888888888, \"#b5de2b\"], [1.0, \"#fde725\"]]}, \"legend\": {\"itemsizing\": \"constant\", \"tracegroupgap\": 0}, \"margin\": {\"t\": 60}, \"template\": {\"data\": {\"bar\": [{\"error_x\": {\"color\": \"#2a3f5f\"}, \"error_y\": {\"color\": \"#2a3f5f\"}, \"marker\": {\"line\": {\"color\": \"#E5ECF6\", \"width\": 0.5}}, \"type\": \"bar\"}], \"barpolar\": [{\"marker\": {\"line\": {\"color\": \"#E5ECF6\", \"width\": 0.5}}, \"type\": \"barpolar\"}], \"carpet\": [{\"aaxis\": {\"endlinecolor\": \"#2a3f5f\", \"gridcolor\": \"white\", \"linecolor\": \"white\", \"minorgridcolor\": \"white\", \"startlinecolor\": \"#2a3f5f\"}, \"baxis\": {\"endlinecolor\": \"#2a3f5f\", \"gridcolor\": \"white\", \"linecolor\": \"white\", \"minorgridcolor\": \"white\", \"startlinecolor\": \"#2a3f5f\"}, \"type\": \"carpet\"}], \"choropleth\": [{\"colorbar\": {\"outlinewidth\": 0, \"ticks\": \"\"}, \"type\": \"choropleth\"}], \"contour\": [{\"colorbar\": {\"outlinewidth\": 0, \"ticks\": \"\"}, \"colorscale\": [[0.0, \"#0d0887\"], [0.1111111111111111, \"#46039f\"], [0.2222222222222222, \"#7201a8\"], [0.3333333333333333, \"#9c179e\"], [0.4444444444444444, \"#bd3786\"], [0.5555555555555556, \"#d8576b\"], [0.6666666666666666, \"#ed7953\"], [0.7777777777777778, \"#fb9f3a\"], [0.8888888888888888, \"#fdca26\"], [1.0, \"#f0f921\"]], \"type\": \"contour\"}], \"contourcarpet\": [{\"colorbar\": {\"outlinewidth\": 0, \"ticks\": \"\"}, \"type\": \"contourcarpet\"}], \"heatmap\": [{\"colorbar\": {\"outlinewidth\": 0, \"ticks\": \"\"}, \"colorscale\": [[0.0, \"#0d0887\"], [0.1111111111111111, \"#46039f\"], [0.2222222222222222, \"#7201a8\"], [0.3333333333333333, \"#9c179e\"], [0.4444444444444444, \"#bd3786\"], [0.5555555555555556, \"#d8576b\"], [0.6666666666666666, \"#ed7953\"], [0.7777777777777778, \"#fb9f3a\"], [0.8888888888888888, \"#fdca26\"], [1.0, \"#f0f921\"]], \"type\": \"heatmap\"}], \"heatmapgl\": [{\"colorbar\": {\"outlinewidth\": 0, \"ticks\": \"\"}, \"colorscale\": [[0.0, \"#0d0887\"], [0.1111111111111111, \"#46039f\"], [0.2222222222222222, \"#7201a8\"], [0.3333333333333333, \"#9c179e\"], [0.4444444444444444, \"#bd3786\"], [0.5555555555555556, \"#d8576b\"], [0.6666666666666666, \"#ed7953\"], [0.7777777777777778, \"#fb9f3a\"], [0.8888888888888888, \"#fdca26\"], [1.0, \"#f0f921\"]], \"type\": \"heatmapgl\"}], \"histogram\": [{\"marker\": {\"colorbar\": {\"outlinewidth\": 0, \"ticks\": \"\"}}, \"type\": \"histogram\"}], \"histogram2d\": [{\"colorbar\": {\"outlinewidth\": 0, \"ticks\": \"\"}, \"colorscale\": [[0.0, \"#0d0887\"], [0.1111111111111111, \"#46039f\"], [0.2222222222222222, \"#7201a8\"], [0.3333333333333333, \"#9c179e\"], [0.4444444444444444, \"#bd3786\"], [0.5555555555555556, \"#d8576b\"], [0.6666666666666666, \"#ed7953\"], [0.7777777777777778, \"#fb9f3a\"], [0.8888888888888888, \"#fdca26\"], [1.0, \"#f0f921\"]], \"type\": \"histogram2d\"}], \"histogram2dcontour\": [{\"colorbar\": {\"outlinewidth\": 0, \"ticks\": \"\"}, \"colorscale\": [[0.0, \"#0d0887\"], [0.1111111111111111, \"#46039f\"], [0.2222222222222222, \"#7201a8\"], [0.3333333333333333, \"#9c179e\"], [0.4444444444444444, \"#bd3786\"], [0.5555555555555556, \"#d8576b\"], [0.6666666666666666, \"#ed7953\"], [0.7777777777777778, \"#fb9f3a\"], [0.8888888888888888, \"#fdca26\"], [1.0, \"#f0f921\"]], \"type\": \"histogram2dcontour\"}], \"mesh3d\": [{\"colorbar\": {\"outlinewidth\": 0, \"ticks\": \"\"}, \"type\": \"mesh3d\"}], \"parcoords\": [{\"line\": {\"colorbar\": {\"outlinewidth\": 0, \"ticks\": \"\"}}, \"type\": \"parcoords\"}], \"pie\": [{\"automargin\": true, \"type\": \"pie\"}], \"scatter\": [{\"marker\": {\"colorbar\": {\"outlinewidth\": 0, \"ticks\": \"\"}}, \"type\": \"scatter\"}], \"scatter3d\": [{\"line\": {\"colorbar\": {\"outlinewidth\": 0, \"ticks\": \"\"}}, \"marker\": {\"colorbar\": {\"outlinewidth\": 0, \"ticks\": \"\"}}, \"type\": \"scatter3d\"}], \"scattercarpet\": [{\"marker\": {\"colorbar\": {\"outlinewidth\": 0, \"ticks\": \"\"}}, \"type\": \"scattercarpet\"}], \"scattergeo\": [{\"marker\": {\"colorbar\": {\"outlinewidth\": 0, \"ticks\": \"\"}}, \"type\": \"scattergeo\"}], \"scattergl\": [{\"marker\": {\"colorbar\": {\"outlinewidth\": 0, \"ticks\": \"\"}}, \"type\": \"scattergl\"}], \"scattermapbox\": [{\"marker\": {\"colorbar\": {\"outlinewidth\": 0, \"ticks\": \"\"}}, \"type\": \"scattermapbox\"}], \"scatterpolar\": [{\"marker\": {\"colorbar\": {\"outlinewidth\": 0, \"ticks\": \"\"}}, \"type\": \"scatterpolar\"}], \"scatterpolargl\": [{\"marker\": {\"colorbar\": {\"outlinewidth\": 0, \"ticks\": \"\"}}, \"type\": \"scatterpolargl\"}], \"scatterternary\": [{\"marker\": {\"colorbar\": {\"outlinewidth\": 0, \"ticks\": \"\"}}, \"type\": \"scatterternary\"}], \"surface\": [{\"colorbar\": {\"outlinewidth\": 0, \"ticks\": \"\"}, \"colorscale\": [[0.0, \"#0d0887\"], [0.1111111111111111, \"#46039f\"], [0.2222222222222222, \"#7201a8\"], [0.3333333333333333, \"#9c179e\"], [0.4444444444444444, \"#bd3786\"], [0.5555555555555556, \"#d8576b\"], [0.6666666666666666, \"#ed7953\"], [0.7777777777777778, \"#fb9f3a\"], [0.8888888888888888, \"#fdca26\"], [1.0, \"#f0f921\"]], \"type\": \"surface\"}], \"table\": [{\"cells\": {\"fill\": {\"color\": \"#EBF0F8\"}, \"line\": {\"color\": \"white\"}}, \"header\": {\"fill\": {\"color\": \"#C8D4E3\"}, \"line\": {\"color\": \"white\"}}, \"type\": \"table\"}]}, \"layout\": {\"annotationdefaults\": {\"arrowcolor\": \"#2a3f5f\", \"arrowhead\": 0, \"arrowwidth\": 1}, \"coloraxis\": {\"colorbar\": {\"outlinewidth\": 0, \"ticks\": \"\"}}, \"colorscale\": {\"diverging\": [[0, \"#8e0152\"], [0.1, \"#c51b7d\"], [0.2, \"#de77ae\"], [0.3, \"#f1b6da\"], [0.4, \"#fde0ef\"], [0.5, \"#f7f7f7\"], [0.6, \"#e6f5d0\"], [0.7, \"#b8e186\"], [0.8, \"#7fbc41\"], [0.9, \"#4d9221\"], [1, \"#276419\"]], \"sequential\": [[0.0, \"#0d0887\"], [0.1111111111111111, \"#46039f\"], [0.2222222222222222, \"#7201a8\"], [0.3333333333333333, \"#9c179e\"], [0.4444444444444444, \"#bd3786\"], [0.5555555555555556, \"#d8576b\"], [0.6666666666666666, \"#ed7953\"], [0.7777777777777778, \"#fb9f3a\"], [0.8888888888888888, \"#fdca26\"], [1.0, \"#f0f921\"]], \"sequentialminus\": [[0.0, \"#0d0887\"], [0.1111111111111111, \"#46039f\"], [0.2222222222222222, \"#7201a8\"], [0.3333333333333333, \"#9c179e\"], [0.4444444444444444, \"#bd3786\"], [0.5555555555555556, \"#d8576b\"], [0.6666666666666666, \"#ed7953\"], [0.7777777777777778, \"#fb9f3a\"], [0.8888888888888888, \"#fdca26\"], [1.0, \"#f0f921\"]]}, \"colorway\": [\"#636efa\", \"#EF553B\", \"#00cc96\", \"#ab63fa\", \"#FFA15A\", \"#19d3f3\", \"#FF6692\", \"#B6E880\", \"#FF97FF\", \"#FECB52\"], \"font\": {\"color\": \"#2a3f5f\"}, \"geo\": {\"bgcolor\": \"white\", \"lakecolor\": \"white\", \"landcolor\": \"#E5ECF6\", \"showlakes\": true, \"showland\": true, \"subunitcolor\": \"white\"}, \"hoverlabel\": {\"align\": \"left\"}, \"hovermode\": \"closest\", \"mapbox\": {\"style\": \"light\"}, \"paper_bgcolor\": \"white\", \"plot_bgcolor\": \"#E5ECF6\", \"polar\": {\"angularaxis\": {\"gridcolor\": \"white\", \"linecolor\": \"white\", \"ticks\": \"\"}, \"bgcolor\": \"#E5ECF6\", \"radialaxis\": {\"gridcolor\": \"white\", \"linecolor\": \"white\", \"ticks\": \"\"}}, \"scene\": {\"xaxis\": {\"backgroundcolor\": \"#E5ECF6\", \"gridcolor\": \"white\", \"gridwidth\": 2, \"linecolor\": \"white\", \"showbackground\": true, \"ticks\": \"\", \"zerolinecolor\": \"white\"}, \"yaxis\": {\"backgroundcolor\": \"#E5ECF6\", \"gridcolor\": \"white\", \"gridwidth\": 2, \"linecolor\": \"white\", \"showbackground\": true, \"ticks\": \"\", \"zerolinecolor\": \"white\"}, \"zaxis\": {\"backgroundcolor\": \"#E5ECF6\", \"gridcolor\": \"white\", \"gridwidth\": 2, \"linecolor\": \"white\", \"showbackground\": true, \"ticks\": \"\", \"zerolinecolor\": \"white\"}}, \"shapedefaults\": {\"line\": {\"color\": \"#2a3f5f\"}}, \"ternary\": {\"aaxis\": {\"gridcolor\": \"white\", \"linecolor\": \"white\", \"ticks\": \"\"}, \"baxis\": {\"gridcolor\": \"white\", \"linecolor\": \"white\", \"ticks\": \"\"}, \"bgcolor\": \"#E5ECF6\", \"caxis\": {\"gridcolor\": \"white\", \"linecolor\": \"white\", \"ticks\": \"\"}}, \"title\": {\"x\": 0.05}, \"xaxis\": {\"automargin\": true, \"gridcolor\": \"white\", \"linecolor\": \"white\", \"ticks\": \"\", \"title\": {\"standoff\": 15}, \"zerolinecolor\": \"white\", \"zerolinewidth\": 2}, \"yaxis\": {\"automargin\": true, \"gridcolor\": \"white\", \"linecolor\": \"white\", \"ticks\": \"\", \"title\": {\"standoff\": 15}, \"zerolinecolor\": \"white\", \"zerolinewidth\": 2}}}, \"ternary\": {\"aaxis\": {\"title\": {\"text\": \"Ni+Mn\"}}, \"baxis\": {\"title\": {\"text\": \"Si\"}}, \"caxis\": {\"title\": {\"text\": \"Cu\"}}, \"domain\": {\"x\": [0.0, 1.0], \"y\": [0.0, 1.0]}}},\n                        {\"responsive\": true}\n                    ).then(function(){\n                            \nvar gd = document.getElementById('73e8d8ba-b922-4914-8d44-fcc0b1893987');\nvar x = new MutationObserver(function (mutations, observer) {{\n        var display = window.getComputedStyle(gd).display;\n        if (!display || display === 'none') {{\n            console.log([gd, 'removed!']);\n            Plotly.purge(gd);\n            observer.disconnect();\n        }}\n}});\n\n// Listen for the removal of the full notebook cells\nvar notebookContainer = gd.closest('#notebook-container');\nif (notebookContainer) {{\n    x.observe(notebookContainer, {childList: true});\n}}\n\n// Listen for the clearing of the current output cell\nvar outputEl = gd.closest('.output');\nif (outputEl) {{\n    x.observe(outputEl, {childList: true});\n}}\n\n                        })\n                };\n                });\n            </script>\n        </div>"
     },
     "metadata": {}
    },
    {
     "output_type": "display_data",
     "data": {
      "application/vnd.plotly.v1+json": {
       "config": {
        "plotlyServerURL": "https://plot.ly"
       },
       "data": [
        {
         "hovertemplate": "X=%{x}<br>Y=%{y}<br>Z Axis=%{marker.color}<br>Cluster Size=%{marker.size}<extra></extra>",
         "legendgroup": "",
         "marker": {
          "color": [
           -48.2773,
           -56.42100000000001,
           -53.655,
           -40.3178,
           -51.4667,
           -44.8312,
           -34.5393,
           -51.2973,
           -30.4391,
           -35.8563,
           -59.4934,
           -11.46,
           -49.0055,
           -50.1563,
           -31.8548,
           -40.7862,
           -35.1539,
           -41.5846,
           -52.0062,
           -39.7635,
           -44.5673,
           -20.9047,
           -34.7432,
           -53.2085,
           -53.8258,
           -34.5922,
           -29.4134,
           -10.2466,
           -48.3454,
           -39.138000000000005,
           -24.5773,
           -39.8259,
           -43.178999999999995,
           -50.7306,
           -35.3459,
           -45.8095,
           -16.3566,
           -20.5836,
           -10.8613,
           -50.8725,
           -38.0886,
           -51.4951,
           -9.01697,
           -14.0744,
           -12.2406,
           -48.0361,
           -52.5145,
           -33.5697,
           -37.9748,
           -43.9061,
           -28.7324,
           -44.0795,
           -39.441,
           -26.3376,
           -40.4551,
           -44.5564,
           -45.356,
           -39.0945,
           -52.7873,
           -38.1951,
           -22.8845,
           -29.6987,
           -36.0778,
           -17.463,
           -8.73773,
           -7.9070800000000006,
           -50.07899999999999,
           -20.025,
           -27.1298,
           -38.8981,
           -13.6768,
           -29.8122,
           -29.5479,
           -31.8949,
           -13.9451,
           -29.7417,
           -21.732,
           -14.6098,
           -49.7563,
           -42.5378,
           -50.701,
           -11.4227,
           -21.8632,
           -43.9934,
           -6.4993099999999995,
           -52.8347,
           -45.5978,
           -31.7745,
           -31.4134,
           -18.7231,
           -50.6136,
           -23.8156,
           -16.8149,
           -50.1431,
           -36.0268,
           -21.1837,
           -49.7394,
           -48.0512,
           -46.4604,
           -34.7374,
           -32.9063,
           -33.5508,
           -55.3728,
           -8.368039999999999,
           -31.5729
          ],
          "coloraxis": "coloraxis",
          "opacity": 0.6,
          "size": [
           10,
           10,
           10,
           11,
           12,
           14,
           14,
           14,
           15,
           19,
           20,
           22,
           22,
           24,
           24,
           26,
           28,
           30,
           35,
           36,
           38,
           46,
           47,
           48,
           49,
           53,
           53,
           54,
           55,
           57,
           58,
           63,
           64,
           65,
           71,
           72,
           72,
           75,
           75,
           80,
           81,
           84,
           85,
           85,
           91,
           101,
           103,
           116,
           117,
           118,
           119,
           119,
           126,
           127,
           132,
           135,
           135,
           142,
           143,
           145,
           151,
           156,
           157,
           159,
           160,
           165,
           166,
           166,
           167,
           168,
           170,
           174,
           176,
           197,
           213,
           228,
           243,
           259,
           265,
           275,
           293,
           298,
           299,
           301,
           308,
           312,
           314,
           320,
           333,
           340,
           346,
           355,
           356,
           363,
           365,
           423,
           438,
           445,
           450,
           472,
           477,
           481,
           484,
           650,
           790
          ],
          "sizemode": "area",
          "sizeref": 0.8777777777777778,
          "symbol": "circle"
         },
         "mode": "markers",
         "name": "",
         "scene": "scene",
         "showlegend": false,
         "type": "scatter3d",
         "x": [
          15.5311,
          15.6308,
          -6.438680000000001,
          -13.7202,
          -5.78661,
          18.0126,
          -10.9418,
          -1.40383,
          11.2918,
          -13.7911,
          -14.0109,
          3.0924400000000003,
          18.0611,
          -9.79837,
          5.66801,
          18.453,
          15.4706,
          -5.23034,
          -15.9943,
          10.3096,
          -1.44554,
          -6.4772099999999995,
          -11.847999999999999,
          8.45288,
          8.84413,
          -4.85087,
          9.01887,
          8.634210000000001,
          0.0736801,
          7.599819999999999,
          -7.22146,
          -7.313789999999999,
          16.8941,
          -2.08123,
          14.9552,
          -15.1556,
          1.55243,
          15.0375,
          -12.6623,
          17.7798,
          10.8868,
          -16.4849,
          -11.2212,
          -4.44515,
          -9.863610000000001,
          9.98723,
          -17.4866,
          12.3123,
          0.712933,
          2.966,
          -8.29313,
          12.1843,
          10.4268,
          10.1485,
          -6.20132,
          17.1849,
          6.9282,
          0.309028,
          12.8876,
          7.793189999999999,
          -2.89493,
          -10.8197,
          14.8499,
          14.7401,
          -0.538597,
          3.03695,
          -2.5643599999999998,
          -3.1272599999999997,
          5.3724,
          -5.01288,
          -10.1051,
          3.1583799999999997,
          5.701630000000001,
          -6.65475,
          5.18769,
          13.2993,
          -12.2884,
          7.60312,
          -6.99678,
          3.67826,
          -11.2837,
          -1.57355,
          -11.6637,
          -5.80788,
          -7.703069999999999,
          7.15764,
          2.7265200000000003,
          -14.7645,
          14.7919,
          -9.00603,
          12.1656,
          2.72608,
          1.82027,
          5.8608199999999995,
          -2.0316099999999997,
          9.75183,
          15.470999999999998,
          -11.3391,
          11.9255,
          1.58944,
          2.59653,
          -12.5866,
          -4.30127,
          4.5967,
          -5.59962
         ],
         "y": [
          -9.469430000000001,
          13.514000000000001,
          -12.5905,
          1.29593,
          20.6959,
          -6.53924,
          -0.818812,
          21.7179,
          5.58324,
          10.6358,
          17.6774,
          10.9603,
          9.09377,
          17.0786,
          17.3488,
          3.38423,
          9.7401,
          4.37937,
          4.630269999999999,
          5.06574,
          19.4323,
          -8.16036,
          -1.07066,
          -15.0226,
          -18.2842,
          14.7648,
          3.4931300000000003,
          10.2968,
          12.0905,
          -17.298,
          -10.7026,
          -17.3729,
          3.30444,
          -16.9629,
          -2.8494099999999998,
          1.6783,
          15.2728,
          -4.76237,
          6.8042,
          -10.1116,
          11.9988,
          -0.9268860000000001,
          -5.063,
          -0.0218773,
          -3.17788,
          -1.57546,
          12.1108,
          -5.98716,
          -9.96384,
          8.99425,
          6.321359999999999,
          14.6292,
          -5.9985599999999994,
          -2.7578400000000003,
          8.87236,
          -4.97462,
          14.9811,
          5.67184,
          -0.9874059999999999,
          7.47157,
          -8.31005,
          1.17854,
          5.33944,
          -0.503354,
          10.8638,
          -7.87038,
          6.309,
          -11.8745,
          -12.9193,
          19.0385,
          7.47744,
          5.70667,
          -1.06372,
          5.1860599999999994,
          5.98926,
          3.01373,
          -0.977973,
          12.1248,
          -11.3684,
          -1.74603,
          -16.7418,
          -4.12059,
          9.54805,
          -9.76598,
          -0.377589,
          7.00524,
          -9.3618,
          -4.78472,
          9.48964,
          7.48595,
          15.2164,
          -2.327,
          1.9079099999999998,
          13.4059,
          -2.07255,
          -0.9133290000000001,
          -6.4459,
          -2.2764,
          -0.049502,
          6.995610000000001,
          16.2504,
          14.593,
          16.1606,
          2.3003299999999998,
          17.6156
         ],
         "z": [
          -48.2773,
          -56.42100000000001,
          -53.655,
          -40.3178,
          -51.4667,
          -44.8312,
          -34.5393,
          -51.2973,
          -30.4391,
          -35.8563,
          -59.4934,
          -11.46,
          -49.0055,
          -50.1563,
          -31.8548,
          -40.7862,
          -35.1539,
          -41.5846,
          -52.0062,
          -39.7635,
          -44.5673,
          -20.9047,
          -34.7432,
          -53.2085,
          -53.8258,
          -34.5922,
          -29.4134,
          -10.2466,
          -48.3454,
          -39.138000000000005,
          -24.5773,
          -39.8259,
          -43.178999999999995,
          -50.7306,
          -35.3459,
          -45.8095,
          -16.3566,
          -20.5836,
          -10.8613,
          -50.8725,
          -38.0886,
          -51.4951,
          -9.01697,
          -14.0744,
          -12.2406,
          -48.0361,
          -52.5145,
          -33.5697,
          -37.9748,
          -43.9061,
          -28.7324,
          -44.0795,
          -39.441,
          -26.3376,
          -40.4551,
          -44.5564,
          -45.356,
          -39.0945,
          -52.7873,
          -38.1951,
          -22.8845,
          -29.6987,
          -36.0778,
          -17.463,
          -8.73773,
          -7.9070800000000006,
          -50.07899999999999,
          -20.025,
          -27.1298,
          -38.8981,
          -13.6768,
          -29.8122,
          -29.5479,
          -31.8949,
          -13.9451,
          -29.7417,
          -21.732,
          -14.6098,
          -49.7563,
          -42.5378,
          -50.701,
          -11.4227,
          -21.8632,
          -43.9934,
          -6.4993099999999995,
          -52.8347,
          -45.5978,
          -31.7745,
          -31.4134,
          -18.7231,
          -50.6136,
          -23.8156,
          -16.8149,
          -50.1431,
          -36.0268,
          -21.1837,
          -49.7394,
          -48.0512,
          -46.4604,
          -34.7374,
          -32.9063,
          -33.5508,
          -55.3728,
          -8.368039999999999,
          -31.5729
         ]
        }
       ],
       "layout": {
        "coloraxis": {
         "colorbar": {
          "title": {
           "text": "Z Axis"
          }
         },
         "colorscale": [
          [
           0,
           "#440154"
          ],
          [
           0.1111111111111111,
           "#482878"
          ],
          [
           0.2222222222222222,
           "#3e4989"
          ],
          [
           0.3333333333333333,
           "#31688e"
          ],
          [
           0.4444444444444444,
           "#26828e"
          ],
          [
           0.5555555555555556,
           "#1f9e89"
          ],
          [
           0.6666666666666666,
           "#35b779"
          ],
          [
           0.7777777777777778,
           "#6ece58"
          ],
          [
           0.8888888888888888,
           "#b5de2b"
          ],
          [
           1,
           "#fde725"
          ]
         ]
        },
        "legend": {
         "itemsizing": "constant",
         "tracegroupgap": 0
        },
        "margin": {
         "t": 60
        },
        "scene": {
         "domain": {
          "x": [
           0,
           1
          ],
          "y": [
           0,
           1
          ]
         },
         "xaxis": {
          "title": {
           "text": "X"
          }
         },
         "yaxis": {
          "title": {
           "text": "Y"
          }
         },
         "zaxis": {
          "title": {
           "text": "Z Axis"
          }
         }
        },
        "template": {
         "data": {
          "bar": [
           {
            "error_x": {
             "color": "#2a3f5f"
            },
            "error_y": {
             "color": "#2a3f5f"
            },
            "marker": {
             "line": {
              "color": "#E5ECF6",
              "width": 0.5
             }
            },
            "type": "bar"
           }
          ],
          "barpolar": [
           {
            "marker": {
             "line": {
              "color": "#E5ECF6",
              "width": 0.5
             }
            },
            "type": "barpolar"
           }
          ],
          "carpet": [
           {
            "aaxis": {
             "endlinecolor": "#2a3f5f",
             "gridcolor": "white",
             "linecolor": "white",
             "minorgridcolor": "white",
             "startlinecolor": "#2a3f5f"
            },
            "baxis": {
             "endlinecolor": "#2a3f5f",
             "gridcolor": "white",
             "linecolor": "white",
             "minorgridcolor": "white",
             "startlinecolor": "#2a3f5f"
            },
            "type": "carpet"
           }
          ],
          "choropleth": [
           {
            "colorbar": {
             "outlinewidth": 0,
             "ticks": ""
            },
            "type": "choropleth"
           }
          ],
          "contour": [
           {
            "colorbar": {
             "outlinewidth": 0,
             "ticks": ""
            },
            "colorscale": [
             [
              0,
              "#0d0887"
             ],
             [
              0.1111111111111111,
              "#46039f"
             ],
             [
              0.2222222222222222,
              "#7201a8"
             ],
             [
              0.3333333333333333,
              "#9c179e"
             ],
             [
              0.4444444444444444,
              "#bd3786"
             ],
             [
              0.5555555555555556,
              "#d8576b"
             ],
             [
              0.6666666666666666,
              "#ed7953"
             ],
             [
              0.7777777777777778,
              "#fb9f3a"
             ],
             [
              0.8888888888888888,
              "#fdca26"
             ],
             [
              1,
              "#f0f921"
             ]
            ],
            "type": "contour"
           }
          ],
          "contourcarpet": [
           {
            "colorbar": {
             "outlinewidth": 0,
             "ticks": ""
            },
            "type": "contourcarpet"
           }
          ],
          "heatmap": [
           {
            "colorbar": {
             "outlinewidth": 0,
             "ticks": ""
            },
            "colorscale": [
             [
              0,
              "#0d0887"
             ],
             [
              0.1111111111111111,
              "#46039f"
             ],
             [
              0.2222222222222222,
              "#7201a8"
             ],
             [
              0.3333333333333333,
              "#9c179e"
             ],
             [
              0.4444444444444444,
              "#bd3786"
             ],
             [
              0.5555555555555556,
              "#d8576b"
             ],
             [
              0.6666666666666666,
              "#ed7953"
             ],
             [
              0.7777777777777778,
              "#fb9f3a"
             ],
             [
              0.8888888888888888,
              "#fdca26"
             ],
             [
              1,
              "#f0f921"
             ]
            ],
            "type": "heatmap"
           }
          ],
          "heatmapgl": [
           {
            "colorbar": {
             "outlinewidth": 0,
             "ticks": ""
            },
            "colorscale": [
             [
              0,
              "#0d0887"
             ],
             [
              0.1111111111111111,
              "#46039f"
             ],
             [
              0.2222222222222222,
              "#7201a8"
             ],
             [
              0.3333333333333333,
              "#9c179e"
             ],
             [
              0.4444444444444444,
              "#bd3786"
             ],
             [
              0.5555555555555556,
              "#d8576b"
             ],
             [
              0.6666666666666666,
              "#ed7953"
             ],
             [
              0.7777777777777778,
              "#fb9f3a"
             ],
             [
              0.8888888888888888,
              "#fdca26"
             ],
             [
              1,
              "#f0f921"
             ]
            ],
            "type": "heatmapgl"
           }
          ],
          "histogram": [
           {
            "marker": {
             "colorbar": {
              "outlinewidth": 0,
              "ticks": ""
             }
            },
            "type": "histogram"
           }
          ],
          "histogram2d": [
           {
            "colorbar": {
             "outlinewidth": 0,
             "ticks": ""
            },
            "colorscale": [
             [
              0,
              "#0d0887"
             ],
             [
              0.1111111111111111,
              "#46039f"
             ],
             [
              0.2222222222222222,
              "#7201a8"
             ],
             [
              0.3333333333333333,
              "#9c179e"
             ],
             [
              0.4444444444444444,
              "#bd3786"
             ],
             [
              0.5555555555555556,
              "#d8576b"
             ],
             [
              0.6666666666666666,
              "#ed7953"
             ],
             [
              0.7777777777777778,
              "#fb9f3a"
             ],
             [
              0.8888888888888888,
              "#fdca26"
             ],
             [
              1,
              "#f0f921"
             ]
            ],
            "type": "histogram2d"
           }
          ],
          "histogram2dcontour": [
           {
            "colorbar": {
             "outlinewidth": 0,
             "ticks": ""
            },
            "colorscale": [
             [
              0,
              "#0d0887"
             ],
             [
              0.1111111111111111,
              "#46039f"
             ],
             [
              0.2222222222222222,
              "#7201a8"
             ],
             [
              0.3333333333333333,
              "#9c179e"
             ],
             [
              0.4444444444444444,
              "#bd3786"
             ],
             [
              0.5555555555555556,
              "#d8576b"
             ],
             [
              0.6666666666666666,
              "#ed7953"
             ],
             [
              0.7777777777777778,
              "#fb9f3a"
             ],
             [
              0.8888888888888888,
              "#fdca26"
             ],
             [
              1,
              "#f0f921"
             ]
            ],
            "type": "histogram2dcontour"
           }
          ],
          "mesh3d": [
           {
            "colorbar": {
             "outlinewidth": 0,
             "ticks": ""
            },
            "type": "mesh3d"
           }
          ],
          "parcoords": [
           {
            "line": {
             "colorbar": {
              "outlinewidth": 0,
              "ticks": ""
             }
            },
            "type": "parcoords"
           }
          ],
          "pie": [
           {
            "automargin": true,
            "type": "pie"
           }
          ],
          "scatter": [
           {
            "marker": {
             "colorbar": {
              "outlinewidth": 0,
              "ticks": ""
             }
            },
            "type": "scatter"
           }
          ],
          "scatter3d": [
           {
            "line": {
             "colorbar": {
              "outlinewidth": 0,
              "ticks": ""
             }
            },
            "marker": {
             "colorbar": {
              "outlinewidth": 0,
              "ticks": ""
             }
            },
            "type": "scatter3d"
           }
          ],
          "scattercarpet": [
           {
            "marker": {
             "colorbar": {
              "outlinewidth": 0,
              "ticks": ""
             }
            },
            "type": "scattercarpet"
           }
          ],
          "scattergeo": [
           {
            "marker": {
             "colorbar": {
              "outlinewidth": 0,
              "ticks": ""
             }
            },
            "type": "scattergeo"
           }
          ],
          "scattergl": [
           {
            "marker": {
             "colorbar": {
              "outlinewidth": 0,
              "ticks": ""
             }
            },
            "type": "scattergl"
           }
          ],
          "scattermapbox": [
           {
            "marker": {
             "colorbar": {
              "outlinewidth": 0,
              "ticks": ""
             }
            },
            "type": "scattermapbox"
           }
          ],
          "scatterpolar": [
           {
            "marker": {
             "colorbar": {
              "outlinewidth": 0,
              "ticks": ""
             }
            },
            "type": "scatterpolar"
           }
          ],
          "scatterpolargl": [
           {
            "marker": {
             "colorbar": {
              "outlinewidth": 0,
              "ticks": ""
             }
            },
            "type": "scatterpolargl"
           }
          ],
          "scatterternary": [
           {
            "marker": {
             "colorbar": {
              "outlinewidth": 0,
              "ticks": ""
             }
            },
            "type": "scatterternary"
           }
          ],
          "surface": [
           {
            "colorbar": {
             "outlinewidth": 0,
             "ticks": ""
            },
            "colorscale": [
             [
              0,
              "#0d0887"
             ],
             [
              0.1111111111111111,
              "#46039f"
             ],
             [
              0.2222222222222222,
              "#7201a8"
             ],
             [
              0.3333333333333333,
              "#9c179e"
             ],
             [
              0.4444444444444444,
              "#bd3786"
             ],
             [
              0.5555555555555556,
              "#d8576b"
             ],
             [
              0.6666666666666666,
              "#ed7953"
             ],
             [
              0.7777777777777778,
              "#fb9f3a"
             ],
             [
              0.8888888888888888,
              "#fdca26"
             ],
             [
              1,
              "#f0f921"
             ]
            ],
            "type": "surface"
           }
          ],
          "table": [
           {
            "cells": {
             "fill": {
              "color": "#EBF0F8"
             },
             "line": {
              "color": "white"
             }
            },
            "header": {
             "fill": {
              "color": "#C8D4E3"
             },
             "line": {
              "color": "white"
             }
            },
            "type": "table"
           }
          ]
         },
         "layout": {
          "annotationdefaults": {
           "arrowcolor": "#2a3f5f",
           "arrowhead": 0,
           "arrowwidth": 1
          },
          "coloraxis": {
           "colorbar": {
            "outlinewidth": 0,
            "ticks": ""
           }
          },
          "colorscale": {
           "diverging": [
            [
             0,
             "#8e0152"
            ],
            [
             0.1,
             "#c51b7d"
            ],
            [
             0.2,
             "#de77ae"
            ],
            [
             0.3,
             "#f1b6da"
            ],
            [
             0.4,
             "#fde0ef"
            ],
            [
             0.5,
             "#f7f7f7"
            ],
            [
             0.6,
             "#e6f5d0"
            ],
            [
             0.7,
             "#b8e186"
            ],
            [
             0.8,
             "#7fbc41"
            ],
            [
             0.9,
             "#4d9221"
            ],
            [
             1,
             "#276419"
            ]
           ],
           "sequential": [
            [
             0,
             "#0d0887"
            ],
            [
             0.1111111111111111,
             "#46039f"
            ],
            [
             0.2222222222222222,
             "#7201a8"
            ],
            [
             0.3333333333333333,
             "#9c179e"
            ],
            [
             0.4444444444444444,
             "#bd3786"
            ],
            [
             0.5555555555555556,
             "#d8576b"
            ],
            [
             0.6666666666666666,
             "#ed7953"
            ],
            [
             0.7777777777777778,
             "#fb9f3a"
            ],
            [
             0.8888888888888888,
             "#fdca26"
            ],
            [
             1,
             "#f0f921"
            ]
           ],
           "sequentialminus": [
            [
             0,
             "#0d0887"
            ],
            [
             0.1111111111111111,
             "#46039f"
            ],
            [
             0.2222222222222222,
             "#7201a8"
            ],
            [
             0.3333333333333333,
             "#9c179e"
            ],
            [
             0.4444444444444444,
             "#bd3786"
            ],
            [
             0.5555555555555556,
             "#d8576b"
            ],
            [
             0.6666666666666666,
             "#ed7953"
            ],
            [
             0.7777777777777778,
             "#fb9f3a"
            ],
            [
             0.8888888888888888,
             "#fdca26"
            ],
            [
             1,
             "#f0f921"
            ]
           ]
          },
          "colorway": [
           "#636efa",
           "#EF553B",
           "#00cc96",
           "#ab63fa",
           "#FFA15A",
           "#19d3f3",
           "#FF6692",
           "#B6E880",
           "#FF97FF",
           "#FECB52"
          ],
          "font": {
           "color": "#2a3f5f"
          },
          "geo": {
           "bgcolor": "white",
           "lakecolor": "white",
           "landcolor": "#E5ECF6",
           "showlakes": true,
           "showland": true,
           "subunitcolor": "white"
          },
          "hoverlabel": {
           "align": "left"
          },
          "hovermode": "closest",
          "mapbox": {
           "style": "light"
          },
          "paper_bgcolor": "white",
          "plot_bgcolor": "#E5ECF6",
          "polar": {
           "angularaxis": {
            "gridcolor": "white",
            "linecolor": "white",
            "ticks": ""
           },
           "bgcolor": "#E5ECF6",
           "radialaxis": {
            "gridcolor": "white",
            "linecolor": "white",
            "ticks": ""
           }
          },
          "scene": {
           "xaxis": {
            "backgroundcolor": "#E5ECF6",
            "gridcolor": "white",
            "gridwidth": 2,
            "linecolor": "white",
            "showbackground": true,
            "ticks": "",
            "zerolinecolor": "white"
           },
           "yaxis": {
            "backgroundcolor": "#E5ECF6",
            "gridcolor": "white",
            "gridwidth": 2,
            "linecolor": "white",
            "showbackground": true,
            "ticks": "",
            "zerolinecolor": "white"
           },
           "zaxis": {
            "backgroundcolor": "#E5ECF6",
            "gridcolor": "white",
            "gridwidth": 2,
            "linecolor": "white",
            "showbackground": true,
            "ticks": "",
            "zerolinecolor": "white"
           }
          },
          "shapedefaults": {
           "line": {
            "color": "#2a3f5f"
           }
          },
          "ternary": {
           "aaxis": {
            "gridcolor": "white",
            "linecolor": "white",
            "ticks": ""
           },
           "baxis": {
            "gridcolor": "white",
            "linecolor": "white",
            "ticks": ""
           },
           "bgcolor": "#E5ECF6",
           "caxis": {
            "gridcolor": "white",
            "linecolor": "white",
            "ticks": ""
           }
          },
          "title": {
           "x": 0.05
          },
          "xaxis": {
           "automargin": true,
           "gridcolor": "white",
           "linecolor": "white",
           "ticks": "",
           "title": {
            "standoff": 15
           },
           "zerolinecolor": "white",
           "zerolinewidth": 2
          },
          "yaxis": {
           "automargin": true,
           "gridcolor": "white",
           "linecolor": "white",
           "ticks": "",
           "title": {
            "standoff": 15
           },
           "zerolinecolor": "white",
           "zerolinewidth": 2
          }
         }
        }
       }
      },
      "text/html": "<div>\n        \n        \n            <div id=\"64076a5c-03f2-4ec9-9081-7423f1c396ae\" class=\"plotly-graph-div\" style=\"height:525px; width:100%;\"></div>\n            <script type=\"text/javascript\">\n                require([\"plotly\"], function(Plotly) {\n                    window.PLOTLYENV=window.PLOTLYENV || {};\n                    \n                if (document.getElementById(\"64076a5c-03f2-4ec9-9081-7423f1c396ae\")) {\n                    Plotly.newPlot(\n                        '64076a5c-03f2-4ec9-9081-7423f1c396ae',\n                        [{\"hovertemplate\": \"X=%{x}<br>Y=%{y}<br>Z Axis=%{marker.color}<br>Cluster Size=%{marker.size}<extra></extra>\", \"legendgroup\": \"\", \"marker\": {\"color\": [-48.2773, -56.42100000000001, -53.655, -40.3178, -51.4667, -44.8312, -34.5393, -51.2973, -30.4391, -35.8563, -59.4934, -11.46, -49.0055, -50.1563, -31.8548, -40.7862, -35.1539, -41.5846, -52.0062, -39.7635, -44.5673, -20.9047, -34.7432, -53.2085, -53.8258, -34.5922, -29.4134, -10.2466, -48.3454, -39.138000000000005, -24.5773, -39.8259, -43.178999999999995, -50.7306, -35.3459, -45.8095, -16.3566, -20.5836, -10.8613, -50.8725, -38.0886, -51.4951, -9.01697, -14.0744, -12.2406, -48.0361, -52.5145, -33.5697, -37.9748, -43.9061, -28.7324, -44.0795, -39.441, -26.3376, -40.4551, -44.5564, -45.356, -39.0945, -52.7873, -38.1951, -22.8845, -29.6987, -36.0778, -17.463, -8.73773, -7.9070800000000006, -50.07899999999999, -20.025, -27.1298, -38.8981, -13.6768, -29.8122, -29.5479, -31.8949, -13.9451, -29.7417, -21.732, -14.6098, -49.7563, -42.5378, -50.701, -11.4227, -21.8632, -43.9934, -6.4993099999999995, -52.8347, -45.5978, -31.7745, -31.4134, -18.7231, -50.6136, -23.8156, -16.8149, -50.1431, -36.0268, -21.1837, -49.7394, -48.0512, -46.4604, -34.7374, -32.9063, -33.5508, -55.3728, -8.368039999999999, -31.5729], \"coloraxis\": \"coloraxis\", \"opacity\": 0.6, \"size\": [10.0, 10.0, 10.0, 11.0, 12.0, 14.0, 14.0, 14.0, 15.0, 19.0, 20.0, 22.0, 22.0, 24.0, 24.0, 26.0, 28.0, 30.0, 35.0, 36.0, 38.0, 46.0, 47.0, 48.0, 49.0, 53.0, 53.0, 54.0, 55.0, 57.0, 58.0, 63.0, 64.0, 65.0, 71.0, 72.0, 72.0, 75.0, 75.0, 80.0, 81.0, 84.0, 85.0, 85.0, 91.0, 101.0, 103.0, 116.0, 117.0, 118.0, 119.0, 119.0, 126.0, 127.0, 132.0, 135.0, 135.0, 142.0, 143.0, 145.0, 151.0, 156.0, 157.0, 159.0, 160.0, 165.0, 166.0, 166.0, 167.0, 168.0, 170.0, 174.0, 176.0, 197.0, 213.0, 228.0, 243.0, 259.0, 265.0, 275.0, 293.0, 298.0, 299.0, 301.0, 308.0, 312.0, 314.0, 320.0, 333.0, 340.0, 346.0, 355.0, 356.0, 363.0, 365.0, 423.0, 438.0, 445.0, 450.0, 472.0, 477.0, 481.0, 484.0, 650.0, 790.0], \"sizemode\": \"area\", \"sizeref\": 0.8777777777777778, \"symbol\": \"circle\"}, \"mode\": \"markers\", \"name\": \"\", \"scene\": \"scene\", \"showlegend\": false, \"type\": \"scatter3d\", \"x\": [15.5311, 15.6308, -6.438680000000001, -13.7202, -5.78661, 18.0126, -10.9418, -1.40383, 11.2918, -13.7911, -14.0109, 3.0924400000000003, 18.0611, -9.79837, 5.66801, 18.453, 15.4706, -5.23034, -15.9943, 10.3096, -1.44554, -6.4772099999999995, -11.847999999999999, 8.45288, 8.84413, -4.85087, 9.01887, 8.634210000000001, 0.0736801, 7.599819999999999, -7.22146, -7.313789999999999, 16.8941, -2.08123, 14.9552, -15.1556, 1.55243, 15.0375, -12.6623, 17.7798, 10.8868, -16.4849, -11.2212, -4.44515, -9.863610000000001, 9.98723, -17.4866, 12.3123, 0.712933, 2.966, -8.29313, 12.1843, 10.4268, 10.1485, -6.20132, 17.1849, 6.9282, 0.309028, 12.8876, 7.793189999999999, -2.89493, -10.8197, 14.8499, 14.7401, -0.538597, 3.03695, -2.5643599999999998, -3.1272599999999997, 5.3724, -5.01288, -10.1051, 3.1583799999999997, 5.701630000000001, -6.65475, 5.18769, 13.2993, -12.2884, 7.60312, -6.99678, 3.67826, -11.2837, -1.57355, -11.6637, -5.80788, -7.703069999999999, 7.15764, 2.7265200000000003, -14.7645, 14.7919, -9.00603, 12.1656, 2.72608, 1.82027, 5.8608199999999995, -2.0316099999999997, 9.75183, 15.470999999999998, -11.3391, 11.9255, 1.58944, 2.59653, -12.5866, -4.30127, 4.5967, -5.59962], \"y\": [-9.469430000000001, 13.514000000000001, -12.5905, 1.29593, 20.6959, -6.53924, -0.818812, 21.7179, 5.58324, 10.6358, 17.6774, 10.9603, 9.09377, 17.0786, 17.3488, 3.38423, 9.7401, 4.37937, 4.630269999999999, 5.06574, 19.4323, -8.16036, -1.07066, -15.0226, -18.2842, 14.7648, 3.4931300000000003, 10.2968, 12.0905, -17.298, -10.7026, -17.3729, 3.30444, -16.9629, -2.8494099999999998, 1.6783, 15.2728, -4.76237, 6.8042, -10.1116, 11.9988, -0.9268860000000001, -5.063, -0.0218773, -3.17788, -1.57546, 12.1108, -5.98716, -9.96384, 8.99425, 6.321359999999999, 14.6292, -5.9985599999999994, -2.7578400000000003, 8.87236, -4.97462, 14.9811, 5.67184, -0.9874059999999999, 7.47157, -8.31005, 1.17854, 5.33944, -0.503354, 10.8638, -7.87038, 6.309, -11.8745, -12.9193, 19.0385, 7.47744, 5.70667, -1.06372, 5.1860599999999994, 5.98926, 3.01373, -0.977973, 12.1248, -11.3684, -1.74603, -16.7418, -4.12059, 9.54805, -9.76598, -0.377589, 7.00524, -9.3618, -4.78472, 9.48964, 7.48595, 15.2164, -2.327, 1.9079099999999998, 13.4059, -2.07255, -0.9133290000000001, -6.4459, -2.2764, -0.049502, 6.995610000000001, 16.2504, 14.593, 16.1606, 2.3003299999999998, 17.6156], \"z\": [-48.2773, -56.42100000000001, -53.655, -40.3178, -51.4667, -44.8312, -34.5393, -51.2973, -30.4391, -35.8563, -59.4934, -11.46, -49.0055, -50.1563, -31.8548, -40.7862, -35.1539, -41.5846, -52.0062, -39.7635, -44.5673, -20.9047, -34.7432, -53.2085, -53.8258, -34.5922, -29.4134, -10.2466, -48.3454, -39.138000000000005, -24.5773, -39.8259, -43.178999999999995, -50.7306, -35.3459, -45.8095, -16.3566, -20.5836, -10.8613, -50.8725, -38.0886, -51.4951, -9.01697, -14.0744, -12.2406, -48.0361, -52.5145, -33.5697, -37.9748, -43.9061, -28.7324, -44.0795, -39.441, -26.3376, -40.4551, -44.5564, -45.356, -39.0945, -52.7873, -38.1951, -22.8845, -29.6987, -36.0778, -17.463, -8.73773, -7.9070800000000006, -50.07899999999999, -20.025, -27.1298, -38.8981, -13.6768, -29.8122, -29.5479, -31.8949, -13.9451, -29.7417, -21.732, -14.6098, -49.7563, -42.5378, -50.701, -11.4227, -21.8632, -43.9934, -6.4993099999999995, -52.8347, -45.5978, -31.7745, -31.4134, -18.7231, -50.6136, -23.8156, -16.8149, -50.1431, -36.0268, -21.1837, -49.7394, -48.0512, -46.4604, -34.7374, -32.9063, -33.5508, -55.3728, -8.368039999999999, -31.5729]}],\n                        {\"coloraxis\": {\"colorbar\": {\"title\": {\"text\": \"Z Axis\"}}, \"colorscale\": [[0.0, \"#440154\"], [0.1111111111111111, \"#482878\"], [0.2222222222222222, \"#3e4989\"], [0.3333333333333333, \"#31688e\"], [0.4444444444444444, \"#26828e\"], [0.5555555555555556, \"#1f9e89\"], [0.6666666666666666, \"#35b779\"], [0.7777777777777778, \"#6ece58\"], [0.8888888888888888, \"#b5de2b\"], [1.0, \"#fde725\"]]}, \"legend\": {\"itemsizing\": \"constant\", \"tracegroupgap\": 0}, \"margin\": {\"t\": 60}, \"scene\": {\"domain\": {\"x\": [0.0, 1.0], \"y\": [0.0, 1.0]}, \"xaxis\": {\"title\": {\"text\": \"X\"}}, \"yaxis\": {\"title\": {\"text\": \"Y\"}}, \"zaxis\": {\"title\": {\"text\": \"Z Axis\"}}}, \"template\": {\"data\": {\"bar\": [{\"error_x\": {\"color\": \"#2a3f5f\"}, \"error_y\": {\"color\": \"#2a3f5f\"}, \"marker\": {\"line\": {\"color\": \"#E5ECF6\", \"width\": 0.5}}, \"type\": \"bar\"}], \"barpolar\": [{\"marker\": {\"line\": {\"color\": \"#E5ECF6\", \"width\": 0.5}}, \"type\": \"barpolar\"}], \"carpet\": [{\"aaxis\": {\"endlinecolor\": \"#2a3f5f\", \"gridcolor\": \"white\", \"linecolor\": \"white\", \"minorgridcolor\": \"white\", \"startlinecolor\": \"#2a3f5f\"}, \"baxis\": {\"endlinecolor\": \"#2a3f5f\", \"gridcolor\": \"white\", \"linecolor\": \"white\", \"minorgridcolor\": \"white\", \"startlinecolor\": \"#2a3f5f\"}, \"type\": \"carpet\"}], \"choropleth\": [{\"colorbar\": {\"outlinewidth\": 0, \"ticks\": \"\"}, \"type\": \"choropleth\"}], \"contour\": [{\"colorbar\": {\"outlinewidth\": 0, \"ticks\": \"\"}, \"colorscale\": [[0.0, \"#0d0887\"], [0.1111111111111111, \"#46039f\"], [0.2222222222222222, \"#7201a8\"], [0.3333333333333333, \"#9c179e\"], [0.4444444444444444, \"#bd3786\"], [0.5555555555555556, \"#d8576b\"], [0.6666666666666666, \"#ed7953\"], [0.7777777777777778, \"#fb9f3a\"], [0.8888888888888888, \"#fdca26\"], [1.0, \"#f0f921\"]], \"type\": \"contour\"}], \"contourcarpet\": [{\"colorbar\": {\"outlinewidth\": 0, \"ticks\": \"\"}, \"type\": \"contourcarpet\"}], \"heatmap\": [{\"colorbar\": {\"outlinewidth\": 0, \"ticks\": \"\"}, \"colorscale\": [[0.0, \"#0d0887\"], [0.1111111111111111, \"#46039f\"], [0.2222222222222222, \"#7201a8\"], [0.3333333333333333, \"#9c179e\"], [0.4444444444444444, \"#bd3786\"], [0.5555555555555556, \"#d8576b\"], [0.6666666666666666, \"#ed7953\"], [0.7777777777777778, \"#fb9f3a\"], [0.8888888888888888, \"#fdca26\"], [1.0, \"#f0f921\"]], \"type\": \"heatmap\"}], \"heatmapgl\": [{\"colorbar\": {\"outlinewidth\": 0, \"ticks\": \"\"}, \"colorscale\": [[0.0, \"#0d0887\"], [0.1111111111111111, \"#46039f\"], [0.2222222222222222, \"#7201a8\"], [0.3333333333333333, \"#9c179e\"], [0.4444444444444444, \"#bd3786\"], [0.5555555555555556, \"#d8576b\"], [0.6666666666666666, \"#ed7953\"], [0.7777777777777778, \"#fb9f3a\"], [0.8888888888888888, \"#fdca26\"], [1.0, \"#f0f921\"]], \"type\": \"heatmapgl\"}], \"histogram\": [{\"marker\": {\"colorbar\": {\"outlinewidth\": 0, \"ticks\": \"\"}}, \"type\": \"histogram\"}], \"histogram2d\": [{\"colorbar\": {\"outlinewidth\": 0, \"ticks\": \"\"}, \"colorscale\": [[0.0, \"#0d0887\"], [0.1111111111111111, \"#46039f\"], [0.2222222222222222, \"#7201a8\"], [0.3333333333333333, \"#9c179e\"], [0.4444444444444444, \"#bd3786\"], [0.5555555555555556, \"#d8576b\"], [0.6666666666666666, \"#ed7953\"], [0.7777777777777778, \"#fb9f3a\"], [0.8888888888888888, \"#fdca26\"], [1.0, \"#f0f921\"]], \"type\": \"histogram2d\"}], \"histogram2dcontour\": [{\"colorbar\": {\"outlinewidth\": 0, \"ticks\": \"\"}, \"colorscale\": [[0.0, \"#0d0887\"], [0.1111111111111111, \"#46039f\"], [0.2222222222222222, \"#7201a8\"], [0.3333333333333333, \"#9c179e\"], [0.4444444444444444, \"#bd3786\"], [0.5555555555555556, \"#d8576b\"], [0.6666666666666666, \"#ed7953\"], [0.7777777777777778, \"#fb9f3a\"], [0.8888888888888888, \"#fdca26\"], [1.0, \"#f0f921\"]], \"type\": \"histogram2dcontour\"}], \"mesh3d\": [{\"colorbar\": {\"outlinewidth\": 0, \"ticks\": \"\"}, \"type\": \"mesh3d\"}], \"parcoords\": [{\"line\": {\"colorbar\": {\"outlinewidth\": 0, \"ticks\": \"\"}}, \"type\": \"parcoords\"}], \"pie\": [{\"automargin\": true, \"type\": \"pie\"}], \"scatter\": [{\"marker\": {\"colorbar\": {\"outlinewidth\": 0, \"ticks\": \"\"}}, \"type\": \"scatter\"}], \"scatter3d\": [{\"line\": {\"colorbar\": {\"outlinewidth\": 0, \"ticks\": \"\"}}, \"marker\": {\"colorbar\": {\"outlinewidth\": 0, \"ticks\": \"\"}}, \"type\": \"scatter3d\"}], \"scattercarpet\": [{\"marker\": {\"colorbar\": {\"outlinewidth\": 0, \"ticks\": \"\"}}, \"type\": \"scattercarpet\"}], \"scattergeo\": [{\"marker\": {\"colorbar\": {\"outlinewidth\": 0, \"ticks\": \"\"}}, \"type\": \"scattergeo\"}], \"scattergl\": [{\"marker\": {\"colorbar\": {\"outlinewidth\": 0, \"ticks\": \"\"}}, \"type\": \"scattergl\"}], \"scattermapbox\": [{\"marker\": {\"colorbar\": {\"outlinewidth\": 0, \"ticks\": \"\"}}, \"type\": \"scattermapbox\"}], \"scatterpolar\": [{\"marker\": {\"colorbar\": {\"outlinewidth\": 0, \"ticks\": \"\"}}, \"type\": \"scatterpolar\"}], \"scatterpolargl\": [{\"marker\": {\"colorbar\": {\"outlinewidth\": 0, \"ticks\": \"\"}}, \"type\": \"scatterpolargl\"}], \"scatterternary\": [{\"marker\": {\"colorbar\": {\"outlinewidth\": 0, \"ticks\": \"\"}}, \"type\": \"scatterternary\"}], \"surface\": [{\"colorbar\": {\"outlinewidth\": 0, \"ticks\": \"\"}, \"colorscale\": [[0.0, \"#0d0887\"], [0.1111111111111111, \"#46039f\"], [0.2222222222222222, \"#7201a8\"], [0.3333333333333333, \"#9c179e\"], [0.4444444444444444, \"#bd3786\"], [0.5555555555555556, \"#d8576b\"], [0.6666666666666666, \"#ed7953\"], [0.7777777777777778, \"#fb9f3a\"], [0.8888888888888888, \"#fdca26\"], [1.0, \"#f0f921\"]], \"type\": \"surface\"}], \"table\": [{\"cells\": {\"fill\": {\"color\": \"#EBF0F8\"}, \"line\": {\"color\": \"white\"}}, \"header\": {\"fill\": {\"color\": \"#C8D4E3\"}, \"line\": {\"color\": \"white\"}}, \"type\": \"table\"}]}, \"layout\": {\"annotationdefaults\": {\"arrowcolor\": \"#2a3f5f\", \"arrowhead\": 0, \"arrowwidth\": 1}, \"coloraxis\": {\"colorbar\": {\"outlinewidth\": 0, \"ticks\": \"\"}}, \"colorscale\": {\"diverging\": [[0, \"#8e0152\"], [0.1, \"#c51b7d\"], [0.2, \"#de77ae\"], [0.3, \"#f1b6da\"], [0.4, \"#fde0ef\"], [0.5, \"#f7f7f7\"], [0.6, \"#e6f5d0\"], [0.7, \"#b8e186\"], [0.8, \"#7fbc41\"], [0.9, \"#4d9221\"], [1, \"#276419\"]], \"sequential\": [[0.0, \"#0d0887\"], [0.1111111111111111, \"#46039f\"], [0.2222222222222222, \"#7201a8\"], [0.3333333333333333, \"#9c179e\"], [0.4444444444444444, \"#bd3786\"], [0.5555555555555556, \"#d8576b\"], [0.6666666666666666, \"#ed7953\"], [0.7777777777777778, \"#fb9f3a\"], [0.8888888888888888, \"#fdca26\"], [1.0, \"#f0f921\"]], \"sequentialminus\": [[0.0, \"#0d0887\"], [0.1111111111111111, \"#46039f\"], [0.2222222222222222, \"#7201a8\"], [0.3333333333333333, \"#9c179e\"], [0.4444444444444444, \"#bd3786\"], [0.5555555555555556, \"#d8576b\"], [0.6666666666666666, \"#ed7953\"], [0.7777777777777778, \"#fb9f3a\"], [0.8888888888888888, \"#fdca26\"], [1.0, \"#f0f921\"]]}, \"colorway\": [\"#636efa\", \"#EF553B\", \"#00cc96\", \"#ab63fa\", \"#FFA15A\", \"#19d3f3\", \"#FF6692\", \"#B6E880\", \"#FF97FF\", \"#FECB52\"], \"font\": {\"color\": \"#2a3f5f\"}, \"geo\": {\"bgcolor\": \"white\", \"lakecolor\": \"white\", \"landcolor\": \"#E5ECF6\", \"showlakes\": true, \"showland\": true, \"subunitcolor\": \"white\"}, \"hoverlabel\": {\"align\": \"left\"}, \"hovermode\": \"closest\", \"mapbox\": {\"style\": \"light\"}, \"paper_bgcolor\": \"white\", \"plot_bgcolor\": \"#E5ECF6\", \"polar\": {\"angularaxis\": {\"gridcolor\": \"white\", \"linecolor\": \"white\", \"ticks\": \"\"}, \"bgcolor\": \"#E5ECF6\", \"radialaxis\": {\"gridcolor\": \"white\", \"linecolor\": \"white\", \"ticks\": \"\"}}, \"scene\": {\"xaxis\": {\"backgroundcolor\": \"#E5ECF6\", \"gridcolor\": \"white\", \"gridwidth\": 2, \"linecolor\": \"white\", \"showbackground\": true, \"ticks\": \"\", \"zerolinecolor\": \"white\"}, \"yaxis\": {\"backgroundcolor\": \"#E5ECF6\", \"gridcolor\": \"white\", \"gridwidth\": 2, \"linecolor\": \"white\", \"showbackground\": true, \"ticks\": \"\", \"zerolinecolor\": \"white\"}, \"zaxis\": {\"backgroundcolor\": \"#E5ECF6\", \"gridcolor\": \"white\", \"gridwidth\": 2, \"linecolor\": \"white\", \"showbackground\": true, \"ticks\": \"\", \"zerolinecolor\": \"white\"}}, \"shapedefaults\": {\"line\": {\"color\": \"#2a3f5f\"}}, \"ternary\": {\"aaxis\": {\"gridcolor\": \"white\", \"linecolor\": \"white\", \"ticks\": \"\"}, \"baxis\": {\"gridcolor\": \"white\", \"linecolor\": \"white\", \"ticks\": \"\"}, \"bgcolor\": \"#E5ECF6\", \"caxis\": {\"gridcolor\": \"white\", \"linecolor\": \"white\", \"ticks\": \"\"}}, \"title\": {\"x\": 0.05}, \"xaxis\": {\"automargin\": true, \"gridcolor\": \"white\", \"linecolor\": \"white\", \"ticks\": \"\", \"title\": {\"standoff\": 15}, \"zerolinecolor\": \"white\", \"zerolinewidth\": 2}, \"yaxis\": {\"automargin\": true, \"gridcolor\": \"white\", \"linecolor\": \"white\", \"ticks\": \"\", \"title\": {\"standoff\": 15}, \"zerolinecolor\": \"white\", \"zerolinewidth\": 2}}}},\n                        {\"responsive\": true}\n                    ).then(function(){\n                            \nvar gd = document.getElementById('64076a5c-03f2-4ec9-9081-7423f1c396ae');\nvar x = new MutationObserver(function (mutations, observer) {{\n        var display = window.getComputedStyle(gd).display;\n        if (!display || display === 'none') {{\n            console.log([gd, 'removed!']);\n            Plotly.purge(gd);\n            observer.disconnect();\n        }}\n}});\n\n// Listen for the removal of the full notebook cells\nvar notebookContainer = gd.closest('#notebook-container');\nif (notebookContainer) {{\n    x.observe(notebookContainer, {childList: true});\n}}\n\n// Listen for the clearing of the current output cell\nvar outputEl = gd.closest('.output');\nif (outputEl) {{\n    x.observe(outputEl, {childList: true});\n}}\n\n                        })\n                };\n                });\n            </script>\n        </div>"
     },
     "metadata": {}
    }
   ],
   "source": [
    "# before reading the data and after creating pandas dataframes, drop specified columns\n",
    "# retrieve the data needed from the cluster stats files for the composition plots\n",
    "core_ions = [\"Mn\", \"Si\", \"Ni\", \"Cu\"]\n",
    "\n",
    "# create a new dictionary every time you run a correction to avoid correcting data more than once\n",
    "dfs = {}\n",
    "cluster_data = {}\n",
    "\n",
    "for i, dm in enumerate(dmax_values):\n",
    "    \n",
    "    # open the cluster stats file and create pandas dataframe\n",
    "    cluster_stats_file = xml_files[i].replace(\".xml\", \"_cluster-stats.txt\")\n",
    "    local_df = pandas.read_csv(cluster_stats_file, sep=\"\\t\")\n",
    "    \n",
    "    # insert all the corrections in here\n",
    "    # exclude (matrix) ions by deleting the column\n",
    "    local_df = local_df.drop(exclude_ions, axis=1)\n",
    "    # lower the amount of ions for each element that has overlap with matrix ions\n",
    "    for overlap_ion in overlap_ions:\n",
    "        local_df[overlap_ion] = round(local_df[overlap_ion] * overlap_ions[overlap_ion])\n",
    "    # transfer the overlapping ions into \"original\" elements\n",
    "    local_df[\"Ni\"] = local_df[\"Ni\"] + local_df[\"Fm\"]\n",
    "    # delete the overlaping ions by multiplying by 0 to keep the total amount of ions constant\n",
    "    local_df[\"Fm\"] = local_df[\"Fm\"] * 0\n",
    "    \n",
    "    # add total ions in cluster value\n",
    "    local_df[\"Cluster Size\"] = local_df.iloc[:, 3:-2].sum(axis=1)\n",
    "    \n",
    "    # change n_min\n",
    "    local_df = local_df[local_df[\"Cluster Size\"] >= n_min]\n",
    "    \n",
    "    # sort it by size\n",
    "    local_df = local_df.sort_values(by=\"Cluster Size\")\n",
    "    \n",
    "    previous_y_values = []\n",
    "    # iterate through rows and find their core ions and total ions values\n",
    "    # then core ions / total ions to know the absolute concentration \n",
    "    for i2, core_ion in enumerate(core_ions):\n",
    "        cluster_size_values = local_df[\"Cluster Size\"]\n",
    "        x_values = np.arange(len(cluster_size_values))\n",
    "        y_values = local_df[core_ion] / local_df[\"Cluster Size\"] * 100\n",
    "        \n",
    "    # find the sum of ternary ions in each cluster    \n",
    "    local_df[\"Relative Cluster Size\"] = local_df[\"Ni\"] + local_df[\"Cu\"] + local_df[\"Mn\"] + local_df[\"Si\"]\n",
    "    \n",
    "    # once you have sum of ternary ions in each cluster, find relative concentration of each core ion\n",
    "    local_df[\"Ni+Mn\"] = local_df[\"Ni\"] + local_df[\"Mn\"]\n",
    "    # local_df[\"Relative Si\"] = local_df[\"Si\"] / relative_cluster_size\n",
    "    # local_df[\"Relative Cu\"] = local_df[\"Cu\"] / relative_cluster_size\n",
    "\n",
    "    # create column with negative z location \n",
    "    local_df[\"Z Axis\"] = local_df[\"Z\"] * -1\n",
    "\n",
    "    # plotting using plotly ternary diagrams\n",
    "#     fig = px.scatter_ternary(local_df, a=\"relative_Ni_Mn\", b=\"relative_Si\", c=\"relative_Cu\")\n",
    "    fig = px.scatter_ternary(\n",
    "        local_df, a=\"Ni+Mn\", b=\"Si\", c=\"Cu\", \n",
    "        hover_name=\"Cluster Size\", # change later to show cluster ID\n",
    "        size=\"Cluster Size\", size_max=20,\n",
    "        color=\"Z Axis\", color_continuous_scale=px.colors.sequential.Viridis,\n",
    "        opacity=0.6\n",
    "#         marker=dict(\n",
    "#             color='LightSkyBlue',\n",
    "#             size='Relative Cluster Size',\n",
    "#             size_max = 15,\n",
    "#             opacity=0.5,\n",
    "#             line=dict(\n",
    "#                 color='MediumPurple',\n",
    "#                 width=5\n",
    "#             )\n",
    "#         )\n",
    "    )\n",
    "    fig.show()\n",
    "\n",
    "\n",
    "    fig2 = px.scatter_3d(\n",
    "        local_df, x='X', y='Y', z='Z Axis',\n",
    "        color='Z Axis', color_continuous_scale=px.colors.sequential.Viridis,\n",
    "        size='Cluster Size', size_max=30,\n",
    "        opacity=0.6\n",
    "    )\n",
    "\n",
    "    fig2.show()"
   ]
  },
  {
   "cell_type": "code",
   "execution_count": null,
   "metadata": {},
   "outputs": [],
   "source": []
  }
 ],
 "metadata": {
  "kernelspec": {
   "display_name": "Python 3",
   "language": "python",
   "name": "python3"
  },
  "language_info": {
   "codemirror_mode": {
    "name": "ipython",
    "version": 3
   },
   "file_extension": ".py",
   "mimetype": "text/x-python",
   "name": "python",
   "nbconvert_exporter": "python",
   "pygments_lexer": "ipython3",
   "version": "3.6.9-final"
  }
 },
 "nbformat": 4,
 "nbformat_minor": 4
}