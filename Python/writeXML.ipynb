{
 "cells": [
  {
   "cell_type": "markdown",
   "metadata": {},
   "source": [
    "Reproduce posgen's `clusterOp.xml` file usign `lxml`"
   ]
  },
  {
   "cell_type": "code",
   "execution_count": null,
   "metadata": {},
   "outputs": [],
   "source": [
    "from lxml import etree"
   ]
  },
  {
   "cell_type": "code",
   "execution_count": null,
   "metadata": {},
   "outputs": [],
   "source": [
    "root = etree.Element(\"posscript\")\n",
    "root.append( etree.Element(\"version\") )\n",
    "fcc = etree.SubElement(root,  \"fcc\")\n",
    "bound = etree.SubElement(fcc, \"bound\",x=\"8\",y=\"8\",z=\"8\")\n",
    "spacing = etree.SubElement(fcc, \"spacing\")\n",
    "A = etree.SubElement(spacing, \"A\", value=\"0.405\")\n",
    "atom1 = etree.SubElement(fcc, \"atom\", index=\"(000)\",mass=\"1\")\n",
    "atom2 = etree.SubElement(fcc, \"atom\", index=\"(202)\",mass=\"1\")\n",
    "atom3 = etree.SubElement(fcc, \"atom\", index=\"(220)\",mass=\"1\")\n",
    "atom4 = etree.SubElement(fcc, \"atom\", index=\"(022)\",mass=\"1\")\n",
    "\n",
    "randreplace = etree.SubElement(root, \"randreplace\")\n",
    "randreplace.set(\"frac\",\"0.05\")\n",
    "randreplace.set(\"mass\",\"2\")\n",
    "\n",
    "cluster = etree.SubElement(root, \"cluster\")\n",
    "algorithm = etree.SubElement(cluster, \"algorithm\", value=\"maxsep\")\n",
    "algorithm.append( etree.Element(\"dclassify\", value=\"0.0\", knn=\"1\") )\n",
    "algorithm.append( etree.Element(\"dmax\", value=\"0.5\") )\n",
    "algorithm.append( etree.Element(\"dbulk\", value=\"0.2\") )\n",
    "algorithm.append( etree.Element(\"derode\", value=\"0.2\") )\n",
    "cluster.append( etree.Element(\"range\",file=\"AB.rng\") )\n",
    "\n",
    "core = etree.SubElement(cluster, \"core\")\n",
    "typelist = etree.SubElement(core, \"typelist\")\n",
    "typelist.append( etree.Element(\"atomtype\", symbol=\"B\"))\n",
    "\n",
    "bulk = etree.SubElement(cluster, \"bulk\")\n",
    "typelist = etree.SubElement(bulk, \"typelist\")\n",
    "typelist.append( etree.Element(\"atomtype\", symbol=\"A\"))\n",
    "\n",
    "cluster.append( etree.Element(\"sizeclip\", nmin=\"5\"))\n",
    "\n",
    "\n",
    "cluster.append( etree.Element(\"unranged\", foroutput=\"true\", forstats=\"true\"))\n",
    "\n",
    "cluster.append( etree.Element(\"clusterstats\", core=\"true\", bulk=\"true\", percluster=\"true\", file=\"cluster-stats.txt\"))\n",
    "cluster.append( etree.Element(\"unclusterstats\", file=\"unclustered-stats.txt\"))\n",
    "\n",
    "cluster.append( etree.Element(\"sizedist\", file=\"sizedist.txt\"))\n",
    "cluster.append( etree.Element(\"clustered-pos\", file=\"cluster.pos\", retain=\"true\"))\n",
    "cluster.append( etree.Element(\"unclustered-pos\", file=\"uncluster.pos\", retain=\"true\"))\n",
    "\n",
    "cluster.append( etree.Element(\"clusterid\", file=\"clusterid.pos\", offset=\"1.1\"))\n",
    "\n",
    "# pre-view with print\n",
    "#print((etree.tostring(root, pretty_print=True, encoding='utf8').decode('utf8')))\n",
    "xmlStr = etree.tostring(root, pretty_print=True)"
   ]
  },
  {
   "cell_type": "code",
   "execution_count": null,
   "metadata": {},
   "outputs": [],
   "source": [
    "tree = etree.fromstring(xmlStr).getroottree()\n",
    "tree.write(\"clusterOp_py.xml\", \n",
    "           doctype = \"<!DOCTYPE posscript SYSTEM \\\"posscript.dtd\\\">\")"
   ]
  },
  {
   "cell_type": "markdown",
   "metadata": {},
   "source": [
    "Test function to write clustering xml file with options"
   ]
  },
  {
   "cell_type": "code",
   "execution_count": 1,
   "metadata": {},
   "outputs": [],
   "source": [
    "import sys\n",
    "sys.path.append('..')\n",
    "\n",
    "from posgenpy import write_cluster_xml"
   ]
  },
  {
   "cell_type": "code",
   "execution_count": 2,
   "metadata": {},
   "outputs": [],
   "source": [
    "r = write_cluster_xml(\"C:\\cygwin64\\home\\Andy\\posgen\\my3.xml\",\"my.pos\",\"AB.rng\",[\"B\"],[\"A\"])"
   ]
  },
  {
   "cell_type": "code",
   "execution_count": 3,
   "metadata": {},
   "outputs": [
    {
     "data": {
      "text/plain": [
       "lxml.etree._ElementTree"
      ]
     },
     "execution_count": 3,
     "metadata": {},
     "output_type": "execute_result"
    }
   ],
   "source": [
    "type(r)"
   ]
  }
 ],
 "metadata": {
  "kernelspec": {
   "display_name": "Python 3",
   "language": "python",
   "name": "python3"
  },
  "language_info": {
   "codemirror_mode": {
    "name": "ipython",
    "version": 3
   },
   "file_extension": ".py",
   "mimetype": "text/x-python",
   "name": "python",
   "nbconvert_exporter": "python",
   "pygments_lexer": "ipython3",
   "version": "3.7.3"
  }
 },
 "nbformat": 4,
 "nbformat_minor": 2
}
