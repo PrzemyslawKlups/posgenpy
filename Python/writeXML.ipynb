{
 "cells": [
  {
   "cell_type": "markdown",
   "metadata": {},
   "source": [
    "Reproduce posgen's `clusterOp.xml` file usign `lxml`"
   ]
  },
  {
   "cell_type": "code",
   "execution_count": 1,
   "metadata": {},
   "outputs": [],
   "source": [
    "from lxml import etree"
   ]
  },
  {
   "cell_type": "code",
   "execution_count": 2,
   "metadata": {},
   "outputs": [],
   "source": [
    "root = etree.Element(\"posscript\")\n",
    "root.append( etree.Element(\"version\") )\n",
    "fcc = etree.SubElement(root,  \"fcc\")\n",
    "bound = etree.SubElement(fcc, \"bound\",x=\"8\",y=\"8\",z=\"8\")\n",
    "spacing = etree.SubElement(fcc, \"spacing\")\n",
    "A = etree.SubElement(spacing, \"A\", value=\"0.405\")\n",
    "atom1 = etree.SubElement(fcc, \"atom\", index=\"(000)\",mass=\"1\")\n",
    "atom2 = etree.SubElement(fcc, \"atom\", index=\"(202)\",mass=\"1\")\n",
    "atom3 = etree.SubElement(fcc, \"atom\", index=\"(220)\",mass=\"1\")\n",
    "atom4 = etree.SubElement(fcc, \"atom\", index=\"(022)\",mass=\"1\")\n",
    "\n",
    "randreplace = etree.SubElement(root, \"randreplace\")\n",
    "randreplace.set(\"frac\",\"0.05\")\n",
    "randreplace.set(\"mass\",\"2\")\n",
    "\n",
    "cluster = etree.SubElement(root, \"cluster\")\n",
    "algorithm = etree.SubElement(cluster, \"algorithm\", value=\"maxsep\")\n",
    "algorithm.append( etree.Element(\"dclassify\", value=\"0.0\", knn=\"1\") )\n",
    "algorithm.append( etree.Element(\"dmax\", value=\"0.5\") )\n",
    "algorithm.append( etree.Element(\"dbulk\", value=\"0.2\") )\n",
    "algorithm.append( etree.Element(\"derode\", value=\"0.2\") )\n",
    "cluster.append( etree.Element(\"range\",file=\"AB.rng\") )\n",
    "\n",
    "core = etree.SubElement(cluster, \"core\")\n",
    "typelist = etree.SubElement(core, \"typelist\")\n",
    "typelist.append( etree.Element(\"atomtype\", symbol=\"B\"))\n",
    "\n",
    "bulk = etree.SubElement(cluster, \"bulk\")\n",
    "typelist = etree.SubElement(bulk, \"typelist\")\n",
    "typelist.append( etree.Element(\"atomtype\", symbol=\"A\"))\n",
    "\n",
    "cluster.append( etree.Element(\"sizeclip\", nmin=\"5\"))\n",
    "\n",
    "\n",
    "cluster.append( etree.Element(\"unranged\", foroutput=\"true\", forstats=\"true\"))\n",
    "\n",
    "cluster.append( etree.Element(\"clusterstats\", core=\"true\", bulk=\"true\", percluster=\"true\", file=\"cluster-stats.txt\"))\n",
    "cluster.append( etree.Element(\"unclusterstats\", file=\"unclustered-stats.txt\"))\n",
    "\n",
    "cluster.append( etree.Element(\"sizedist\", file=\"sizedist.txt\"))\n",
    "cluster.append( etree.Element(\"clustered-pos\", file=\"cluster.pos\", retain=\"true\"))\n",
    "cluster.append( etree.Element(\"unclustered-pos\", file=\"uncluster.pos\", retain=\"true\"))\n",
    "\n",
    "cluster.append( etree.Element(\"clusterid\", file=\"clusterid.pos\", offset=\"1.1\"))\n",
    "\n",
    "# pre-view with print\n",
    "#print((etree.tostring(root, pretty_print=True, encoding='utf8').decode('utf8')))\n",
    "xmlStr = etree.tostring(root, pretty_print=True)"
   ]
  },
  {
   "cell_type": "code",
   "execution_count": 4,
   "metadata": {},
   "outputs": [],
   "source": [
    "tree = etree.fromstring(xmlStr).getroottree()\n",
    "tree.write(\"clusterOp_py.xml\", \n",
    "           doctype = \"<!DOCTYPE posscript SYSTEM \\\"posscript.dtd\\\">\")"
   ]
  },
  {
   "cell_type": "markdown",
   "metadata": {},
   "source": [
    "Test function to write clustering xml file with options"
   ]
  },
  {
   "cell_type": "code",
   "execution_count": 68,
   "metadata": {},
   "outputs": [],
   "source": [
    "def writeClusterXML(xmlFileName, posFile, rangeFile, coreIons, bulkIons,\n",
    "                          massRandomRelabel = False,\n",
    "                          dclassify = \"0.0\", \n",
    "                          knn=\"1\", \n",
    "                          dmax = \"0.5\", \n",
    "                          dbulk=\"0.2\", \n",
    "                          derode=\"0.2\",\n",
    "                          nmin=\"2\",\n",
    "                          nmax=\"-1\",\n",
    "                          includeUnrangedPos=\"true\",\n",
    "                          includeUnrangedStats=\"true\",\n",
    "                          clusterstatsCore=\"true\",\n",
    "                          clusterstatsBulk=\"true\", \n",
    "                          clusterstatsPercluster=\"true\", \n",
    "                          clusterstatsFile=\"cluster-stats.txt\",\n",
    "                          unclusterstatsFile = \"unclustered-stats.txt\",\n",
    "                          sizedistFile=\"sizedist.txt\",\n",
    "                          clusteredPosFile=\"cluster.pos\",\n",
    "                          unclusteredPosFile=\"unclustered.pos\",\n",
    "                          clusterIDPosFile=\"clusterID.pos\"):\n",
    "    \n",
    "    \"\"\"\n",
    "    # TODO write some documentation\n",
    "    \n",
    "    Function to write an XML file to perform max-sep clustering on a pos file.\n",
    "    \n",
    "    xmlFileName, posFile, rangeFile, coreIons, bulkIons are required\n",
    "    \n",
    "    All inputs should be strings, except the core/bulk ion lists and massRandomRelabel (boolean)\n",
    "    \n",
    "    Set clusterstatsFile=\"\" to not produce this file, similar for other output files\n",
    "    \n",
    "    See posgen manual for explaination of terms used in the XML file.\n",
    "    \n",
    "    Requires lxml to run. Returns the lxml.etree._ElementTree object used to write the xml file.\n",
    "    \n",
    "    \"\"\"\n",
    "    \n",
    "    # Input error checking\n",
    "    # TODO: not complete!\n",
    "    if (includeUnrangedPos.lower() != \"true\" and includeUnrangedPos.lower() != \"false\"):\n",
    "        raise Exception('includeUnrangedPos should be \"true\" or \"false\", the value was: {}'.format(includeUnrangedPos))\n",
    "    \n",
    "    from lxml import etree\n",
    "    \n",
    "    root = etree.Element(\"posscript\")\n",
    "    root.append( etree.Element(\"version\") )\n",
    "    # insert pos file path\n",
    "    root.append( etree.Element(\"posload\",file=posFile))\n",
    "    \n",
    "    # if mass randomisation is required\n",
    "    if massRandomRelabel:\n",
    "        root.append( etree.Element(\"relabel\") )\n",
    "    \n",
    "    cluster = etree.SubElement(root, \"cluster\")\n",
    "    algorithm = etree.SubElement(cluster, \"algorithm\", value=\"maxsep\")\n",
    "    algorithm.append( etree.Element(\"dclassify\", value=dclassify, knn=knn) )\n",
    "    algorithm.append( etree.Element(\"dmax\", value=dmax) )\n",
    "    algorithm.append( etree.Element(\"dbulk\", value=dbulk) )\n",
    "    algorithm.append( etree.Element(\"derode\", value=derode) )\n",
    "    \n",
    "    # insert range file path\n",
    "    cluster.append( etree.Element(\"range\",file=rangeFile) )\n",
    "\n",
    "    core = etree.SubElement(cluster, \"core\")\n",
    "    typelist = etree.SubElement(core, \"typelist\")\n",
    "    \n",
    "    # List of core ions from coreList\n",
    "    for coreIon in coreIons:\n",
    "        typelist.append( etree.Element(\"atomtype\", symbol=coreIon))\n",
    "\n",
    "    bulk = etree.SubElement(cluster, \"bulk\")\n",
    "    typelist = etree.SubElement(bulk, \"typelist\")\n",
    "    for bulkIon in bulkIons:\n",
    "        typelist.append( etree.Element(\"atomtype\", symbol=bulkIon))\n",
    "\n",
    "    cluster.append( etree.Element(\"sizeclip\", nmin=nmin, nmax=nmax))\n",
    "\n",
    "    # switch if unranged ions are required in either/both of the POS output or stats\n",
    "    if includeUnrangedPos == \"true\" or includeUnrangedStats == \"true\":\n",
    "            cluster.append( etree.Element(\"unranged\", foroutput=includeUnrangedPos, forstats=includeUnrangedStats))\n",
    "    \n",
    "    # cluster stats options        \n",
    "    if clusterstatsFile != \"\":\n",
    "        cluster.append( etree.Element(\"clusterstats\", \n",
    "                                      core=clusterstatsCore, \n",
    "                                      bulk=clusterstatsBulk, \n",
    "                                      percluster=clusterstatsPercluster, \n",
    "                                      file=clusterstatsFile))\n",
    "    # not-clustered stats options  \n",
    "    if unclusterstatsFile != \"\":\n",
    "        cluster.append( etree.Element(\"unclusterstats\", file=unclusterstatsFile))\n",
    "    \n",
    "    if sizedistFile != \"\":\n",
    "        cluster.append( etree.Element(\"sizedist\", file=sizedistFile))\n",
    "    \n",
    "    if clusteredPosFile != \"\":\n",
    "        cluster.append( etree.Element(\"clustered-pos\", file=clusteredPosFile, retain=\"true\"))\n",
    "        \n",
    "    if unclusteredPosFile != \"\":\n",
    "        cluster.append( etree.Element(\"unclustered-pos\", file=unclusteredPosFile, retain=\"true\"))\n",
    "\n",
    "    if clusterIDPosFile != \"\":\n",
    "        cluster.append( etree.Element(\"clusterid\", file=clusterIDPosFile, offset=\"1\"))\n",
    "\n",
    "    # pre-view with print\n",
    "    #print((etree.tostring(root, pretty_print=True, encoding='utf8').decode('utf8')))\n",
    "\n",
    "    # write XML file\n",
    "    tree = root.getroottree()\n",
    "    tree.write(xmlFileName, \n",
    "           doctype = \"<!DOCTYPE posscript SYSTEM \\\"posscript.dtd\\\">\",\n",
    "              pretty_print=True)\n",
    "    return tree"
   ]
  },
  {
   "cell_type": "code",
   "execution_count": 69,
   "metadata": {},
   "outputs": [],
   "source": [
    "r = writeClusterXML(\"C:\\cygwin64\\home\\Andy\\posgen\\my.xml\",\"my.pos\",\"AB.rng\",[\"B\"],[\"A\"])"
   ]
  },
  {
   "cell_type": "code",
   "execution_count": 70,
   "metadata": {},
   "outputs": [
    {
     "data": {
      "text/plain": [
       "lxml.etree._ElementTree"
      ]
     },
     "execution_count": 70,
     "metadata": {},
     "output_type": "execute_result"
    }
   ],
   "source": [
    "type(r)"
   ]
  }
 ],
 "metadata": {
  "kernelspec": {
   "display_name": "Python 3",
   "language": "python",
   "name": "python3"
  },
  "language_info": {
   "codemirror_mode": {
    "name": "ipython",
    "version": 3
   },
   "file_extension": ".py",
   "mimetype": "text/x-python",
   "name": "python",
   "nbconvert_exporter": "python",
   "pygments_lexer": "ipython3",
   "version": "3.7.3"
  }
 },
 "nbformat": 4,
 "nbformat_minor": 2
}
