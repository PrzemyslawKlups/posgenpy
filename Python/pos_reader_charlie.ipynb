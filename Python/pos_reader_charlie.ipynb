{
 "cells": [
  {
   "cell_type": "markdown",
   "metadata": {},
   "source": [
    "**Run posgen cluster demo and load the outputed .pos file**"
   ]
  },
  {
   "cell_type": "markdown",
   "metadata": {},
   "source": [
    "First make sure you are in the same working directory as posgen e.g.\n",
    "\n",
    "```python\n",
    "\n",
    "import os\n",
    "os.chdir(\"`your_working_directory`\")\n",
    "\n",
    "```"
   ]
  },
  {
   "cell_type": "markdown",
   "metadata": {},
   "source": [
    "Once in the correct directory you can now call posgen and run the clusterOp.xml example"
   ]
  },
  {
   "cell_type": "code",
   "execution_count": 70,
   "metadata": {},
   "outputs": [],
   "source": [
    "#import required packages\n",
    "import os\n",
    "import subprocess\n",
    "import numpy as np\n",
    "import struct"
   ]
  },
  {
   "cell_type": "markdown",
   "metadata": {},
   "source": [
    "The first step is to run the posgen clustering example from Python using the subprocess module. This outputs a clustered .pos file (filename given in `xml_input`) "
   ]
  },
  {
   "cell_type": "code",
   "execution_count": 71,
   "metadata": {},
   "outputs": [],
   "source": [
    "xml_input = \"examples/clusterOp.xml\""
   ]
  },
  {
   "cell_type": "code",
   "execution_count": 72,
   "metadata": {
    "scrolled": true
   },
   "outputs": [
    {
     "name": "stdout",
     "output_type": "stream",
     "text": [
      "process completed successfully\n"
     ]
    }
   ],
   "source": [
    "process = subprocess.run([\"./posgen\", xml_input])\n",
    "if process.returncode == 0:\n",
    "    print(\"process completed successfully\")"
   ]
  },
  {
   "cell_type": "markdown",
   "metadata": {},
   "source": [
    "The generated clustered .pos file (in this case cluster.pos) can now be loaded into an Python environment variable.  "
   ]
  },
  {
   "cell_type": "code",
   "execution_count": 73,
   "metadata": {},
   "outputs": [],
   "source": [
    "def chunk_read_pos(filename, sample = 10):\n",
    "\n",
    "    \"\"\"\n",
    "\n",
    "    A python reader for the .pos APT data file.\n",
    "    Chunks reading of file to handle large file sizes\n",
    "    Also samples ions (sample rate defined by `sample`)\n",
    "    Once unpacked the 1D array d contains\n",
    "    the following elements:\n",
    "\n",
    "    'x': d[0::11], reconstructed x-coordinate of ion \n",
    "    'y': d[1::11], reconstructed y-coordinate of ion \n",
    "    'z': d[2::11], reconstructed z-coordinate of ion \n",
    "    'Da': d[3::11], list of Da (m/q) values   \n",
    "\n",
    "    :param1 filename: The .pos filename\n",
    "    :param2 sample: The sample rate (defaults to one in every 10)\n",
    "    :returns:\n",
    "        sx\n",
    "        sy\n",
    "        sz\n",
    "        Da\n",
    "        returncode\n",
    "\n",
    "    \"\"\"\n",
    "\n",
    "    if filename.split(\".\")[-1] != \"pos\":\n",
    "        print(\"Incorrect filetype detected (based off name). Method only supports .pos file types. Please call appropriate reader.\")\n",
    "        print(\"exiting\")\n",
    "        return [], [], [], [], 1\n",
    "\n",
    "    # read in the data\n",
    "    try:\n",
    "        f = open(filename, \"rb\")\n",
    "    except:\n",
    "        print(\"Could not open or read file: \" + filename + \"\\n Please make sure the correct file (.pos) and location has been passed.\")\n",
    "        print(\"exiting\")\n",
    "        return [], [], [], [], 2\n",
    "\n",
    "    #get number of bytes within the .pos\n",
    "    f.seek(0,2) # move the cursor to the end of the file\n",
    "    n = int(f.tell())\n",
    "    f.seek(0) # move the cursor to the beginning of the file\n",
    "        \n",
    "    rs = int(n / 4) #number of entries/rows\n",
    "\n",
    "    d = []\n",
    "\n",
    "    #chunk data reading to 16 bytes i.e. row by row (while sampling rows)\n",
    "    for a in np.arange(0, (n * 4)/(4 * 4), sample, dtype = int):\n",
    "        f.seek(a * 4 * 4)\n",
    "        byte = f.read(16)\n",
    "        if len(byte) == 0:\n",
    "            continue\n",
    "        d.extend(struct.unpack('>'+'ffff'*1, byte))\n",
    "                    # '>' denotes 'big-endian' byte order\n",
    "\n",
    "    sx = d[::4]\n",
    "    sy = d[1::4]\n",
    "    sz = d[2::4]\n",
    "    Da = d[3::4]\n",
    "    \n",
    "    return sx, sy, sz, Da, 0\n"
   ]
  },
  {
   "cell_type": "markdown",
   "metadata": {},
   "source": [
    "Finally this function can be called "
   ]
  },
  {
   "cell_type": "code",
   "execution_count": 77,
   "metadata": {},
   "outputs": [],
   "source": [
    "pos_file = \"uncluster.pos\"\n",
    "sample = 1 #sampling (number of rows to skip between read ions when chunking - 1 reads in all ions)"
   ]
  },
  {
   "cell_type": "code",
   "execution_count": 78,
   "metadata": {},
   "outputs": [],
   "source": [
    "sx, sy, sz, Da, returncode = chunk_read_pos(\"uncluster.pos\", sample = 1)"
   ]
  },
  {
   "cell_type": "code",
   "execution_count": 80,
   "metadata": {},
   "outputs": [
    {
     "name": "stdout",
     "output_type": "stream",
     "text": [
      "[0.0, 0.0, 0.0, 0.0, 0.0, 0.0, 0.0, 0.0, 0.0, 0.0] [0.0, 0.0, 0.0, 0.0, 0.0, 0.0, 0.0, 0.0, 0.0, 0.0] [0.0, 0.4050000011920929, 0.8100000023841858, 1.215000033378601, 1.6200000047683716, 2.0250000953674316, 2.430000066757202, 2.8350000381469727, 3.240000009536743, 3.6449999809265137] [1.0, 2.0, 1.0, 1.0, 1.0, 1.0, 1.0, 1.0, 1.0, 1.0]\n"
     ]
    }
   ],
   "source": [
    "print(sx[:10], sy[:10], sz[:10], Da[:10])"
   ]
  }
 ],
 "metadata": {
  "kernelspec": {
   "display_name": "Python 3",
   "language": "python",
   "name": "python3"
  },
  "language_info": {
   "codemirror_mode": {
    "name": "ipython",
    "version": 3
   },
   "file_extension": ".py",
   "mimetype": "text/x-python",
   "name": "python",
   "nbconvert_exporter": "python",
   "pygments_lexer": "ipython3",
   "version": "3.6.9"
  }
 },
 "nbformat": 4,
 "nbformat_minor": 2
}
